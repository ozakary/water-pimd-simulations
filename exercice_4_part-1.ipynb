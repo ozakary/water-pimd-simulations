{
 "cells": [
  {
   "cell_type": "markdown",
   "metadata": {},
   "source": [
    "# Path Integral Molecular Dynamics Analysis of Water\n",
    "\n",
    "**Author:** Ouail Zakary  \n",
    "**ORCID:** [0000-0002-7793-3306](https://orcid.org/0000-0002-7793-3306)  \n",
    "**E-mail:** [Ouail.Zakary@oulu.fi](mailto:Ouail.Zakary@oulu.fi)  \n",
    "**Website:** [Ouail Zakary - webpage](https://cc.oulu.fi/~nmrwww/members/Ouail_Zakary.html)\n",
    "\n",
    "---\n",
    "\n",
    "This notebook provides analysis of Path Integral Molecular Dynamics (PIMD) simulations for a water molecule using `i-PI` with `LAMMPS` as the force engine. We implement the `q-TIP4P/f` water model to explore quantum nuclear effects and their influence on molecular properties.\n",
    "\n",
    "### Quantum Effects in Molecular Systems\n",
    "\n",
    "The Born-Oppenheimer approximation separates the joint quantum mechanical problem for electrons and nuclei into two independent problems. While it's common to treat nuclei as classical particles, this approximation can introduce significant errors, particularly for systems containing light atoms like hydrogen.\n",
    "\n",
    "### Path Integral Formalism\n",
    "\n",
    "To capture nuclear quantum effects, we use the path integral formalism, which maps the quantum partition function onto a classical system of ring polymers:\n",
    "\n",
    "- Each quantum particle is represented by P classical replicas (\"beads\")\n",
    "- Adjacent beads are connected by temperature-dependent harmonic springs\n",
    "- The spring frequency ω = P/(βℏ) determines the quantum character\n",
    "- The formalism exactly reproduces quantum statistics at the P → ∞ limit\n",
    "\n",
    "The textbook by [Tuckerman](https://global.oup.com/academic/product/statistical-mechanics-theory-and-molecular-simulation-9780198825562?cc=fi&lang=en&) contains a pedagogic introduction to the topic, while this [paper](https://pubs.aip.org/aip/jcp/article/133/12/124104/955703/Efficient-stochastic-thermostatting-of-path) outlines the implementation used in i-PI.\n",
    "\n",
    "\n",
    "\n",
    "### Ring-Polymer Representation\n",
    "\n",
    "<img src=\"./pimd-slices-round.png\" width=\"600\" alt=\"Graphical Abstract\">\n",
    "\n",
    "Schematic representation of the ring-polymer Hamiltonian for a water molecule\n",
    "\n",
    "### Analysis Overview\n",
    "\n",
    "In this notebook, we will:\n",
    "1. Process PIMD trajectory data from i-PI\n",
    "2. Analyze quantum delocalization through radius of gyration\n",
    "3. Study bond length and angle distributions\n",
    "4. Visualize ring polymer configurations\n",
    "\n",
    "### Required Packages:\n",
    "\n",
    "To install the necessary packages, open a terminal window and run the following commands:\n",
    "\n",
    "```bash\n",
    "# For Ubuntu\n",
    "sudo apt install python3-numpy python3-matplotlib python3-pandas python3-scipy python3-plotly\n",
    "\n",
    "# For macOS\n",
    "\n",
    "# Activate the virtual environment created during Jupyter installation:\n",
    "source path/to/jupyter_env/bin/activae\n",
    "\n",
    "# Then, install the required packages\n",
    "pip3 install numpy matplotlib pandas scipy plotly\n",
    "\n",
    "# Important: When opening Jupyter Notebook, make sure to change the kernel to \"Python (jupyter_env)\"\n",
    "```\n",
    "\n",
    "---"
   ]
  },
  {
   "cell_type": "markdown",
   "metadata": {},
   "source": [
    "# Analysis Setup\n",
    "\n",
    "For this PIMD analysis, we'll use several Python packages:\n",
    "- `numpy`: For numerical computations and array operations\n",
    "- `pandas`: For data manipulation and analysis\n",
    "- `plotly`: For creating interactive plots\n",
    "- `scipy`: For scientific computations and distance calculations\n",
    "- `glob`: For finding trajectory files\n",
    "\n",
    "The plotting configuration is set up to create:\n",
    "1. Regular 2D plots (600x600 pixels)\n",
    "2. 3D plots (500x500 pixels)\n",
    "\n",
    "All plots will have:\n",
    "- Interactive features (zoom, pan, hover information)\n",
    "- Clear grid lines\n",
    "- Professional formatting\n",
    "- Consistent styling\n",
    "\n",
    "Run the following cell to import the necessary packages and set up the plotting environment."
   ]
  },
  {
   "cell_type": "code",
   "execution_count": 2,
   "metadata": {},
   "outputs": [
    {
     "data": {
      "text/html": [
       "        <script type=\"text/javascript\">\n",
       "        window.PlotlyConfig = {MathJaxConfig: 'local'};\n",
       "        if (window.MathJax && window.MathJax.Hub && window.MathJax.Hub.Config) {window.MathJax.Hub.Config({SVG: {font: \"STIX-Web\"}});}\n",
       "        if (typeof require !== 'undefined') {\n",
       "        require.undef(\"plotly\");\n",
       "        requirejs.config({\n",
       "            paths: {\n",
       "                'plotly': ['https://cdn.plot.ly/plotly-2.24.1.min']\n",
       "            }\n",
       "        });\n",
       "        require(['plotly'], function(Plotly) {\n",
       "            window._Plotly = Plotly;\n",
       "        });\n",
       "        }\n",
       "        </script>\n",
       "        "
      ]
     },
     "metadata": {},
     "output_type": "display_data"
    },
    {
     "name": "stdout",
     "output_type": "stream",
     "text": [
      "Analysis environment ready!\n",
      "Plot dimensions: 600x600 pixels (2D), 500x500 pixels (3D)\n"
     ]
    }
   ],
   "source": [
    "# Import required packages\n",
    "import numpy as np\n",
    "import pandas as pd\n",
    "import plotly.graph_objects as go\n",
    "import plotly.express as px\n",
    "from plotly.subplots import make_subplots\n",
    "from scipy.spatial.distance import pdist, squareform\n",
    "import glob\n",
    "from plotly.offline import init_notebook_mode\n",
    "import matplotlib.pyplot as plt\n",
    "\n",
    "# Initialize plotly for notebook\n",
    "init_notebook_mode(connected=True)\n",
    "\n",
    "# Set default plot layout\n",
    "plotly_layout = dict(\n",
    "    width=600,\n",
    "    height=600,\n",
    "    font=dict(size=12),\n",
    "    margin=dict(l=50, r=50, t=50, b=50),\n",
    "    xaxis=dict(showgrid=True, gridwidth=1, gridcolor='LightGray'),\n",
    "    yaxis=dict(showgrid=True, gridwidth=1, gridcolor='LightGray'),\n",
    "    plot_bgcolor='white',\n",
    "    hovermode='closest'\n",
    ")\n",
    "\n",
    "# Set 3D plot layout\n",
    "plotly_layout_3d = plotly_layout.copy()\n",
    "plotly_layout_3d.update(width=500, height=500)\n",
    "\n",
    "print(\"Analysis environment ready!\")\n",
    "print(f\"Plot dimensions: {plotly_layout['width']}x{plotly_layout['height']} pixels (2D), \"\n",
    "      f\"{plotly_layout_3d['width']}x{plotly_layout_3d['height']} pixels (3D)\")"
   ]
  },
  {
   "cell_type": "markdown",
   "metadata": {},
   "source": [
    "## 1. Reading Simulation Data\n",
    "\n",
    "In Path Integral Molecular Dynamics (PIMD), the quantum nature of nuclei is represented through the ring polymer formalism. Each atom is represented by multiple copies (beads) of itself, connected by harmonic springs to form a ring polymer.\n",
    "\n",
    "We need to:\n",
    "1. Read the trajectory files for each bead (stored as .xyz files)\n",
    "2. Extract atomic positions from each frame\n",
    "3. Organize the data for analysis\n",
    "\n",
    "The trajectory files are named `simulation.pos_*.xyz`, where * represents the bead index (0 to N-1).\n",
    "\n",
    "### XYZ File Format:\n",
    "```\n",
    "3           # Number of atoms\n",
    "comment     # Comment line\n",
    "O  x y z    # Atom type and coordinates\n",
    "H  x y z\n",
    "H  x y z\n",
    "```\n",
    "\n",
    "Run the following cell to load the trajectory data for all beads."
   ]
  },
  {
   "cell_type": "code",
   "execution_count": 3,
   "metadata": {},
   "outputs": [
    {
     "name": "stdout",
     "output_type": "stream",
     "text": [
      "Found 2 beads in the simulation\n",
      "Each trajectory contains 101 frames\n",
      "System has 3 atoms\n"
     ]
    }
   ],
   "source": [
    "def read_xyz(filename):\n",
    "    \"\"\"Read XYZ trajectory file and extract atomic positions\n",
    "    \n",
    "    Returns:\n",
    "        numpy.ndarray: Array of shape (n_frames, n_atoms, 3) containing positions\n",
    "    \"\"\"\n",
    "    positions = []\n",
    "    with open(filename, 'r') as f:\n",
    "        while True:\n",
    "            try:\n",
    "                # Read number of atoms and skip comment line\n",
    "                n_atoms = int(f.readline())\n",
    "                f.readline()\n",
    "                \n",
    "                # Read atomic positions (skip atom type in column 0)\n",
    "                frame = []\n",
    "                for _ in range(n_atoms):\n",
    "                    line = f.readline().split()\n",
    "                    frame.append([float(x) for x in line[1:4]])\n",
    "                positions.append(frame)\n",
    "            except:\n",
    "                break\n",
    "    return np.array(positions)\n",
    "\n",
    "# Read trajectory files for all beads\n",
    "bead_files = sorted(glob.glob('./pimd_run_1/simulation.pos_*.xyz'))\n",
    "trajectories = [read_xyz(f) for f in bead_files]\n",
    "n_beads = len(trajectories)\n",
    "\n",
    "# Print summary\n",
    "print(f\"Found {n_beads} beads in the simulation\")\n",
    "if n_beads > 0:\n",
    "    print(f\"Each trajectory contains {len(trajectories[0])} frames\")\n",
    "    print(f\"System has {trajectories[0].shape[1]} atoms\")"
   ]
  },
  {
   "cell_type": "markdown",
   "metadata": {},
   "source": [
    "## 2. Analyzing Quantum Delocalization\n",
    "\n",
    "In PIMD, quantum delocalization is quantified by measuring how spread out the beads are for each atom. This spread is particularly noticeable for light atoms like hydrogen, due to their larger quantum fluctuations.\n",
    "\n",
    "### Radius of Gyration\n",
    "The quantum spread is measured using the radius of gyration ($R_g$), which is calculated for each atom as:\n",
    "\n",
    "$R_g = \\sqrt{\\frac{1}{P} \\sum_{i=1}^P (r_i - r_c)^2}$\n",
    "\n",
    "where:\n",
    "- $P$ is the number of beads\n",
    "- $r_i$ is the position of bead $i$\n",
    "- $r_c$ is the centroid position (average over all beads)\n",
    "\n",
    "### Parameters:\n",
    "1. **Centroid** ($r_c$):\n",
    "   - Represents the classical position of the atom\n",
    "   - Calculated as: $r_c = \\frac{1}{P} \\sum_{i=1}^P r_i$\n",
    "\n",
    "2. **Radius of Gyration** ($R_g$):\n",
    "   - Measures quantum delocalization\n",
    "   - Larger $R_g$ indicates stronger quantum effects\n",
    "   - Inversely related to particle mass ($R_g \\propto \\frac{1}{\\sqrt{m}}$)\n",
    "\n",
    "The following cell calculates $R_g$ for each atom and visualizes the quantum spread."
   ]
  },
  {
   "cell_type": "code",
   "execution_count": 4,
   "metadata": {},
   "outputs": [
    {
     "data": {
      "application/vnd.plotly.v1+json": {
       "config": {
        "plotlyServerURL": "https://plot.ly"
       },
       "data": [
        {
         "hovertemplate": "Atom: %{x}<br>Radius of Gyration: %{y:.3f} Å<extra></extra>",
         "marker": {
          "color": [
           "blue",
           "red",
           "red"
          ]
         },
         "text": [
          "0.041 Å",
          "0.144 Å",
          "0.189 Å"
         ],
         "textposition": "auto",
         "type": "bar",
         "x": [
          "O",
          "H1",
          "H2"
         ],
         "y": [
          0.041003883659112096,
          0.14427709283614634,
          0.18942322830900385
         ]
        }
       ],
       "layout": {
        "annotations": [
         {
          "font": {
           "size": 12
          },
          "showarrow": false,
          "text": "Larger radius of gyration indicates stronger quantum effects",
          "x": 0.5,
          "xref": "paper",
          "y": -0.25,
          "yref": "paper"
         }
        ],
        "font": {
         "size": 12
        },
        "height": 600,
        "hovermode": "closest",
        "margin": {
         "b": 50,
         "l": 50,
         "r": 50,
         "t": 50
        },
        "plot_bgcolor": "white",
        "showlegend": false,
        "template": {
         "data": {
          "bar": [
           {
            "error_x": {
             "color": "#2a3f5f"
            },
            "error_y": {
             "color": "#2a3f5f"
            },
            "marker": {
             "line": {
              "color": "#E5ECF6",
              "width": 0.5
             },
             "pattern": {
              "fillmode": "overlay",
              "size": 10,
              "solidity": 0.2
             }
            },
            "type": "bar"
           }
          ],
          "barpolar": [
           {
            "marker": {
             "line": {
              "color": "#E5ECF6",
              "width": 0.5
             },
             "pattern": {
              "fillmode": "overlay",
              "size": 10,
              "solidity": 0.2
             }
            },
            "type": "barpolar"
           }
          ],
          "carpet": [
           {
            "aaxis": {
             "endlinecolor": "#2a3f5f",
             "gridcolor": "white",
             "linecolor": "white",
             "minorgridcolor": "white",
             "startlinecolor": "#2a3f5f"
            },
            "baxis": {
             "endlinecolor": "#2a3f5f",
             "gridcolor": "white",
             "linecolor": "white",
             "minorgridcolor": "white",
             "startlinecolor": "#2a3f5f"
            },
            "type": "carpet"
           }
          ],
          "choropleth": [
           {
            "colorbar": {
             "outlinewidth": 0,
             "ticks": ""
            },
            "type": "choropleth"
           }
          ],
          "contour": [
           {
            "colorbar": {
             "outlinewidth": 0,
             "ticks": ""
            },
            "colorscale": [
             [
              0,
              "#0d0887"
             ],
             [
              0.1111111111111111,
              "#46039f"
             ],
             [
              0.2222222222222222,
              "#7201a8"
             ],
             [
              0.3333333333333333,
              "#9c179e"
             ],
             [
              0.4444444444444444,
              "#bd3786"
             ],
             [
              0.5555555555555556,
              "#d8576b"
             ],
             [
              0.6666666666666666,
              "#ed7953"
             ],
             [
              0.7777777777777778,
              "#fb9f3a"
             ],
             [
              0.8888888888888888,
              "#fdca26"
             ],
             [
              1,
              "#f0f921"
             ]
            ],
            "type": "contour"
           }
          ],
          "contourcarpet": [
           {
            "colorbar": {
             "outlinewidth": 0,
             "ticks": ""
            },
            "type": "contourcarpet"
           }
          ],
          "heatmap": [
           {
            "colorbar": {
             "outlinewidth": 0,
             "ticks": ""
            },
            "colorscale": [
             [
              0,
              "#0d0887"
             ],
             [
              0.1111111111111111,
              "#46039f"
             ],
             [
              0.2222222222222222,
              "#7201a8"
             ],
             [
              0.3333333333333333,
              "#9c179e"
             ],
             [
              0.4444444444444444,
              "#bd3786"
             ],
             [
              0.5555555555555556,
              "#d8576b"
             ],
             [
              0.6666666666666666,
              "#ed7953"
             ],
             [
              0.7777777777777778,
              "#fb9f3a"
             ],
             [
              0.8888888888888888,
              "#fdca26"
             ],
             [
              1,
              "#f0f921"
             ]
            ],
            "type": "heatmap"
           }
          ],
          "heatmapgl": [
           {
            "colorbar": {
             "outlinewidth": 0,
             "ticks": ""
            },
            "colorscale": [
             [
              0,
              "#0d0887"
             ],
             [
              0.1111111111111111,
              "#46039f"
             ],
             [
              0.2222222222222222,
              "#7201a8"
             ],
             [
              0.3333333333333333,
              "#9c179e"
             ],
             [
              0.4444444444444444,
              "#bd3786"
             ],
             [
              0.5555555555555556,
              "#d8576b"
             ],
             [
              0.6666666666666666,
              "#ed7953"
             ],
             [
              0.7777777777777778,
              "#fb9f3a"
             ],
             [
              0.8888888888888888,
              "#fdca26"
             ],
             [
              1,
              "#f0f921"
             ]
            ],
            "type": "heatmapgl"
           }
          ],
          "histogram": [
           {
            "marker": {
             "pattern": {
              "fillmode": "overlay",
              "size": 10,
              "solidity": 0.2
             }
            },
            "type": "histogram"
           }
          ],
          "histogram2d": [
           {
            "colorbar": {
             "outlinewidth": 0,
             "ticks": ""
            },
            "colorscale": [
             [
              0,
              "#0d0887"
             ],
             [
              0.1111111111111111,
              "#46039f"
             ],
             [
              0.2222222222222222,
              "#7201a8"
             ],
             [
              0.3333333333333333,
              "#9c179e"
             ],
             [
              0.4444444444444444,
              "#bd3786"
             ],
             [
              0.5555555555555556,
              "#d8576b"
             ],
             [
              0.6666666666666666,
              "#ed7953"
             ],
             [
              0.7777777777777778,
              "#fb9f3a"
             ],
             [
              0.8888888888888888,
              "#fdca26"
             ],
             [
              1,
              "#f0f921"
             ]
            ],
            "type": "histogram2d"
           }
          ],
          "histogram2dcontour": [
           {
            "colorbar": {
             "outlinewidth": 0,
             "ticks": ""
            },
            "colorscale": [
             [
              0,
              "#0d0887"
             ],
             [
              0.1111111111111111,
              "#46039f"
             ],
             [
              0.2222222222222222,
              "#7201a8"
             ],
             [
              0.3333333333333333,
              "#9c179e"
             ],
             [
              0.4444444444444444,
              "#bd3786"
             ],
             [
              0.5555555555555556,
              "#d8576b"
             ],
             [
              0.6666666666666666,
              "#ed7953"
             ],
             [
              0.7777777777777778,
              "#fb9f3a"
             ],
             [
              0.8888888888888888,
              "#fdca26"
             ],
             [
              1,
              "#f0f921"
             ]
            ],
            "type": "histogram2dcontour"
           }
          ],
          "mesh3d": [
           {
            "colorbar": {
             "outlinewidth": 0,
             "ticks": ""
            },
            "type": "mesh3d"
           }
          ],
          "parcoords": [
           {
            "line": {
             "colorbar": {
              "outlinewidth": 0,
              "ticks": ""
             }
            },
            "type": "parcoords"
           }
          ],
          "pie": [
           {
            "automargin": true,
            "type": "pie"
           }
          ],
          "scatter": [
           {
            "fillpattern": {
             "fillmode": "overlay",
             "size": 10,
             "solidity": 0.2
            },
            "type": "scatter"
           }
          ],
          "scatter3d": [
           {
            "line": {
             "colorbar": {
              "outlinewidth": 0,
              "ticks": ""
             }
            },
            "marker": {
             "colorbar": {
              "outlinewidth": 0,
              "ticks": ""
             }
            },
            "type": "scatter3d"
           }
          ],
          "scattercarpet": [
           {
            "marker": {
             "colorbar": {
              "outlinewidth": 0,
              "ticks": ""
             }
            },
            "type": "scattercarpet"
           }
          ],
          "scattergeo": [
           {
            "marker": {
             "colorbar": {
              "outlinewidth": 0,
              "ticks": ""
             }
            },
            "type": "scattergeo"
           }
          ],
          "scattergl": [
           {
            "marker": {
             "colorbar": {
              "outlinewidth": 0,
              "ticks": ""
             }
            },
            "type": "scattergl"
           }
          ],
          "scattermapbox": [
           {
            "marker": {
             "colorbar": {
              "outlinewidth": 0,
              "ticks": ""
             }
            },
            "type": "scattermapbox"
           }
          ],
          "scatterpolar": [
           {
            "marker": {
             "colorbar": {
              "outlinewidth": 0,
              "ticks": ""
             }
            },
            "type": "scatterpolar"
           }
          ],
          "scatterpolargl": [
           {
            "marker": {
             "colorbar": {
              "outlinewidth": 0,
              "ticks": ""
             }
            },
            "type": "scatterpolargl"
           }
          ],
          "scatterternary": [
           {
            "marker": {
             "colorbar": {
              "outlinewidth": 0,
              "ticks": ""
             }
            },
            "type": "scatterternary"
           }
          ],
          "surface": [
           {
            "colorbar": {
             "outlinewidth": 0,
             "ticks": ""
            },
            "colorscale": [
             [
              0,
              "#0d0887"
             ],
             [
              0.1111111111111111,
              "#46039f"
             ],
             [
              0.2222222222222222,
              "#7201a8"
             ],
             [
              0.3333333333333333,
              "#9c179e"
             ],
             [
              0.4444444444444444,
              "#bd3786"
             ],
             [
              0.5555555555555556,
              "#d8576b"
             ],
             [
              0.6666666666666666,
              "#ed7953"
             ],
             [
              0.7777777777777778,
              "#fb9f3a"
             ],
             [
              0.8888888888888888,
              "#fdca26"
             ],
             [
              1,
              "#f0f921"
             ]
            ],
            "type": "surface"
           }
          ],
          "table": [
           {
            "cells": {
             "fill": {
              "color": "#EBF0F8"
             },
             "line": {
              "color": "white"
             }
            },
            "header": {
             "fill": {
              "color": "#C8D4E3"
             },
             "line": {
              "color": "white"
             }
            },
            "type": "table"
           }
          ]
         },
         "layout": {
          "annotationdefaults": {
           "arrowcolor": "#2a3f5f",
           "arrowhead": 0,
           "arrowwidth": 1
          },
          "autotypenumbers": "strict",
          "coloraxis": {
           "colorbar": {
            "outlinewidth": 0,
            "ticks": ""
           }
          },
          "colorscale": {
           "diverging": [
            [
             0,
             "#8e0152"
            ],
            [
             0.1,
             "#c51b7d"
            ],
            [
             0.2,
             "#de77ae"
            ],
            [
             0.3,
             "#f1b6da"
            ],
            [
             0.4,
             "#fde0ef"
            ],
            [
             0.5,
             "#f7f7f7"
            ],
            [
             0.6,
             "#e6f5d0"
            ],
            [
             0.7,
             "#b8e186"
            ],
            [
             0.8,
             "#7fbc41"
            ],
            [
             0.9,
             "#4d9221"
            ],
            [
             1,
             "#276419"
            ]
           ],
           "sequential": [
            [
             0,
             "#0d0887"
            ],
            [
             0.1111111111111111,
             "#46039f"
            ],
            [
             0.2222222222222222,
             "#7201a8"
            ],
            [
             0.3333333333333333,
             "#9c179e"
            ],
            [
             0.4444444444444444,
             "#bd3786"
            ],
            [
             0.5555555555555556,
             "#d8576b"
            ],
            [
             0.6666666666666666,
             "#ed7953"
            ],
            [
             0.7777777777777778,
             "#fb9f3a"
            ],
            [
             0.8888888888888888,
             "#fdca26"
            ],
            [
             1,
             "#f0f921"
            ]
           ],
           "sequentialminus": [
            [
             0,
             "#0d0887"
            ],
            [
             0.1111111111111111,
             "#46039f"
            ],
            [
             0.2222222222222222,
             "#7201a8"
            ],
            [
             0.3333333333333333,
             "#9c179e"
            ],
            [
             0.4444444444444444,
             "#bd3786"
            ],
            [
             0.5555555555555556,
             "#d8576b"
            ],
            [
             0.6666666666666666,
             "#ed7953"
            ],
            [
             0.7777777777777778,
             "#fb9f3a"
            ],
            [
             0.8888888888888888,
             "#fdca26"
            ],
            [
             1,
             "#f0f921"
            ]
           ]
          },
          "colorway": [
           "#636efa",
           "#EF553B",
           "#00cc96",
           "#ab63fa",
           "#FFA15A",
           "#19d3f3",
           "#FF6692",
           "#B6E880",
           "#FF97FF",
           "#FECB52"
          ],
          "font": {
           "color": "#2a3f5f"
          },
          "geo": {
           "bgcolor": "white",
           "lakecolor": "white",
           "landcolor": "#E5ECF6",
           "showlakes": true,
           "showland": true,
           "subunitcolor": "white"
          },
          "hoverlabel": {
           "align": "left"
          },
          "hovermode": "closest",
          "mapbox": {
           "style": "light"
          },
          "paper_bgcolor": "white",
          "plot_bgcolor": "#E5ECF6",
          "polar": {
           "angularaxis": {
            "gridcolor": "white",
            "linecolor": "white",
            "ticks": ""
           },
           "bgcolor": "#E5ECF6",
           "radialaxis": {
            "gridcolor": "white",
            "linecolor": "white",
            "ticks": ""
           }
          },
          "scene": {
           "xaxis": {
            "backgroundcolor": "#E5ECF6",
            "gridcolor": "white",
            "gridwidth": 2,
            "linecolor": "white",
            "showbackground": true,
            "ticks": "",
            "zerolinecolor": "white"
           },
           "yaxis": {
            "backgroundcolor": "#E5ECF6",
            "gridcolor": "white",
            "gridwidth": 2,
            "linecolor": "white",
            "showbackground": true,
            "ticks": "",
            "zerolinecolor": "white"
           },
           "zaxis": {
            "backgroundcolor": "#E5ECF6",
            "gridcolor": "white",
            "gridwidth": 2,
            "linecolor": "white",
            "showbackground": true,
            "ticks": "",
            "zerolinecolor": "white"
           }
          },
          "shapedefaults": {
           "line": {
            "color": "#2a3f5f"
           }
          },
          "ternary": {
           "aaxis": {
            "gridcolor": "white",
            "linecolor": "white",
            "ticks": ""
           },
           "baxis": {
            "gridcolor": "white",
            "linecolor": "white",
            "ticks": ""
           },
           "bgcolor": "#E5ECF6",
           "caxis": {
            "gridcolor": "white",
            "linecolor": "white",
            "ticks": ""
           }
          },
          "title": {
           "x": 0.05
          },
          "xaxis": {
           "automargin": true,
           "gridcolor": "white",
           "linecolor": "white",
           "ticks": "",
           "title": {
            "standoff": 15
           },
           "zerolinecolor": "white",
           "zerolinewidth": 2
          },
          "yaxis": {
           "automargin": true,
           "gridcolor": "white",
           "linecolor": "white",
           "ticks": "",
           "title": {
            "standoff": 15
           },
           "zerolinecolor": "white",
           "zerolinewidth": 2
          }
         }
        },
        "title": {
         "font": {
          "size": 20
         },
         "text": "Quantum Delocalization of Atoms",
         "x": 0.5,
         "xanchor": "center",
         "y": 0.95,
         "yanchor": "top"
        },
        "width": 600,
        "xaxis": {
         "gridcolor": "LightGray",
         "gridwidth": 1,
         "showgrid": true,
         "title": {
          "text": "Atom"
         }
        },
        "yaxis": {
         "gridcolor": "LightGray",
         "gridwidth": 1,
         "showgrid": true,
         "title": {
          "text": "Radius of Gyration (Å)"
         }
        }
       }
      },
      "text/html": [
       "<div>                            <div id=\"bf4d45f1-7c34-471b-baa5-22763b1791c2\" class=\"plotly-graph-div\" style=\"height:600px; width:600px;\"></div>            <script type=\"text/javascript\">                require([\"plotly\"], function(Plotly) {                    window.PLOTLYENV=window.PLOTLYENV || {};                                    if (document.getElementById(\"bf4d45f1-7c34-471b-baa5-22763b1791c2\")) {                    Plotly.newPlot(                        \"bf4d45f1-7c34-471b-baa5-22763b1791c2\",                        [{\"hovertemplate\":\"Atom: %{x}\\u003cbr\\u003eRadius of Gyration: %{y:.3f} \\u00c5\\u003cextra\\u003e\\u003c\\u002fextra\\u003e\",\"marker\":{\"color\":[\"blue\",\"red\",\"red\"]},\"text\":[\"0.041 \\u00c5\",\"0.144 \\u00c5\",\"0.189 \\u00c5\"],\"textposition\":\"auto\",\"x\":[\"O\",\"H1\",\"H2\"],\"y\":[0.041003883659112096,0.14427709283614634,0.18942322830900385],\"type\":\"bar\"}],                        {\"template\":{\"data\":{\"histogram2dcontour\":[{\"type\":\"histogram2dcontour\",\"colorbar\":{\"outlinewidth\":0,\"ticks\":\"\"},\"colorscale\":[[0.0,\"#0d0887\"],[0.1111111111111111,\"#46039f\"],[0.2222222222222222,\"#7201a8\"],[0.3333333333333333,\"#9c179e\"],[0.4444444444444444,\"#bd3786\"],[0.5555555555555556,\"#d8576b\"],[0.6666666666666666,\"#ed7953\"],[0.7777777777777778,\"#fb9f3a\"],[0.8888888888888888,\"#fdca26\"],[1.0,\"#f0f921\"]]}],\"choropleth\":[{\"type\":\"choropleth\",\"colorbar\":{\"outlinewidth\":0,\"ticks\":\"\"}}],\"histogram2d\":[{\"type\":\"histogram2d\",\"colorbar\":{\"outlinewidth\":0,\"ticks\":\"\"},\"colorscale\":[[0.0,\"#0d0887\"],[0.1111111111111111,\"#46039f\"],[0.2222222222222222,\"#7201a8\"],[0.3333333333333333,\"#9c179e\"],[0.4444444444444444,\"#bd3786\"],[0.5555555555555556,\"#d8576b\"],[0.6666666666666666,\"#ed7953\"],[0.7777777777777778,\"#fb9f3a\"],[0.8888888888888888,\"#fdca26\"],[1.0,\"#f0f921\"]]}],\"heatmap\":[{\"type\":\"heatmap\",\"colorbar\":{\"outlinewidth\":0,\"ticks\":\"\"},\"colorscale\":[[0.0,\"#0d0887\"],[0.1111111111111111,\"#46039f\"],[0.2222222222222222,\"#7201a8\"],[0.3333333333333333,\"#9c179e\"],[0.4444444444444444,\"#bd3786\"],[0.5555555555555556,\"#d8576b\"],[0.6666666666666666,\"#ed7953\"],[0.7777777777777778,\"#fb9f3a\"],[0.8888888888888888,\"#fdca26\"],[1.0,\"#f0f921\"]]}],\"heatmapgl\":[{\"type\":\"heatmapgl\",\"colorbar\":{\"outlinewidth\":0,\"ticks\":\"\"},\"colorscale\":[[0.0,\"#0d0887\"],[0.1111111111111111,\"#46039f\"],[0.2222222222222222,\"#7201a8\"],[0.3333333333333333,\"#9c179e\"],[0.4444444444444444,\"#bd3786\"],[0.5555555555555556,\"#d8576b\"],[0.6666666666666666,\"#ed7953\"],[0.7777777777777778,\"#fb9f3a\"],[0.8888888888888888,\"#fdca26\"],[1.0,\"#f0f921\"]]}],\"contourcarpet\":[{\"type\":\"contourcarpet\",\"colorbar\":{\"outlinewidth\":0,\"ticks\":\"\"}}],\"contour\":[{\"type\":\"contour\",\"colorbar\":{\"outlinewidth\":0,\"ticks\":\"\"},\"colorscale\":[[0.0,\"#0d0887\"],[0.1111111111111111,\"#46039f\"],[0.2222222222222222,\"#7201a8\"],[0.3333333333333333,\"#9c179e\"],[0.4444444444444444,\"#bd3786\"],[0.5555555555555556,\"#d8576b\"],[0.6666666666666666,\"#ed7953\"],[0.7777777777777778,\"#fb9f3a\"],[0.8888888888888888,\"#fdca26\"],[1.0,\"#f0f921\"]]}],\"surface\":[{\"type\":\"surface\",\"colorbar\":{\"outlinewidth\":0,\"ticks\":\"\"},\"colorscale\":[[0.0,\"#0d0887\"],[0.1111111111111111,\"#46039f\"],[0.2222222222222222,\"#7201a8\"],[0.3333333333333333,\"#9c179e\"],[0.4444444444444444,\"#bd3786\"],[0.5555555555555556,\"#d8576b\"],[0.6666666666666666,\"#ed7953\"],[0.7777777777777778,\"#fb9f3a\"],[0.8888888888888888,\"#fdca26\"],[1.0,\"#f0f921\"]]}],\"mesh3d\":[{\"type\":\"mesh3d\",\"colorbar\":{\"outlinewidth\":0,\"ticks\":\"\"}}],\"scatter\":[{\"fillpattern\":{\"fillmode\":\"overlay\",\"size\":10,\"solidity\":0.2},\"type\":\"scatter\"}],\"parcoords\":[{\"type\":\"parcoords\",\"line\":{\"colorbar\":{\"outlinewidth\":0,\"ticks\":\"\"}}}],\"scatterpolargl\":[{\"type\":\"scatterpolargl\",\"marker\":{\"colorbar\":{\"outlinewidth\":0,\"ticks\":\"\"}}}],\"bar\":[{\"error_x\":{\"color\":\"#2a3f5f\"},\"error_y\":{\"color\":\"#2a3f5f\"},\"marker\":{\"line\":{\"color\":\"#E5ECF6\",\"width\":0.5},\"pattern\":{\"fillmode\":\"overlay\",\"size\":10,\"solidity\":0.2}},\"type\":\"bar\"}],\"scattergeo\":[{\"type\":\"scattergeo\",\"marker\":{\"colorbar\":{\"outlinewidth\":0,\"ticks\":\"\"}}}],\"scatterpolar\":[{\"type\":\"scatterpolar\",\"marker\":{\"colorbar\":{\"outlinewidth\":0,\"ticks\":\"\"}}}],\"histogram\":[{\"marker\":{\"pattern\":{\"fillmode\":\"overlay\",\"size\":10,\"solidity\":0.2}},\"type\":\"histogram\"}],\"scattergl\":[{\"type\":\"scattergl\",\"marker\":{\"colorbar\":{\"outlinewidth\":0,\"ticks\":\"\"}}}],\"scatter3d\":[{\"type\":\"scatter3d\",\"line\":{\"colorbar\":{\"outlinewidth\":0,\"ticks\":\"\"}},\"marker\":{\"colorbar\":{\"outlinewidth\":0,\"ticks\":\"\"}}}],\"scattermapbox\":[{\"type\":\"scattermapbox\",\"marker\":{\"colorbar\":{\"outlinewidth\":0,\"ticks\":\"\"}}}],\"scatterternary\":[{\"type\":\"scatterternary\",\"marker\":{\"colorbar\":{\"outlinewidth\":0,\"ticks\":\"\"}}}],\"scattercarpet\":[{\"type\":\"scattercarpet\",\"marker\":{\"colorbar\":{\"outlinewidth\":0,\"ticks\":\"\"}}}],\"carpet\":[{\"aaxis\":{\"endlinecolor\":\"#2a3f5f\",\"gridcolor\":\"white\",\"linecolor\":\"white\",\"minorgridcolor\":\"white\",\"startlinecolor\":\"#2a3f5f\"},\"baxis\":{\"endlinecolor\":\"#2a3f5f\",\"gridcolor\":\"white\",\"linecolor\":\"white\",\"minorgridcolor\":\"white\",\"startlinecolor\":\"#2a3f5f\"},\"type\":\"carpet\"}],\"table\":[{\"cells\":{\"fill\":{\"color\":\"#EBF0F8\"},\"line\":{\"color\":\"white\"}},\"header\":{\"fill\":{\"color\":\"#C8D4E3\"},\"line\":{\"color\":\"white\"}},\"type\":\"table\"}],\"barpolar\":[{\"marker\":{\"line\":{\"color\":\"#E5ECF6\",\"width\":0.5},\"pattern\":{\"fillmode\":\"overlay\",\"size\":10,\"solidity\":0.2}},\"type\":\"barpolar\"}],\"pie\":[{\"automargin\":true,\"type\":\"pie\"}]},\"layout\":{\"autotypenumbers\":\"strict\",\"colorway\":[\"#636efa\",\"#EF553B\",\"#00cc96\",\"#ab63fa\",\"#FFA15A\",\"#19d3f3\",\"#FF6692\",\"#B6E880\",\"#FF97FF\",\"#FECB52\"],\"font\":{\"color\":\"#2a3f5f\"},\"hovermode\":\"closest\",\"hoverlabel\":{\"align\":\"left\"},\"paper_bgcolor\":\"white\",\"plot_bgcolor\":\"#E5ECF6\",\"polar\":{\"bgcolor\":\"#E5ECF6\",\"angularaxis\":{\"gridcolor\":\"white\",\"linecolor\":\"white\",\"ticks\":\"\"},\"radialaxis\":{\"gridcolor\":\"white\",\"linecolor\":\"white\",\"ticks\":\"\"}},\"ternary\":{\"bgcolor\":\"#E5ECF6\",\"aaxis\":{\"gridcolor\":\"white\",\"linecolor\":\"white\",\"ticks\":\"\"},\"baxis\":{\"gridcolor\":\"white\",\"linecolor\":\"white\",\"ticks\":\"\"},\"caxis\":{\"gridcolor\":\"white\",\"linecolor\":\"white\",\"ticks\":\"\"}},\"coloraxis\":{\"colorbar\":{\"outlinewidth\":0,\"ticks\":\"\"}},\"colorscale\":{\"sequential\":[[0.0,\"#0d0887\"],[0.1111111111111111,\"#46039f\"],[0.2222222222222222,\"#7201a8\"],[0.3333333333333333,\"#9c179e\"],[0.4444444444444444,\"#bd3786\"],[0.5555555555555556,\"#d8576b\"],[0.6666666666666666,\"#ed7953\"],[0.7777777777777778,\"#fb9f3a\"],[0.8888888888888888,\"#fdca26\"],[1.0,\"#f0f921\"]],\"sequentialminus\":[[0.0,\"#0d0887\"],[0.1111111111111111,\"#46039f\"],[0.2222222222222222,\"#7201a8\"],[0.3333333333333333,\"#9c179e\"],[0.4444444444444444,\"#bd3786\"],[0.5555555555555556,\"#d8576b\"],[0.6666666666666666,\"#ed7953\"],[0.7777777777777778,\"#fb9f3a\"],[0.8888888888888888,\"#fdca26\"],[1.0,\"#f0f921\"]],\"diverging\":[[0,\"#8e0152\"],[0.1,\"#c51b7d\"],[0.2,\"#de77ae\"],[0.3,\"#f1b6da\"],[0.4,\"#fde0ef\"],[0.5,\"#f7f7f7\"],[0.6,\"#e6f5d0\"],[0.7,\"#b8e186\"],[0.8,\"#7fbc41\"],[0.9,\"#4d9221\"],[1,\"#276419\"]]},\"xaxis\":{\"gridcolor\":\"white\",\"linecolor\":\"white\",\"ticks\":\"\",\"title\":{\"standoff\":15},\"zerolinecolor\":\"white\",\"automargin\":true,\"zerolinewidth\":2},\"yaxis\":{\"gridcolor\":\"white\",\"linecolor\":\"white\",\"ticks\":\"\",\"title\":{\"standoff\":15},\"zerolinecolor\":\"white\",\"automargin\":true,\"zerolinewidth\":2},\"scene\":{\"xaxis\":{\"backgroundcolor\":\"#E5ECF6\",\"gridcolor\":\"white\",\"linecolor\":\"white\",\"showbackground\":true,\"ticks\":\"\",\"zerolinecolor\":\"white\",\"gridwidth\":2},\"yaxis\":{\"backgroundcolor\":\"#E5ECF6\",\"gridcolor\":\"white\",\"linecolor\":\"white\",\"showbackground\":true,\"ticks\":\"\",\"zerolinecolor\":\"white\",\"gridwidth\":2},\"zaxis\":{\"backgroundcolor\":\"#E5ECF6\",\"gridcolor\":\"white\",\"linecolor\":\"white\",\"showbackground\":true,\"ticks\":\"\",\"zerolinecolor\":\"white\",\"gridwidth\":2}},\"shapedefaults\":{\"line\":{\"color\":\"#2a3f5f\"}},\"annotationdefaults\":{\"arrowcolor\":\"#2a3f5f\",\"arrowhead\":0,\"arrowwidth\":1},\"geo\":{\"bgcolor\":\"white\",\"landcolor\":\"#E5ECF6\",\"subunitcolor\":\"white\",\"showland\":true,\"showlakes\":true,\"lakecolor\":\"white\"},\"title\":{\"x\":0.05},\"mapbox\":{\"style\":\"light\"}}},\"font\":{\"size\":12},\"margin\":{\"l\":50,\"r\":50,\"t\":50,\"b\":50},\"xaxis\":{\"showgrid\":true,\"gridwidth\":1,\"gridcolor\":\"LightGray\",\"title\":{\"text\":\"Atom\"}},\"yaxis\":{\"showgrid\":true,\"gridwidth\":1,\"gridcolor\":\"LightGray\",\"title\":{\"text\":\"Radius of Gyration (\\u00c5)\"}},\"title\":{\"font\":{\"size\":20},\"text\":\"Quantum Delocalization of Atoms\",\"y\":0.95,\"x\":0.5,\"xanchor\":\"center\",\"yanchor\":\"top\"},\"width\":600,\"height\":600,\"plot_bgcolor\":\"white\",\"hovermode\":\"closest\",\"showlegend\":false,\"annotations\":[{\"font\":{\"size\":12},\"showarrow\":false,\"text\":\"Larger radius of gyration indicates stronger quantum effects\",\"x\":0.5,\"xref\":\"paper\",\"y\":-0.25,\"yref\":\"paper\"}]},                        {\"responsive\": true}                    ).then(function(){\n",
       "                            \n",
       "var gd = document.getElementById('bf4d45f1-7c34-471b-baa5-22763b1791c2');\n",
       "var x = new MutationObserver(function (mutations, observer) {{\n",
       "        var display = window.getComputedStyle(gd).display;\n",
       "        if (!display || display === 'none') {{\n",
       "            console.log([gd, 'removed!']);\n",
       "            Plotly.purge(gd);\n",
       "            observer.disconnect();\n",
       "        }}\n",
       "}});\n",
       "\n",
       "// Listen for the removal of the full notebook cells\n",
       "var notebookContainer = gd.closest('#notebook-container');\n",
       "if (notebookContainer) {{\n",
       "    x.observe(notebookContainer, {childList: true});\n",
       "}}\n",
       "\n",
       "// Listen for the clearing of the current output cell\n",
       "var outputEl = gd.closest('.output');\n",
       "if (outputEl) {{\n",
       "    x.observe(outputEl, {childList: true});\n",
       "}}\n",
       "\n",
       "                        })                };                });            </script>        </div>"
      ]
     },
     "metadata": {},
     "output_type": "display_data"
    },
    {
     "name": "stdout",
     "output_type": "stream",
     "text": [
      "\n",
      "Quantum Delocalization Analysis:\n",
      "------------------------------\n",
      "Oxygen (m=16 amu):     0.041 Å\n",
      "Hydrogen 1 (m=1 amu):  0.144 Å\n",
      "Hydrogen 2 (m=1 amu):  0.189 Å\n"
     ]
    }
   ],
   "source": [
    "def calculate_radius_of_gyration(positions):\n",
    "    \"\"\"Calculate radius of gyration for quantum delocalization analysis\"\"\"\n",
    "    centroid = np.mean(positions, axis=0)\n",
    "    rg = np.sqrt(np.mean(np.sum((positions - centroid)**2, axis=2), axis=0))\n",
    "    return rg\n",
    "\n",
    "# Calculate Rg for last frame\n",
    "frame_idx = -1\n",
    "all_bead_positions = np.array([traj[frame_idx] for traj in trajectories])\n",
    "rg = calculate_radius_of_gyration(all_bead_positions)\n",
    "\n",
    "# Create visualization\n",
    "fig = go.Figure(go.Bar(\n",
    "    x=['O', 'H1', 'H2'],\n",
    "    y=rg,\n",
    "    text=[f'{val:.3f} Å' for val in rg],\n",
    "    textposition='auto',\n",
    "    marker_color=['blue', 'red', 'red'],\n",
    "    hovertemplate='Atom: %{x}<br>Radius of Gyration: %{y:.3f} Å<extra></extra>'\n",
    "))\n",
    "\n",
    "# Configure plot\n",
    "fig.update_layout(\n",
    "    plotly_layout,\n",
    "    title={\n",
    "        'text': 'Quantum Delocalization of Atoms',\n",
    "        'font': {'size': 20},\n",
    "        'y': 0.95,\n",
    "        'x': 0.5,\n",
    "        'xanchor': 'center',\n",
    "        'yanchor': 'top'\n",
    "    },\n",
    "    xaxis_title='Atom',\n",
    "    yaxis_title='Radius of Gyration (Å)',\n",
    "    showlegend=False,\n",
    "    annotations=[{\n",
    "        'text': 'Larger radius of gyration indicates stronger quantum effects',\n",
    "        'showarrow': False,\n",
    "        'x': 0.5,\n",
    "        'y': -0.25,\n",
    "        'xref': 'paper',\n",
    "        'yref': 'paper',\n",
    "        'font': {'size': 12}\n",
    "    }]\n",
    ")\n",
    "fig.show()\n",
    "\n",
    "# Print analysis\n",
    "print(\"\\nQuantum Delocalization Analysis:\")\n",
    "print(\"-\" * 30)\n",
    "print(f\"Oxygen (m=16 amu):     {rg[0]:.3f} Å\")\n",
    "print(f\"Hydrogen 1 (m=1 amu):  {rg[1]:.3f} Å\")\n",
    "print(f\"Hydrogen 2 (m=1 amu):  {rg[2]:.3f} Å\")"
   ]
  },
  {
   "cell_type": "markdown",
   "metadata": {},
   "source": [
    "## 3. Bond Length Analysis\n",
    "\n",
    "Both classical MD and PIMD show distributions of bond lengths, but for different physical reasons:\n",
    "\n",
    "### Classical MD Distribution:\n",
    "- Thermal fluctuations cause bonds to vibrate\n",
    "- Distribution width increases with temperature\n",
    "- Symmetric distribution around equilibrium length\n",
    "- Bond vibrations follow classical mechanics\n",
    "\n",
    "### PIMD Additional Features:\n",
    "- Each atom is represented by P beads (ring polymer)\n",
    "- Distribution includes both:\n",
    "  1. Thermal fluctuations (as in classical MD)\n",
    "  2. Quantum zero-point motion and tunneling effects\n",
    "- Generally wider distribution than classical MD\n",
    "- Often shows asymmetry due to anharmonicity\n",
    "\n",
    "### Calculation Method:\n",
    "1. For each frame in the trajectory:\n",
    "   - Calculate O-H distances for all P beads\n",
    "   - This gives P×2 distances (2 hydrogens) per frame\n",
    "2. Combine all distances into one distribution:\n",
    "   - All frames\n",
    "   - All beads\n",
    "   - Both O-H bonds\n",
    "\n",
    "### Mathematical Expression:\n",
    "For frame $t$, bead $i$, the O-H bond length is:\n",
    "\n",
    "$r_{OH}^{(i,t)} = ||\\mathbf{r}_H^{(i,t)} - \\mathbf{r}_O^{(i,t)}||$\n",
    "\n",
    "Total number of bond lengths = (number of frames) × (number of beads) × 2\n",
    "\n",
    "The following cell performs this analysis and plots the resulting distribution."
   ]
  },
  {
   "cell_type": "code",
   "execution_count": 5,
   "metadata": {},
   "outputs": [
    {
     "data": {
      "application/vnd.plotly.v1+json": {
       "config": {
        "plotlyServerURL": "https://plot.ly"
       },
       "data": [
        {
         "histnorm": "probability density",
         "hovertemplate": "Bond Length: %{x:.3f} Å<br>Density: %{y:.3f}<extra></extra>",
         "name": "O-H bonds",
         "nbinsx": 50,
         "type": "histogram",
         "x": [
          0.506952,
          1.058862683631702,
          1.1065037658505155,
          1.0889670075862583,
          1.0857188297942955,
          1.0426602356294499,
          1.0079162852302863,
          0.9976679777700175,
          0.9524606823164724,
          0.9017696511886891,
          0.9203913048348402,
          0.9192189304602032,
          0.9382995676107337,
          0.9442789901416793,
          0.9592367955358154,
          0.9719772180045965,
          0.96482973540779,
          0.9627283558073743,
          0.9690882553885429,
          0.9521932282830045,
          0.9008221268674133,
          0.9230567520898848,
          0.9255772801860049,
          0.9417176669118622,
          0.9477879673731092,
          0.9180215471491016,
          0.9064973072546935,
          0.9409222542888942,
          0.9867912321491816,
          0.9975911544993219,
          0.9688175232284096,
          0.9323367690714833,
          0.9252293692938485,
          0.9573654281118522,
          0.9258423669519708,
          0.9257123088091354,
          0.9531446404178119,
          0.9940218340572302,
          0.9755827483329679,
          0.9385880056789807,
          0.9201639613868497,
          0.917066837610629,
          0.950255973219069,
          0.9402300658531879,
          0.9543894547790488,
          0.9349116559320244,
          0.9210188786228597,
          0.9444054907945951,
          0.9467933395705633,
          0.9379659876999059,
          0.9219034307632551,
          0.9187979446534315,
          0.9279632205200269,
          0.9512151966335851,
          0.9706296443779416,
          0.9573961305196143,
          0.9679571450338387,
          0.9732095817329308,
          0.9588495258825454,
          0.941420484829011,
          0.9534645604778239,
          0.9701573177856465,
          0.9544190455213789,
          0.9267533257960341,
          0.9372463519287232,
          0.9634369531228757,
          0.9501175171562463,
          0.9526036751248234,
          0.9288391903759607,
          0.8989672485784841,
          0.9291568423711575,
          0.9500897703256467,
          0.9483433163729948,
          0.8969173182947745,
          0.9018387937795382,
          0.9160642830638093,
          0.921323140296118,
          0.9466037590681805,
          0.9836891372802792,
          0.9979977867053677,
          0.9442544642701246,
          0.9320412121802178,
          0.9174940524530336,
          0.8987967302732137,
          0.9059721210126984,
          0.9312362639426258,
          0.9442991458605795,
          0.9161904298270871,
          0.9240020141611099,
          0.9097440949276631,
          0.9104506917924124,
          0.9458075997592167,
          0.9573899133416541,
          0.972156428179236,
          0.9284536455372189,
          0.9118356088245896,
          0.9365622470422462,
          0.9718989270420304,
          0.9685636349968704,
          0.9393068613207517,
          0.9263263598526925,
          0.506952,
          1.0739874989638658,
          0.9403026728685344,
          0.9386256903271093,
          1.032218462734987,
          1.0026375828650251,
          0.9568020681455177,
          0.9701657707528595,
          0.9368378481703663,
          0.9085245337422128,
          0.9213102300956767,
          0.940873432059302,
          0.9735920993656481,
          0.9593178510196487,
          0.9270052266570993,
          0.9230567637455565,
          0.9519344828354018,
          0.9545886521282085,
          0.9228412587040796,
          0.902747804388457,
          0.8932363861288959,
          0.9412275857013223,
          0.957022007918832,
          0.9439570448387854,
          0.9548365459554897,
          0.9694784043248514,
          0.9656052345652388,
          0.9781406763601779,
          0.9313834989021708,
          0.9271322760581955,
          0.8920661488336726,
          0.8721419438688142,
          0.8762067937435549,
          0.9044896771275245,
          0.9432332718621245,
          0.9165930652673138,
          0.9058128110576251,
          0.9245268966184523,
          0.928779234804294,
          0.9333071041818604,
          0.961150951413788,
          0.9590541116543001,
          0.9661961254387744,
          0.9873847254927846,
          0.9653111727181499,
          0.9461348494226072,
          0.9309515977030062,
          0.9260257883767217,
          0.9456015045481785,
          0.9622100932215063,
          0.9439977181188342,
          0.9324851228526491,
          0.9632440244534144,
          0.9519912105981998,
          0.9285373198472638,
          0.93071378666479,
          0.9536763553565696,
          0.9663563993468662,
          0.9358855122422078,
          0.9438354603841709,
          0.940000453722397,
          0.9469970038903925,
          0.9472267629965446,
          0.951075181392833,
          0.9332195719857102,
          0.9473987743953822,
          0.9678576055993455,
          0.9495822393146315,
          0.926306391826684,
          0.8932701279713657,
          0.9142957547008626,
          0.9423047159443327,
          0.9638729536265493,
          0.9714307703688102,
          0.9531861612258123,
          0.9447206526018789,
          0.9632337941134437,
          0.9427707951525334,
          0.9822798474036765,
          0.9519714037394874,
          0.9322496033425651,
          0.9305357551678549,
          0.9341615316849062,
          0.9180934992040026,
          0.9330614714935498,
          0.9375727236031187,
          0.9102422560809073,
          0.9092610549998389,
          0.9462160035808064,
          0.9267885353304928,
          0.9276711299841662,
          0.9633074910848509,
          0.934917465567588,
          0.9405059521579489,
          0.9702442126295575,
          0.9461687832001644,
          0.9224977426415145,
          0.9546629407623405,
          0.9336281645290055,
          0.926299334445286,
          0.9211172166789089,
          0.506588372288587,
          1.0896035872344998,
          1.060841133340381,
          1.0764366835567107,
          1.0510622497425137,
          1.009561277380853,
          0.9434390724426353,
          0.9337867752775985,
          0.8794776622332371,
          0.91381226884086,
          0.9348889492133813,
          0.9447289707271446,
          0.9741187233673778,
          0.9711172280254889,
          0.94429742139721,
          0.9254078954282241,
          0.9139409166882541,
          0.9335233901219454,
          0.9380773699817142,
          0.96592733682716,
          0.9529923644535301,
          0.944097067616761,
          0.9289387116732688,
          0.9372885429803678,
          0.9367240927835955,
          0.9132476314308787,
          0.9551634128050341,
          0.9692845098064007,
          0.9812385725105286,
          0.9908900310747858,
          0.9769445737789888,
          0.9642902209227896,
          0.9786694679912072,
          0.9976456119026386,
          0.9772983081169984,
          0.9455712365775197,
          0.9220438878746283,
          0.9282121525655481,
          0.9894258867108474,
          0.9565420930798887,
          0.9293275888027538,
          0.9350162085313601,
          0.9152548088740807,
          0.9333376320089585,
          0.977090443576663,
          0.9561042577141103,
          0.9458209884303636,
          0.9590646909014688,
          0.947109405500748,
          0.9622962926352259,
          0.9688688620252434,
          0.9634299862380503,
          0.9318512244464885,
          0.9121818242347542,
          0.9231925849665595,
          0.9197847554009428,
          0.9250878598273896,
          0.9324796553237408,
          0.9156135218521336,
          0.8907955055740291,
          0.9404240120834697,
          0.9447690661115904,
          0.9437024333953685,
          0.9289681422121052,
          0.9307252839369413,
          0.9705949092619897,
          0.9731761291145298,
          0.9493412154297578,
          0.9344552660613937,
          0.9033087505969207,
          0.9234892732382657,
          0.9433337973807787,
          0.9687970807109505,
          0.9570873030958723,
          0.9272583305521405,
          0.9192962459654923,
          0.9210300689167418,
          0.9469929048629245,
          0.9367190091596412,
          0.9467267168736816,
          0.9299063882633886,
          0.8921728094103574,
          0.9037245309326288,
          0.9255493423702595,
          0.9387971311020542,
          0.970461216674345,
          0.9765335999796115,
          0.9746425876416659,
          0.9584078147286613,
          0.9570392808826673,
          0.9327269627954126,
          0.9320962345734372,
          0.9330830168055467,
          0.9580842004440998,
          0.9744222957276746,
          0.9692198173595657,
          0.9726848387716454,
          0.9801991739403222,
          0.9878826398022849,
          0.9381896336503415,
          0.9347395611712656,
          0.506588372288587,
          1.006264719567202,
          1.0964119609567793,
          0.9236326661384072,
          0.930695680335726,
          0.9391038520446076,
          0.938828969426322,
          0.9682406179399261,
          0.9030603281931293,
          0.88479679305097,
          0.9189149174210957,
          0.9418992964148822,
          0.9513680914154888,
          0.9651519112272517,
          0.9504992943922526,
          0.967436425202845,
          0.9646668177188868,
          0.968074508064183,
          0.9687566077952346,
          0.9454808811111834,
          0.9251588276119836,
          0.9378405437807326,
          0.9616280059646728,
          0.9435467199980045,
          0.9431638769032719,
          0.9434169860344629,
          0.9192473269992303,
          0.8971700810792009,
          0.8901636093412547,
          0.9294178607999148,
          0.9017909676891536,
          0.9048108637426887,
          0.9150570385759789,
          0.9472124798770956,
          0.9473773623134809,
          0.9388478953278481,
          0.9348593756173257,
          0.9158221445775192,
          0.9323044666727978,
          0.9334687572542212,
          0.9110467755236447,
          0.899363896228923,
          0.8885495270271095,
          0.8872745620641325,
          0.9014919936558561,
          0.9066804478028901,
          0.9157682614418672,
          0.9256884775403381,
          0.9313783547005368,
          0.9259816023731196,
          0.9259154367236005,
          0.9231135993951017,
          0.9194511504777237,
          0.917717261699989,
          0.9275563821351456,
          0.9599768655398225,
          0.9590427728835612,
          0.9579935696899953,
          0.9441990816296423,
          0.9508238878052023,
          0.9517327443544958,
          0.923684874508471,
          0.9183485161090706,
          0.9173892243349112,
          0.9285913242051489,
          0.9401006903965833,
          0.9598365269096288,
          0.969835574363299,
          0.956148501065483,
          0.9607782603354585,
          0.9718513092016804,
          0.985538761985473,
          1.0053565292597835,
          0.9586744275345723,
          0.9367393631566004,
          0.9080292207033428,
          0.903024261788785,
          0.938923497508535,
          0.9715669546555143,
          0.9581976351661122,
          0.9600868404653664,
          0.9887232718681653,
          0.9705621261702364,
          0.9771686142633982,
          0.9593294722722577,
          0.9575924233100271,
          0.9595162392093528,
          0.9550375173947985,
          0.9338540650578828,
          0.9463602505059265,
          0.9362615038977625,
          0.9284901554751077,
          0.942416728397561,
          0.9545240713105825,
          0.9279424605070887,
          0.9153218031975858,
          0.8974718912936995,
          0.8980888844080023,
          0.902302033657051,
          0.9264024300242147,
          0.9292098825288558
         ]
        }
       ],
       "layout": {
        "annotations": [
         {
          "font": {
           "color": "red"
          },
          "showarrow": false,
          "text": "Classical O-H length",
          "x": 0.9419,
          "xanchor": "left",
          "xref": "x",
          "y": 0,
          "yanchor": "bottom",
          "yref": "y domain"
         },
         {
          "font": {
           "color": "blue"
          },
          "showarrow": false,
          "text": "Quantum average",
          "x": 0.940927636522044,
          "xanchor": "right",
          "xref": "x",
          "y": 1,
          "yanchor": "top",
          "yref": "y domain"
         }
        ],
        "font": {
         "size": 12
        },
        "height": 600,
        "hovermode": "closest",
        "margin": {
         "b": 50,
         "l": 50,
         "r": 50,
         "t": 50
        },
        "plot_bgcolor": "white",
        "shapes": [
         {
          "line": {
           "color": "red",
           "dash": "dash"
          },
          "type": "line",
          "x0": 0.9419,
          "x1": 0.9419,
          "xref": "x",
          "y0": 0,
          "y1": 1,
          "yref": "y domain"
         },
         {
          "line": {
           "color": "blue",
           "dash": "dash"
          },
          "type": "line",
          "x0": 0.940927636522044,
          "x1": 0.940927636522044,
          "xref": "x",
          "y0": 0,
          "y1": 1,
          "yref": "y domain"
         }
        ],
        "template": {
         "data": {
          "bar": [
           {
            "error_x": {
             "color": "#2a3f5f"
            },
            "error_y": {
             "color": "#2a3f5f"
            },
            "marker": {
             "line": {
              "color": "#E5ECF6",
              "width": 0.5
             },
             "pattern": {
              "fillmode": "overlay",
              "size": 10,
              "solidity": 0.2
             }
            },
            "type": "bar"
           }
          ],
          "barpolar": [
           {
            "marker": {
             "line": {
              "color": "#E5ECF6",
              "width": 0.5
             },
             "pattern": {
              "fillmode": "overlay",
              "size": 10,
              "solidity": 0.2
             }
            },
            "type": "barpolar"
           }
          ],
          "carpet": [
           {
            "aaxis": {
             "endlinecolor": "#2a3f5f",
             "gridcolor": "white",
             "linecolor": "white",
             "minorgridcolor": "white",
             "startlinecolor": "#2a3f5f"
            },
            "baxis": {
             "endlinecolor": "#2a3f5f",
             "gridcolor": "white",
             "linecolor": "white",
             "minorgridcolor": "white",
             "startlinecolor": "#2a3f5f"
            },
            "type": "carpet"
           }
          ],
          "choropleth": [
           {
            "colorbar": {
             "outlinewidth": 0,
             "ticks": ""
            },
            "type": "choropleth"
           }
          ],
          "contour": [
           {
            "colorbar": {
             "outlinewidth": 0,
             "ticks": ""
            },
            "colorscale": [
             [
              0,
              "#0d0887"
             ],
             [
              0.1111111111111111,
              "#46039f"
             ],
             [
              0.2222222222222222,
              "#7201a8"
             ],
             [
              0.3333333333333333,
              "#9c179e"
             ],
             [
              0.4444444444444444,
              "#bd3786"
             ],
             [
              0.5555555555555556,
              "#d8576b"
             ],
             [
              0.6666666666666666,
              "#ed7953"
             ],
             [
              0.7777777777777778,
              "#fb9f3a"
             ],
             [
              0.8888888888888888,
              "#fdca26"
             ],
             [
              1,
              "#f0f921"
             ]
            ],
            "type": "contour"
           }
          ],
          "contourcarpet": [
           {
            "colorbar": {
             "outlinewidth": 0,
             "ticks": ""
            },
            "type": "contourcarpet"
           }
          ],
          "heatmap": [
           {
            "colorbar": {
             "outlinewidth": 0,
             "ticks": ""
            },
            "colorscale": [
             [
              0,
              "#0d0887"
             ],
             [
              0.1111111111111111,
              "#46039f"
             ],
             [
              0.2222222222222222,
              "#7201a8"
             ],
             [
              0.3333333333333333,
              "#9c179e"
             ],
             [
              0.4444444444444444,
              "#bd3786"
             ],
             [
              0.5555555555555556,
              "#d8576b"
             ],
             [
              0.6666666666666666,
              "#ed7953"
             ],
             [
              0.7777777777777778,
              "#fb9f3a"
             ],
             [
              0.8888888888888888,
              "#fdca26"
             ],
             [
              1,
              "#f0f921"
             ]
            ],
            "type": "heatmap"
           }
          ],
          "heatmapgl": [
           {
            "colorbar": {
             "outlinewidth": 0,
             "ticks": ""
            },
            "colorscale": [
             [
              0,
              "#0d0887"
             ],
             [
              0.1111111111111111,
              "#46039f"
             ],
             [
              0.2222222222222222,
              "#7201a8"
             ],
             [
              0.3333333333333333,
              "#9c179e"
             ],
             [
              0.4444444444444444,
              "#bd3786"
             ],
             [
              0.5555555555555556,
              "#d8576b"
             ],
             [
              0.6666666666666666,
              "#ed7953"
             ],
             [
              0.7777777777777778,
              "#fb9f3a"
             ],
             [
              0.8888888888888888,
              "#fdca26"
             ],
             [
              1,
              "#f0f921"
             ]
            ],
            "type": "heatmapgl"
           }
          ],
          "histogram": [
           {
            "marker": {
             "pattern": {
              "fillmode": "overlay",
              "size": 10,
              "solidity": 0.2
             }
            },
            "type": "histogram"
           }
          ],
          "histogram2d": [
           {
            "colorbar": {
             "outlinewidth": 0,
             "ticks": ""
            },
            "colorscale": [
             [
              0,
              "#0d0887"
             ],
             [
              0.1111111111111111,
              "#46039f"
             ],
             [
              0.2222222222222222,
              "#7201a8"
             ],
             [
              0.3333333333333333,
              "#9c179e"
             ],
             [
              0.4444444444444444,
              "#bd3786"
             ],
             [
              0.5555555555555556,
              "#d8576b"
             ],
             [
              0.6666666666666666,
              "#ed7953"
             ],
             [
              0.7777777777777778,
              "#fb9f3a"
             ],
             [
              0.8888888888888888,
              "#fdca26"
             ],
             [
              1,
              "#f0f921"
             ]
            ],
            "type": "histogram2d"
           }
          ],
          "histogram2dcontour": [
           {
            "colorbar": {
             "outlinewidth": 0,
             "ticks": ""
            },
            "colorscale": [
             [
              0,
              "#0d0887"
             ],
             [
              0.1111111111111111,
              "#46039f"
             ],
             [
              0.2222222222222222,
              "#7201a8"
             ],
             [
              0.3333333333333333,
              "#9c179e"
             ],
             [
              0.4444444444444444,
              "#bd3786"
             ],
             [
              0.5555555555555556,
              "#d8576b"
             ],
             [
              0.6666666666666666,
              "#ed7953"
             ],
             [
              0.7777777777777778,
              "#fb9f3a"
             ],
             [
              0.8888888888888888,
              "#fdca26"
             ],
             [
              1,
              "#f0f921"
             ]
            ],
            "type": "histogram2dcontour"
           }
          ],
          "mesh3d": [
           {
            "colorbar": {
             "outlinewidth": 0,
             "ticks": ""
            },
            "type": "mesh3d"
           }
          ],
          "parcoords": [
           {
            "line": {
             "colorbar": {
              "outlinewidth": 0,
              "ticks": ""
             }
            },
            "type": "parcoords"
           }
          ],
          "pie": [
           {
            "automargin": true,
            "type": "pie"
           }
          ],
          "scatter": [
           {
            "fillpattern": {
             "fillmode": "overlay",
             "size": 10,
             "solidity": 0.2
            },
            "type": "scatter"
           }
          ],
          "scatter3d": [
           {
            "line": {
             "colorbar": {
              "outlinewidth": 0,
              "ticks": ""
             }
            },
            "marker": {
             "colorbar": {
              "outlinewidth": 0,
              "ticks": ""
             }
            },
            "type": "scatter3d"
           }
          ],
          "scattercarpet": [
           {
            "marker": {
             "colorbar": {
              "outlinewidth": 0,
              "ticks": ""
             }
            },
            "type": "scattercarpet"
           }
          ],
          "scattergeo": [
           {
            "marker": {
             "colorbar": {
              "outlinewidth": 0,
              "ticks": ""
             }
            },
            "type": "scattergeo"
           }
          ],
          "scattergl": [
           {
            "marker": {
             "colorbar": {
              "outlinewidth": 0,
              "ticks": ""
             }
            },
            "type": "scattergl"
           }
          ],
          "scattermapbox": [
           {
            "marker": {
             "colorbar": {
              "outlinewidth": 0,
              "ticks": ""
             }
            },
            "type": "scattermapbox"
           }
          ],
          "scatterpolar": [
           {
            "marker": {
             "colorbar": {
              "outlinewidth": 0,
              "ticks": ""
             }
            },
            "type": "scatterpolar"
           }
          ],
          "scatterpolargl": [
           {
            "marker": {
             "colorbar": {
              "outlinewidth": 0,
              "ticks": ""
             }
            },
            "type": "scatterpolargl"
           }
          ],
          "scatterternary": [
           {
            "marker": {
             "colorbar": {
              "outlinewidth": 0,
              "ticks": ""
             }
            },
            "type": "scatterternary"
           }
          ],
          "surface": [
           {
            "colorbar": {
             "outlinewidth": 0,
             "ticks": ""
            },
            "colorscale": [
             [
              0,
              "#0d0887"
             ],
             [
              0.1111111111111111,
              "#46039f"
             ],
             [
              0.2222222222222222,
              "#7201a8"
             ],
             [
              0.3333333333333333,
              "#9c179e"
             ],
             [
              0.4444444444444444,
              "#bd3786"
             ],
             [
              0.5555555555555556,
              "#d8576b"
             ],
             [
              0.6666666666666666,
              "#ed7953"
             ],
             [
              0.7777777777777778,
              "#fb9f3a"
             ],
             [
              0.8888888888888888,
              "#fdca26"
             ],
             [
              1,
              "#f0f921"
             ]
            ],
            "type": "surface"
           }
          ],
          "table": [
           {
            "cells": {
             "fill": {
              "color": "#EBF0F8"
             },
             "line": {
              "color": "white"
             }
            },
            "header": {
             "fill": {
              "color": "#C8D4E3"
             },
             "line": {
              "color": "white"
             }
            },
            "type": "table"
           }
          ]
         },
         "layout": {
          "annotationdefaults": {
           "arrowcolor": "#2a3f5f",
           "arrowhead": 0,
           "arrowwidth": 1
          },
          "autotypenumbers": "strict",
          "coloraxis": {
           "colorbar": {
            "outlinewidth": 0,
            "ticks": ""
           }
          },
          "colorscale": {
           "diverging": [
            [
             0,
             "#8e0152"
            ],
            [
             0.1,
             "#c51b7d"
            ],
            [
             0.2,
             "#de77ae"
            ],
            [
             0.3,
             "#f1b6da"
            ],
            [
             0.4,
             "#fde0ef"
            ],
            [
             0.5,
             "#f7f7f7"
            ],
            [
             0.6,
             "#e6f5d0"
            ],
            [
             0.7,
             "#b8e186"
            ],
            [
             0.8,
             "#7fbc41"
            ],
            [
             0.9,
             "#4d9221"
            ],
            [
             1,
             "#276419"
            ]
           ],
           "sequential": [
            [
             0,
             "#0d0887"
            ],
            [
             0.1111111111111111,
             "#46039f"
            ],
            [
             0.2222222222222222,
             "#7201a8"
            ],
            [
             0.3333333333333333,
             "#9c179e"
            ],
            [
             0.4444444444444444,
             "#bd3786"
            ],
            [
             0.5555555555555556,
             "#d8576b"
            ],
            [
             0.6666666666666666,
             "#ed7953"
            ],
            [
             0.7777777777777778,
             "#fb9f3a"
            ],
            [
             0.8888888888888888,
             "#fdca26"
            ],
            [
             1,
             "#f0f921"
            ]
           ],
           "sequentialminus": [
            [
             0,
             "#0d0887"
            ],
            [
             0.1111111111111111,
             "#46039f"
            ],
            [
             0.2222222222222222,
             "#7201a8"
            ],
            [
             0.3333333333333333,
             "#9c179e"
            ],
            [
             0.4444444444444444,
             "#bd3786"
            ],
            [
             0.5555555555555556,
             "#d8576b"
            ],
            [
             0.6666666666666666,
             "#ed7953"
            ],
            [
             0.7777777777777778,
             "#fb9f3a"
            ],
            [
             0.8888888888888888,
             "#fdca26"
            ],
            [
             1,
             "#f0f921"
            ]
           ]
          },
          "colorway": [
           "#636efa",
           "#EF553B",
           "#00cc96",
           "#ab63fa",
           "#FFA15A",
           "#19d3f3",
           "#FF6692",
           "#B6E880",
           "#FF97FF",
           "#FECB52"
          ],
          "font": {
           "color": "#2a3f5f"
          },
          "geo": {
           "bgcolor": "white",
           "lakecolor": "white",
           "landcolor": "#E5ECF6",
           "showlakes": true,
           "showland": true,
           "subunitcolor": "white"
          },
          "hoverlabel": {
           "align": "left"
          },
          "hovermode": "closest",
          "mapbox": {
           "style": "light"
          },
          "paper_bgcolor": "white",
          "plot_bgcolor": "#E5ECF6",
          "polar": {
           "angularaxis": {
            "gridcolor": "white",
            "linecolor": "white",
            "ticks": ""
           },
           "bgcolor": "#E5ECF6",
           "radialaxis": {
            "gridcolor": "white",
            "linecolor": "white",
            "ticks": ""
           }
          },
          "scene": {
           "xaxis": {
            "backgroundcolor": "#E5ECF6",
            "gridcolor": "white",
            "gridwidth": 2,
            "linecolor": "white",
            "showbackground": true,
            "ticks": "",
            "zerolinecolor": "white"
           },
           "yaxis": {
            "backgroundcolor": "#E5ECF6",
            "gridcolor": "white",
            "gridwidth": 2,
            "linecolor": "white",
            "showbackground": true,
            "ticks": "",
            "zerolinecolor": "white"
           },
           "zaxis": {
            "backgroundcolor": "#E5ECF6",
            "gridcolor": "white",
            "gridwidth": 2,
            "linecolor": "white",
            "showbackground": true,
            "ticks": "",
            "zerolinecolor": "white"
           }
          },
          "shapedefaults": {
           "line": {
            "color": "#2a3f5f"
           }
          },
          "ternary": {
           "aaxis": {
            "gridcolor": "white",
            "linecolor": "white",
            "ticks": ""
           },
           "baxis": {
            "gridcolor": "white",
            "linecolor": "white",
            "ticks": ""
           },
           "bgcolor": "#E5ECF6",
           "caxis": {
            "gridcolor": "white",
            "linecolor": "white",
            "ticks": ""
           }
          },
          "title": {
           "x": 0.05
          },
          "xaxis": {
           "automargin": true,
           "gridcolor": "white",
           "linecolor": "white",
           "ticks": "",
           "title": {
            "standoff": 15
           },
           "zerolinecolor": "white",
           "zerolinewidth": 2
          },
          "yaxis": {
           "automargin": true,
           "gridcolor": "white",
           "linecolor": "white",
           "ticks": "",
           "title": {
            "standoff": 15
           },
           "zerolinecolor": "white",
           "zerolinewidth": 2
          }
         }
        },
        "title": {
         "font": {
          "size": 20
         },
         "text": "O-H Bond Length Distribution",
         "x": 0.5,
         "xanchor": "center",
         "y": 0.98,
         "yanchor": "top"
        },
        "width": 600,
        "xaxis": {
         "gridcolor": "LightGray",
         "gridwidth": 1,
         "showgrid": true,
         "title": {
          "text": "Bond Length (Å)"
         }
        },
        "yaxis": {
         "gridcolor": "LightGray",
         "gridwidth": 1,
         "showgrid": true,
         "title": {
          "text": "Probability Density"
         }
        }
       }
      },
      "text/html": [
       "<div>                            <div id=\"f5786bee-31d3-4565-a056-5267a0dc51b1\" class=\"plotly-graph-div\" style=\"height:600px; width:600px;\"></div>            <script type=\"text/javascript\">                require([\"plotly\"], function(Plotly) {                    window.PLOTLYENV=window.PLOTLYENV || {};                                    if (document.getElementById(\"f5786bee-31d3-4565-a056-5267a0dc51b1\")) {                    Plotly.newPlot(                        \"f5786bee-31d3-4565-a056-5267a0dc51b1\",                        [{\"histnorm\":\"probability density\",\"hovertemplate\":\"Bond Length: %{x:.3f} \\u00c5\\u003cbr\\u003eDensity: %{y:.3f}\\u003cextra\\u003e\\u003c\\u002fextra\\u003e\",\"name\":\"O-H bonds\",\"nbinsx\":50,\"x\":[0.506952,1.058862683631702,1.1065037658505155,1.0889670075862583,1.0857188297942955,1.0426602356294499,1.0079162852302863,0.9976679777700175,0.9524606823164724,0.9017696511886891,0.9203913048348402,0.9192189304602032,0.9382995676107337,0.9442789901416793,0.9592367955358154,0.9719772180045965,0.96482973540779,0.9627283558073743,0.9690882553885429,0.9521932282830045,0.9008221268674133,0.9230567520898848,0.9255772801860049,0.9417176669118622,0.9477879673731092,0.9180215471491016,0.9064973072546935,0.9409222542888942,0.9867912321491816,0.9975911544993219,0.9688175232284096,0.9323367690714833,0.9252293692938485,0.9573654281118522,0.9258423669519708,0.9257123088091354,0.9531446404178119,0.9940218340572302,0.9755827483329679,0.9385880056789807,0.9201639613868497,0.917066837610629,0.950255973219069,0.9402300658531879,0.9543894547790488,0.9349116559320244,0.9210188786228597,0.9444054907945951,0.9467933395705633,0.9379659876999059,0.9219034307632551,0.9187979446534315,0.9279632205200269,0.9512151966335851,0.9706296443779416,0.9573961305196143,0.9679571450338387,0.9732095817329308,0.9588495258825454,0.941420484829011,0.9534645604778239,0.9701573177856465,0.9544190455213789,0.9267533257960341,0.9372463519287232,0.9634369531228757,0.9501175171562463,0.9526036751248234,0.9288391903759607,0.8989672485784841,0.9291568423711575,0.9500897703256467,0.9483433163729948,0.8969173182947745,0.9018387937795382,0.9160642830638093,0.921323140296118,0.9466037590681805,0.9836891372802792,0.9979977867053677,0.9442544642701246,0.9320412121802178,0.9174940524530336,0.8987967302732137,0.9059721210126984,0.9312362639426258,0.9442991458605795,0.9161904298270871,0.9240020141611099,0.9097440949276631,0.9104506917924124,0.9458075997592167,0.9573899133416541,0.972156428179236,0.9284536455372189,0.9118356088245896,0.9365622470422462,0.9718989270420304,0.9685636349968704,0.9393068613207517,0.9263263598526925,0.506952,1.0739874989638658,0.9403026728685344,0.9386256903271093,1.032218462734987,1.0026375828650251,0.9568020681455177,0.9701657707528595,0.9368378481703663,0.9085245337422128,0.9213102300956767,0.940873432059302,0.9735920993656481,0.9593178510196487,0.9270052266570993,0.9230567637455565,0.9519344828354018,0.9545886521282085,0.9228412587040796,0.902747804388457,0.8932363861288959,0.9412275857013223,0.957022007918832,0.9439570448387854,0.9548365459554897,0.9694784043248514,0.9656052345652388,0.9781406763601779,0.9313834989021708,0.9271322760581955,0.8920661488336726,0.8721419438688142,0.8762067937435549,0.9044896771275245,0.9432332718621245,0.9165930652673138,0.9058128110576251,0.9245268966184523,0.928779234804294,0.9333071041818604,0.961150951413788,0.9590541116543001,0.9661961254387744,0.9873847254927846,0.9653111727181499,0.9461348494226072,0.9309515977030062,0.9260257883767217,0.9456015045481785,0.9622100932215063,0.9439977181188342,0.9324851228526491,0.9632440244534144,0.9519912105981998,0.9285373198472638,0.93071378666479,0.9536763553565696,0.9663563993468662,0.9358855122422078,0.9438354603841709,0.940000453722397,0.9469970038903925,0.9472267629965446,0.951075181392833,0.9332195719857102,0.9473987743953822,0.9678576055993455,0.9495822393146315,0.926306391826684,0.8932701279713657,0.9142957547008626,0.9423047159443327,0.9638729536265493,0.9714307703688102,0.9531861612258123,0.9447206526018789,0.9632337941134437,0.9427707951525334,0.9822798474036765,0.9519714037394874,0.9322496033425651,0.9305357551678549,0.9341615316849062,0.9180934992040026,0.9330614714935498,0.9375727236031187,0.9102422560809073,0.9092610549998389,0.9462160035808064,0.9267885353304928,0.9276711299841662,0.9633074910848509,0.934917465567588,0.9405059521579489,0.9702442126295575,0.9461687832001644,0.9224977426415145,0.9546629407623405,0.9336281645290055,0.926299334445286,0.9211172166789089,0.506588372288587,1.0896035872344998,1.060841133340381,1.0764366835567107,1.0510622497425137,1.009561277380853,0.9434390724426353,0.9337867752775985,0.8794776622332371,0.91381226884086,0.9348889492133813,0.9447289707271446,0.9741187233673778,0.9711172280254889,0.94429742139721,0.9254078954282241,0.9139409166882541,0.9335233901219454,0.9380773699817142,0.96592733682716,0.9529923644535301,0.944097067616761,0.9289387116732688,0.9372885429803678,0.9367240927835955,0.9132476314308787,0.9551634128050341,0.9692845098064007,0.9812385725105286,0.9908900310747858,0.9769445737789888,0.9642902209227896,0.9786694679912072,0.9976456119026386,0.9772983081169984,0.9455712365775197,0.9220438878746283,0.9282121525655481,0.9894258867108474,0.9565420930798887,0.9293275888027538,0.9350162085313601,0.9152548088740807,0.9333376320089585,0.977090443576663,0.9561042577141103,0.9458209884303636,0.9590646909014688,0.947109405500748,0.9622962926352259,0.9688688620252434,0.9634299862380503,0.9318512244464885,0.9121818242347542,0.9231925849665595,0.9197847554009428,0.9250878598273896,0.9324796553237408,0.9156135218521336,0.8907955055740291,0.9404240120834697,0.9447690661115904,0.9437024333953685,0.9289681422121052,0.9307252839369413,0.9705949092619897,0.9731761291145298,0.9493412154297578,0.9344552660613937,0.9033087505969207,0.9234892732382657,0.9433337973807787,0.9687970807109505,0.9570873030958723,0.9272583305521405,0.9192962459654923,0.9210300689167418,0.9469929048629245,0.9367190091596412,0.9467267168736816,0.9299063882633886,0.8921728094103574,0.9037245309326288,0.9255493423702595,0.9387971311020542,0.970461216674345,0.9765335999796115,0.9746425876416659,0.9584078147286613,0.9570392808826673,0.9327269627954126,0.9320962345734372,0.9330830168055467,0.9580842004440998,0.9744222957276746,0.9692198173595657,0.9726848387716454,0.9801991739403222,0.9878826398022849,0.9381896336503415,0.9347395611712656,0.506588372288587,1.006264719567202,1.0964119609567793,0.9236326661384072,0.930695680335726,0.9391038520446076,0.938828969426322,0.9682406179399261,0.9030603281931293,0.88479679305097,0.9189149174210957,0.9418992964148822,0.9513680914154888,0.9651519112272517,0.9504992943922526,0.967436425202845,0.9646668177188868,0.968074508064183,0.9687566077952346,0.9454808811111834,0.9251588276119836,0.9378405437807326,0.9616280059646728,0.9435467199980045,0.9431638769032719,0.9434169860344629,0.9192473269992303,0.8971700810792009,0.8901636093412547,0.9294178607999148,0.9017909676891536,0.9048108637426887,0.9150570385759789,0.9472124798770956,0.9473773623134809,0.9388478953278481,0.9348593756173257,0.9158221445775192,0.9323044666727978,0.9334687572542212,0.9110467755236447,0.899363896228923,0.8885495270271095,0.8872745620641325,0.9014919936558561,0.9066804478028901,0.9157682614418672,0.9256884775403381,0.9313783547005368,0.9259816023731196,0.9259154367236005,0.9231135993951017,0.9194511504777237,0.917717261699989,0.9275563821351456,0.9599768655398225,0.9590427728835612,0.9579935696899953,0.9441990816296423,0.9508238878052023,0.9517327443544958,0.923684874508471,0.9183485161090706,0.9173892243349112,0.9285913242051489,0.9401006903965833,0.9598365269096288,0.969835574363299,0.956148501065483,0.9607782603354585,0.9718513092016804,0.985538761985473,1.0053565292597835,0.9586744275345723,0.9367393631566004,0.9080292207033428,0.903024261788785,0.938923497508535,0.9715669546555143,0.9581976351661122,0.9600868404653664,0.9887232718681653,0.9705621261702364,0.9771686142633982,0.9593294722722577,0.9575924233100271,0.9595162392093528,0.9550375173947985,0.9338540650578828,0.9463602505059265,0.9362615038977625,0.9284901554751077,0.942416728397561,0.9545240713105825,0.9279424605070887,0.9153218031975858,0.8974718912936995,0.8980888844080023,0.902302033657051,0.9264024300242147,0.9292098825288558],\"type\":\"histogram\"}],                        {\"template\":{\"data\":{\"histogram2dcontour\":[{\"type\":\"histogram2dcontour\",\"colorbar\":{\"outlinewidth\":0,\"ticks\":\"\"},\"colorscale\":[[0.0,\"#0d0887\"],[0.1111111111111111,\"#46039f\"],[0.2222222222222222,\"#7201a8\"],[0.3333333333333333,\"#9c179e\"],[0.4444444444444444,\"#bd3786\"],[0.5555555555555556,\"#d8576b\"],[0.6666666666666666,\"#ed7953\"],[0.7777777777777778,\"#fb9f3a\"],[0.8888888888888888,\"#fdca26\"],[1.0,\"#f0f921\"]]}],\"choropleth\":[{\"type\":\"choropleth\",\"colorbar\":{\"outlinewidth\":0,\"ticks\":\"\"}}],\"histogram2d\":[{\"type\":\"histogram2d\",\"colorbar\":{\"outlinewidth\":0,\"ticks\":\"\"},\"colorscale\":[[0.0,\"#0d0887\"],[0.1111111111111111,\"#46039f\"],[0.2222222222222222,\"#7201a8\"],[0.3333333333333333,\"#9c179e\"],[0.4444444444444444,\"#bd3786\"],[0.5555555555555556,\"#d8576b\"],[0.6666666666666666,\"#ed7953\"],[0.7777777777777778,\"#fb9f3a\"],[0.8888888888888888,\"#fdca26\"],[1.0,\"#f0f921\"]]}],\"heatmap\":[{\"type\":\"heatmap\",\"colorbar\":{\"outlinewidth\":0,\"ticks\":\"\"},\"colorscale\":[[0.0,\"#0d0887\"],[0.1111111111111111,\"#46039f\"],[0.2222222222222222,\"#7201a8\"],[0.3333333333333333,\"#9c179e\"],[0.4444444444444444,\"#bd3786\"],[0.5555555555555556,\"#d8576b\"],[0.6666666666666666,\"#ed7953\"],[0.7777777777777778,\"#fb9f3a\"],[0.8888888888888888,\"#fdca26\"],[1.0,\"#f0f921\"]]}],\"heatmapgl\":[{\"type\":\"heatmapgl\",\"colorbar\":{\"outlinewidth\":0,\"ticks\":\"\"},\"colorscale\":[[0.0,\"#0d0887\"],[0.1111111111111111,\"#46039f\"],[0.2222222222222222,\"#7201a8\"],[0.3333333333333333,\"#9c179e\"],[0.4444444444444444,\"#bd3786\"],[0.5555555555555556,\"#d8576b\"],[0.6666666666666666,\"#ed7953\"],[0.7777777777777778,\"#fb9f3a\"],[0.8888888888888888,\"#fdca26\"],[1.0,\"#f0f921\"]]}],\"contourcarpet\":[{\"type\":\"contourcarpet\",\"colorbar\":{\"outlinewidth\":0,\"ticks\":\"\"}}],\"contour\":[{\"type\":\"contour\",\"colorbar\":{\"outlinewidth\":0,\"ticks\":\"\"},\"colorscale\":[[0.0,\"#0d0887\"],[0.1111111111111111,\"#46039f\"],[0.2222222222222222,\"#7201a8\"],[0.3333333333333333,\"#9c179e\"],[0.4444444444444444,\"#bd3786\"],[0.5555555555555556,\"#d8576b\"],[0.6666666666666666,\"#ed7953\"],[0.7777777777777778,\"#fb9f3a\"],[0.8888888888888888,\"#fdca26\"],[1.0,\"#f0f921\"]]}],\"surface\":[{\"type\":\"surface\",\"colorbar\":{\"outlinewidth\":0,\"ticks\":\"\"},\"colorscale\":[[0.0,\"#0d0887\"],[0.1111111111111111,\"#46039f\"],[0.2222222222222222,\"#7201a8\"],[0.3333333333333333,\"#9c179e\"],[0.4444444444444444,\"#bd3786\"],[0.5555555555555556,\"#d8576b\"],[0.6666666666666666,\"#ed7953\"],[0.7777777777777778,\"#fb9f3a\"],[0.8888888888888888,\"#fdca26\"],[1.0,\"#f0f921\"]]}],\"mesh3d\":[{\"type\":\"mesh3d\",\"colorbar\":{\"outlinewidth\":0,\"ticks\":\"\"}}],\"scatter\":[{\"fillpattern\":{\"fillmode\":\"overlay\",\"size\":10,\"solidity\":0.2},\"type\":\"scatter\"}],\"parcoords\":[{\"type\":\"parcoords\",\"line\":{\"colorbar\":{\"outlinewidth\":0,\"ticks\":\"\"}}}],\"scatterpolargl\":[{\"type\":\"scatterpolargl\",\"marker\":{\"colorbar\":{\"outlinewidth\":0,\"ticks\":\"\"}}}],\"bar\":[{\"error_x\":{\"color\":\"#2a3f5f\"},\"error_y\":{\"color\":\"#2a3f5f\"},\"marker\":{\"line\":{\"color\":\"#E5ECF6\",\"width\":0.5},\"pattern\":{\"fillmode\":\"overlay\",\"size\":10,\"solidity\":0.2}},\"type\":\"bar\"}],\"scattergeo\":[{\"type\":\"scattergeo\",\"marker\":{\"colorbar\":{\"outlinewidth\":0,\"ticks\":\"\"}}}],\"scatterpolar\":[{\"type\":\"scatterpolar\",\"marker\":{\"colorbar\":{\"outlinewidth\":0,\"ticks\":\"\"}}}],\"histogram\":[{\"marker\":{\"pattern\":{\"fillmode\":\"overlay\",\"size\":10,\"solidity\":0.2}},\"type\":\"histogram\"}],\"scattergl\":[{\"type\":\"scattergl\",\"marker\":{\"colorbar\":{\"outlinewidth\":0,\"ticks\":\"\"}}}],\"scatter3d\":[{\"type\":\"scatter3d\",\"line\":{\"colorbar\":{\"outlinewidth\":0,\"ticks\":\"\"}},\"marker\":{\"colorbar\":{\"outlinewidth\":0,\"ticks\":\"\"}}}],\"scattermapbox\":[{\"type\":\"scattermapbox\",\"marker\":{\"colorbar\":{\"outlinewidth\":0,\"ticks\":\"\"}}}],\"scatterternary\":[{\"type\":\"scatterternary\",\"marker\":{\"colorbar\":{\"outlinewidth\":0,\"ticks\":\"\"}}}],\"scattercarpet\":[{\"type\":\"scattercarpet\",\"marker\":{\"colorbar\":{\"outlinewidth\":0,\"ticks\":\"\"}}}],\"carpet\":[{\"aaxis\":{\"endlinecolor\":\"#2a3f5f\",\"gridcolor\":\"white\",\"linecolor\":\"white\",\"minorgridcolor\":\"white\",\"startlinecolor\":\"#2a3f5f\"},\"baxis\":{\"endlinecolor\":\"#2a3f5f\",\"gridcolor\":\"white\",\"linecolor\":\"white\",\"minorgridcolor\":\"white\",\"startlinecolor\":\"#2a3f5f\"},\"type\":\"carpet\"}],\"table\":[{\"cells\":{\"fill\":{\"color\":\"#EBF0F8\"},\"line\":{\"color\":\"white\"}},\"header\":{\"fill\":{\"color\":\"#C8D4E3\"},\"line\":{\"color\":\"white\"}},\"type\":\"table\"}],\"barpolar\":[{\"marker\":{\"line\":{\"color\":\"#E5ECF6\",\"width\":0.5},\"pattern\":{\"fillmode\":\"overlay\",\"size\":10,\"solidity\":0.2}},\"type\":\"barpolar\"}],\"pie\":[{\"automargin\":true,\"type\":\"pie\"}]},\"layout\":{\"autotypenumbers\":\"strict\",\"colorway\":[\"#636efa\",\"#EF553B\",\"#00cc96\",\"#ab63fa\",\"#FFA15A\",\"#19d3f3\",\"#FF6692\",\"#B6E880\",\"#FF97FF\",\"#FECB52\"],\"font\":{\"color\":\"#2a3f5f\"},\"hovermode\":\"closest\",\"hoverlabel\":{\"align\":\"left\"},\"paper_bgcolor\":\"white\",\"plot_bgcolor\":\"#E5ECF6\",\"polar\":{\"bgcolor\":\"#E5ECF6\",\"angularaxis\":{\"gridcolor\":\"white\",\"linecolor\":\"white\",\"ticks\":\"\"},\"radialaxis\":{\"gridcolor\":\"white\",\"linecolor\":\"white\",\"ticks\":\"\"}},\"ternary\":{\"bgcolor\":\"#E5ECF6\",\"aaxis\":{\"gridcolor\":\"white\",\"linecolor\":\"white\",\"ticks\":\"\"},\"baxis\":{\"gridcolor\":\"white\",\"linecolor\":\"white\",\"ticks\":\"\"},\"caxis\":{\"gridcolor\":\"white\",\"linecolor\":\"white\",\"ticks\":\"\"}},\"coloraxis\":{\"colorbar\":{\"outlinewidth\":0,\"ticks\":\"\"}},\"colorscale\":{\"sequential\":[[0.0,\"#0d0887\"],[0.1111111111111111,\"#46039f\"],[0.2222222222222222,\"#7201a8\"],[0.3333333333333333,\"#9c179e\"],[0.4444444444444444,\"#bd3786\"],[0.5555555555555556,\"#d8576b\"],[0.6666666666666666,\"#ed7953\"],[0.7777777777777778,\"#fb9f3a\"],[0.8888888888888888,\"#fdca26\"],[1.0,\"#f0f921\"]],\"sequentialminus\":[[0.0,\"#0d0887\"],[0.1111111111111111,\"#46039f\"],[0.2222222222222222,\"#7201a8\"],[0.3333333333333333,\"#9c179e\"],[0.4444444444444444,\"#bd3786\"],[0.5555555555555556,\"#d8576b\"],[0.6666666666666666,\"#ed7953\"],[0.7777777777777778,\"#fb9f3a\"],[0.8888888888888888,\"#fdca26\"],[1.0,\"#f0f921\"]],\"diverging\":[[0,\"#8e0152\"],[0.1,\"#c51b7d\"],[0.2,\"#de77ae\"],[0.3,\"#f1b6da\"],[0.4,\"#fde0ef\"],[0.5,\"#f7f7f7\"],[0.6,\"#e6f5d0\"],[0.7,\"#b8e186\"],[0.8,\"#7fbc41\"],[0.9,\"#4d9221\"],[1,\"#276419\"]]},\"xaxis\":{\"gridcolor\":\"white\",\"linecolor\":\"white\",\"ticks\":\"\",\"title\":{\"standoff\":15},\"zerolinecolor\":\"white\",\"automargin\":true,\"zerolinewidth\":2},\"yaxis\":{\"gridcolor\":\"white\",\"linecolor\":\"white\",\"ticks\":\"\",\"title\":{\"standoff\":15},\"zerolinecolor\":\"white\",\"automargin\":true,\"zerolinewidth\":2},\"scene\":{\"xaxis\":{\"backgroundcolor\":\"#E5ECF6\",\"gridcolor\":\"white\",\"linecolor\":\"white\",\"showbackground\":true,\"ticks\":\"\",\"zerolinecolor\":\"white\",\"gridwidth\":2},\"yaxis\":{\"backgroundcolor\":\"#E5ECF6\",\"gridcolor\":\"white\",\"linecolor\":\"white\",\"showbackground\":true,\"ticks\":\"\",\"zerolinecolor\":\"white\",\"gridwidth\":2},\"zaxis\":{\"backgroundcolor\":\"#E5ECF6\",\"gridcolor\":\"white\",\"linecolor\":\"white\",\"showbackground\":true,\"ticks\":\"\",\"zerolinecolor\":\"white\",\"gridwidth\":2}},\"shapedefaults\":{\"line\":{\"color\":\"#2a3f5f\"}},\"annotationdefaults\":{\"arrowcolor\":\"#2a3f5f\",\"arrowhead\":0,\"arrowwidth\":1},\"geo\":{\"bgcolor\":\"white\",\"landcolor\":\"#E5ECF6\",\"subunitcolor\":\"white\",\"showland\":true,\"showlakes\":true,\"lakecolor\":\"white\"},\"title\":{\"x\":0.05},\"mapbox\":{\"style\":\"light\"}}},\"shapes\":[{\"line\":{\"color\":\"red\",\"dash\":\"dash\"},\"type\":\"line\",\"x0\":0.9419,\"x1\":0.9419,\"xref\":\"x\",\"y0\":0,\"y1\":1,\"yref\":\"y domain\"},{\"line\":{\"color\":\"blue\",\"dash\":\"dash\"},\"type\":\"line\",\"x0\":0.940927636522044,\"x1\":0.940927636522044,\"xref\":\"x\",\"y0\":0,\"y1\":1,\"yref\":\"y domain\"}],\"annotations\":[{\"font\":{\"color\":\"red\"},\"showarrow\":false,\"text\":\"Classical O-H length\",\"x\":0.9419,\"xanchor\":\"left\",\"xref\":\"x\",\"y\":0,\"yanchor\":\"bottom\",\"yref\":\"y domain\"},{\"font\":{\"color\":\"blue\"},\"showarrow\":false,\"text\":\"Quantum average\",\"x\":0.940927636522044,\"xanchor\":\"right\",\"xref\":\"x\",\"y\":1,\"yanchor\":\"top\",\"yref\":\"y domain\"}],\"font\":{\"size\":12},\"margin\":{\"l\":50,\"r\":50,\"t\":50,\"b\":50},\"xaxis\":{\"showgrid\":true,\"gridwidth\":1,\"gridcolor\":\"LightGray\",\"title\":{\"text\":\"Bond Length (\\u00c5)\"}},\"yaxis\":{\"showgrid\":true,\"gridwidth\":1,\"gridcolor\":\"LightGray\",\"title\":{\"text\":\"Probability Density\"}},\"title\":{\"font\":{\"size\":20},\"text\":\"O-H Bond Length Distribution\",\"y\":0.98,\"x\":0.5,\"xanchor\":\"center\",\"yanchor\":\"top\"},\"width\":600,\"height\":600,\"plot_bgcolor\":\"white\",\"hovermode\":\"closest\"},                        {\"responsive\": true}                    ).then(function(){\n",
       "                            \n",
       "var gd = document.getElementById('f5786bee-31d3-4565-a056-5267a0dc51b1');\n",
       "var x = new MutationObserver(function (mutations, observer) {{\n",
       "        var display = window.getComputedStyle(gd).display;\n",
       "        if (!display || display === 'none') {{\n",
       "            console.log([gd, 'removed!']);\n",
       "            Plotly.purge(gd);\n",
       "            observer.disconnect();\n",
       "        }}\n",
       "}});\n",
       "\n",
       "// Listen for the removal of the full notebook cells\n",
       "var notebookContainer = gd.closest('#notebook-container');\n",
       "if (notebookContainer) {{\n",
       "    x.observe(notebookContainer, {childList: true});\n",
       "}}\n",
       "\n",
       "// Listen for the clearing of the current output cell\n",
       "var outputEl = gd.closest('.output');\n",
       "if (outputEl) {{\n",
       "    x.observe(outputEl, {childList: true});\n",
       "}}\n",
       "\n",
       "                        })                };                });            </script>        </div>"
      ]
     },
     "metadata": {},
     "output_type": "display_data"
    },
    {
     "name": "stdout",
     "output_type": "stream",
     "text": [
      "\n",
      "Quantum Effects on O-H Bond:\n",
      "------------------------------\n",
      "Classical length:     0.9419 Å\n",
      "Quantum average:      0.9409 Å\n",
      "Quantum elongation:   -0.0010 Å  (-0.1%)\n",
      "Distribution width:   ±0.1092 Å  (95% confidence)\n"
     ]
    }
   ],
   "source": [
    "def calculate_bond_lengths(positions):\n",
    "    \"\"\"Calculate O-H bond lengths in water molecule\"\"\"\n",
    "    oh1 = np.linalg.norm(positions[:, 1] - positions[:, 0], axis=1)\n",
    "    oh2 = np.linalg.norm(positions[:, 2] - positions[:, 0], axis=1)\n",
    "    return oh1, oh2\n",
    "\n",
    "# Calculate all O-H bond lengths\n",
    "all_oh1, all_oh2 = [], []\n",
    "for traj in trajectories:\n",
    "    oh1, oh2 = calculate_bond_lengths(traj)\n",
    "    all_oh1.extend(oh1)\n",
    "    all_oh2.extend(oh2)\n",
    "all_bonds = all_oh1 + all_oh2\n",
    "\n",
    "# Create distribution plot\n",
    "fig = go.Figure()\n",
    "fig.add_trace(\n",
    "    go.Histogram(\n",
    "        x=all_bonds,\n",
    "        nbinsx=50,\n",
    "        name='O-H bonds',\n",
    "        histnorm='probability density',\n",
    "        hovertemplate='Bond Length: %{x:.3f} Å<br>Density: %{y:.3f}<extra></extra>'\n",
    "    )\n",
    ")\n",
    "\n",
    "# Add reference lines\n",
    "classical_length = 0.9419\n",
    "mean_length = np.mean(all_bonds)\n",
    "fig.add_vline(x=classical_length, line_dash=\"dash\", line_color=\"red\",\n",
    "              annotation_text=\"Classical O-H length\", annotation_position=\"bottom right\",\n",
    "              annotation=dict(font=dict(color=\"red\")))\n",
    "fig.add_vline(x=mean_length, line_dash=\"dash\", line_color=\"blue\",\n",
    "              annotation_text=\"Quantum average\", annotation_position=\"top left\",\n",
    "              annotation=dict(font=dict(color=\"blue\")))\n",
    "\n",
    "# Configure plot\n",
    "fig.update_layout(\n",
    "    plotly_layout,\n",
    "    title={\n",
    "        'text': 'O-H Bond Length Distribution',\n",
    "        'font': {'size': 20},\n",
    "        'y': 0.98,\n",
    "        'x': 0.5,\n",
    "        'xanchor': 'center',\n",
    "        'yanchor': 'top'\n",
    "    },\n",
    "    xaxis_title='Bond Length (Å)',\n",
    "    yaxis_title='Probability Density'\n",
    ")\n",
    "fig.show()\n",
    "\n",
    "# Analyze quantum effects\n",
    "std_length = np.std(all_bonds)\n",
    "elongation = mean_length - classical_length\n",
    "print(\"\\nQuantum Effects on O-H Bond:\")\n",
    "print(\"-\" * 30)\n",
    "print(f\"Classical length:     {classical_length:.4f} Å\")\n",
    "print(f\"Quantum average:      {mean_length:.4f} Å\")\n",
    "print(f\"Quantum elongation:   {elongation:.4f} Å  ({(elongation/classical_length)*100:.1f}%)\")\n",
    "print(f\"Distribution width:   ±{2*std_length:.4f} Å  (95% confidence)\")"
   ]
  },
  {
   "cell_type": "markdown",
   "metadata": {},
   "source": [
    "## 4. H-O-H Angle Analysis\n",
    "\n",
    "The H-O-H angle in water molecules exhibits fluctuations due to both thermal and quantum effects. Understanding these fluctuations is crucial as they influence water's properties, particularly hydrogen bonding.\n",
    "\n",
    "### Classical vs Quantum Angle Distribution:\n",
    "\n",
    "1. **Classical Fluctuations**:\n",
    "   - Thermal vibrations around equilibrium angle (107.4° for q-TIP4P/f)\n",
    "   - Bending mode energy = $\\frac{1}{2}k_θ(θ - θ_0)^2$\n",
    "   - Symmetric distribution at thermal equilibrium\n",
    "\n",
    "2. **Additional Quantum Effects**:\n",
    "   - Zero-point angular motion\n",
    "   - Coupling between bending and stretching modes\n",
    "   - All P beads contribute to the distribution\n",
    "\n",
    "### Angle Calculation Method:\n",
    "For each frame ($t$) and bead ($i$), we calculate:\n",
    "\n",
    "1. **O-H Vectors**:\n",
    "   $\\mathbf{v}_1^{(i,t)} = \\mathbf{r}_{H1}^{(i,t)} - \\mathbf{r}_O^{(i,t)}$\n",
    "   $\\mathbf{v}_2^{(i,t)} = \\mathbf{r}_{H2}^{(i,t)} - \\mathbf{r}_O^{(i,t)}$\n",
    "\n",
    "2. **Angle via Dot Product**:\n",
    "   $\\theta^{(i,t)} = \\arccos\\left(\\frac{\\mathbf{v}_1^{(i,t)} \\cdot \\mathbf{v}_2^{(i,t)}}{|\\mathbf{v}_1^{(i,t)}||\\mathbf{v}_2^{(i,t)}|}\\right)$\n",
    "\n",
    "The distribution combines angles from:\n",
    "- All frames in trajectory\n",
    "- All beads in the ring polymer\n",
    "- Total samples = (number of frames) × (number of beads)\n",
    "\n",
    "The following cell analyzes the H-O-H angle distribution and compares it with the classical equilibrium value."
   ]
  },
  {
   "cell_type": "code",
   "execution_count": 6,
   "metadata": {},
   "outputs": [
    {
     "data": {
      "application/vnd.plotly.v1+json": {
       "config": {
        "plotlyServerURL": "https://plot.ly"
       },
       "data": [
        {
         "histnorm": "probability density",
         "hovertemplate": "Angle: %{x:.2f}°<br>Density: %{y:.3f}<extra></extra>",
         "nbinsx": 50,
         "type": "histogram",
         "x": [
          104.45717722338505,
          45.24125370874225,
          94.29131510449136,
          125.93518594503414,
          93.71166001008086,
          116.56485262956085,
          99.05523739658503,
          104.10696359281268,
          113.87019854798848,
          106.77609457081543,
          104.2750911649918,
          114.19855008113905,
          100.70292912240932,
          104.65101170041326,
          107.56967005284098,
          106.71356191201671,
          116.65111487720984,
          99.36836236730805,
          106.71165841444943,
          111.45345365569487,
          98.45084392124727,
          119.51489861445042,
          108.61010368082002,
          104.82883378816143,
          106.72914110445774,
          109.14306236508345,
          104.32391718179205,
          109.85922876186876,
          111.47618700832516,
          105.06204272909432,
          102.05769074352692,
          107.1646902459485,
          99.21824352948735,
          118.25000972441045,
          108.32258926769387,
          100.06834454424316,
          114.9492707779343,
          102.80870460072994,
          110.39302118470667,
          98.77683570029062,
          111.06216182140959,
          106.25990210148247,
          101.90371758384497,
          110.56151747022868,
          101.78945857513537,
          114.93073280707155,
          99.53521625903403,
          108.58903086265431,
          107.2981014882787,
          100.52040829993435,
          115.89079143274226,
          107.49029404848882,
          105.24480205687799,
          103.61868792022882,
          115.36641429570113,
          107.47680284827852,
          100.56080066517484,
          110.63166745135352,
          106.22503277058091,
          108.98069338152058,
          109.55619002436227,
          111.37482232540528,
          103.4891438691283,
          113.01113530645716,
          98.59292636032868,
          112.48604220954402,
          103.90509061176509,
          108.31953585481904,
          109.70116171567929,
          106.36188131284949,
          107.05945319743496,
          109.90498184392149,
          101.94648483636745,
          112.79124544290362,
          106.38806236680662,
          105.45559195498979,
          114.01668396850783,
          104.0462033954723,
          110.04329225734037,
          105.86291623035326,
          97.2097634699035,
          110.73518611545424,
          111.81161651928683,
          101.51907820829874,
          112.57683889560204,
          99.98531176249732,
          113.59893978724476,
          105.61353529344711,
          105.32023862755014,
          108.75791590162704,
          107.3626373776337,
          104.67406170409087,
          103.77246797934909,
          112.25225376634553,
          101.5281467281706,
          116.4615347914555,
          105.30299419999804,
          107.87827983448798,
          110.44382495042758,
          103.63080241700428,
          111.8207366959984,
          104.45717722338505,
          34.74770968916939,
          93.38446276553283,
          159.1181680907528,
          70.4846819325985,
          141.36852354251698,
          87.84420680984915,
          115.8095133103199,
          109.76240256680968,
          97.833715319076,
          114.3295311088952,
          101.59578688091057,
          108.91770592799304,
          111.68792954880723,
          98.7601034753065,
          114.28445432721583,
          113.87684249889402,
          104.44136860080408,
          104.68990512371933,
          103.77543694486724,
          111.84205932839005,
          97.52444445047581,
          121.84068256490403,
          99.80261922764514,
          105.58297837766047,
          112.81915526106125,
          98.46490931691339,
          111.18262275386027,
          103.27634000113751,
          105.03911515369418,
          117.00536173177144,
          95.81441982568752,
          117.07281055957549,
          106.67833052372829,
          105.65237651291298,
          108.47753666022193,
          103.94696883800735,
          105.55357279510201,
          109.34692903456494,
          103.36459340807319,
          110.63473118967865,
          104.59668169489147,
          108.36043425103175,
          106.10445534000479,
          108.22683447979931,
          106.7793522006248,
          109.06724349104283,
          109.66985444604755,
          104.30505705813259,
          104.71546587010987,
          110.82749769386255,
          109.11323758465073,
          103.97295093631827,
          112.11267187220163,
          109.9319685800777,
          104.82430007369811,
          105.58794785700857,
          99.01691400989033,
          115.03712898726187,
          96.58533031260143,
          117.17266550055693,
          95.23657533605186,
          109.16072476170997,
          105.72245196863834,
          106.91757592934167,
          104.92740242737811,
          108.83739800325543,
          112.48062511246137,
          111.26623116377861,
          103.63831351504653,
          105.33739856496264,
          108.34837878678616,
          101.92957597513502,
          110.22876182159564,
          101.3160524070593,
          109.71084613268752,
          108.83257977393033,
          101.08632764433158,
          103.08051407819045,
          113.37723663687703,
          103.05210613265209,
          104.10625526128649,
          112.89510018411791,
          103.68068036851156,
          104.63614259277136,
          109.1956215794502,
          105.08320433201236,
          107.88741643193866,
          105.76364415920267,
          110.0134255981352,
          104.43822195096952,
          108.17838271874389,
          108.4602416334878,
          107.97901750063924,
          103.58771352533525,
          106.23881465715546,
          107.4933390925188,
          104.95417969611128,
          110.85452015694412,
          104.2897597831395,
          110.54000295724703
         ]
        }
       ],
       "layout": {
        "annotations": [
         {
          "font": {
           "color": "red"
          },
          "showarrow": false,
          "text": "Classical H-O-H angle",
          "x": 107.4,
          "xanchor": "left",
          "xref": "x",
          "y": 0,
          "yanchor": "bottom",
          "yref": "y domain"
         },
         {
          "font": {
           "color": "blue"
          },
          "showarrow": false,
          "text": "Quantum average",
          "x": 106.53307515641814,
          "xanchor": "right",
          "xref": "x",
          "y": 1,
          "yanchor": "top",
          "yref": "y domain"
         }
        ],
        "font": {
         "size": 12
        },
        "height": 600,
        "hovermode": "closest",
        "margin": {
         "b": 50,
         "l": 50,
         "r": 50,
         "t": 50
        },
        "plot_bgcolor": "white",
        "shapes": [
         {
          "line": {
           "color": "red",
           "dash": "dash"
          },
          "type": "line",
          "x0": 107.4,
          "x1": 107.4,
          "xref": "x",
          "y0": 0,
          "y1": 1,
          "yref": "y domain"
         },
         {
          "line": {
           "color": "blue",
           "dash": "dash"
          },
          "type": "line",
          "x0": 106.53307515641814,
          "x1": 106.53307515641814,
          "xref": "x",
          "y0": 0,
          "y1": 1,
          "yref": "y domain"
         }
        ],
        "template": {
         "data": {
          "bar": [
           {
            "error_x": {
             "color": "#2a3f5f"
            },
            "error_y": {
             "color": "#2a3f5f"
            },
            "marker": {
             "line": {
              "color": "#E5ECF6",
              "width": 0.5
             },
             "pattern": {
              "fillmode": "overlay",
              "size": 10,
              "solidity": 0.2
             }
            },
            "type": "bar"
           }
          ],
          "barpolar": [
           {
            "marker": {
             "line": {
              "color": "#E5ECF6",
              "width": 0.5
             },
             "pattern": {
              "fillmode": "overlay",
              "size": 10,
              "solidity": 0.2
             }
            },
            "type": "barpolar"
           }
          ],
          "carpet": [
           {
            "aaxis": {
             "endlinecolor": "#2a3f5f",
             "gridcolor": "white",
             "linecolor": "white",
             "minorgridcolor": "white",
             "startlinecolor": "#2a3f5f"
            },
            "baxis": {
             "endlinecolor": "#2a3f5f",
             "gridcolor": "white",
             "linecolor": "white",
             "minorgridcolor": "white",
             "startlinecolor": "#2a3f5f"
            },
            "type": "carpet"
           }
          ],
          "choropleth": [
           {
            "colorbar": {
             "outlinewidth": 0,
             "ticks": ""
            },
            "type": "choropleth"
           }
          ],
          "contour": [
           {
            "colorbar": {
             "outlinewidth": 0,
             "ticks": ""
            },
            "colorscale": [
             [
              0,
              "#0d0887"
             ],
             [
              0.1111111111111111,
              "#46039f"
             ],
             [
              0.2222222222222222,
              "#7201a8"
             ],
             [
              0.3333333333333333,
              "#9c179e"
             ],
             [
              0.4444444444444444,
              "#bd3786"
             ],
             [
              0.5555555555555556,
              "#d8576b"
             ],
             [
              0.6666666666666666,
              "#ed7953"
             ],
             [
              0.7777777777777778,
              "#fb9f3a"
             ],
             [
              0.8888888888888888,
              "#fdca26"
             ],
             [
              1,
              "#f0f921"
             ]
            ],
            "type": "contour"
           }
          ],
          "contourcarpet": [
           {
            "colorbar": {
             "outlinewidth": 0,
             "ticks": ""
            },
            "type": "contourcarpet"
           }
          ],
          "heatmap": [
           {
            "colorbar": {
             "outlinewidth": 0,
             "ticks": ""
            },
            "colorscale": [
             [
              0,
              "#0d0887"
             ],
             [
              0.1111111111111111,
              "#46039f"
             ],
             [
              0.2222222222222222,
              "#7201a8"
             ],
             [
              0.3333333333333333,
              "#9c179e"
             ],
             [
              0.4444444444444444,
              "#bd3786"
             ],
             [
              0.5555555555555556,
              "#d8576b"
             ],
             [
              0.6666666666666666,
              "#ed7953"
             ],
             [
              0.7777777777777778,
              "#fb9f3a"
             ],
             [
              0.8888888888888888,
              "#fdca26"
             ],
             [
              1,
              "#f0f921"
             ]
            ],
            "type": "heatmap"
           }
          ],
          "heatmapgl": [
           {
            "colorbar": {
             "outlinewidth": 0,
             "ticks": ""
            },
            "colorscale": [
             [
              0,
              "#0d0887"
             ],
             [
              0.1111111111111111,
              "#46039f"
             ],
             [
              0.2222222222222222,
              "#7201a8"
             ],
             [
              0.3333333333333333,
              "#9c179e"
             ],
             [
              0.4444444444444444,
              "#bd3786"
             ],
             [
              0.5555555555555556,
              "#d8576b"
             ],
             [
              0.6666666666666666,
              "#ed7953"
             ],
             [
              0.7777777777777778,
              "#fb9f3a"
             ],
             [
              0.8888888888888888,
              "#fdca26"
             ],
             [
              1,
              "#f0f921"
             ]
            ],
            "type": "heatmapgl"
           }
          ],
          "histogram": [
           {
            "marker": {
             "pattern": {
              "fillmode": "overlay",
              "size": 10,
              "solidity": 0.2
             }
            },
            "type": "histogram"
           }
          ],
          "histogram2d": [
           {
            "colorbar": {
             "outlinewidth": 0,
             "ticks": ""
            },
            "colorscale": [
             [
              0,
              "#0d0887"
             ],
             [
              0.1111111111111111,
              "#46039f"
             ],
             [
              0.2222222222222222,
              "#7201a8"
             ],
             [
              0.3333333333333333,
              "#9c179e"
             ],
             [
              0.4444444444444444,
              "#bd3786"
             ],
             [
              0.5555555555555556,
              "#d8576b"
             ],
             [
              0.6666666666666666,
              "#ed7953"
             ],
             [
              0.7777777777777778,
              "#fb9f3a"
             ],
             [
              0.8888888888888888,
              "#fdca26"
             ],
             [
              1,
              "#f0f921"
             ]
            ],
            "type": "histogram2d"
           }
          ],
          "histogram2dcontour": [
           {
            "colorbar": {
             "outlinewidth": 0,
             "ticks": ""
            },
            "colorscale": [
             [
              0,
              "#0d0887"
             ],
             [
              0.1111111111111111,
              "#46039f"
             ],
             [
              0.2222222222222222,
              "#7201a8"
             ],
             [
              0.3333333333333333,
              "#9c179e"
             ],
             [
              0.4444444444444444,
              "#bd3786"
             ],
             [
              0.5555555555555556,
              "#d8576b"
             ],
             [
              0.6666666666666666,
              "#ed7953"
             ],
             [
              0.7777777777777778,
              "#fb9f3a"
             ],
             [
              0.8888888888888888,
              "#fdca26"
             ],
             [
              1,
              "#f0f921"
             ]
            ],
            "type": "histogram2dcontour"
           }
          ],
          "mesh3d": [
           {
            "colorbar": {
             "outlinewidth": 0,
             "ticks": ""
            },
            "type": "mesh3d"
           }
          ],
          "parcoords": [
           {
            "line": {
             "colorbar": {
              "outlinewidth": 0,
              "ticks": ""
             }
            },
            "type": "parcoords"
           }
          ],
          "pie": [
           {
            "automargin": true,
            "type": "pie"
           }
          ],
          "scatter": [
           {
            "fillpattern": {
             "fillmode": "overlay",
             "size": 10,
             "solidity": 0.2
            },
            "type": "scatter"
           }
          ],
          "scatter3d": [
           {
            "line": {
             "colorbar": {
              "outlinewidth": 0,
              "ticks": ""
             }
            },
            "marker": {
             "colorbar": {
              "outlinewidth": 0,
              "ticks": ""
             }
            },
            "type": "scatter3d"
           }
          ],
          "scattercarpet": [
           {
            "marker": {
             "colorbar": {
              "outlinewidth": 0,
              "ticks": ""
             }
            },
            "type": "scattercarpet"
           }
          ],
          "scattergeo": [
           {
            "marker": {
             "colorbar": {
              "outlinewidth": 0,
              "ticks": ""
             }
            },
            "type": "scattergeo"
           }
          ],
          "scattergl": [
           {
            "marker": {
             "colorbar": {
              "outlinewidth": 0,
              "ticks": ""
             }
            },
            "type": "scattergl"
           }
          ],
          "scattermapbox": [
           {
            "marker": {
             "colorbar": {
              "outlinewidth": 0,
              "ticks": ""
             }
            },
            "type": "scattermapbox"
           }
          ],
          "scatterpolar": [
           {
            "marker": {
             "colorbar": {
              "outlinewidth": 0,
              "ticks": ""
             }
            },
            "type": "scatterpolar"
           }
          ],
          "scatterpolargl": [
           {
            "marker": {
             "colorbar": {
              "outlinewidth": 0,
              "ticks": ""
             }
            },
            "type": "scatterpolargl"
           }
          ],
          "scatterternary": [
           {
            "marker": {
             "colorbar": {
              "outlinewidth": 0,
              "ticks": ""
             }
            },
            "type": "scatterternary"
           }
          ],
          "surface": [
           {
            "colorbar": {
             "outlinewidth": 0,
             "ticks": ""
            },
            "colorscale": [
             [
              0,
              "#0d0887"
             ],
             [
              0.1111111111111111,
              "#46039f"
             ],
             [
              0.2222222222222222,
              "#7201a8"
             ],
             [
              0.3333333333333333,
              "#9c179e"
             ],
             [
              0.4444444444444444,
              "#bd3786"
             ],
             [
              0.5555555555555556,
              "#d8576b"
             ],
             [
              0.6666666666666666,
              "#ed7953"
             ],
             [
              0.7777777777777778,
              "#fb9f3a"
             ],
             [
              0.8888888888888888,
              "#fdca26"
             ],
             [
              1,
              "#f0f921"
             ]
            ],
            "type": "surface"
           }
          ],
          "table": [
           {
            "cells": {
             "fill": {
              "color": "#EBF0F8"
             },
             "line": {
              "color": "white"
             }
            },
            "header": {
             "fill": {
              "color": "#C8D4E3"
             },
             "line": {
              "color": "white"
             }
            },
            "type": "table"
           }
          ]
         },
         "layout": {
          "annotationdefaults": {
           "arrowcolor": "#2a3f5f",
           "arrowhead": 0,
           "arrowwidth": 1
          },
          "autotypenumbers": "strict",
          "coloraxis": {
           "colorbar": {
            "outlinewidth": 0,
            "ticks": ""
           }
          },
          "colorscale": {
           "diverging": [
            [
             0,
             "#8e0152"
            ],
            [
             0.1,
             "#c51b7d"
            ],
            [
             0.2,
             "#de77ae"
            ],
            [
             0.3,
             "#f1b6da"
            ],
            [
             0.4,
             "#fde0ef"
            ],
            [
             0.5,
             "#f7f7f7"
            ],
            [
             0.6,
             "#e6f5d0"
            ],
            [
             0.7,
             "#b8e186"
            ],
            [
             0.8,
             "#7fbc41"
            ],
            [
             0.9,
             "#4d9221"
            ],
            [
             1,
             "#276419"
            ]
           ],
           "sequential": [
            [
             0,
             "#0d0887"
            ],
            [
             0.1111111111111111,
             "#46039f"
            ],
            [
             0.2222222222222222,
             "#7201a8"
            ],
            [
             0.3333333333333333,
             "#9c179e"
            ],
            [
             0.4444444444444444,
             "#bd3786"
            ],
            [
             0.5555555555555556,
             "#d8576b"
            ],
            [
             0.6666666666666666,
             "#ed7953"
            ],
            [
             0.7777777777777778,
             "#fb9f3a"
            ],
            [
             0.8888888888888888,
             "#fdca26"
            ],
            [
             1,
             "#f0f921"
            ]
           ],
           "sequentialminus": [
            [
             0,
             "#0d0887"
            ],
            [
             0.1111111111111111,
             "#46039f"
            ],
            [
             0.2222222222222222,
             "#7201a8"
            ],
            [
             0.3333333333333333,
             "#9c179e"
            ],
            [
             0.4444444444444444,
             "#bd3786"
            ],
            [
             0.5555555555555556,
             "#d8576b"
            ],
            [
             0.6666666666666666,
             "#ed7953"
            ],
            [
             0.7777777777777778,
             "#fb9f3a"
            ],
            [
             0.8888888888888888,
             "#fdca26"
            ],
            [
             1,
             "#f0f921"
            ]
           ]
          },
          "colorway": [
           "#636efa",
           "#EF553B",
           "#00cc96",
           "#ab63fa",
           "#FFA15A",
           "#19d3f3",
           "#FF6692",
           "#B6E880",
           "#FF97FF",
           "#FECB52"
          ],
          "font": {
           "color": "#2a3f5f"
          },
          "geo": {
           "bgcolor": "white",
           "lakecolor": "white",
           "landcolor": "#E5ECF6",
           "showlakes": true,
           "showland": true,
           "subunitcolor": "white"
          },
          "hoverlabel": {
           "align": "left"
          },
          "hovermode": "closest",
          "mapbox": {
           "style": "light"
          },
          "paper_bgcolor": "white",
          "plot_bgcolor": "#E5ECF6",
          "polar": {
           "angularaxis": {
            "gridcolor": "white",
            "linecolor": "white",
            "ticks": ""
           },
           "bgcolor": "#E5ECF6",
           "radialaxis": {
            "gridcolor": "white",
            "linecolor": "white",
            "ticks": ""
           }
          },
          "scene": {
           "xaxis": {
            "backgroundcolor": "#E5ECF6",
            "gridcolor": "white",
            "gridwidth": 2,
            "linecolor": "white",
            "showbackground": true,
            "ticks": "",
            "zerolinecolor": "white"
           },
           "yaxis": {
            "backgroundcolor": "#E5ECF6",
            "gridcolor": "white",
            "gridwidth": 2,
            "linecolor": "white",
            "showbackground": true,
            "ticks": "",
            "zerolinecolor": "white"
           },
           "zaxis": {
            "backgroundcolor": "#E5ECF6",
            "gridcolor": "white",
            "gridwidth": 2,
            "linecolor": "white",
            "showbackground": true,
            "ticks": "",
            "zerolinecolor": "white"
           }
          },
          "shapedefaults": {
           "line": {
            "color": "#2a3f5f"
           }
          },
          "ternary": {
           "aaxis": {
            "gridcolor": "white",
            "linecolor": "white",
            "ticks": ""
           },
           "baxis": {
            "gridcolor": "white",
            "linecolor": "white",
            "ticks": ""
           },
           "bgcolor": "#E5ECF6",
           "caxis": {
            "gridcolor": "white",
            "linecolor": "white",
            "ticks": ""
           }
          },
          "title": {
           "x": 0.05
          },
          "xaxis": {
           "automargin": true,
           "gridcolor": "white",
           "linecolor": "white",
           "ticks": "",
           "title": {
            "standoff": 15
           },
           "zerolinecolor": "white",
           "zerolinewidth": 2
          },
          "yaxis": {
           "automargin": true,
           "gridcolor": "white",
           "linecolor": "white",
           "ticks": "",
           "title": {
            "standoff": 15
           },
           "zerolinecolor": "white",
           "zerolinewidth": 2
          }
         }
        },
        "title": {
         "font": {
          "size": 20
         },
         "text": "H-O-H Angle Distribution",
         "x": 0.5,
         "xanchor": "center",
         "y": 0.98,
         "yanchor": "top"
        },
        "width": 600,
        "xaxis": {
         "gridcolor": "LightGray",
         "gridwidth": 1,
         "showgrid": true,
         "title": {
          "text": "Angle (degrees)"
         }
        },
        "yaxis": {
         "gridcolor": "LightGray",
         "gridwidth": 1,
         "showgrid": true,
         "title": {
          "text": "Probability Density"
         }
        }
       }
      },
      "text/html": [
       "<div>                            <div id=\"4a95e840-73c8-4dd4-bf33-f8b371c41b4b\" class=\"plotly-graph-div\" style=\"height:600px; width:600px;\"></div>            <script type=\"text/javascript\">                require([\"plotly\"], function(Plotly) {                    window.PLOTLYENV=window.PLOTLYENV || {};                                    if (document.getElementById(\"4a95e840-73c8-4dd4-bf33-f8b371c41b4b\")) {                    Plotly.newPlot(                        \"4a95e840-73c8-4dd4-bf33-f8b371c41b4b\",                        [{\"histnorm\":\"probability density\",\"hovertemplate\":\"Angle: %{x:.2f}\\u00b0\\u003cbr\\u003eDensity: %{y:.3f}\\u003cextra\\u003e\\u003c\\u002fextra\\u003e\",\"nbinsx\":50,\"x\":[104.45717722338505,45.24125370874225,94.29131510449136,125.93518594503414,93.71166001008086,116.56485262956085,99.05523739658503,104.10696359281268,113.87019854798848,106.77609457081543,104.2750911649918,114.19855008113905,100.70292912240932,104.65101170041326,107.56967005284098,106.71356191201671,116.65111487720984,99.36836236730805,106.71165841444943,111.45345365569487,98.45084392124727,119.51489861445042,108.61010368082002,104.82883378816143,106.72914110445774,109.14306236508345,104.32391718179205,109.85922876186876,111.47618700832516,105.06204272909432,102.05769074352692,107.1646902459485,99.21824352948735,118.25000972441045,108.32258926769387,100.06834454424316,114.9492707779343,102.80870460072994,110.39302118470667,98.77683570029062,111.06216182140959,106.25990210148247,101.90371758384497,110.56151747022868,101.78945857513537,114.93073280707155,99.53521625903403,108.58903086265431,107.2981014882787,100.52040829993435,115.89079143274226,107.49029404848882,105.24480205687799,103.61868792022882,115.36641429570113,107.47680284827852,100.56080066517484,110.63166745135352,106.22503277058091,108.98069338152058,109.55619002436227,111.37482232540528,103.4891438691283,113.01113530645716,98.59292636032868,112.48604220954402,103.90509061176509,108.31953585481904,109.70116171567929,106.36188131284949,107.05945319743496,109.90498184392149,101.94648483636745,112.79124544290362,106.38806236680662,105.45559195498979,114.01668396850783,104.0462033954723,110.04329225734037,105.86291623035326,97.2097634699035,110.73518611545424,111.81161651928683,101.51907820829874,112.57683889560204,99.98531176249732,113.59893978724476,105.61353529344711,105.32023862755014,108.75791590162704,107.3626373776337,104.67406170409087,103.77246797934909,112.25225376634553,101.5281467281706,116.4615347914555,105.30299419999804,107.87827983448798,110.44382495042758,103.63080241700428,111.8207366959984,104.45717722338505,34.74770968916939,93.38446276553283,159.1181680907528,70.4846819325985,141.36852354251698,87.84420680984915,115.8095133103199,109.76240256680968,97.833715319076,114.3295311088952,101.59578688091057,108.91770592799304,111.68792954880723,98.7601034753065,114.28445432721583,113.87684249889402,104.44136860080408,104.68990512371933,103.77543694486724,111.84205932839005,97.52444445047581,121.84068256490403,99.80261922764514,105.58297837766047,112.81915526106125,98.46490931691339,111.18262275386027,103.27634000113751,105.03911515369418,117.00536173177144,95.81441982568752,117.07281055957549,106.67833052372829,105.65237651291298,108.47753666022193,103.94696883800735,105.55357279510201,109.34692903456494,103.36459340807319,110.63473118967865,104.59668169489147,108.36043425103175,106.10445534000479,108.22683447979931,106.7793522006248,109.06724349104283,109.66985444604755,104.30505705813259,104.71546587010987,110.82749769386255,109.11323758465073,103.97295093631827,112.11267187220163,109.9319685800777,104.82430007369811,105.58794785700857,99.01691400989033,115.03712898726187,96.58533031260143,117.17266550055693,95.23657533605186,109.16072476170997,105.72245196863834,106.91757592934167,104.92740242737811,108.83739800325543,112.48062511246137,111.26623116377861,103.63831351504653,105.33739856496264,108.34837878678616,101.92957597513502,110.22876182159564,101.3160524070593,109.71084613268752,108.83257977393033,101.08632764433158,103.08051407819045,113.37723663687703,103.05210613265209,104.10625526128649,112.89510018411791,103.68068036851156,104.63614259277136,109.1956215794502,105.08320433201236,107.88741643193866,105.76364415920267,110.0134255981352,104.43822195096952,108.17838271874389,108.4602416334878,107.97901750063924,103.58771352533525,106.23881465715546,107.4933390925188,104.95417969611128,110.85452015694412,104.2897597831395,110.54000295724703],\"type\":\"histogram\"}],                        {\"template\":{\"data\":{\"histogram2dcontour\":[{\"type\":\"histogram2dcontour\",\"colorbar\":{\"outlinewidth\":0,\"ticks\":\"\"},\"colorscale\":[[0.0,\"#0d0887\"],[0.1111111111111111,\"#46039f\"],[0.2222222222222222,\"#7201a8\"],[0.3333333333333333,\"#9c179e\"],[0.4444444444444444,\"#bd3786\"],[0.5555555555555556,\"#d8576b\"],[0.6666666666666666,\"#ed7953\"],[0.7777777777777778,\"#fb9f3a\"],[0.8888888888888888,\"#fdca26\"],[1.0,\"#f0f921\"]]}],\"choropleth\":[{\"type\":\"choropleth\",\"colorbar\":{\"outlinewidth\":0,\"ticks\":\"\"}}],\"histogram2d\":[{\"type\":\"histogram2d\",\"colorbar\":{\"outlinewidth\":0,\"ticks\":\"\"},\"colorscale\":[[0.0,\"#0d0887\"],[0.1111111111111111,\"#46039f\"],[0.2222222222222222,\"#7201a8\"],[0.3333333333333333,\"#9c179e\"],[0.4444444444444444,\"#bd3786\"],[0.5555555555555556,\"#d8576b\"],[0.6666666666666666,\"#ed7953\"],[0.7777777777777778,\"#fb9f3a\"],[0.8888888888888888,\"#fdca26\"],[1.0,\"#f0f921\"]]}],\"heatmap\":[{\"type\":\"heatmap\",\"colorbar\":{\"outlinewidth\":0,\"ticks\":\"\"},\"colorscale\":[[0.0,\"#0d0887\"],[0.1111111111111111,\"#46039f\"],[0.2222222222222222,\"#7201a8\"],[0.3333333333333333,\"#9c179e\"],[0.4444444444444444,\"#bd3786\"],[0.5555555555555556,\"#d8576b\"],[0.6666666666666666,\"#ed7953\"],[0.7777777777777778,\"#fb9f3a\"],[0.8888888888888888,\"#fdca26\"],[1.0,\"#f0f921\"]]}],\"heatmapgl\":[{\"type\":\"heatmapgl\",\"colorbar\":{\"outlinewidth\":0,\"ticks\":\"\"},\"colorscale\":[[0.0,\"#0d0887\"],[0.1111111111111111,\"#46039f\"],[0.2222222222222222,\"#7201a8\"],[0.3333333333333333,\"#9c179e\"],[0.4444444444444444,\"#bd3786\"],[0.5555555555555556,\"#d8576b\"],[0.6666666666666666,\"#ed7953\"],[0.7777777777777778,\"#fb9f3a\"],[0.8888888888888888,\"#fdca26\"],[1.0,\"#f0f921\"]]}],\"contourcarpet\":[{\"type\":\"contourcarpet\",\"colorbar\":{\"outlinewidth\":0,\"ticks\":\"\"}}],\"contour\":[{\"type\":\"contour\",\"colorbar\":{\"outlinewidth\":0,\"ticks\":\"\"},\"colorscale\":[[0.0,\"#0d0887\"],[0.1111111111111111,\"#46039f\"],[0.2222222222222222,\"#7201a8\"],[0.3333333333333333,\"#9c179e\"],[0.4444444444444444,\"#bd3786\"],[0.5555555555555556,\"#d8576b\"],[0.6666666666666666,\"#ed7953\"],[0.7777777777777778,\"#fb9f3a\"],[0.8888888888888888,\"#fdca26\"],[1.0,\"#f0f921\"]]}],\"surface\":[{\"type\":\"surface\",\"colorbar\":{\"outlinewidth\":0,\"ticks\":\"\"},\"colorscale\":[[0.0,\"#0d0887\"],[0.1111111111111111,\"#46039f\"],[0.2222222222222222,\"#7201a8\"],[0.3333333333333333,\"#9c179e\"],[0.4444444444444444,\"#bd3786\"],[0.5555555555555556,\"#d8576b\"],[0.6666666666666666,\"#ed7953\"],[0.7777777777777778,\"#fb9f3a\"],[0.8888888888888888,\"#fdca26\"],[1.0,\"#f0f921\"]]}],\"mesh3d\":[{\"type\":\"mesh3d\",\"colorbar\":{\"outlinewidth\":0,\"ticks\":\"\"}}],\"scatter\":[{\"fillpattern\":{\"fillmode\":\"overlay\",\"size\":10,\"solidity\":0.2},\"type\":\"scatter\"}],\"parcoords\":[{\"type\":\"parcoords\",\"line\":{\"colorbar\":{\"outlinewidth\":0,\"ticks\":\"\"}}}],\"scatterpolargl\":[{\"type\":\"scatterpolargl\",\"marker\":{\"colorbar\":{\"outlinewidth\":0,\"ticks\":\"\"}}}],\"bar\":[{\"error_x\":{\"color\":\"#2a3f5f\"},\"error_y\":{\"color\":\"#2a3f5f\"},\"marker\":{\"line\":{\"color\":\"#E5ECF6\",\"width\":0.5},\"pattern\":{\"fillmode\":\"overlay\",\"size\":10,\"solidity\":0.2}},\"type\":\"bar\"}],\"scattergeo\":[{\"type\":\"scattergeo\",\"marker\":{\"colorbar\":{\"outlinewidth\":0,\"ticks\":\"\"}}}],\"scatterpolar\":[{\"type\":\"scatterpolar\",\"marker\":{\"colorbar\":{\"outlinewidth\":0,\"ticks\":\"\"}}}],\"histogram\":[{\"marker\":{\"pattern\":{\"fillmode\":\"overlay\",\"size\":10,\"solidity\":0.2}},\"type\":\"histogram\"}],\"scattergl\":[{\"type\":\"scattergl\",\"marker\":{\"colorbar\":{\"outlinewidth\":0,\"ticks\":\"\"}}}],\"scatter3d\":[{\"type\":\"scatter3d\",\"line\":{\"colorbar\":{\"outlinewidth\":0,\"ticks\":\"\"}},\"marker\":{\"colorbar\":{\"outlinewidth\":0,\"ticks\":\"\"}}}],\"scattermapbox\":[{\"type\":\"scattermapbox\",\"marker\":{\"colorbar\":{\"outlinewidth\":0,\"ticks\":\"\"}}}],\"scatterternary\":[{\"type\":\"scatterternary\",\"marker\":{\"colorbar\":{\"outlinewidth\":0,\"ticks\":\"\"}}}],\"scattercarpet\":[{\"type\":\"scattercarpet\",\"marker\":{\"colorbar\":{\"outlinewidth\":0,\"ticks\":\"\"}}}],\"carpet\":[{\"aaxis\":{\"endlinecolor\":\"#2a3f5f\",\"gridcolor\":\"white\",\"linecolor\":\"white\",\"minorgridcolor\":\"white\",\"startlinecolor\":\"#2a3f5f\"},\"baxis\":{\"endlinecolor\":\"#2a3f5f\",\"gridcolor\":\"white\",\"linecolor\":\"white\",\"minorgridcolor\":\"white\",\"startlinecolor\":\"#2a3f5f\"},\"type\":\"carpet\"}],\"table\":[{\"cells\":{\"fill\":{\"color\":\"#EBF0F8\"},\"line\":{\"color\":\"white\"}},\"header\":{\"fill\":{\"color\":\"#C8D4E3\"},\"line\":{\"color\":\"white\"}},\"type\":\"table\"}],\"barpolar\":[{\"marker\":{\"line\":{\"color\":\"#E5ECF6\",\"width\":0.5},\"pattern\":{\"fillmode\":\"overlay\",\"size\":10,\"solidity\":0.2}},\"type\":\"barpolar\"}],\"pie\":[{\"automargin\":true,\"type\":\"pie\"}]},\"layout\":{\"autotypenumbers\":\"strict\",\"colorway\":[\"#636efa\",\"#EF553B\",\"#00cc96\",\"#ab63fa\",\"#FFA15A\",\"#19d3f3\",\"#FF6692\",\"#B6E880\",\"#FF97FF\",\"#FECB52\"],\"font\":{\"color\":\"#2a3f5f\"},\"hovermode\":\"closest\",\"hoverlabel\":{\"align\":\"left\"},\"paper_bgcolor\":\"white\",\"plot_bgcolor\":\"#E5ECF6\",\"polar\":{\"bgcolor\":\"#E5ECF6\",\"angularaxis\":{\"gridcolor\":\"white\",\"linecolor\":\"white\",\"ticks\":\"\"},\"radialaxis\":{\"gridcolor\":\"white\",\"linecolor\":\"white\",\"ticks\":\"\"}},\"ternary\":{\"bgcolor\":\"#E5ECF6\",\"aaxis\":{\"gridcolor\":\"white\",\"linecolor\":\"white\",\"ticks\":\"\"},\"baxis\":{\"gridcolor\":\"white\",\"linecolor\":\"white\",\"ticks\":\"\"},\"caxis\":{\"gridcolor\":\"white\",\"linecolor\":\"white\",\"ticks\":\"\"}},\"coloraxis\":{\"colorbar\":{\"outlinewidth\":0,\"ticks\":\"\"}},\"colorscale\":{\"sequential\":[[0.0,\"#0d0887\"],[0.1111111111111111,\"#46039f\"],[0.2222222222222222,\"#7201a8\"],[0.3333333333333333,\"#9c179e\"],[0.4444444444444444,\"#bd3786\"],[0.5555555555555556,\"#d8576b\"],[0.6666666666666666,\"#ed7953\"],[0.7777777777777778,\"#fb9f3a\"],[0.8888888888888888,\"#fdca26\"],[1.0,\"#f0f921\"]],\"sequentialminus\":[[0.0,\"#0d0887\"],[0.1111111111111111,\"#46039f\"],[0.2222222222222222,\"#7201a8\"],[0.3333333333333333,\"#9c179e\"],[0.4444444444444444,\"#bd3786\"],[0.5555555555555556,\"#d8576b\"],[0.6666666666666666,\"#ed7953\"],[0.7777777777777778,\"#fb9f3a\"],[0.8888888888888888,\"#fdca26\"],[1.0,\"#f0f921\"]],\"diverging\":[[0,\"#8e0152\"],[0.1,\"#c51b7d\"],[0.2,\"#de77ae\"],[0.3,\"#f1b6da\"],[0.4,\"#fde0ef\"],[0.5,\"#f7f7f7\"],[0.6,\"#e6f5d0\"],[0.7,\"#b8e186\"],[0.8,\"#7fbc41\"],[0.9,\"#4d9221\"],[1,\"#276419\"]]},\"xaxis\":{\"gridcolor\":\"white\",\"linecolor\":\"white\",\"ticks\":\"\",\"title\":{\"standoff\":15},\"zerolinecolor\":\"white\",\"automargin\":true,\"zerolinewidth\":2},\"yaxis\":{\"gridcolor\":\"white\",\"linecolor\":\"white\",\"ticks\":\"\",\"title\":{\"standoff\":15},\"zerolinecolor\":\"white\",\"automargin\":true,\"zerolinewidth\":2},\"scene\":{\"xaxis\":{\"backgroundcolor\":\"#E5ECF6\",\"gridcolor\":\"white\",\"linecolor\":\"white\",\"showbackground\":true,\"ticks\":\"\",\"zerolinecolor\":\"white\",\"gridwidth\":2},\"yaxis\":{\"backgroundcolor\":\"#E5ECF6\",\"gridcolor\":\"white\",\"linecolor\":\"white\",\"showbackground\":true,\"ticks\":\"\",\"zerolinecolor\":\"white\",\"gridwidth\":2},\"zaxis\":{\"backgroundcolor\":\"#E5ECF6\",\"gridcolor\":\"white\",\"linecolor\":\"white\",\"showbackground\":true,\"ticks\":\"\",\"zerolinecolor\":\"white\",\"gridwidth\":2}},\"shapedefaults\":{\"line\":{\"color\":\"#2a3f5f\"}},\"annotationdefaults\":{\"arrowcolor\":\"#2a3f5f\",\"arrowhead\":0,\"arrowwidth\":1},\"geo\":{\"bgcolor\":\"white\",\"landcolor\":\"#E5ECF6\",\"subunitcolor\":\"white\",\"showland\":true,\"showlakes\":true,\"lakecolor\":\"white\"},\"title\":{\"x\":0.05},\"mapbox\":{\"style\":\"light\"}}},\"shapes\":[{\"line\":{\"color\":\"red\",\"dash\":\"dash\"},\"type\":\"line\",\"x0\":107.4,\"x1\":107.4,\"xref\":\"x\",\"y0\":0,\"y1\":1,\"yref\":\"y domain\"},{\"line\":{\"color\":\"blue\",\"dash\":\"dash\"},\"type\":\"line\",\"x0\":106.53307515641814,\"x1\":106.53307515641814,\"xref\":\"x\",\"y0\":0,\"y1\":1,\"yref\":\"y domain\"}],\"annotations\":[{\"font\":{\"color\":\"red\"},\"showarrow\":false,\"text\":\"Classical H-O-H angle\",\"x\":107.4,\"xanchor\":\"left\",\"xref\":\"x\",\"y\":0,\"yanchor\":\"bottom\",\"yref\":\"y domain\"},{\"font\":{\"color\":\"blue\"},\"showarrow\":false,\"text\":\"Quantum average\",\"x\":106.53307515641814,\"xanchor\":\"right\",\"xref\":\"x\",\"y\":1,\"yanchor\":\"top\",\"yref\":\"y domain\"}],\"font\":{\"size\":12},\"margin\":{\"l\":50,\"r\":50,\"t\":50,\"b\":50},\"xaxis\":{\"showgrid\":true,\"gridwidth\":1,\"gridcolor\":\"LightGray\",\"title\":{\"text\":\"Angle (degrees)\"}},\"yaxis\":{\"showgrid\":true,\"gridwidth\":1,\"gridcolor\":\"LightGray\",\"title\":{\"text\":\"Probability Density\"}},\"title\":{\"font\":{\"size\":20},\"text\":\"H-O-H Angle Distribution\",\"y\":0.98,\"x\":0.5,\"xanchor\":\"center\",\"yanchor\":\"top\"},\"width\":600,\"height\":600,\"plot_bgcolor\":\"white\",\"hovermode\":\"closest\"},                        {\"responsive\": true}                    ).then(function(){\n",
       "                            \n",
       "var gd = document.getElementById('4a95e840-73c8-4dd4-bf33-f8b371c41b4b');\n",
       "var x = new MutationObserver(function (mutations, observer) {{\n",
       "        var display = window.getComputedStyle(gd).display;\n",
       "        if (!display || display === 'none') {{\n",
       "            console.log([gd, 'removed!']);\n",
       "            Plotly.purge(gd);\n",
       "            observer.disconnect();\n",
       "        }}\n",
       "}});\n",
       "\n",
       "// Listen for the removal of the full notebook cells\n",
       "var notebookContainer = gd.closest('#notebook-container');\n",
       "if (notebookContainer) {{\n",
       "    x.observe(notebookContainer, {childList: true});\n",
       "}}\n",
       "\n",
       "// Listen for the clearing of the current output cell\n",
       "var outputEl = gd.closest('.output');\n",
       "if (outputEl) {{\n",
       "    x.observe(outputEl, {childList: true});\n",
       "}}\n",
       "\n",
       "                        })                };                });            </script>        </div>"
      ]
     },
     "metadata": {},
     "output_type": "display_data"
    },
    {
     "name": "stdout",
     "output_type": "stream",
     "text": [
      "H-O-H Angle Analysis:\n",
      "-------------------------\n",
      "Classical angle:  107.4°\n",
      "Quantum average:  106.5°\n",
      "Quantum shift:    -0.9°  (-0.8%)\n",
      "Fluctuations:     ±20.1°  (95% interval)\n"
     ]
    }
   ],
   "source": [
    "def calculate_angle(positions):\n",
    "    \"\"\"Calculate H-O-H angle using dot product method\"\"\"\n",
    "    # Get O-H vectors\n",
    "    v1 = positions[:, 1] - positions[:, 0]  # O to H1\n",
    "    v2 = positions[:, 2] - positions[:, 0]  # O to H2\n",
    "    \n",
    "    # Normalize vectors\n",
    "    v1_norm = v1 / np.linalg.norm(v1, axis=1)[:, np.newaxis]\n",
    "    v2_norm = v2 / np.linalg.norm(v2, axis=1)[:, np.newaxis]\n",
    "    \n",
    "    # Calculate angle (degrees)\n",
    "    cos_angle = np.sum(v1_norm * v2_norm, axis=1)\n",
    "    angles = np.arccos(np.clip(cos_angle, -1.0, 1.0)) * 180/np.pi\n",
    "    return angles\n",
    "\n",
    "# Calculate angles for all beads and frames\n",
    "all_angles = []\n",
    "for traj in trajectories:\n",
    "    angles = calculate_angle(traj)\n",
    "    all_angles.extend(angles)\n",
    "\n",
    "# Create angle distribution plot\n",
    "fig = go.Figure()\n",
    "\n",
    "# Add histogram\n",
    "fig.add_trace(\n",
    "    go.Histogram(\n",
    "        x=all_angles,\n",
    "        nbinsx=50,\n",
    "        histnorm='probability density',\n",
    "        hovertemplate='Angle: %{x:.2f}°<br>Density: %{y:.3f}<extra></extra>'\n",
    "    )\n",
    ")\n",
    "\n",
    "# Add reference angles\n",
    "classical_angle = 107.4\n",
    "mean_angle = np.mean(all_angles)\n",
    "\n",
    "# Classical reference\n",
    "fig.add_vline(\n",
    "    x=classical_angle,\n",
    "    line_dash=\"dash\",\n",
    "    line_color=\"red\",\n",
    "    annotation_text=\"Classical H-O-H angle\",\n",
    "    annotation_position=\"bottom right\",\n",
    "    annotation=dict(font=dict(color=\"red\"))\n",
    ")\n",
    "\n",
    "# Quantum average\n",
    "fig.add_vline(\n",
    "    x=mean_angle,\n",
    "    line_dash=\"dash\",\n",
    "    line_color=\"blue\",\n",
    "    annotation_text=\"Quantum average\",\n",
    "    annotation_position=\"top left\",\n",
    "    annotation=dict(font=dict(color=\"blue\"))\n",
    ")\n",
    "\n",
    "# Configure plot\n",
    "fig.update_layout(\n",
    "    plotly_layout,\n",
    "    title={\n",
    "        'text': 'H-O-H Angle Distribution',\n",
    "        'font': {'size': 20},\n",
    "        'y': 0.98,\n",
    "        'x': 0.5,\n",
    "        'xanchor': 'center',\n",
    "        'yanchor': 'top'\n",
    "    },\n",
    "    xaxis_title='Angle (degrees)',\n",
    "    yaxis_title='Probability Density'\n",
    ")\n",
    "fig.show()\n",
    "\n",
    "# Analyze quantum effects\n",
    "std_angle = np.std(all_angles)\n",
    "angle_shift = mean_angle - classical_angle\n",
    "\n",
    "print(\"H-O-H Angle Analysis:\")\n",
    "print(\"-\" * 25)\n",
    "print(f\"Classical angle:  {classical_angle:.1f}°\")\n",
    "print(f\"Quantum average:  {mean_angle:.1f}°\")\n",
    "print(f\"Quantum shift:    {angle_shift:+.1f}°  ({angle_shift/classical_angle*100:+.1f}%)\")\n",
    "print(f\"Fluctuations:     ±{2*std_angle:.1f}°  (95% interval)\")"
   ]
  },
  {
   "cell_type": "markdown",
   "metadata": {},
   "source": [
    "## 5. Visualizing Ring Polymer\n",
    "\n",
    "The ring polymer representation is at the heart of Path Integral MD, providing a way to visualize quantum delocalization of atoms. Here we'll create interactive 3D visualizations of the ring polymers for both oxygen and hydrogen atoms.\n",
    "\n",
    "### Ring Polymer Structure:\n",
    "1. **Beads**: \n",
    "   - Each bead represents a different configuration\n",
    "   - Total of P beads form the ring polymer\n",
    "   - Connected by harmonic springs with frequency ω = P/(βℏ)\n",
    "   - β = 1/(kT) is inverse temperature\n",
    "\n",
    "2. **Centroid**:\n",
    "   - Average position of all beads\n",
    "   - $\\mathbf{r}_c = \\frac{1}{P}\\sum_{i=1}^P \\mathbf{r}_i$\n",
    "   - Corresponds to classical position\n",
    "   - Marked in red in visualization\n",
    "\n",
    "3. **Spread**:\n",
    "   - Distance of beads from centroid\n",
    "   - Larger for lighter atoms (H vs O)\n",
    "   - Reflects quantum uncertainty\n",
    "   - Maximum spread = largest bead-centroid distance\n",
    "\n",
    "### Visualization Features:\n",
    "- Blue points: O atom beads\n",
    "- Red points: H atom beads\n",
    "- Diamond marker: Centroid position\n",
    "- Semi-transparent lines: Spring connections\n",
    "- Interactive controls for rotation and zoom\n",
    "\n",
    "The following cell creates 3D visualizations of both O and H ring polymers from the last frame of our simulation."
   ]
  },
  {
   "cell_type": "code",
   "execution_count": 7,
   "metadata": {},
   "outputs": [
    {
     "name": "stdout",
     "output_type": "stream",
     "text": [
      "Visualizing ring polymers (interactive 3D plots):\n"
     ]
    },
    {
     "data": {
      "application/vnd.plotly.v1+json": {
       "config": {
        "plotlyServerURL": "https://plot.ly"
       },
       "data": [
        {
         "hovertemplate": "x: %{x:.3f}<br>y: %{y:.3f}<br>z: %{z:.3f}<extra>Bead</extra>",
         "marker": {
          "color": "blue",
          "opacity": 0.8,
          "size": 6
         },
         "mode": "markers",
         "name": "Beads",
         "type": "scatter3d",
         "x": [
          0.0424402,
          0.0533628
         ],
         "y": [
          -0.0284915,
          -0.0190939
         ],
         "z": [
          0.0443495,
          -0.0363825
         ]
        },
        {
         "hoverinfo": "skip",
         "line": {
          "color": "rgba(0, 0, 1, 0.3)",
          "width": 2
         },
         "mode": "lines",
         "showlegend": false,
         "type": "scatter3d",
         "x": [
          0.0424402,
          0.0533628
         ],
         "y": [
          -0.0284915,
          -0.0190939
         ],
         "z": [
          0.0443495,
          -0.0363825
         ]
        },
        {
         "hoverinfo": "skip",
         "line": {
          "color": "rgba(0, 0, 1, 0.3)",
          "width": 2
         },
         "mode": "lines",
         "showlegend": false,
         "type": "scatter3d",
         "x": [
          0.0533628,
          0.0424402
         ],
         "y": [
          -0.0190939,
          -0.0284915
         ],
         "z": [
          -0.0363825,
          0.0443495
         ]
        },
        {
         "hovertemplate": "x: %{x:.3f}<br>y: %{y:.3f}<br>z: %{z:.3f}<extra>Centroid</extra>",
         "marker": {
          "color": "red",
          "size": 10,
          "symbol": "diamond"
         },
         "mode": "markers",
         "name": "Centroid",
         "type": "scatter3d",
         "x": [
          0.0479015
         ],
         "y": [
          -0.0237927
         ],
         "z": [
          0.003983500000000001
         ]
        }
       ],
       "layout": {
        "annotations": [
         {
          "font": {
           "size": 12
          },
          "showarrow": false,
          "text": "Drag to rotate | Scroll to zoom | Double-click to reset view",
          "x": 0.5,
          "xref": "paper",
          "y": -0.08,
          "yref": "paper"
         }
        ],
        "font": {
         "size": 12
        },
        "height": 500,
        "hovermode": "closest",
        "margin": {
         "b": 50,
         "l": 50,
         "r": 50,
         "t": 50
        },
        "plot_bgcolor": "white",
        "scene": {
         "aspectmode": "cube",
         "xaxis": {
          "title": {
           "text": "X (Å)"
          }
         },
         "yaxis": {
          "title": {
           "text": "Y (Å)"
          }
         },
         "zaxis": {
          "title": {
           "text": "Z (Å)"
          }
         }
        },
        "template": {
         "data": {
          "bar": [
           {
            "error_x": {
             "color": "#2a3f5f"
            },
            "error_y": {
             "color": "#2a3f5f"
            },
            "marker": {
             "line": {
              "color": "#E5ECF6",
              "width": 0.5
             },
             "pattern": {
              "fillmode": "overlay",
              "size": 10,
              "solidity": 0.2
             }
            },
            "type": "bar"
           }
          ],
          "barpolar": [
           {
            "marker": {
             "line": {
              "color": "#E5ECF6",
              "width": 0.5
             },
             "pattern": {
              "fillmode": "overlay",
              "size": 10,
              "solidity": 0.2
             }
            },
            "type": "barpolar"
           }
          ],
          "carpet": [
           {
            "aaxis": {
             "endlinecolor": "#2a3f5f",
             "gridcolor": "white",
             "linecolor": "white",
             "minorgridcolor": "white",
             "startlinecolor": "#2a3f5f"
            },
            "baxis": {
             "endlinecolor": "#2a3f5f",
             "gridcolor": "white",
             "linecolor": "white",
             "minorgridcolor": "white",
             "startlinecolor": "#2a3f5f"
            },
            "type": "carpet"
           }
          ],
          "choropleth": [
           {
            "colorbar": {
             "outlinewidth": 0,
             "ticks": ""
            },
            "type": "choropleth"
           }
          ],
          "contour": [
           {
            "colorbar": {
             "outlinewidth": 0,
             "ticks": ""
            },
            "colorscale": [
             [
              0,
              "#0d0887"
             ],
             [
              0.1111111111111111,
              "#46039f"
             ],
             [
              0.2222222222222222,
              "#7201a8"
             ],
             [
              0.3333333333333333,
              "#9c179e"
             ],
             [
              0.4444444444444444,
              "#bd3786"
             ],
             [
              0.5555555555555556,
              "#d8576b"
             ],
             [
              0.6666666666666666,
              "#ed7953"
             ],
             [
              0.7777777777777778,
              "#fb9f3a"
             ],
             [
              0.8888888888888888,
              "#fdca26"
             ],
             [
              1,
              "#f0f921"
             ]
            ],
            "type": "contour"
           }
          ],
          "contourcarpet": [
           {
            "colorbar": {
             "outlinewidth": 0,
             "ticks": ""
            },
            "type": "contourcarpet"
           }
          ],
          "heatmap": [
           {
            "colorbar": {
             "outlinewidth": 0,
             "ticks": ""
            },
            "colorscale": [
             [
              0,
              "#0d0887"
             ],
             [
              0.1111111111111111,
              "#46039f"
             ],
             [
              0.2222222222222222,
              "#7201a8"
             ],
             [
              0.3333333333333333,
              "#9c179e"
             ],
             [
              0.4444444444444444,
              "#bd3786"
             ],
             [
              0.5555555555555556,
              "#d8576b"
             ],
             [
              0.6666666666666666,
              "#ed7953"
             ],
             [
              0.7777777777777778,
              "#fb9f3a"
             ],
             [
              0.8888888888888888,
              "#fdca26"
             ],
             [
              1,
              "#f0f921"
             ]
            ],
            "type": "heatmap"
           }
          ],
          "heatmapgl": [
           {
            "colorbar": {
             "outlinewidth": 0,
             "ticks": ""
            },
            "colorscale": [
             [
              0,
              "#0d0887"
             ],
             [
              0.1111111111111111,
              "#46039f"
             ],
             [
              0.2222222222222222,
              "#7201a8"
             ],
             [
              0.3333333333333333,
              "#9c179e"
             ],
             [
              0.4444444444444444,
              "#bd3786"
             ],
             [
              0.5555555555555556,
              "#d8576b"
             ],
             [
              0.6666666666666666,
              "#ed7953"
             ],
             [
              0.7777777777777778,
              "#fb9f3a"
             ],
             [
              0.8888888888888888,
              "#fdca26"
             ],
             [
              1,
              "#f0f921"
             ]
            ],
            "type": "heatmapgl"
           }
          ],
          "histogram": [
           {
            "marker": {
             "pattern": {
              "fillmode": "overlay",
              "size": 10,
              "solidity": 0.2
             }
            },
            "type": "histogram"
           }
          ],
          "histogram2d": [
           {
            "colorbar": {
             "outlinewidth": 0,
             "ticks": ""
            },
            "colorscale": [
             [
              0,
              "#0d0887"
             ],
             [
              0.1111111111111111,
              "#46039f"
             ],
             [
              0.2222222222222222,
              "#7201a8"
             ],
             [
              0.3333333333333333,
              "#9c179e"
             ],
             [
              0.4444444444444444,
              "#bd3786"
             ],
             [
              0.5555555555555556,
              "#d8576b"
             ],
             [
              0.6666666666666666,
              "#ed7953"
             ],
             [
              0.7777777777777778,
              "#fb9f3a"
             ],
             [
              0.8888888888888888,
              "#fdca26"
             ],
             [
              1,
              "#f0f921"
             ]
            ],
            "type": "histogram2d"
           }
          ],
          "histogram2dcontour": [
           {
            "colorbar": {
             "outlinewidth": 0,
             "ticks": ""
            },
            "colorscale": [
             [
              0,
              "#0d0887"
             ],
             [
              0.1111111111111111,
              "#46039f"
             ],
             [
              0.2222222222222222,
              "#7201a8"
             ],
             [
              0.3333333333333333,
              "#9c179e"
             ],
             [
              0.4444444444444444,
              "#bd3786"
             ],
             [
              0.5555555555555556,
              "#d8576b"
             ],
             [
              0.6666666666666666,
              "#ed7953"
             ],
             [
              0.7777777777777778,
              "#fb9f3a"
             ],
             [
              0.8888888888888888,
              "#fdca26"
             ],
             [
              1,
              "#f0f921"
             ]
            ],
            "type": "histogram2dcontour"
           }
          ],
          "mesh3d": [
           {
            "colorbar": {
             "outlinewidth": 0,
             "ticks": ""
            },
            "type": "mesh3d"
           }
          ],
          "parcoords": [
           {
            "line": {
             "colorbar": {
              "outlinewidth": 0,
              "ticks": ""
             }
            },
            "type": "parcoords"
           }
          ],
          "pie": [
           {
            "automargin": true,
            "type": "pie"
           }
          ],
          "scatter": [
           {
            "fillpattern": {
             "fillmode": "overlay",
             "size": 10,
             "solidity": 0.2
            },
            "type": "scatter"
           }
          ],
          "scatter3d": [
           {
            "line": {
             "colorbar": {
              "outlinewidth": 0,
              "ticks": ""
             }
            },
            "marker": {
             "colorbar": {
              "outlinewidth": 0,
              "ticks": ""
             }
            },
            "type": "scatter3d"
           }
          ],
          "scattercarpet": [
           {
            "marker": {
             "colorbar": {
              "outlinewidth": 0,
              "ticks": ""
             }
            },
            "type": "scattercarpet"
           }
          ],
          "scattergeo": [
           {
            "marker": {
             "colorbar": {
              "outlinewidth": 0,
              "ticks": ""
             }
            },
            "type": "scattergeo"
           }
          ],
          "scattergl": [
           {
            "marker": {
             "colorbar": {
              "outlinewidth": 0,
              "ticks": ""
             }
            },
            "type": "scattergl"
           }
          ],
          "scattermapbox": [
           {
            "marker": {
             "colorbar": {
              "outlinewidth": 0,
              "ticks": ""
             }
            },
            "type": "scattermapbox"
           }
          ],
          "scatterpolar": [
           {
            "marker": {
             "colorbar": {
              "outlinewidth": 0,
              "ticks": ""
             }
            },
            "type": "scatterpolar"
           }
          ],
          "scatterpolargl": [
           {
            "marker": {
             "colorbar": {
              "outlinewidth": 0,
              "ticks": ""
             }
            },
            "type": "scatterpolargl"
           }
          ],
          "scatterternary": [
           {
            "marker": {
             "colorbar": {
              "outlinewidth": 0,
              "ticks": ""
             }
            },
            "type": "scatterternary"
           }
          ],
          "surface": [
           {
            "colorbar": {
             "outlinewidth": 0,
             "ticks": ""
            },
            "colorscale": [
             [
              0,
              "#0d0887"
             ],
             [
              0.1111111111111111,
              "#46039f"
             ],
             [
              0.2222222222222222,
              "#7201a8"
             ],
             [
              0.3333333333333333,
              "#9c179e"
             ],
             [
              0.4444444444444444,
              "#bd3786"
             ],
             [
              0.5555555555555556,
              "#d8576b"
             ],
             [
              0.6666666666666666,
              "#ed7953"
             ],
             [
              0.7777777777777778,
              "#fb9f3a"
             ],
             [
              0.8888888888888888,
              "#fdca26"
             ],
             [
              1,
              "#f0f921"
             ]
            ],
            "type": "surface"
           }
          ],
          "table": [
           {
            "cells": {
             "fill": {
              "color": "#EBF0F8"
             },
             "line": {
              "color": "white"
             }
            },
            "header": {
             "fill": {
              "color": "#C8D4E3"
             },
             "line": {
              "color": "white"
             }
            },
            "type": "table"
           }
          ]
         },
         "layout": {
          "annotationdefaults": {
           "arrowcolor": "#2a3f5f",
           "arrowhead": 0,
           "arrowwidth": 1
          },
          "autotypenumbers": "strict",
          "coloraxis": {
           "colorbar": {
            "outlinewidth": 0,
            "ticks": ""
           }
          },
          "colorscale": {
           "diverging": [
            [
             0,
             "#8e0152"
            ],
            [
             0.1,
             "#c51b7d"
            ],
            [
             0.2,
             "#de77ae"
            ],
            [
             0.3,
             "#f1b6da"
            ],
            [
             0.4,
             "#fde0ef"
            ],
            [
             0.5,
             "#f7f7f7"
            ],
            [
             0.6,
             "#e6f5d0"
            ],
            [
             0.7,
             "#b8e186"
            ],
            [
             0.8,
             "#7fbc41"
            ],
            [
             0.9,
             "#4d9221"
            ],
            [
             1,
             "#276419"
            ]
           ],
           "sequential": [
            [
             0,
             "#0d0887"
            ],
            [
             0.1111111111111111,
             "#46039f"
            ],
            [
             0.2222222222222222,
             "#7201a8"
            ],
            [
             0.3333333333333333,
             "#9c179e"
            ],
            [
             0.4444444444444444,
             "#bd3786"
            ],
            [
             0.5555555555555556,
             "#d8576b"
            ],
            [
             0.6666666666666666,
             "#ed7953"
            ],
            [
             0.7777777777777778,
             "#fb9f3a"
            ],
            [
             0.8888888888888888,
             "#fdca26"
            ],
            [
             1,
             "#f0f921"
            ]
           ],
           "sequentialminus": [
            [
             0,
             "#0d0887"
            ],
            [
             0.1111111111111111,
             "#46039f"
            ],
            [
             0.2222222222222222,
             "#7201a8"
            ],
            [
             0.3333333333333333,
             "#9c179e"
            ],
            [
             0.4444444444444444,
             "#bd3786"
            ],
            [
             0.5555555555555556,
             "#d8576b"
            ],
            [
             0.6666666666666666,
             "#ed7953"
            ],
            [
             0.7777777777777778,
             "#fb9f3a"
            ],
            [
             0.8888888888888888,
             "#fdca26"
            ],
            [
             1,
             "#f0f921"
            ]
           ]
          },
          "colorway": [
           "#636efa",
           "#EF553B",
           "#00cc96",
           "#ab63fa",
           "#FFA15A",
           "#19d3f3",
           "#FF6692",
           "#B6E880",
           "#FF97FF",
           "#FECB52"
          ],
          "font": {
           "color": "#2a3f5f"
          },
          "geo": {
           "bgcolor": "white",
           "lakecolor": "white",
           "landcolor": "#E5ECF6",
           "showlakes": true,
           "showland": true,
           "subunitcolor": "white"
          },
          "hoverlabel": {
           "align": "left"
          },
          "hovermode": "closest",
          "mapbox": {
           "style": "light"
          },
          "paper_bgcolor": "white",
          "plot_bgcolor": "#E5ECF6",
          "polar": {
           "angularaxis": {
            "gridcolor": "white",
            "linecolor": "white",
            "ticks": ""
           },
           "bgcolor": "#E5ECF6",
           "radialaxis": {
            "gridcolor": "white",
            "linecolor": "white",
            "ticks": ""
           }
          },
          "scene": {
           "xaxis": {
            "backgroundcolor": "#E5ECF6",
            "gridcolor": "white",
            "gridwidth": 2,
            "linecolor": "white",
            "showbackground": true,
            "ticks": "",
            "zerolinecolor": "white"
           },
           "yaxis": {
            "backgroundcolor": "#E5ECF6",
            "gridcolor": "white",
            "gridwidth": 2,
            "linecolor": "white",
            "showbackground": true,
            "ticks": "",
            "zerolinecolor": "white"
           },
           "zaxis": {
            "backgroundcolor": "#E5ECF6",
            "gridcolor": "white",
            "gridwidth": 2,
            "linecolor": "white",
            "showbackground": true,
            "ticks": "",
            "zerolinecolor": "white"
           }
          },
          "shapedefaults": {
           "line": {
            "color": "#2a3f5f"
           }
          },
          "ternary": {
           "aaxis": {
            "gridcolor": "white",
            "linecolor": "white",
            "ticks": ""
           },
           "baxis": {
            "gridcolor": "white",
            "linecolor": "white",
            "ticks": ""
           },
           "bgcolor": "#E5ECF6",
           "caxis": {
            "gridcolor": "white",
            "linecolor": "white",
            "ticks": ""
           }
          },
          "title": {
           "x": 0.05
          },
          "xaxis": {
           "automargin": true,
           "gridcolor": "white",
           "linecolor": "white",
           "ticks": "",
           "title": {
            "standoff": 15
           },
           "zerolinecolor": "white",
           "zerolinewidth": 2
          },
          "yaxis": {
           "automargin": true,
           "gridcolor": "white",
           "linecolor": "white",
           "ticks": "",
           "title": {
            "standoff": 15
           },
           "zerolinecolor": "white",
           "zerolinewidth": 2
          }
         }
        },
        "title": {
         "font": {
          "size": 20
         },
         "text": "Oxygen Ring Polymer<br><sup>Interactive 3D Visualization</sup>",
         "x": 0.5,
         "xanchor": "center",
         "y": 0.95,
         "yanchor": "top"
        },
        "width": 500,
        "xaxis": {
         "gridcolor": "LightGray",
         "gridwidth": 1,
         "showgrid": true
        },
        "yaxis": {
         "gridcolor": "LightGray",
         "gridwidth": 1,
         "showgrid": true
        }
       }
      },
      "text/html": [
       "<div>                            <div id=\"3b3042c6-aaa7-4dc8-aebe-b881cf9908e0\" class=\"plotly-graph-div\" style=\"height:500px; width:500px;\"></div>            <script type=\"text/javascript\">                require([\"plotly\"], function(Plotly) {                    window.PLOTLYENV=window.PLOTLYENV || {};                                    if (document.getElementById(\"3b3042c6-aaa7-4dc8-aebe-b881cf9908e0\")) {                    Plotly.newPlot(                        \"3b3042c6-aaa7-4dc8-aebe-b881cf9908e0\",                        [{\"hovertemplate\":\"x: %{x:.3f}\\u003cbr\\u003ey: %{y:.3f}\\u003cbr\\u003ez: %{z:.3f}\\u003cextra\\u003eBead\\u003c\\u002fextra\\u003e\",\"marker\":{\"color\":\"blue\",\"opacity\":0.8,\"size\":6},\"mode\":\"markers\",\"name\":\"Beads\",\"x\":[0.0424402,0.0533628],\"y\":[-0.0284915,-0.0190939],\"z\":[0.0443495,-0.0363825],\"type\":\"scatter3d\"},{\"hoverinfo\":\"skip\",\"line\":{\"color\":\"rgba(0, 0, 1, 0.3)\",\"width\":2},\"mode\":\"lines\",\"showlegend\":false,\"x\":[0.0424402,0.0533628],\"y\":[-0.0284915,-0.0190939],\"z\":[0.0443495,-0.0363825],\"type\":\"scatter3d\"},{\"hoverinfo\":\"skip\",\"line\":{\"color\":\"rgba(0, 0, 1, 0.3)\",\"width\":2},\"mode\":\"lines\",\"showlegend\":false,\"x\":[0.0533628,0.0424402],\"y\":[-0.0190939,-0.0284915],\"z\":[-0.0363825,0.0443495],\"type\":\"scatter3d\"},{\"hovertemplate\":\"x: %{x:.3f}\\u003cbr\\u003ey: %{y:.3f}\\u003cbr\\u003ez: %{z:.3f}\\u003cextra\\u003eCentroid\\u003c\\u002fextra\\u003e\",\"marker\":{\"color\":\"red\",\"size\":10,\"symbol\":\"diamond\"},\"mode\":\"markers\",\"name\":\"Centroid\",\"x\":[0.0479015],\"y\":[-0.0237927],\"z\":[0.003983500000000001],\"type\":\"scatter3d\"}],                        {\"template\":{\"data\":{\"histogram2dcontour\":[{\"type\":\"histogram2dcontour\",\"colorbar\":{\"outlinewidth\":0,\"ticks\":\"\"},\"colorscale\":[[0.0,\"#0d0887\"],[0.1111111111111111,\"#46039f\"],[0.2222222222222222,\"#7201a8\"],[0.3333333333333333,\"#9c179e\"],[0.4444444444444444,\"#bd3786\"],[0.5555555555555556,\"#d8576b\"],[0.6666666666666666,\"#ed7953\"],[0.7777777777777778,\"#fb9f3a\"],[0.8888888888888888,\"#fdca26\"],[1.0,\"#f0f921\"]]}],\"choropleth\":[{\"type\":\"choropleth\",\"colorbar\":{\"outlinewidth\":0,\"ticks\":\"\"}}],\"histogram2d\":[{\"type\":\"histogram2d\",\"colorbar\":{\"outlinewidth\":0,\"ticks\":\"\"},\"colorscale\":[[0.0,\"#0d0887\"],[0.1111111111111111,\"#46039f\"],[0.2222222222222222,\"#7201a8\"],[0.3333333333333333,\"#9c179e\"],[0.4444444444444444,\"#bd3786\"],[0.5555555555555556,\"#d8576b\"],[0.6666666666666666,\"#ed7953\"],[0.7777777777777778,\"#fb9f3a\"],[0.8888888888888888,\"#fdca26\"],[1.0,\"#f0f921\"]]}],\"heatmap\":[{\"type\":\"heatmap\",\"colorbar\":{\"outlinewidth\":0,\"ticks\":\"\"},\"colorscale\":[[0.0,\"#0d0887\"],[0.1111111111111111,\"#46039f\"],[0.2222222222222222,\"#7201a8\"],[0.3333333333333333,\"#9c179e\"],[0.4444444444444444,\"#bd3786\"],[0.5555555555555556,\"#d8576b\"],[0.6666666666666666,\"#ed7953\"],[0.7777777777777778,\"#fb9f3a\"],[0.8888888888888888,\"#fdca26\"],[1.0,\"#f0f921\"]]}],\"heatmapgl\":[{\"type\":\"heatmapgl\",\"colorbar\":{\"outlinewidth\":0,\"ticks\":\"\"},\"colorscale\":[[0.0,\"#0d0887\"],[0.1111111111111111,\"#46039f\"],[0.2222222222222222,\"#7201a8\"],[0.3333333333333333,\"#9c179e\"],[0.4444444444444444,\"#bd3786\"],[0.5555555555555556,\"#d8576b\"],[0.6666666666666666,\"#ed7953\"],[0.7777777777777778,\"#fb9f3a\"],[0.8888888888888888,\"#fdca26\"],[1.0,\"#f0f921\"]]}],\"contourcarpet\":[{\"type\":\"contourcarpet\",\"colorbar\":{\"outlinewidth\":0,\"ticks\":\"\"}}],\"contour\":[{\"type\":\"contour\",\"colorbar\":{\"outlinewidth\":0,\"ticks\":\"\"},\"colorscale\":[[0.0,\"#0d0887\"],[0.1111111111111111,\"#46039f\"],[0.2222222222222222,\"#7201a8\"],[0.3333333333333333,\"#9c179e\"],[0.4444444444444444,\"#bd3786\"],[0.5555555555555556,\"#d8576b\"],[0.6666666666666666,\"#ed7953\"],[0.7777777777777778,\"#fb9f3a\"],[0.8888888888888888,\"#fdca26\"],[1.0,\"#f0f921\"]]}],\"surface\":[{\"type\":\"surface\",\"colorbar\":{\"outlinewidth\":0,\"ticks\":\"\"},\"colorscale\":[[0.0,\"#0d0887\"],[0.1111111111111111,\"#46039f\"],[0.2222222222222222,\"#7201a8\"],[0.3333333333333333,\"#9c179e\"],[0.4444444444444444,\"#bd3786\"],[0.5555555555555556,\"#d8576b\"],[0.6666666666666666,\"#ed7953\"],[0.7777777777777778,\"#fb9f3a\"],[0.8888888888888888,\"#fdca26\"],[1.0,\"#f0f921\"]]}],\"mesh3d\":[{\"type\":\"mesh3d\",\"colorbar\":{\"outlinewidth\":0,\"ticks\":\"\"}}],\"scatter\":[{\"fillpattern\":{\"fillmode\":\"overlay\",\"size\":10,\"solidity\":0.2},\"type\":\"scatter\"}],\"parcoords\":[{\"type\":\"parcoords\",\"line\":{\"colorbar\":{\"outlinewidth\":0,\"ticks\":\"\"}}}],\"scatterpolargl\":[{\"type\":\"scatterpolargl\",\"marker\":{\"colorbar\":{\"outlinewidth\":0,\"ticks\":\"\"}}}],\"bar\":[{\"error_x\":{\"color\":\"#2a3f5f\"},\"error_y\":{\"color\":\"#2a3f5f\"},\"marker\":{\"line\":{\"color\":\"#E5ECF6\",\"width\":0.5},\"pattern\":{\"fillmode\":\"overlay\",\"size\":10,\"solidity\":0.2}},\"type\":\"bar\"}],\"scattergeo\":[{\"type\":\"scattergeo\",\"marker\":{\"colorbar\":{\"outlinewidth\":0,\"ticks\":\"\"}}}],\"scatterpolar\":[{\"type\":\"scatterpolar\",\"marker\":{\"colorbar\":{\"outlinewidth\":0,\"ticks\":\"\"}}}],\"histogram\":[{\"marker\":{\"pattern\":{\"fillmode\":\"overlay\",\"size\":10,\"solidity\":0.2}},\"type\":\"histogram\"}],\"scattergl\":[{\"type\":\"scattergl\",\"marker\":{\"colorbar\":{\"outlinewidth\":0,\"ticks\":\"\"}}}],\"scatter3d\":[{\"type\":\"scatter3d\",\"line\":{\"colorbar\":{\"outlinewidth\":0,\"ticks\":\"\"}},\"marker\":{\"colorbar\":{\"outlinewidth\":0,\"ticks\":\"\"}}}],\"scattermapbox\":[{\"type\":\"scattermapbox\",\"marker\":{\"colorbar\":{\"outlinewidth\":0,\"ticks\":\"\"}}}],\"scatterternary\":[{\"type\":\"scatterternary\",\"marker\":{\"colorbar\":{\"outlinewidth\":0,\"ticks\":\"\"}}}],\"scattercarpet\":[{\"type\":\"scattercarpet\",\"marker\":{\"colorbar\":{\"outlinewidth\":0,\"ticks\":\"\"}}}],\"carpet\":[{\"aaxis\":{\"endlinecolor\":\"#2a3f5f\",\"gridcolor\":\"white\",\"linecolor\":\"white\",\"minorgridcolor\":\"white\",\"startlinecolor\":\"#2a3f5f\"},\"baxis\":{\"endlinecolor\":\"#2a3f5f\",\"gridcolor\":\"white\",\"linecolor\":\"white\",\"minorgridcolor\":\"white\",\"startlinecolor\":\"#2a3f5f\"},\"type\":\"carpet\"}],\"table\":[{\"cells\":{\"fill\":{\"color\":\"#EBF0F8\"},\"line\":{\"color\":\"white\"}},\"header\":{\"fill\":{\"color\":\"#C8D4E3\"},\"line\":{\"color\":\"white\"}},\"type\":\"table\"}],\"barpolar\":[{\"marker\":{\"line\":{\"color\":\"#E5ECF6\",\"width\":0.5},\"pattern\":{\"fillmode\":\"overlay\",\"size\":10,\"solidity\":0.2}},\"type\":\"barpolar\"}],\"pie\":[{\"automargin\":true,\"type\":\"pie\"}]},\"layout\":{\"autotypenumbers\":\"strict\",\"colorway\":[\"#636efa\",\"#EF553B\",\"#00cc96\",\"#ab63fa\",\"#FFA15A\",\"#19d3f3\",\"#FF6692\",\"#B6E880\",\"#FF97FF\",\"#FECB52\"],\"font\":{\"color\":\"#2a3f5f\"},\"hovermode\":\"closest\",\"hoverlabel\":{\"align\":\"left\"},\"paper_bgcolor\":\"white\",\"plot_bgcolor\":\"#E5ECF6\",\"polar\":{\"bgcolor\":\"#E5ECF6\",\"angularaxis\":{\"gridcolor\":\"white\",\"linecolor\":\"white\",\"ticks\":\"\"},\"radialaxis\":{\"gridcolor\":\"white\",\"linecolor\":\"white\",\"ticks\":\"\"}},\"ternary\":{\"bgcolor\":\"#E5ECF6\",\"aaxis\":{\"gridcolor\":\"white\",\"linecolor\":\"white\",\"ticks\":\"\"},\"baxis\":{\"gridcolor\":\"white\",\"linecolor\":\"white\",\"ticks\":\"\"},\"caxis\":{\"gridcolor\":\"white\",\"linecolor\":\"white\",\"ticks\":\"\"}},\"coloraxis\":{\"colorbar\":{\"outlinewidth\":0,\"ticks\":\"\"}},\"colorscale\":{\"sequential\":[[0.0,\"#0d0887\"],[0.1111111111111111,\"#46039f\"],[0.2222222222222222,\"#7201a8\"],[0.3333333333333333,\"#9c179e\"],[0.4444444444444444,\"#bd3786\"],[0.5555555555555556,\"#d8576b\"],[0.6666666666666666,\"#ed7953\"],[0.7777777777777778,\"#fb9f3a\"],[0.8888888888888888,\"#fdca26\"],[1.0,\"#f0f921\"]],\"sequentialminus\":[[0.0,\"#0d0887\"],[0.1111111111111111,\"#46039f\"],[0.2222222222222222,\"#7201a8\"],[0.3333333333333333,\"#9c179e\"],[0.4444444444444444,\"#bd3786\"],[0.5555555555555556,\"#d8576b\"],[0.6666666666666666,\"#ed7953\"],[0.7777777777777778,\"#fb9f3a\"],[0.8888888888888888,\"#fdca26\"],[1.0,\"#f0f921\"]],\"diverging\":[[0,\"#8e0152\"],[0.1,\"#c51b7d\"],[0.2,\"#de77ae\"],[0.3,\"#f1b6da\"],[0.4,\"#fde0ef\"],[0.5,\"#f7f7f7\"],[0.6,\"#e6f5d0\"],[0.7,\"#b8e186\"],[0.8,\"#7fbc41\"],[0.9,\"#4d9221\"],[1,\"#276419\"]]},\"xaxis\":{\"gridcolor\":\"white\",\"linecolor\":\"white\",\"ticks\":\"\",\"title\":{\"standoff\":15},\"zerolinecolor\":\"white\",\"automargin\":true,\"zerolinewidth\":2},\"yaxis\":{\"gridcolor\":\"white\",\"linecolor\":\"white\",\"ticks\":\"\",\"title\":{\"standoff\":15},\"zerolinecolor\":\"white\",\"automargin\":true,\"zerolinewidth\":2},\"scene\":{\"xaxis\":{\"backgroundcolor\":\"#E5ECF6\",\"gridcolor\":\"white\",\"linecolor\":\"white\",\"showbackground\":true,\"ticks\":\"\",\"zerolinecolor\":\"white\",\"gridwidth\":2},\"yaxis\":{\"backgroundcolor\":\"#E5ECF6\",\"gridcolor\":\"white\",\"linecolor\":\"white\",\"showbackground\":true,\"ticks\":\"\",\"zerolinecolor\":\"white\",\"gridwidth\":2},\"zaxis\":{\"backgroundcolor\":\"#E5ECF6\",\"gridcolor\":\"white\",\"linecolor\":\"white\",\"showbackground\":true,\"ticks\":\"\",\"zerolinecolor\":\"white\",\"gridwidth\":2}},\"shapedefaults\":{\"line\":{\"color\":\"#2a3f5f\"}},\"annotationdefaults\":{\"arrowcolor\":\"#2a3f5f\",\"arrowhead\":0,\"arrowwidth\":1},\"geo\":{\"bgcolor\":\"white\",\"landcolor\":\"#E5ECF6\",\"subunitcolor\":\"white\",\"showland\":true,\"showlakes\":true,\"lakecolor\":\"white\"},\"title\":{\"x\":0.05},\"mapbox\":{\"style\":\"light\"}}},\"font\":{\"size\":12},\"margin\":{\"l\":50,\"r\":50,\"t\":50,\"b\":50},\"xaxis\":{\"showgrid\":true,\"gridwidth\":1,\"gridcolor\":\"LightGray\"},\"yaxis\":{\"showgrid\":true,\"gridwidth\":1,\"gridcolor\":\"LightGray\"},\"title\":{\"font\":{\"size\":20},\"text\":\"Oxygen Ring Polymer\\u003cbr\\u003e\\u003csup\\u003eInteractive 3D Visualization\\u003c\\u002fsup\\u003e\",\"y\":0.95,\"x\":0.5,\"xanchor\":\"center\",\"yanchor\":\"top\"},\"scene\":{\"xaxis\":{\"title\":{\"text\":\"X (\\u00c5)\"}},\"yaxis\":{\"title\":{\"text\":\"Y (\\u00c5)\"}},\"zaxis\":{\"title\":{\"text\":\"Z (\\u00c5)\"}},\"aspectmode\":\"cube\"},\"width\":500,\"height\":500,\"plot_bgcolor\":\"white\",\"hovermode\":\"closest\",\"annotations\":[{\"font\":{\"size\":12},\"showarrow\":false,\"text\":\"Drag to rotate | Scroll to zoom | Double-click to reset view\",\"x\":0.5,\"xref\":\"paper\",\"y\":-0.08,\"yref\":\"paper\"}]},                        {\"responsive\": true}                    ).then(function(){\n",
       "                            \n",
       "var gd = document.getElementById('3b3042c6-aaa7-4dc8-aebe-b881cf9908e0');\n",
       "var x = new MutationObserver(function (mutations, observer) {{\n",
       "        var display = window.getComputedStyle(gd).display;\n",
       "        if (!display || display === 'none') {{\n",
       "            console.log([gd, 'removed!']);\n",
       "            Plotly.purge(gd);\n",
       "            observer.disconnect();\n",
       "        }}\n",
       "}});\n",
       "\n",
       "// Listen for the removal of the full notebook cells\n",
       "var notebookContainer = gd.closest('#notebook-container');\n",
       "if (notebookContainer) {{\n",
       "    x.observe(notebookContainer, {childList: true});\n",
       "}}\n",
       "\n",
       "// Listen for the clearing of the current output cell\n",
       "var outputEl = gd.closest('.output');\n",
       "if (outputEl) {{\n",
       "    x.observe(outputEl, {childList: true});\n",
       "}}\n",
       "\n",
       "                        })                };                });            </script>        </div>"
      ]
     },
     "metadata": {},
     "output_type": "display_data"
    },
    {
     "data": {
      "application/vnd.plotly.v1+json": {
       "config": {
        "plotlyServerURL": "https://plot.ly"
       },
       "data": [
        {
         "hovertemplate": "x: %{x:.3f}<br>y: %{y:.3f}<br>z: %{z:.3f}<extra>Bead</extra>",
         "marker": {
          "color": "red",
          "opacity": 0.8,
          "size": 6
         },
         "mode": "markers",
         "name": "Beads",
         "type": "scatter3d",
         "x": [
          0.578579,
          0.342511
         ],
         "y": [
          0.713998,
          0.847092
         ],
         "z": [
          0.183436,
          0.084333
         ]
        },
        {
         "hoverinfo": "skip",
         "line": {
          "color": "rgba(1, 0, 0, 0.3)",
          "width": 2
         },
         "mode": "lines",
         "showlegend": false,
         "type": "scatter3d",
         "x": [
          0.578579,
          0.342511
         ],
         "y": [
          0.713998,
          0.847092
         ],
         "z": [
          0.183436,
          0.084333
         ]
        },
        {
         "hoverinfo": "skip",
         "line": {
          "color": "rgba(1, 0, 0, 0.3)",
          "width": 2
         },
         "mode": "lines",
         "showlegend": false,
         "type": "scatter3d",
         "x": [
          0.342511,
          0.578579
         ],
         "y": [
          0.847092,
          0.713998
         ],
         "z": [
          0.084333,
          0.183436
         ]
        },
        {
         "hovertemplate": "x: %{x:.3f}<br>y: %{y:.3f}<br>z: %{z:.3f}<extra>Centroid</extra>",
         "marker": {
          "color": "red",
          "size": 10,
          "symbol": "diamond"
         },
         "mode": "markers",
         "name": "Centroid",
         "type": "scatter3d",
         "x": [
          0.460545
         ],
         "y": [
          0.780545
         ],
         "z": [
          0.1338845
         ]
        }
       ],
       "layout": {
        "annotations": [
         {
          "font": {
           "size": 12
          },
          "showarrow": false,
          "text": "Drag to rotate | Scroll to zoom | Double-click to reset view",
          "x": 0.5,
          "xref": "paper",
          "y": -0.08,
          "yref": "paper"
         }
        ],
        "font": {
         "size": 12
        },
        "height": 500,
        "hovermode": "closest",
        "margin": {
         "b": 50,
         "l": 50,
         "r": 50,
         "t": 50
        },
        "plot_bgcolor": "white",
        "scene": {
         "aspectmode": "cube",
         "xaxis": {
          "title": {
           "text": "X (Å)"
          }
         },
         "yaxis": {
          "title": {
           "text": "Y (Å)"
          }
         },
         "zaxis": {
          "title": {
           "text": "Z (Å)"
          }
         }
        },
        "template": {
         "data": {
          "bar": [
           {
            "error_x": {
             "color": "#2a3f5f"
            },
            "error_y": {
             "color": "#2a3f5f"
            },
            "marker": {
             "line": {
              "color": "#E5ECF6",
              "width": 0.5
             },
             "pattern": {
              "fillmode": "overlay",
              "size": 10,
              "solidity": 0.2
             }
            },
            "type": "bar"
           }
          ],
          "barpolar": [
           {
            "marker": {
             "line": {
              "color": "#E5ECF6",
              "width": 0.5
             },
             "pattern": {
              "fillmode": "overlay",
              "size": 10,
              "solidity": 0.2
             }
            },
            "type": "barpolar"
           }
          ],
          "carpet": [
           {
            "aaxis": {
             "endlinecolor": "#2a3f5f",
             "gridcolor": "white",
             "linecolor": "white",
             "minorgridcolor": "white",
             "startlinecolor": "#2a3f5f"
            },
            "baxis": {
             "endlinecolor": "#2a3f5f",
             "gridcolor": "white",
             "linecolor": "white",
             "minorgridcolor": "white",
             "startlinecolor": "#2a3f5f"
            },
            "type": "carpet"
           }
          ],
          "choropleth": [
           {
            "colorbar": {
             "outlinewidth": 0,
             "ticks": ""
            },
            "type": "choropleth"
           }
          ],
          "contour": [
           {
            "colorbar": {
             "outlinewidth": 0,
             "ticks": ""
            },
            "colorscale": [
             [
              0,
              "#0d0887"
             ],
             [
              0.1111111111111111,
              "#46039f"
             ],
             [
              0.2222222222222222,
              "#7201a8"
             ],
             [
              0.3333333333333333,
              "#9c179e"
             ],
             [
              0.4444444444444444,
              "#bd3786"
             ],
             [
              0.5555555555555556,
              "#d8576b"
             ],
             [
              0.6666666666666666,
              "#ed7953"
             ],
             [
              0.7777777777777778,
              "#fb9f3a"
             ],
             [
              0.8888888888888888,
              "#fdca26"
             ],
             [
              1,
              "#f0f921"
             ]
            ],
            "type": "contour"
           }
          ],
          "contourcarpet": [
           {
            "colorbar": {
             "outlinewidth": 0,
             "ticks": ""
            },
            "type": "contourcarpet"
           }
          ],
          "heatmap": [
           {
            "colorbar": {
             "outlinewidth": 0,
             "ticks": ""
            },
            "colorscale": [
             [
              0,
              "#0d0887"
             ],
             [
              0.1111111111111111,
              "#46039f"
             ],
             [
              0.2222222222222222,
              "#7201a8"
             ],
             [
              0.3333333333333333,
              "#9c179e"
             ],
             [
              0.4444444444444444,
              "#bd3786"
             ],
             [
              0.5555555555555556,
              "#d8576b"
             ],
             [
              0.6666666666666666,
              "#ed7953"
             ],
             [
              0.7777777777777778,
              "#fb9f3a"
             ],
             [
              0.8888888888888888,
              "#fdca26"
             ],
             [
              1,
              "#f0f921"
             ]
            ],
            "type": "heatmap"
           }
          ],
          "heatmapgl": [
           {
            "colorbar": {
             "outlinewidth": 0,
             "ticks": ""
            },
            "colorscale": [
             [
              0,
              "#0d0887"
             ],
             [
              0.1111111111111111,
              "#46039f"
             ],
             [
              0.2222222222222222,
              "#7201a8"
             ],
             [
              0.3333333333333333,
              "#9c179e"
             ],
             [
              0.4444444444444444,
              "#bd3786"
             ],
             [
              0.5555555555555556,
              "#d8576b"
             ],
             [
              0.6666666666666666,
              "#ed7953"
             ],
             [
              0.7777777777777778,
              "#fb9f3a"
             ],
             [
              0.8888888888888888,
              "#fdca26"
             ],
             [
              1,
              "#f0f921"
             ]
            ],
            "type": "heatmapgl"
           }
          ],
          "histogram": [
           {
            "marker": {
             "pattern": {
              "fillmode": "overlay",
              "size": 10,
              "solidity": 0.2
             }
            },
            "type": "histogram"
           }
          ],
          "histogram2d": [
           {
            "colorbar": {
             "outlinewidth": 0,
             "ticks": ""
            },
            "colorscale": [
             [
              0,
              "#0d0887"
             ],
             [
              0.1111111111111111,
              "#46039f"
             ],
             [
              0.2222222222222222,
              "#7201a8"
             ],
             [
              0.3333333333333333,
              "#9c179e"
             ],
             [
              0.4444444444444444,
              "#bd3786"
             ],
             [
              0.5555555555555556,
              "#d8576b"
             ],
             [
              0.6666666666666666,
              "#ed7953"
             ],
             [
              0.7777777777777778,
              "#fb9f3a"
             ],
             [
              0.8888888888888888,
              "#fdca26"
             ],
             [
              1,
              "#f0f921"
             ]
            ],
            "type": "histogram2d"
           }
          ],
          "histogram2dcontour": [
           {
            "colorbar": {
             "outlinewidth": 0,
             "ticks": ""
            },
            "colorscale": [
             [
              0,
              "#0d0887"
             ],
             [
              0.1111111111111111,
              "#46039f"
             ],
             [
              0.2222222222222222,
              "#7201a8"
             ],
             [
              0.3333333333333333,
              "#9c179e"
             ],
             [
              0.4444444444444444,
              "#bd3786"
             ],
             [
              0.5555555555555556,
              "#d8576b"
             ],
             [
              0.6666666666666666,
              "#ed7953"
             ],
             [
              0.7777777777777778,
              "#fb9f3a"
             ],
             [
              0.8888888888888888,
              "#fdca26"
             ],
             [
              1,
              "#f0f921"
             ]
            ],
            "type": "histogram2dcontour"
           }
          ],
          "mesh3d": [
           {
            "colorbar": {
             "outlinewidth": 0,
             "ticks": ""
            },
            "type": "mesh3d"
           }
          ],
          "parcoords": [
           {
            "line": {
             "colorbar": {
              "outlinewidth": 0,
              "ticks": ""
             }
            },
            "type": "parcoords"
           }
          ],
          "pie": [
           {
            "automargin": true,
            "type": "pie"
           }
          ],
          "scatter": [
           {
            "fillpattern": {
             "fillmode": "overlay",
             "size": 10,
             "solidity": 0.2
            },
            "type": "scatter"
           }
          ],
          "scatter3d": [
           {
            "line": {
             "colorbar": {
              "outlinewidth": 0,
              "ticks": ""
             }
            },
            "marker": {
             "colorbar": {
              "outlinewidth": 0,
              "ticks": ""
             }
            },
            "type": "scatter3d"
           }
          ],
          "scattercarpet": [
           {
            "marker": {
             "colorbar": {
              "outlinewidth": 0,
              "ticks": ""
             }
            },
            "type": "scattercarpet"
           }
          ],
          "scattergeo": [
           {
            "marker": {
             "colorbar": {
              "outlinewidth": 0,
              "ticks": ""
             }
            },
            "type": "scattergeo"
           }
          ],
          "scattergl": [
           {
            "marker": {
             "colorbar": {
              "outlinewidth": 0,
              "ticks": ""
             }
            },
            "type": "scattergl"
           }
          ],
          "scattermapbox": [
           {
            "marker": {
             "colorbar": {
              "outlinewidth": 0,
              "ticks": ""
             }
            },
            "type": "scattermapbox"
           }
          ],
          "scatterpolar": [
           {
            "marker": {
             "colorbar": {
              "outlinewidth": 0,
              "ticks": ""
             }
            },
            "type": "scatterpolar"
           }
          ],
          "scatterpolargl": [
           {
            "marker": {
             "colorbar": {
              "outlinewidth": 0,
              "ticks": ""
             }
            },
            "type": "scatterpolargl"
           }
          ],
          "scatterternary": [
           {
            "marker": {
             "colorbar": {
              "outlinewidth": 0,
              "ticks": ""
             }
            },
            "type": "scatterternary"
           }
          ],
          "surface": [
           {
            "colorbar": {
             "outlinewidth": 0,
             "ticks": ""
            },
            "colorscale": [
             [
              0,
              "#0d0887"
             ],
             [
              0.1111111111111111,
              "#46039f"
             ],
             [
              0.2222222222222222,
              "#7201a8"
             ],
             [
              0.3333333333333333,
              "#9c179e"
             ],
             [
              0.4444444444444444,
              "#bd3786"
             ],
             [
              0.5555555555555556,
              "#d8576b"
             ],
             [
              0.6666666666666666,
              "#ed7953"
             ],
             [
              0.7777777777777778,
              "#fb9f3a"
             ],
             [
              0.8888888888888888,
              "#fdca26"
             ],
             [
              1,
              "#f0f921"
             ]
            ],
            "type": "surface"
           }
          ],
          "table": [
           {
            "cells": {
             "fill": {
              "color": "#EBF0F8"
             },
             "line": {
              "color": "white"
             }
            },
            "header": {
             "fill": {
              "color": "#C8D4E3"
             },
             "line": {
              "color": "white"
             }
            },
            "type": "table"
           }
          ]
         },
         "layout": {
          "annotationdefaults": {
           "arrowcolor": "#2a3f5f",
           "arrowhead": 0,
           "arrowwidth": 1
          },
          "autotypenumbers": "strict",
          "coloraxis": {
           "colorbar": {
            "outlinewidth": 0,
            "ticks": ""
           }
          },
          "colorscale": {
           "diverging": [
            [
             0,
             "#8e0152"
            ],
            [
             0.1,
             "#c51b7d"
            ],
            [
             0.2,
             "#de77ae"
            ],
            [
             0.3,
             "#f1b6da"
            ],
            [
             0.4,
             "#fde0ef"
            ],
            [
             0.5,
             "#f7f7f7"
            ],
            [
             0.6,
             "#e6f5d0"
            ],
            [
             0.7,
             "#b8e186"
            ],
            [
             0.8,
             "#7fbc41"
            ],
            [
             0.9,
             "#4d9221"
            ],
            [
             1,
             "#276419"
            ]
           ],
           "sequential": [
            [
             0,
             "#0d0887"
            ],
            [
             0.1111111111111111,
             "#46039f"
            ],
            [
             0.2222222222222222,
             "#7201a8"
            ],
            [
             0.3333333333333333,
             "#9c179e"
            ],
            [
             0.4444444444444444,
             "#bd3786"
            ],
            [
             0.5555555555555556,
             "#d8576b"
            ],
            [
             0.6666666666666666,
             "#ed7953"
            ],
            [
             0.7777777777777778,
             "#fb9f3a"
            ],
            [
             0.8888888888888888,
             "#fdca26"
            ],
            [
             1,
             "#f0f921"
            ]
           ],
           "sequentialminus": [
            [
             0,
             "#0d0887"
            ],
            [
             0.1111111111111111,
             "#46039f"
            ],
            [
             0.2222222222222222,
             "#7201a8"
            ],
            [
             0.3333333333333333,
             "#9c179e"
            ],
            [
             0.4444444444444444,
             "#bd3786"
            ],
            [
             0.5555555555555556,
             "#d8576b"
            ],
            [
             0.6666666666666666,
             "#ed7953"
            ],
            [
             0.7777777777777778,
             "#fb9f3a"
            ],
            [
             0.8888888888888888,
             "#fdca26"
            ],
            [
             1,
             "#f0f921"
            ]
           ]
          },
          "colorway": [
           "#636efa",
           "#EF553B",
           "#00cc96",
           "#ab63fa",
           "#FFA15A",
           "#19d3f3",
           "#FF6692",
           "#B6E880",
           "#FF97FF",
           "#FECB52"
          ],
          "font": {
           "color": "#2a3f5f"
          },
          "geo": {
           "bgcolor": "white",
           "lakecolor": "white",
           "landcolor": "#E5ECF6",
           "showlakes": true,
           "showland": true,
           "subunitcolor": "white"
          },
          "hoverlabel": {
           "align": "left"
          },
          "hovermode": "closest",
          "mapbox": {
           "style": "light"
          },
          "paper_bgcolor": "white",
          "plot_bgcolor": "#E5ECF6",
          "polar": {
           "angularaxis": {
            "gridcolor": "white",
            "linecolor": "white",
            "ticks": ""
           },
           "bgcolor": "#E5ECF6",
           "radialaxis": {
            "gridcolor": "white",
            "linecolor": "white",
            "ticks": ""
           }
          },
          "scene": {
           "xaxis": {
            "backgroundcolor": "#E5ECF6",
            "gridcolor": "white",
            "gridwidth": 2,
            "linecolor": "white",
            "showbackground": true,
            "ticks": "",
            "zerolinecolor": "white"
           },
           "yaxis": {
            "backgroundcolor": "#E5ECF6",
            "gridcolor": "white",
            "gridwidth": 2,
            "linecolor": "white",
            "showbackground": true,
            "ticks": "",
            "zerolinecolor": "white"
           },
           "zaxis": {
            "backgroundcolor": "#E5ECF6",
            "gridcolor": "white",
            "gridwidth": 2,
            "linecolor": "white",
            "showbackground": true,
            "ticks": "",
            "zerolinecolor": "white"
           }
          },
          "shapedefaults": {
           "line": {
            "color": "#2a3f5f"
           }
          },
          "ternary": {
           "aaxis": {
            "gridcolor": "white",
            "linecolor": "white",
            "ticks": ""
           },
           "baxis": {
            "gridcolor": "white",
            "linecolor": "white",
            "ticks": ""
           },
           "bgcolor": "#E5ECF6",
           "caxis": {
            "gridcolor": "white",
            "linecolor": "white",
            "ticks": ""
           }
          },
          "title": {
           "x": 0.05
          },
          "xaxis": {
           "automargin": true,
           "gridcolor": "white",
           "linecolor": "white",
           "ticks": "",
           "title": {
            "standoff": 15
           },
           "zerolinecolor": "white",
           "zerolinewidth": 2
          },
          "yaxis": {
           "automargin": true,
           "gridcolor": "white",
           "linecolor": "white",
           "ticks": "",
           "title": {
            "standoff": 15
           },
           "zerolinecolor": "white",
           "zerolinewidth": 2
          }
         }
        },
        "title": {
         "font": {
          "size": 20
         },
         "text": "Hydrogen Ring Polymer<br><sup>Interactive 3D Visualization</sup>",
         "x": 0.5,
         "xanchor": "center",
         "y": 0.95,
         "yanchor": "top"
        },
        "width": 500,
        "xaxis": {
         "gridcolor": "LightGray",
         "gridwidth": 1,
         "showgrid": true
        },
        "yaxis": {
         "gridcolor": "LightGray",
         "gridwidth": 1,
         "showgrid": true
        }
       }
      },
      "text/html": [
       "<div>                            <div id=\"f7cc4864-26b8-4e3f-b7d1-28febed4ffe4\" class=\"plotly-graph-div\" style=\"height:500px; width:500px;\"></div>            <script type=\"text/javascript\">                require([\"plotly\"], function(Plotly) {                    window.PLOTLYENV=window.PLOTLYENV || {};                                    if (document.getElementById(\"f7cc4864-26b8-4e3f-b7d1-28febed4ffe4\")) {                    Plotly.newPlot(                        \"f7cc4864-26b8-4e3f-b7d1-28febed4ffe4\",                        [{\"hovertemplate\":\"x: %{x:.3f}\\u003cbr\\u003ey: %{y:.3f}\\u003cbr\\u003ez: %{z:.3f}\\u003cextra\\u003eBead\\u003c\\u002fextra\\u003e\",\"marker\":{\"color\":\"red\",\"opacity\":0.8,\"size\":6},\"mode\":\"markers\",\"name\":\"Beads\",\"x\":[0.578579,0.342511],\"y\":[0.713998,0.847092],\"z\":[0.183436,0.084333],\"type\":\"scatter3d\"},{\"hoverinfo\":\"skip\",\"line\":{\"color\":\"rgba(1, 0, 0, 0.3)\",\"width\":2},\"mode\":\"lines\",\"showlegend\":false,\"x\":[0.578579,0.342511],\"y\":[0.713998,0.847092],\"z\":[0.183436,0.084333],\"type\":\"scatter3d\"},{\"hoverinfo\":\"skip\",\"line\":{\"color\":\"rgba(1, 0, 0, 0.3)\",\"width\":2},\"mode\":\"lines\",\"showlegend\":false,\"x\":[0.342511,0.578579],\"y\":[0.847092,0.713998],\"z\":[0.084333,0.183436],\"type\":\"scatter3d\"},{\"hovertemplate\":\"x: %{x:.3f}\\u003cbr\\u003ey: %{y:.3f}\\u003cbr\\u003ez: %{z:.3f}\\u003cextra\\u003eCentroid\\u003c\\u002fextra\\u003e\",\"marker\":{\"color\":\"red\",\"size\":10,\"symbol\":\"diamond\"},\"mode\":\"markers\",\"name\":\"Centroid\",\"x\":[0.460545],\"y\":[0.780545],\"z\":[0.1338845],\"type\":\"scatter3d\"}],                        {\"template\":{\"data\":{\"histogram2dcontour\":[{\"type\":\"histogram2dcontour\",\"colorbar\":{\"outlinewidth\":0,\"ticks\":\"\"},\"colorscale\":[[0.0,\"#0d0887\"],[0.1111111111111111,\"#46039f\"],[0.2222222222222222,\"#7201a8\"],[0.3333333333333333,\"#9c179e\"],[0.4444444444444444,\"#bd3786\"],[0.5555555555555556,\"#d8576b\"],[0.6666666666666666,\"#ed7953\"],[0.7777777777777778,\"#fb9f3a\"],[0.8888888888888888,\"#fdca26\"],[1.0,\"#f0f921\"]]}],\"choropleth\":[{\"type\":\"choropleth\",\"colorbar\":{\"outlinewidth\":0,\"ticks\":\"\"}}],\"histogram2d\":[{\"type\":\"histogram2d\",\"colorbar\":{\"outlinewidth\":0,\"ticks\":\"\"},\"colorscale\":[[0.0,\"#0d0887\"],[0.1111111111111111,\"#46039f\"],[0.2222222222222222,\"#7201a8\"],[0.3333333333333333,\"#9c179e\"],[0.4444444444444444,\"#bd3786\"],[0.5555555555555556,\"#d8576b\"],[0.6666666666666666,\"#ed7953\"],[0.7777777777777778,\"#fb9f3a\"],[0.8888888888888888,\"#fdca26\"],[1.0,\"#f0f921\"]]}],\"heatmap\":[{\"type\":\"heatmap\",\"colorbar\":{\"outlinewidth\":0,\"ticks\":\"\"},\"colorscale\":[[0.0,\"#0d0887\"],[0.1111111111111111,\"#46039f\"],[0.2222222222222222,\"#7201a8\"],[0.3333333333333333,\"#9c179e\"],[0.4444444444444444,\"#bd3786\"],[0.5555555555555556,\"#d8576b\"],[0.6666666666666666,\"#ed7953\"],[0.7777777777777778,\"#fb9f3a\"],[0.8888888888888888,\"#fdca26\"],[1.0,\"#f0f921\"]]}],\"heatmapgl\":[{\"type\":\"heatmapgl\",\"colorbar\":{\"outlinewidth\":0,\"ticks\":\"\"},\"colorscale\":[[0.0,\"#0d0887\"],[0.1111111111111111,\"#46039f\"],[0.2222222222222222,\"#7201a8\"],[0.3333333333333333,\"#9c179e\"],[0.4444444444444444,\"#bd3786\"],[0.5555555555555556,\"#d8576b\"],[0.6666666666666666,\"#ed7953\"],[0.7777777777777778,\"#fb9f3a\"],[0.8888888888888888,\"#fdca26\"],[1.0,\"#f0f921\"]]}],\"contourcarpet\":[{\"type\":\"contourcarpet\",\"colorbar\":{\"outlinewidth\":0,\"ticks\":\"\"}}],\"contour\":[{\"type\":\"contour\",\"colorbar\":{\"outlinewidth\":0,\"ticks\":\"\"},\"colorscale\":[[0.0,\"#0d0887\"],[0.1111111111111111,\"#46039f\"],[0.2222222222222222,\"#7201a8\"],[0.3333333333333333,\"#9c179e\"],[0.4444444444444444,\"#bd3786\"],[0.5555555555555556,\"#d8576b\"],[0.6666666666666666,\"#ed7953\"],[0.7777777777777778,\"#fb9f3a\"],[0.8888888888888888,\"#fdca26\"],[1.0,\"#f0f921\"]]}],\"surface\":[{\"type\":\"surface\",\"colorbar\":{\"outlinewidth\":0,\"ticks\":\"\"},\"colorscale\":[[0.0,\"#0d0887\"],[0.1111111111111111,\"#46039f\"],[0.2222222222222222,\"#7201a8\"],[0.3333333333333333,\"#9c179e\"],[0.4444444444444444,\"#bd3786\"],[0.5555555555555556,\"#d8576b\"],[0.6666666666666666,\"#ed7953\"],[0.7777777777777778,\"#fb9f3a\"],[0.8888888888888888,\"#fdca26\"],[1.0,\"#f0f921\"]]}],\"mesh3d\":[{\"type\":\"mesh3d\",\"colorbar\":{\"outlinewidth\":0,\"ticks\":\"\"}}],\"scatter\":[{\"fillpattern\":{\"fillmode\":\"overlay\",\"size\":10,\"solidity\":0.2},\"type\":\"scatter\"}],\"parcoords\":[{\"type\":\"parcoords\",\"line\":{\"colorbar\":{\"outlinewidth\":0,\"ticks\":\"\"}}}],\"scatterpolargl\":[{\"type\":\"scatterpolargl\",\"marker\":{\"colorbar\":{\"outlinewidth\":0,\"ticks\":\"\"}}}],\"bar\":[{\"error_x\":{\"color\":\"#2a3f5f\"},\"error_y\":{\"color\":\"#2a3f5f\"},\"marker\":{\"line\":{\"color\":\"#E5ECF6\",\"width\":0.5},\"pattern\":{\"fillmode\":\"overlay\",\"size\":10,\"solidity\":0.2}},\"type\":\"bar\"}],\"scattergeo\":[{\"type\":\"scattergeo\",\"marker\":{\"colorbar\":{\"outlinewidth\":0,\"ticks\":\"\"}}}],\"scatterpolar\":[{\"type\":\"scatterpolar\",\"marker\":{\"colorbar\":{\"outlinewidth\":0,\"ticks\":\"\"}}}],\"histogram\":[{\"marker\":{\"pattern\":{\"fillmode\":\"overlay\",\"size\":10,\"solidity\":0.2}},\"type\":\"histogram\"}],\"scattergl\":[{\"type\":\"scattergl\",\"marker\":{\"colorbar\":{\"outlinewidth\":0,\"ticks\":\"\"}}}],\"scatter3d\":[{\"type\":\"scatter3d\",\"line\":{\"colorbar\":{\"outlinewidth\":0,\"ticks\":\"\"}},\"marker\":{\"colorbar\":{\"outlinewidth\":0,\"ticks\":\"\"}}}],\"scattermapbox\":[{\"type\":\"scattermapbox\",\"marker\":{\"colorbar\":{\"outlinewidth\":0,\"ticks\":\"\"}}}],\"scatterternary\":[{\"type\":\"scatterternary\",\"marker\":{\"colorbar\":{\"outlinewidth\":0,\"ticks\":\"\"}}}],\"scattercarpet\":[{\"type\":\"scattercarpet\",\"marker\":{\"colorbar\":{\"outlinewidth\":0,\"ticks\":\"\"}}}],\"carpet\":[{\"aaxis\":{\"endlinecolor\":\"#2a3f5f\",\"gridcolor\":\"white\",\"linecolor\":\"white\",\"minorgridcolor\":\"white\",\"startlinecolor\":\"#2a3f5f\"},\"baxis\":{\"endlinecolor\":\"#2a3f5f\",\"gridcolor\":\"white\",\"linecolor\":\"white\",\"minorgridcolor\":\"white\",\"startlinecolor\":\"#2a3f5f\"},\"type\":\"carpet\"}],\"table\":[{\"cells\":{\"fill\":{\"color\":\"#EBF0F8\"},\"line\":{\"color\":\"white\"}},\"header\":{\"fill\":{\"color\":\"#C8D4E3\"},\"line\":{\"color\":\"white\"}},\"type\":\"table\"}],\"barpolar\":[{\"marker\":{\"line\":{\"color\":\"#E5ECF6\",\"width\":0.5},\"pattern\":{\"fillmode\":\"overlay\",\"size\":10,\"solidity\":0.2}},\"type\":\"barpolar\"}],\"pie\":[{\"automargin\":true,\"type\":\"pie\"}]},\"layout\":{\"autotypenumbers\":\"strict\",\"colorway\":[\"#636efa\",\"#EF553B\",\"#00cc96\",\"#ab63fa\",\"#FFA15A\",\"#19d3f3\",\"#FF6692\",\"#B6E880\",\"#FF97FF\",\"#FECB52\"],\"font\":{\"color\":\"#2a3f5f\"},\"hovermode\":\"closest\",\"hoverlabel\":{\"align\":\"left\"},\"paper_bgcolor\":\"white\",\"plot_bgcolor\":\"#E5ECF6\",\"polar\":{\"bgcolor\":\"#E5ECF6\",\"angularaxis\":{\"gridcolor\":\"white\",\"linecolor\":\"white\",\"ticks\":\"\"},\"radialaxis\":{\"gridcolor\":\"white\",\"linecolor\":\"white\",\"ticks\":\"\"}},\"ternary\":{\"bgcolor\":\"#E5ECF6\",\"aaxis\":{\"gridcolor\":\"white\",\"linecolor\":\"white\",\"ticks\":\"\"},\"baxis\":{\"gridcolor\":\"white\",\"linecolor\":\"white\",\"ticks\":\"\"},\"caxis\":{\"gridcolor\":\"white\",\"linecolor\":\"white\",\"ticks\":\"\"}},\"coloraxis\":{\"colorbar\":{\"outlinewidth\":0,\"ticks\":\"\"}},\"colorscale\":{\"sequential\":[[0.0,\"#0d0887\"],[0.1111111111111111,\"#46039f\"],[0.2222222222222222,\"#7201a8\"],[0.3333333333333333,\"#9c179e\"],[0.4444444444444444,\"#bd3786\"],[0.5555555555555556,\"#d8576b\"],[0.6666666666666666,\"#ed7953\"],[0.7777777777777778,\"#fb9f3a\"],[0.8888888888888888,\"#fdca26\"],[1.0,\"#f0f921\"]],\"sequentialminus\":[[0.0,\"#0d0887\"],[0.1111111111111111,\"#46039f\"],[0.2222222222222222,\"#7201a8\"],[0.3333333333333333,\"#9c179e\"],[0.4444444444444444,\"#bd3786\"],[0.5555555555555556,\"#d8576b\"],[0.6666666666666666,\"#ed7953\"],[0.7777777777777778,\"#fb9f3a\"],[0.8888888888888888,\"#fdca26\"],[1.0,\"#f0f921\"]],\"diverging\":[[0,\"#8e0152\"],[0.1,\"#c51b7d\"],[0.2,\"#de77ae\"],[0.3,\"#f1b6da\"],[0.4,\"#fde0ef\"],[0.5,\"#f7f7f7\"],[0.6,\"#e6f5d0\"],[0.7,\"#b8e186\"],[0.8,\"#7fbc41\"],[0.9,\"#4d9221\"],[1,\"#276419\"]]},\"xaxis\":{\"gridcolor\":\"white\",\"linecolor\":\"white\",\"ticks\":\"\",\"title\":{\"standoff\":15},\"zerolinecolor\":\"white\",\"automargin\":true,\"zerolinewidth\":2},\"yaxis\":{\"gridcolor\":\"white\",\"linecolor\":\"white\",\"ticks\":\"\",\"title\":{\"standoff\":15},\"zerolinecolor\":\"white\",\"automargin\":true,\"zerolinewidth\":2},\"scene\":{\"xaxis\":{\"backgroundcolor\":\"#E5ECF6\",\"gridcolor\":\"white\",\"linecolor\":\"white\",\"showbackground\":true,\"ticks\":\"\",\"zerolinecolor\":\"white\",\"gridwidth\":2},\"yaxis\":{\"backgroundcolor\":\"#E5ECF6\",\"gridcolor\":\"white\",\"linecolor\":\"white\",\"showbackground\":true,\"ticks\":\"\",\"zerolinecolor\":\"white\",\"gridwidth\":2},\"zaxis\":{\"backgroundcolor\":\"#E5ECF6\",\"gridcolor\":\"white\",\"linecolor\":\"white\",\"showbackground\":true,\"ticks\":\"\",\"zerolinecolor\":\"white\",\"gridwidth\":2}},\"shapedefaults\":{\"line\":{\"color\":\"#2a3f5f\"}},\"annotationdefaults\":{\"arrowcolor\":\"#2a3f5f\",\"arrowhead\":0,\"arrowwidth\":1},\"geo\":{\"bgcolor\":\"white\",\"landcolor\":\"#E5ECF6\",\"subunitcolor\":\"white\",\"showland\":true,\"showlakes\":true,\"lakecolor\":\"white\"},\"title\":{\"x\":0.05},\"mapbox\":{\"style\":\"light\"}}},\"font\":{\"size\":12},\"margin\":{\"l\":50,\"r\":50,\"t\":50,\"b\":50},\"xaxis\":{\"showgrid\":true,\"gridwidth\":1,\"gridcolor\":\"LightGray\"},\"yaxis\":{\"showgrid\":true,\"gridwidth\":1,\"gridcolor\":\"LightGray\"},\"title\":{\"font\":{\"size\":20},\"text\":\"Hydrogen Ring Polymer\\u003cbr\\u003e\\u003csup\\u003eInteractive 3D Visualization\\u003c\\u002fsup\\u003e\",\"y\":0.95,\"x\":0.5,\"xanchor\":\"center\",\"yanchor\":\"top\"},\"scene\":{\"xaxis\":{\"title\":{\"text\":\"X (\\u00c5)\"}},\"yaxis\":{\"title\":{\"text\":\"Y (\\u00c5)\"}},\"zaxis\":{\"title\":{\"text\":\"Z (\\u00c5)\"}},\"aspectmode\":\"cube\"},\"width\":500,\"height\":500,\"plot_bgcolor\":\"white\",\"hovermode\":\"closest\",\"annotations\":[{\"font\":{\"size\":12},\"showarrow\":false,\"text\":\"Drag to rotate | Scroll to zoom | Double-click to reset view\",\"x\":0.5,\"xref\":\"paper\",\"y\":-0.08,\"yref\":\"paper\"}]},                        {\"responsive\": true}                    ).then(function(){\n",
       "                            \n",
       "var gd = document.getElementById('f7cc4864-26b8-4e3f-b7d1-28febed4ffe4');\n",
       "var x = new MutationObserver(function (mutations, observer) {{\n",
       "        var display = window.getComputedStyle(gd).display;\n",
       "        if (!display || display === 'none') {{\n",
       "            console.log([gd, 'removed!']);\n",
       "            Plotly.purge(gd);\n",
       "            observer.disconnect();\n",
       "        }}\n",
       "}});\n",
       "\n",
       "// Listen for the removal of the full notebook cells\n",
       "var notebookContainer = gd.closest('#notebook-container');\n",
       "if (notebookContainer) {{\n",
       "    x.observe(notebookContainer, {childList: true});\n",
       "}}\n",
       "\n",
       "// Listen for the clearing of the current output cell\n",
       "var outputEl = gd.closest('.output');\n",
       "if (outputEl) {{\n",
       "    x.observe(outputEl, {childList: true});\n",
       "}}\n",
       "\n",
       "                        })                };                });            </script>        </div>"
      ]
     },
     "metadata": {},
     "output_type": "display_data"
    },
    {
     "name": "stdout",
     "output_type": "stream",
     "text": [
      "\n",
      "Oxygen Ring Polymer Properties:\n",
      "Beads:            2\n",
      "Maximum spread:   0.041 Å\n",
      "Centroid (x,y,z): (0.048, -0.024, 0.004) Å\n",
      "\n",
      "Hydrogen Ring Polymer Properties:\n",
      "Beads:            2\n",
      "Maximum spread:   0.144 Å\n",
      "Centroid (x,y,z): (0.461, 0.781, 0.134) Å\n"
     ]
    }
   ],
   "source": [
    "def plot_ring_polymer(positions, atom_idx, title, color='blue'):\n",
    "    \"\"\"Create interactive 3D visualization of ring polymer\"\"\"\n",
    "    # Get atomic positions and centroid\n",
    "    x = positions[:, atom_idx, 0]\n",
    "    y = positions[:, atom_idx, 1]\n",
    "    z = positions[:, atom_idx, 2]\n",
    "    centroid = np.mean(positions[:, atom_idx], axis=0)\n",
    "    \n",
    "    # Create figure\n",
    "    fig = go.Figure()\n",
    "    \n",
    "    # Plot beads\n",
    "    fig.add_trace(go.Scatter3d(\n",
    "        x=x, y=y, z=z,\n",
    "        mode='markers',\n",
    "        marker=dict(size=6, color=color, opacity=0.8),\n",
    "        name='Beads',\n",
    "        hovertemplate='x: %{x:.3f}<br>y: %{y:.3f}<br>z: %{z:.3f}<extra>Bead</extra>'\n",
    "    ))\n",
    "    \n",
    "    # Add connections\n",
    "    transparent_color = f'rgba{tuple(int(x) for x in plt.cm.colors.to_rgb(color)) + (0.3,)}'\n",
    "    for i in range(len(x)):\n",
    "        j = (i + 1) % len(x)\n",
    "        fig.add_trace(go.Scatter3d(\n",
    "            x=[x[i], x[j]], y=[y[i], y[j]], z=[z[i], z[j]],\n",
    "            mode='lines',\n",
    "            line=dict(color=transparent_color, width=2),\n",
    "            showlegend=False,\n",
    "            hoverinfo='skip'\n",
    "        ))\n",
    "    \n",
    "    # Add centroid\n",
    "    fig.add_trace(go.Scatter3d(\n",
    "        x=[centroid[0]], y=[centroid[1]], z=[centroid[2]],\n",
    "        mode='markers',\n",
    "        marker=dict(size=10, color='red', symbol='diamond'),\n",
    "        name='Centroid',\n",
    "        hovertemplate='x: %{x:.3f}<br>y: %{y:.3f}<br>z: %{z:.3f}<extra>Centroid</extra>'\n",
    "    ))\n",
    "    \n",
    "    # Configure layout\n",
    "    fig.update_layout(\n",
    "        plotly_layout_3d,\n",
    "        title={\n",
    "        'text': f'{title}<br><sup>Interactive 3D Visualization</sup>',\n",
    "        'font': {'size': 20},\n",
    "        'y': 0.95,\n",
    "        'x': 0.5,\n",
    "        'xanchor': 'center',\n",
    "        'yanchor': 'top'\n",
    "    },\n",
    "        scene=dict(\n",
    "            xaxis_title='X (Å)',\n",
    "            yaxis_title='Y (Å)',\n",
    "            zaxis_title='Z (Å)',\n",
    "            aspectmode='cube'\n",
    "        ),\n",
    "        annotations=[{\n",
    "            'text': 'Drag to rotate | Scroll to zoom | Double-click to reset view',\n",
    "            'showarrow': False,\n",
    "            'x': 0.5,\n",
    "            'y': -0.08,\n",
    "            'xref': 'paper',\n",
    "            'yref': 'paper',\n",
    "            'font': {'size': 12}\n",
    "        }]\n",
    "    )\n",
    "    return fig\n",
    "\n",
    "# Create visualizations\n",
    "print(\"Visualizing ring polymers (interactive 3D plots):\")\n",
    "\n",
    "# Oxygen polymer (blue)\n",
    "fig_o = plot_ring_polymer(all_bead_positions, 0, 'Oxygen Ring Polymer', 'blue')\n",
    "fig_o.show()\n",
    "\n",
    "# Hydrogen polymer (red)\n",
    "fig_h = plot_ring_polymer(all_bead_positions, 1, 'Hydrogen Ring Polymer', 'red')\n",
    "fig_h.show()\n",
    "\n",
    "# Print analysis\n",
    "for idx, atom in enumerate(['Oxygen', 'Hydrogen']):\n",
    "    centroid = np.mean(all_bead_positions[:, idx], axis=0)\n",
    "    max_spread = np.max(np.linalg.norm(all_bead_positions[:, idx] - centroid, axis=1))\n",
    "    \n",
    "    print(f\"\\n{atom} Ring Polymer Properties:\")\n",
    "    print(f\"Beads:            {len(all_bead_positions)}\")\n",
    "    print(f\"Maximum spread:   {max_spread:.3f} Å\")\n",
    "    print(f\"Centroid (x,y,z): ({centroid[0]:.3f}, {centroid[1]:.3f}, {centroid[2]:.3f}) Å\")"
   ]
  },
  {
   "cell_type": "markdown",
   "metadata": {},
   "source": [
    "## Discussion Questions\n",
    "\n",
    "1. Why is the radius of gyration different for oxygen and hydrogen atoms? What does this tell us about quantum effects?\n",
    "\n",
    "2. How does the average O-H bond length compare to the classical value? Why is there a distribution rather than a single value?\n",
    "\n",
    "3. What does the width of the H-O-H angle distribution tell us about the quantum nature of water?\n",
    "\n",
    "4. Looking at the ring polymer visualizations, why do hydrogen atoms show more spread than oxygen?"
   ]
  }
 ],
 "metadata": {
  "kernelspec": {
   "display_name": "Python 3",
   "language": "python",
   "name": "python3"
  },
  "language_info": {
   "codemirror_mode": {
    "name": "ipython",
    "version": 3
   },
   "file_extension": ".py",
   "mimetype": "text/x-python",
   "name": "python",
   "nbconvert_exporter": "python",
   "pygments_lexer": "ipython3",
   "version": "3.12.3"
  }
 },
 "nbformat": 4,
 "nbformat_minor": 4
}
