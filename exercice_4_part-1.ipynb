{
 "cells": [
  {
   "cell_type": "markdown",
   "metadata": {},
   "source": [
    "# Path Integral Molecular Dynamics Analysis of Water\n",
    "\n",
    "**Author:** Ouail Zakary  \n",
    "**ORCID:** [0000-0002-7793-3306](https://orcid.org/0000-0002-7793-3306)  \n",
    "**E-mail:** [Ouail.Zakary@oulu.fi](mailto:Ouail.Zakary@oulu.fi)  \n",
    "**Website:** [Ouail Zakary - webpage](https://cc.oulu.fi/~nmrwww/members/Ouail_Zakary.html)\n",
    "\n",
    "---\n",
    "\n",
    "This notebook provides analysis of Path Integral Molecular Dynamics (PIMD) simulations for a water molecule using `i-PI` with `LAMMPS` as the force engine. We implement the `q-TIP4P/f` water model to explore quantum nuclear effects and their influence on molecular properties.\n",
    "\n",
    "### Quantum Effects in Molecular Systems\n",
    "\n",
    "The Born-Oppenheimer approximation separates the joint quantum mechanical problem for electrons and nuclei into two independent problems. While it's common to treat nuclei as classical particles, this approximation can introduce significant errors, particularly for systems containing light atoms like hydrogen.\n",
    "\n",
    "### Path Integral Formalism\n",
    "\n",
    "To capture nuclear quantum effects, we use the path integral formalism, which maps the quantum partition function onto a classical system of ring polymers:\n",
    "\n",
    "- Each quantum particle is represented by P classical replicas (\"beads\")\n",
    "- Adjacent beads are connected by temperature-dependent harmonic springs\n",
    "- The spring frequency ω = P/(βℏ) determines the quantum character\n",
    "- The formalism exactly reproduces quantum statistics at the P → ∞ limit\n",
    "\n",
    "The textbook by [Tuckerman](https://global.oup.com/academic/product/statistical-mechanics-theory-and-molecular-simulation-9780198825562?cc=fi&lang=en&) contains a pedagogic introduction to the topic, while this [paper](https://pubs.aip.org/aip/jcp/article/133/12/124104/955703/Efficient-stochastic-thermostatting-of-path) outlines the implementation used in i-PI.\n",
    "\n",
    "\n",
    "\n",
    "### Ring-Polymer Representation\n",
    "\n",
    "<img src=\"./pimd-slices-round.png\" width=\"600\" alt=\"Graphical Abstract\">\n",
    "\n",
    "Schematic representation of the ring-polymer Hamiltonian for a water molecule\n",
    "\n",
    "### Analysis Overview\n",
    "\n",
    "In this notebook, we will:\n",
    "1. Process PIMD trajectory data from i-PI\n",
    "2. Analyze quantum delocalization through radius of gyration\n",
    "3. Study bond length and angle distributions\n",
    "4. Visualize ring polymer configurations\n",
    "\n",
    "### Required Packages:\n",
    "```bash\n",
    "pip install numpy matplotlib pandas scipy plotly\n",
    "```\n",
    "\n",
    "---"
   ]
  },
  {
   "cell_type": "markdown",
   "metadata": {},
   "source": [
    "# Analysis Setup\n",
    "\n",
    "For this PIMD analysis, we'll use several Python packages:\n",
    "- `numpy`: For numerical computations and array operations\n",
    "- `pandas`: For data manipulation and analysis\n",
    "- `plotly`: For creating interactive plots\n",
    "- `scipy`: For scientific computations and distance calculations\n",
    "- `glob`: For finding trajectory files\n",
    "\n",
    "The plotting configuration is set up to create:\n",
    "1. Regular 2D plots (600x600 pixels)\n",
    "2. 3D plots (500x500 pixels)\n",
    "\n",
    "All plots will have:\n",
    "- Interactive features (zoom, pan, hover information)\n",
    "- Clear grid lines\n",
    "- Professional formatting\n",
    "- Consistent styling\n",
    "\n",
    "Run the following cell to import the necessary packages and set up the plotting environment."
   ]
  },
  {
   "cell_type": "code",
   "execution_count": 75,
   "metadata": {},
   "outputs": [
    {
     "data": {
      "text/html": [
       "        <script type=\"text/javascript\">\n",
       "        window.PlotlyConfig = {MathJaxConfig: 'local'};\n",
       "        if (window.MathJax && window.MathJax.Hub && window.MathJax.Hub.Config) {window.MathJax.Hub.Config({SVG: {font: \"STIX-Web\"}});}\n",
       "        if (typeof require !== 'undefined') {\n",
       "        require.undef(\"plotly\");\n",
       "        requirejs.config({\n",
       "            paths: {\n",
       "                'plotly': ['https://cdn.plot.ly/plotly-2.34.0.min']\n",
       "            }\n",
       "        });\n",
       "        require(['plotly'], function(Plotly) {\n",
       "            window._Plotly = Plotly;\n",
       "        });\n",
       "        }\n",
       "        </script>\n",
       "        "
      ]
     },
     "metadata": {},
     "output_type": "display_data"
    },
    {
     "name": "stdout",
     "output_type": "stream",
     "text": [
      "Analysis environment ready!\n",
      "Plot dimensions: 600x600 pixels (2D), 500x500 pixels (3D)\n"
     ]
    }
   ],
   "source": [
    "# Import required packages\n",
    "import numpy as np\n",
    "import pandas as pd\n",
    "import plotly.graph_objects as go\n",
    "import plotly.express as px\n",
    "from plotly.subplots import make_subplots\n",
    "from scipy.spatial.distance import pdist, squareform\n",
    "import glob\n",
    "from plotly.offline import init_notebook_mode\n",
    "\n",
    "# Initialize plotly for notebook\n",
    "init_notebook_mode(connected=True)\n",
    "\n",
    "# Set default plot layout\n",
    "plotly_layout = dict(\n",
    "    width=600,\n",
    "    height=600,\n",
    "    font=dict(size=12),\n",
    "    margin=dict(l=50, r=50, t=50, b=50),\n",
    "    xaxis=dict(showgrid=True, gridwidth=1, gridcolor='LightGray'),\n",
    "    yaxis=dict(showgrid=True, gridwidth=1, gridcolor='LightGray'),\n",
    "    plot_bgcolor='white',\n",
    "    hovermode='closest'\n",
    ")\n",
    "\n",
    "# Set 3D plot layout\n",
    "plotly_layout_3d = plotly_layout.copy()\n",
    "plotly_layout_3d.update(width=500, height=500)\n",
    "\n",
    "print(\"Analysis environment ready!\")\n",
    "print(f\"Plot dimensions: {plotly_layout['width']}x{plotly_layout['height']} pixels (2D), \"\n",
    "      f\"{plotly_layout_3d['width']}x{plotly_layout_3d['height']} pixels (3D)\")"
   ]
  },
  {
   "cell_type": "markdown",
   "metadata": {},
   "source": [
    "## 1. Reading Simulation Data\n",
    "\n",
    "In Path Integral Molecular Dynamics (PIMD), the quantum nature of nuclei is represented through the ring polymer formalism. Each atom is represented by multiple copies (beads) of itself, connected by harmonic springs to form a ring polymer.\n",
    "\n",
    "We need to:\n",
    "1. Read the trajectory files for each bead (stored as .xyz files)\n",
    "2. Extract atomic positions from each frame\n",
    "3. Organize the data for analysis\n",
    "\n",
    "The trajectory files are named `simulation.pos_*.xyz`, where * represents the bead index (0 to N-1).\n",
    "\n",
    "### XYZ File Format:\n",
    "```\n",
    "3           # Number of atoms\n",
    "comment     # Comment line\n",
    "O  x y z    # Atom type and coordinates\n",
    "H  x y z\n",
    "H  x y z\n",
    "```\n",
    "\n",
    "Run the following cell to load the trajectory data for all beads."
   ]
  },
  {
   "cell_type": "code",
   "execution_count": 76,
   "metadata": {},
   "outputs": [
    {
     "name": "stdout",
     "output_type": "stream",
     "text": [
      "Found 8 beads in the simulation\n",
      "Each trajectory contains 101 frames\n",
      "System has 3 atoms\n"
     ]
    }
   ],
   "source": [
    "def read_xyz(filename):\n",
    "    \"\"\"Read XYZ trajectory file and extract atomic positions\n",
    "    \n",
    "    Returns:\n",
    "        numpy.ndarray: Array of shape (n_frames, n_atoms, 3) containing positions\n",
    "    \"\"\"\n",
    "    positions = []\n",
    "    with open(filename, 'r') as f:\n",
    "        while True:\n",
    "            try:\n",
    "                # Read number of atoms and skip comment line\n",
    "                n_atoms = int(f.readline())\n",
    "                f.readline()\n",
    "                \n",
    "                # Read atomic positions (skip atom type in column 0)\n",
    "                frame = []\n",
    "                for _ in range(n_atoms):\n",
    "                    line = f.readline().split()\n",
    "                    frame.append([float(x) for x in line[1:4]])\n",
    "                positions.append(frame)\n",
    "            except:\n",
    "                break\n",
    "    return np.array(positions)\n",
    "\n",
    "# Read trajectory files for all beads\n",
    "bead_files = sorted(glob.glob('./test/simulation.pos_*.xyz'))\n",
    "trajectories = [read_xyz(f) for f in bead_files]\n",
    "n_beads = len(trajectories)\n",
    "\n",
    "# Print summary\n",
    "print(f\"Found {n_beads} beads in the simulation\")\n",
    "if n_beads > 0:\n",
    "    print(f\"Each trajectory contains {len(trajectories[0])} frames\")\n",
    "    print(f\"System has {trajectories[0].shape[1]} atoms\")"
   ]
  },
  {
   "cell_type": "markdown",
   "metadata": {},
   "source": [
    "## 2. Analyzing Quantum Delocalization\n",
    "\n",
    "In PIMD, quantum delocalization is quantified by measuring how spread out the beads are for each atom. This spread is particularly noticeable for light atoms like hydrogen, due to their larger quantum fluctuations.\n",
    "\n",
    "### Radius of Gyration\n",
    "The quantum spread is measured using the radius of gyration ($R_g$), which is calculated for each atom as:\n",
    "\n",
    "$R_g = \\sqrt{\\frac{1}{P} \\sum_{i=1}^P (r_i - r_c)^2}$\n",
    "\n",
    "where:\n",
    "- $P$ is the number of beads\n",
    "- $r_i$ is the position of bead $i$\n",
    "- $r_c$ is the centroid position (average over all beads)\n",
    "\n",
    "### Parameters:\n",
    "1. **Centroid** ($r_c$):\n",
    "   - Represents the classical position of the atom\n",
    "   - Calculated as: $r_c = \\frac{1}{P} \\sum_{i=1}^P r_i$\n",
    "\n",
    "2. **Radius of Gyration** ($R_g$):\n",
    "   - Measures quantum delocalization\n",
    "   - Larger $R_g$ indicates stronger quantum effects\n",
    "   - Inversely related to particle mass ($R_g \\propto \\frac{1}{\\sqrt{m}}$)\n",
    "\n",
    "The following cell calculates $R_g$ for each atom and visualizes the quantum spread."
   ]
  },
  {
   "cell_type": "code",
   "execution_count": 77,
   "metadata": {},
   "outputs": [
    {
     "data": {
      "application/vnd.plotly.v1+json": {
       "config": {
        "plotlyServerURL": "https://plot.ly"
       },
       "data": [
        {
         "hovertemplate": "Atom: %{x}<br>Radius of Gyration: %{y:.3f} Å<extra></extra>",
         "marker": {
          "color": [
           "blue",
           "red",
           "red"
          ]
         },
         "text": [
          "0.049 Å",
          "0.148 Å",
          "0.150 Å"
         ],
         "textposition": "auto",
         "type": "bar",
         "x": [
          "O",
          "H1",
          "H2"
         ],
         "y": [
          0.04920967433238011,
          0.14828651356521982,
          0.1500710221325431
         ]
        }
       ],
       "layout": {
        "annotations": [
         {
          "font": {
           "size": 12
          },
          "showarrow": false,
          "text": "Larger radius of gyration indicates stronger quantum effects",
          "x": 0.5,
          "xref": "paper",
          "y": -0.25,
          "yref": "paper"
         }
        ],
        "font": {
         "size": 12
        },
        "height": 600,
        "hovermode": "closest",
        "margin": {
         "b": 50,
         "l": 50,
         "r": 50,
         "t": 50
        },
        "plot_bgcolor": "white",
        "showlegend": false,
        "template": {
         "data": {
          "bar": [
           {
            "error_x": {
             "color": "#2a3f5f"
            },
            "error_y": {
             "color": "#2a3f5f"
            },
            "marker": {
             "line": {
              "color": "#E5ECF6",
              "width": 0.5
             },
             "pattern": {
              "fillmode": "overlay",
              "size": 10,
              "solidity": 0.2
             }
            },
            "type": "bar"
           }
          ],
          "barpolar": [
           {
            "marker": {
             "line": {
              "color": "#E5ECF6",
              "width": 0.5
             },
             "pattern": {
              "fillmode": "overlay",
              "size": 10,
              "solidity": 0.2
             }
            },
            "type": "barpolar"
           }
          ],
          "carpet": [
           {
            "aaxis": {
             "endlinecolor": "#2a3f5f",
             "gridcolor": "white",
             "linecolor": "white",
             "minorgridcolor": "white",
             "startlinecolor": "#2a3f5f"
            },
            "baxis": {
             "endlinecolor": "#2a3f5f",
             "gridcolor": "white",
             "linecolor": "white",
             "minorgridcolor": "white",
             "startlinecolor": "#2a3f5f"
            },
            "type": "carpet"
           }
          ],
          "choropleth": [
           {
            "colorbar": {
             "outlinewidth": 0,
             "ticks": ""
            },
            "type": "choropleth"
           }
          ],
          "contour": [
           {
            "colorbar": {
             "outlinewidth": 0,
             "ticks": ""
            },
            "colorscale": [
             [
              0,
              "#0d0887"
             ],
             [
              0.1111111111111111,
              "#46039f"
             ],
             [
              0.2222222222222222,
              "#7201a8"
             ],
             [
              0.3333333333333333,
              "#9c179e"
             ],
             [
              0.4444444444444444,
              "#bd3786"
             ],
             [
              0.5555555555555556,
              "#d8576b"
             ],
             [
              0.6666666666666666,
              "#ed7953"
             ],
             [
              0.7777777777777778,
              "#fb9f3a"
             ],
             [
              0.8888888888888888,
              "#fdca26"
             ],
             [
              1,
              "#f0f921"
             ]
            ],
            "type": "contour"
           }
          ],
          "contourcarpet": [
           {
            "colorbar": {
             "outlinewidth": 0,
             "ticks": ""
            },
            "type": "contourcarpet"
           }
          ],
          "heatmap": [
           {
            "colorbar": {
             "outlinewidth": 0,
             "ticks": ""
            },
            "colorscale": [
             [
              0,
              "#0d0887"
             ],
             [
              0.1111111111111111,
              "#46039f"
             ],
             [
              0.2222222222222222,
              "#7201a8"
             ],
             [
              0.3333333333333333,
              "#9c179e"
             ],
             [
              0.4444444444444444,
              "#bd3786"
             ],
             [
              0.5555555555555556,
              "#d8576b"
             ],
             [
              0.6666666666666666,
              "#ed7953"
             ],
             [
              0.7777777777777778,
              "#fb9f3a"
             ],
             [
              0.8888888888888888,
              "#fdca26"
             ],
             [
              1,
              "#f0f921"
             ]
            ],
            "type": "heatmap"
           }
          ],
          "heatmapgl": [
           {
            "colorbar": {
             "outlinewidth": 0,
             "ticks": ""
            },
            "colorscale": [
             [
              0,
              "#0d0887"
             ],
             [
              0.1111111111111111,
              "#46039f"
             ],
             [
              0.2222222222222222,
              "#7201a8"
             ],
             [
              0.3333333333333333,
              "#9c179e"
             ],
             [
              0.4444444444444444,
              "#bd3786"
             ],
             [
              0.5555555555555556,
              "#d8576b"
             ],
             [
              0.6666666666666666,
              "#ed7953"
             ],
             [
              0.7777777777777778,
              "#fb9f3a"
             ],
             [
              0.8888888888888888,
              "#fdca26"
             ],
             [
              1,
              "#f0f921"
             ]
            ],
            "type": "heatmapgl"
           }
          ],
          "histogram": [
           {
            "marker": {
             "pattern": {
              "fillmode": "overlay",
              "size": 10,
              "solidity": 0.2
             }
            },
            "type": "histogram"
           }
          ],
          "histogram2d": [
           {
            "colorbar": {
             "outlinewidth": 0,
             "ticks": ""
            },
            "colorscale": [
             [
              0,
              "#0d0887"
             ],
             [
              0.1111111111111111,
              "#46039f"
             ],
             [
              0.2222222222222222,
              "#7201a8"
             ],
             [
              0.3333333333333333,
              "#9c179e"
             ],
             [
              0.4444444444444444,
              "#bd3786"
             ],
             [
              0.5555555555555556,
              "#d8576b"
             ],
             [
              0.6666666666666666,
              "#ed7953"
             ],
             [
              0.7777777777777778,
              "#fb9f3a"
             ],
             [
              0.8888888888888888,
              "#fdca26"
             ],
             [
              1,
              "#f0f921"
             ]
            ],
            "type": "histogram2d"
           }
          ],
          "histogram2dcontour": [
           {
            "colorbar": {
             "outlinewidth": 0,
             "ticks": ""
            },
            "colorscale": [
             [
              0,
              "#0d0887"
             ],
             [
              0.1111111111111111,
              "#46039f"
             ],
             [
              0.2222222222222222,
              "#7201a8"
             ],
             [
              0.3333333333333333,
              "#9c179e"
             ],
             [
              0.4444444444444444,
              "#bd3786"
             ],
             [
              0.5555555555555556,
              "#d8576b"
             ],
             [
              0.6666666666666666,
              "#ed7953"
             ],
             [
              0.7777777777777778,
              "#fb9f3a"
             ],
             [
              0.8888888888888888,
              "#fdca26"
             ],
             [
              1,
              "#f0f921"
             ]
            ],
            "type": "histogram2dcontour"
           }
          ],
          "mesh3d": [
           {
            "colorbar": {
             "outlinewidth": 0,
             "ticks": ""
            },
            "type": "mesh3d"
           }
          ],
          "parcoords": [
           {
            "line": {
             "colorbar": {
              "outlinewidth": 0,
              "ticks": ""
             }
            },
            "type": "parcoords"
           }
          ],
          "pie": [
           {
            "automargin": true,
            "type": "pie"
           }
          ],
          "scatter": [
           {
            "fillpattern": {
             "fillmode": "overlay",
             "size": 10,
             "solidity": 0.2
            },
            "type": "scatter"
           }
          ],
          "scatter3d": [
           {
            "line": {
             "colorbar": {
              "outlinewidth": 0,
              "ticks": ""
             }
            },
            "marker": {
             "colorbar": {
              "outlinewidth": 0,
              "ticks": ""
             }
            },
            "type": "scatter3d"
           }
          ],
          "scattercarpet": [
           {
            "marker": {
             "colorbar": {
              "outlinewidth": 0,
              "ticks": ""
             }
            },
            "type": "scattercarpet"
           }
          ],
          "scattergeo": [
           {
            "marker": {
             "colorbar": {
              "outlinewidth": 0,
              "ticks": ""
             }
            },
            "type": "scattergeo"
           }
          ],
          "scattergl": [
           {
            "marker": {
             "colorbar": {
              "outlinewidth": 0,
              "ticks": ""
             }
            },
            "type": "scattergl"
           }
          ],
          "scattermapbox": [
           {
            "marker": {
             "colorbar": {
              "outlinewidth": 0,
              "ticks": ""
             }
            },
            "type": "scattermapbox"
           }
          ],
          "scatterpolar": [
           {
            "marker": {
             "colorbar": {
              "outlinewidth": 0,
              "ticks": ""
             }
            },
            "type": "scatterpolar"
           }
          ],
          "scatterpolargl": [
           {
            "marker": {
             "colorbar": {
              "outlinewidth": 0,
              "ticks": ""
             }
            },
            "type": "scatterpolargl"
           }
          ],
          "scatterternary": [
           {
            "marker": {
             "colorbar": {
              "outlinewidth": 0,
              "ticks": ""
             }
            },
            "type": "scatterternary"
           }
          ],
          "surface": [
           {
            "colorbar": {
             "outlinewidth": 0,
             "ticks": ""
            },
            "colorscale": [
             [
              0,
              "#0d0887"
             ],
             [
              0.1111111111111111,
              "#46039f"
             ],
             [
              0.2222222222222222,
              "#7201a8"
             ],
             [
              0.3333333333333333,
              "#9c179e"
             ],
             [
              0.4444444444444444,
              "#bd3786"
             ],
             [
              0.5555555555555556,
              "#d8576b"
             ],
             [
              0.6666666666666666,
              "#ed7953"
             ],
             [
              0.7777777777777778,
              "#fb9f3a"
             ],
             [
              0.8888888888888888,
              "#fdca26"
             ],
             [
              1,
              "#f0f921"
             ]
            ],
            "type": "surface"
           }
          ],
          "table": [
           {
            "cells": {
             "fill": {
              "color": "#EBF0F8"
             },
             "line": {
              "color": "white"
             }
            },
            "header": {
             "fill": {
              "color": "#C8D4E3"
             },
             "line": {
              "color": "white"
             }
            },
            "type": "table"
           }
          ]
         },
         "layout": {
          "annotationdefaults": {
           "arrowcolor": "#2a3f5f",
           "arrowhead": 0,
           "arrowwidth": 1
          },
          "autotypenumbers": "strict",
          "coloraxis": {
           "colorbar": {
            "outlinewidth": 0,
            "ticks": ""
           }
          },
          "colorscale": {
           "diverging": [
            [
             0,
             "#8e0152"
            ],
            [
             0.1,
             "#c51b7d"
            ],
            [
             0.2,
             "#de77ae"
            ],
            [
             0.3,
             "#f1b6da"
            ],
            [
             0.4,
             "#fde0ef"
            ],
            [
             0.5,
             "#f7f7f7"
            ],
            [
             0.6,
             "#e6f5d0"
            ],
            [
             0.7,
             "#b8e186"
            ],
            [
             0.8,
             "#7fbc41"
            ],
            [
             0.9,
             "#4d9221"
            ],
            [
             1,
             "#276419"
            ]
           ],
           "sequential": [
            [
             0,
             "#0d0887"
            ],
            [
             0.1111111111111111,
             "#46039f"
            ],
            [
             0.2222222222222222,
             "#7201a8"
            ],
            [
             0.3333333333333333,
             "#9c179e"
            ],
            [
             0.4444444444444444,
             "#bd3786"
            ],
            [
             0.5555555555555556,
             "#d8576b"
            ],
            [
             0.6666666666666666,
             "#ed7953"
            ],
            [
             0.7777777777777778,
             "#fb9f3a"
            ],
            [
             0.8888888888888888,
             "#fdca26"
            ],
            [
             1,
             "#f0f921"
            ]
           ],
           "sequentialminus": [
            [
             0,
             "#0d0887"
            ],
            [
             0.1111111111111111,
             "#46039f"
            ],
            [
             0.2222222222222222,
             "#7201a8"
            ],
            [
             0.3333333333333333,
             "#9c179e"
            ],
            [
             0.4444444444444444,
             "#bd3786"
            ],
            [
             0.5555555555555556,
             "#d8576b"
            ],
            [
             0.6666666666666666,
             "#ed7953"
            ],
            [
             0.7777777777777778,
             "#fb9f3a"
            ],
            [
             0.8888888888888888,
             "#fdca26"
            ],
            [
             1,
             "#f0f921"
            ]
           ]
          },
          "colorway": [
           "#636efa",
           "#EF553B",
           "#00cc96",
           "#ab63fa",
           "#FFA15A",
           "#19d3f3",
           "#FF6692",
           "#B6E880",
           "#FF97FF",
           "#FECB52"
          ],
          "font": {
           "color": "#2a3f5f"
          },
          "geo": {
           "bgcolor": "white",
           "lakecolor": "white",
           "landcolor": "#E5ECF6",
           "showlakes": true,
           "showland": true,
           "subunitcolor": "white"
          },
          "hoverlabel": {
           "align": "left"
          },
          "hovermode": "closest",
          "mapbox": {
           "style": "light"
          },
          "paper_bgcolor": "white",
          "plot_bgcolor": "#E5ECF6",
          "polar": {
           "angularaxis": {
            "gridcolor": "white",
            "linecolor": "white",
            "ticks": ""
           },
           "bgcolor": "#E5ECF6",
           "radialaxis": {
            "gridcolor": "white",
            "linecolor": "white",
            "ticks": ""
           }
          },
          "scene": {
           "xaxis": {
            "backgroundcolor": "#E5ECF6",
            "gridcolor": "white",
            "gridwidth": 2,
            "linecolor": "white",
            "showbackground": true,
            "ticks": "",
            "zerolinecolor": "white"
           },
           "yaxis": {
            "backgroundcolor": "#E5ECF6",
            "gridcolor": "white",
            "gridwidth": 2,
            "linecolor": "white",
            "showbackground": true,
            "ticks": "",
            "zerolinecolor": "white"
           },
           "zaxis": {
            "backgroundcolor": "#E5ECF6",
            "gridcolor": "white",
            "gridwidth": 2,
            "linecolor": "white",
            "showbackground": true,
            "ticks": "",
            "zerolinecolor": "white"
           }
          },
          "shapedefaults": {
           "line": {
            "color": "#2a3f5f"
           }
          },
          "ternary": {
           "aaxis": {
            "gridcolor": "white",
            "linecolor": "white",
            "ticks": ""
           },
           "baxis": {
            "gridcolor": "white",
            "linecolor": "white",
            "ticks": ""
           },
           "bgcolor": "#E5ECF6",
           "caxis": {
            "gridcolor": "white",
            "linecolor": "white",
            "ticks": ""
           }
          },
          "title": {
           "x": 0.05
          },
          "xaxis": {
           "automargin": true,
           "gridcolor": "white",
           "linecolor": "white",
           "ticks": "",
           "title": {
            "standoff": 15
           },
           "zerolinecolor": "white",
           "zerolinewidth": 2
          },
          "yaxis": {
           "automargin": true,
           "gridcolor": "white",
           "linecolor": "white",
           "ticks": "",
           "title": {
            "standoff": 15
           },
           "zerolinecolor": "white",
           "zerolinewidth": 2
          }
         }
        },
        "title": {
         "font": {
          "size": 20
         },
         "text": "Quantum Delocalization of Atoms",
         "x": 0.5,
         "xanchor": "center",
         "y": 0.95,
         "yanchor": "top"
        },
        "width": 600,
        "xaxis": {
         "gridcolor": "LightGray",
         "gridwidth": 1,
         "showgrid": true,
         "title": {
          "text": "Atom"
         }
        },
        "yaxis": {
         "gridcolor": "LightGray",
         "gridwidth": 1,
         "showgrid": true,
         "title": {
          "text": "Radius of Gyration (Å)"
         }
        }
       }
      },
      "text/html": [
       "<div>                            <div id=\"23c5cb6a-bee1-48eb-bc97-fd154fee079a\" class=\"plotly-graph-div\" style=\"height:600px; width:600px;\"></div>            <script type=\"text/javascript\">                require([\"plotly\"], function(Plotly) {                    window.PLOTLYENV=window.PLOTLYENV || {};                                    if (document.getElementById(\"23c5cb6a-bee1-48eb-bc97-fd154fee079a\")) {                    Plotly.newPlot(                        \"23c5cb6a-bee1-48eb-bc97-fd154fee079a\",                        [{\"hovertemplate\":\"Atom: %{x}\\u003cbr\\u003eRadius of Gyration: %{y:.3f} \\u00c5\\u003cextra\\u003e\\u003c\\u002fextra\\u003e\",\"marker\":{\"color\":[\"blue\",\"red\",\"red\"]},\"text\":[\"0.049 \\u00c5\",\"0.148 \\u00c5\",\"0.150 \\u00c5\"],\"textposition\":\"auto\",\"x\":[\"O\",\"H1\",\"H2\"],\"y\":[0.04920967433238011,0.14828651356521982,0.1500710221325431],\"type\":\"bar\"}],                        {\"template\":{\"data\":{\"histogram2dcontour\":[{\"type\":\"histogram2dcontour\",\"colorbar\":{\"outlinewidth\":0,\"ticks\":\"\"},\"colorscale\":[[0.0,\"#0d0887\"],[0.1111111111111111,\"#46039f\"],[0.2222222222222222,\"#7201a8\"],[0.3333333333333333,\"#9c179e\"],[0.4444444444444444,\"#bd3786\"],[0.5555555555555556,\"#d8576b\"],[0.6666666666666666,\"#ed7953\"],[0.7777777777777778,\"#fb9f3a\"],[0.8888888888888888,\"#fdca26\"],[1.0,\"#f0f921\"]]}],\"choropleth\":[{\"type\":\"choropleth\",\"colorbar\":{\"outlinewidth\":0,\"ticks\":\"\"}}],\"histogram2d\":[{\"type\":\"histogram2d\",\"colorbar\":{\"outlinewidth\":0,\"ticks\":\"\"},\"colorscale\":[[0.0,\"#0d0887\"],[0.1111111111111111,\"#46039f\"],[0.2222222222222222,\"#7201a8\"],[0.3333333333333333,\"#9c179e\"],[0.4444444444444444,\"#bd3786\"],[0.5555555555555556,\"#d8576b\"],[0.6666666666666666,\"#ed7953\"],[0.7777777777777778,\"#fb9f3a\"],[0.8888888888888888,\"#fdca26\"],[1.0,\"#f0f921\"]]}],\"heatmap\":[{\"type\":\"heatmap\",\"colorbar\":{\"outlinewidth\":0,\"ticks\":\"\"},\"colorscale\":[[0.0,\"#0d0887\"],[0.1111111111111111,\"#46039f\"],[0.2222222222222222,\"#7201a8\"],[0.3333333333333333,\"#9c179e\"],[0.4444444444444444,\"#bd3786\"],[0.5555555555555556,\"#d8576b\"],[0.6666666666666666,\"#ed7953\"],[0.7777777777777778,\"#fb9f3a\"],[0.8888888888888888,\"#fdca26\"],[1.0,\"#f0f921\"]]}],\"heatmapgl\":[{\"type\":\"heatmapgl\",\"colorbar\":{\"outlinewidth\":0,\"ticks\":\"\"},\"colorscale\":[[0.0,\"#0d0887\"],[0.1111111111111111,\"#46039f\"],[0.2222222222222222,\"#7201a8\"],[0.3333333333333333,\"#9c179e\"],[0.4444444444444444,\"#bd3786\"],[0.5555555555555556,\"#d8576b\"],[0.6666666666666666,\"#ed7953\"],[0.7777777777777778,\"#fb9f3a\"],[0.8888888888888888,\"#fdca26\"],[1.0,\"#f0f921\"]]}],\"contourcarpet\":[{\"type\":\"contourcarpet\",\"colorbar\":{\"outlinewidth\":0,\"ticks\":\"\"}}],\"contour\":[{\"type\":\"contour\",\"colorbar\":{\"outlinewidth\":0,\"ticks\":\"\"},\"colorscale\":[[0.0,\"#0d0887\"],[0.1111111111111111,\"#46039f\"],[0.2222222222222222,\"#7201a8\"],[0.3333333333333333,\"#9c179e\"],[0.4444444444444444,\"#bd3786\"],[0.5555555555555556,\"#d8576b\"],[0.6666666666666666,\"#ed7953\"],[0.7777777777777778,\"#fb9f3a\"],[0.8888888888888888,\"#fdca26\"],[1.0,\"#f0f921\"]]}],\"surface\":[{\"type\":\"surface\",\"colorbar\":{\"outlinewidth\":0,\"ticks\":\"\"},\"colorscale\":[[0.0,\"#0d0887\"],[0.1111111111111111,\"#46039f\"],[0.2222222222222222,\"#7201a8\"],[0.3333333333333333,\"#9c179e\"],[0.4444444444444444,\"#bd3786\"],[0.5555555555555556,\"#d8576b\"],[0.6666666666666666,\"#ed7953\"],[0.7777777777777778,\"#fb9f3a\"],[0.8888888888888888,\"#fdca26\"],[1.0,\"#f0f921\"]]}],\"mesh3d\":[{\"type\":\"mesh3d\",\"colorbar\":{\"outlinewidth\":0,\"ticks\":\"\"}}],\"scatter\":[{\"fillpattern\":{\"fillmode\":\"overlay\",\"size\":10,\"solidity\":0.2},\"type\":\"scatter\"}],\"parcoords\":[{\"type\":\"parcoords\",\"line\":{\"colorbar\":{\"outlinewidth\":0,\"ticks\":\"\"}}}],\"scatterpolargl\":[{\"type\":\"scatterpolargl\",\"marker\":{\"colorbar\":{\"outlinewidth\":0,\"ticks\":\"\"}}}],\"bar\":[{\"error_x\":{\"color\":\"#2a3f5f\"},\"error_y\":{\"color\":\"#2a3f5f\"},\"marker\":{\"line\":{\"color\":\"#E5ECF6\",\"width\":0.5},\"pattern\":{\"fillmode\":\"overlay\",\"size\":10,\"solidity\":0.2}},\"type\":\"bar\"}],\"scattergeo\":[{\"type\":\"scattergeo\",\"marker\":{\"colorbar\":{\"outlinewidth\":0,\"ticks\":\"\"}}}],\"scatterpolar\":[{\"type\":\"scatterpolar\",\"marker\":{\"colorbar\":{\"outlinewidth\":0,\"ticks\":\"\"}}}],\"histogram\":[{\"marker\":{\"pattern\":{\"fillmode\":\"overlay\",\"size\":10,\"solidity\":0.2}},\"type\":\"histogram\"}],\"scattergl\":[{\"type\":\"scattergl\",\"marker\":{\"colorbar\":{\"outlinewidth\":0,\"ticks\":\"\"}}}],\"scatter3d\":[{\"type\":\"scatter3d\",\"line\":{\"colorbar\":{\"outlinewidth\":0,\"ticks\":\"\"}},\"marker\":{\"colorbar\":{\"outlinewidth\":0,\"ticks\":\"\"}}}],\"scattermapbox\":[{\"type\":\"scattermapbox\",\"marker\":{\"colorbar\":{\"outlinewidth\":0,\"ticks\":\"\"}}}],\"scatterternary\":[{\"type\":\"scatterternary\",\"marker\":{\"colorbar\":{\"outlinewidth\":0,\"ticks\":\"\"}}}],\"scattercarpet\":[{\"type\":\"scattercarpet\",\"marker\":{\"colorbar\":{\"outlinewidth\":0,\"ticks\":\"\"}}}],\"carpet\":[{\"aaxis\":{\"endlinecolor\":\"#2a3f5f\",\"gridcolor\":\"white\",\"linecolor\":\"white\",\"minorgridcolor\":\"white\",\"startlinecolor\":\"#2a3f5f\"},\"baxis\":{\"endlinecolor\":\"#2a3f5f\",\"gridcolor\":\"white\",\"linecolor\":\"white\",\"minorgridcolor\":\"white\",\"startlinecolor\":\"#2a3f5f\"},\"type\":\"carpet\"}],\"table\":[{\"cells\":{\"fill\":{\"color\":\"#EBF0F8\"},\"line\":{\"color\":\"white\"}},\"header\":{\"fill\":{\"color\":\"#C8D4E3\"},\"line\":{\"color\":\"white\"}},\"type\":\"table\"}],\"barpolar\":[{\"marker\":{\"line\":{\"color\":\"#E5ECF6\",\"width\":0.5},\"pattern\":{\"fillmode\":\"overlay\",\"size\":10,\"solidity\":0.2}},\"type\":\"barpolar\"}],\"pie\":[{\"automargin\":true,\"type\":\"pie\"}]},\"layout\":{\"autotypenumbers\":\"strict\",\"colorway\":[\"#636efa\",\"#EF553B\",\"#00cc96\",\"#ab63fa\",\"#FFA15A\",\"#19d3f3\",\"#FF6692\",\"#B6E880\",\"#FF97FF\",\"#FECB52\"],\"font\":{\"color\":\"#2a3f5f\"},\"hovermode\":\"closest\",\"hoverlabel\":{\"align\":\"left\"},\"paper_bgcolor\":\"white\",\"plot_bgcolor\":\"#E5ECF6\",\"polar\":{\"bgcolor\":\"#E5ECF6\",\"angularaxis\":{\"gridcolor\":\"white\",\"linecolor\":\"white\",\"ticks\":\"\"},\"radialaxis\":{\"gridcolor\":\"white\",\"linecolor\":\"white\",\"ticks\":\"\"}},\"ternary\":{\"bgcolor\":\"#E5ECF6\",\"aaxis\":{\"gridcolor\":\"white\",\"linecolor\":\"white\",\"ticks\":\"\"},\"baxis\":{\"gridcolor\":\"white\",\"linecolor\":\"white\",\"ticks\":\"\"},\"caxis\":{\"gridcolor\":\"white\",\"linecolor\":\"white\",\"ticks\":\"\"}},\"coloraxis\":{\"colorbar\":{\"outlinewidth\":0,\"ticks\":\"\"}},\"colorscale\":{\"sequential\":[[0.0,\"#0d0887\"],[0.1111111111111111,\"#46039f\"],[0.2222222222222222,\"#7201a8\"],[0.3333333333333333,\"#9c179e\"],[0.4444444444444444,\"#bd3786\"],[0.5555555555555556,\"#d8576b\"],[0.6666666666666666,\"#ed7953\"],[0.7777777777777778,\"#fb9f3a\"],[0.8888888888888888,\"#fdca26\"],[1.0,\"#f0f921\"]],\"sequentialminus\":[[0.0,\"#0d0887\"],[0.1111111111111111,\"#46039f\"],[0.2222222222222222,\"#7201a8\"],[0.3333333333333333,\"#9c179e\"],[0.4444444444444444,\"#bd3786\"],[0.5555555555555556,\"#d8576b\"],[0.6666666666666666,\"#ed7953\"],[0.7777777777777778,\"#fb9f3a\"],[0.8888888888888888,\"#fdca26\"],[1.0,\"#f0f921\"]],\"diverging\":[[0,\"#8e0152\"],[0.1,\"#c51b7d\"],[0.2,\"#de77ae\"],[0.3,\"#f1b6da\"],[0.4,\"#fde0ef\"],[0.5,\"#f7f7f7\"],[0.6,\"#e6f5d0\"],[0.7,\"#b8e186\"],[0.8,\"#7fbc41\"],[0.9,\"#4d9221\"],[1,\"#276419\"]]},\"xaxis\":{\"gridcolor\":\"white\",\"linecolor\":\"white\",\"ticks\":\"\",\"title\":{\"standoff\":15},\"zerolinecolor\":\"white\",\"automargin\":true,\"zerolinewidth\":2},\"yaxis\":{\"gridcolor\":\"white\",\"linecolor\":\"white\",\"ticks\":\"\",\"title\":{\"standoff\":15},\"zerolinecolor\":\"white\",\"automargin\":true,\"zerolinewidth\":2},\"scene\":{\"xaxis\":{\"backgroundcolor\":\"#E5ECF6\",\"gridcolor\":\"white\",\"linecolor\":\"white\",\"showbackground\":true,\"ticks\":\"\",\"zerolinecolor\":\"white\",\"gridwidth\":2},\"yaxis\":{\"backgroundcolor\":\"#E5ECF6\",\"gridcolor\":\"white\",\"linecolor\":\"white\",\"showbackground\":true,\"ticks\":\"\",\"zerolinecolor\":\"white\",\"gridwidth\":2},\"zaxis\":{\"backgroundcolor\":\"#E5ECF6\",\"gridcolor\":\"white\",\"linecolor\":\"white\",\"showbackground\":true,\"ticks\":\"\",\"zerolinecolor\":\"white\",\"gridwidth\":2}},\"shapedefaults\":{\"line\":{\"color\":\"#2a3f5f\"}},\"annotationdefaults\":{\"arrowcolor\":\"#2a3f5f\",\"arrowhead\":0,\"arrowwidth\":1},\"geo\":{\"bgcolor\":\"white\",\"landcolor\":\"#E5ECF6\",\"subunitcolor\":\"white\",\"showland\":true,\"showlakes\":true,\"lakecolor\":\"white\"},\"title\":{\"x\":0.05},\"mapbox\":{\"style\":\"light\"}}},\"font\":{\"size\":12},\"margin\":{\"l\":50,\"r\":50,\"t\":50,\"b\":50},\"xaxis\":{\"showgrid\":true,\"gridwidth\":1,\"gridcolor\":\"LightGray\",\"title\":{\"text\":\"Atom\"}},\"yaxis\":{\"showgrid\":true,\"gridwidth\":1,\"gridcolor\":\"LightGray\",\"title\":{\"text\":\"Radius of Gyration (\\u00c5)\"}},\"title\":{\"font\":{\"size\":20},\"text\":\"Quantum Delocalization of Atoms\",\"y\":0.95,\"x\":0.5,\"xanchor\":\"center\",\"yanchor\":\"top\"},\"width\":600,\"height\":600,\"plot_bgcolor\":\"white\",\"hovermode\":\"closest\",\"showlegend\":false,\"annotations\":[{\"font\":{\"size\":12},\"showarrow\":false,\"text\":\"Larger radius of gyration indicates stronger quantum effects\",\"x\":0.5,\"xref\":\"paper\",\"y\":-0.25,\"yref\":\"paper\"}]},                        {\"responsive\": true}                    ).then(function(){\n",
       "                            \n",
       "var gd = document.getElementById('23c5cb6a-bee1-48eb-bc97-fd154fee079a');\n",
       "var x = new MutationObserver(function (mutations, observer) {{\n",
       "        var display = window.getComputedStyle(gd).display;\n",
       "        if (!display || display === 'none') {{\n",
       "            console.log([gd, 'removed!']);\n",
       "            Plotly.purge(gd);\n",
       "            observer.disconnect();\n",
       "        }}\n",
       "}});\n",
       "\n",
       "// Listen for the removal of the full notebook cells\n",
       "var notebookContainer = gd.closest('#notebook-container');\n",
       "if (notebookContainer) {{\n",
       "    x.observe(notebookContainer, {childList: true});\n",
       "}}\n",
       "\n",
       "// Listen for the clearing of the current output cell\n",
       "var outputEl = gd.closest('.output');\n",
       "if (outputEl) {{\n",
       "    x.observe(outputEl, {childList: true});\n",
       "}}\n",
       "\n",
       "                        })                };                });            </script>        </div>"
      ]
     },
     "metadata": {},
     "output_type": "display_data"
    },
    {
     "name": "stdout",
     "output_type": "stream",
     "text": [
      "\n",
      "Quantum Delocalization Analysis:\n",
      "------------------------------\n",
      "Oxygen (m=16 amu):     0.049 Å\n",
      "Hydrogen 1 (m=1 amu):  0.148 Å\n",
      "Hydrogen 2 (m=1 amu):  0.150 Å\n"
     ]
    }
   ],
   "source": [
    "def calculate_radius_of_gyration(positions):\n",
    "    \"\"\"Calculate radius of gyration for quantum delocalization analysis\"\"\"\n",
    "    centroid = np.mean(positions, axis=0)\n",
    "    rg = np.sqrt(np.mean(np.sum((positions - centroid)**2, axis=2), axis=0))\n",
    "    return rg\n",
    "\n",
    "# Calculate Rg for last frame\n",
    "frame_idx = -1\n",
    "all_bead_positions = np.array([traj[frame_idx] for traj in trajectories])\n",
    "rg = calculate_radius_of_gyration(all_bead_positions)\n",
    "\n",
    "# Create visualization\n",
    "fig = go.Figure(go.Bar(\n",
    "    x=['O', 'H1', 'H2'],\n",
    "    y=rg,\n",
    "    text=[f'{val:.3f} Å' for val in rg],\n",
    "    textposition='auto',\n",
    "    marker_color=['blue', 'red', 'red'],\n",
    "    hovertemplate='Atom: %{x}<br>Radius of Gyration: %{y:.3f} Å<extra></extra>'\n",
    "))\n",
    "\n",
    "# Configure plot\n",
    "fig.update_layout(\n",
    "    plotly_layout,\n",
    "    title={\n",
    "        'text': 'Quantum Delocalization of Atoms',\n",
    "        'font': {'size': 20},\n",
    "        'y': 0.95,\n",
    "        'x': 0.5,\n",
    "        'xanchor': 'center',\n",
    "        'yanchor': 'top'\n",
    "    },\n",
    "    xaxis_title='Atom',\n",
    "    yaxis_title='Radius of Gyration (Å)',\n",
    "    showlegend=False,\n",
    "    annotations=[{\n",
    "        'text': 'Larger radius of gyration indicates stronger quantum effects',\n",
    "        'showarrow': False,\n",
    "        'x': 0.5,\n",
    "        'y': -0.25,\n",
    "        'xref': 'paper',\n",
    "        'yref': 'paper',\n",
    "        'font': {'size': 12}\n",
    "    }]\n",
    ")\n",
    "fig.show()\n",
    "\n",
    "# Print analysis\n",
    "print(\"\\nQuantum Delocalization Analysis:\")\n",
    "print(\"-\" * 30)\n",
    "print(f\"Oxygen (m=16 amu):     {rg[0]:.3f} Å\")\n",
    "print(f\"Hydrogen 1 (m=1 amu):  {rg[1]:.3f} Å\")\n",
    "print(f\"Hydrogen 2 (m=1 amu):  {rg[2]:.3f} Å\")"
   ]
  },
  {
   "cell_type": "markdown",
   "metadata": {},
   "source": [
    "## 3. Bond Length Analysis\n",
    "\n",
    "Both classical MD and PIMD show distributions of bond lengths, but for different physical reasons:\n",
    "\n",
    "### Classical MD Distribution:\n",
    "- Thermal fluctuations cause bonds to vibrate\n",
    "- Distribution width increases with temperature\n",
    "- Symmetric distribution around equilibrium length\n",
    "- Bond vibrations follow classical mechanics\n",
    "\n",
    "### PIMD Additional Features:\n",
    "- Each atom is represented by P beads (ring polymer)\n",
    "- Distribution includes both:\n",
    "  1. Thermal fluctuations (as in classical MD)\n",
    "  2. Quantum zero-point motion and tunneling effects\n",
    "- Generally wider distribution than classical MD\n",
    "- Often shows asymmetry due to anharmonicity\n",
    "\n",
    "### Calculation Method:\n",
    "1. For each frame in the trajectory:\n",
    "   - Calculate O-H distances for all P beads\n",
    "   - This gives P×2 distances (2 hydrogens) per frame\n",
    "2. Combine all distances into one distribution:\n",
    "   - All frames\n",
    "   - All beads\n",
    "   - Both O-H bonds\n",
    "\n",
    "### Mathematical Expression:\n",
    "For frame $t$, bead $i$, the O-H bond length is:\n",
    "\n",
    "$r_{OH}^{(i,t)} = ||\\mathbf{r}_H^{(i,t)} - \\mathbf{r}_O^{(i,t)}||$\n",
    "\n",
    "Total number of bond lengths = (number of frames) × (number of beads) × 2\n",
    "\n",
    "The following cell performs this analysis and plots the resulting distribution."
   ]
  },
  {
   "cell_type": "code",
   "execution_count": 78,
   "metadata": {},
   "outputs": [
    {
     "data": {
      "application/vnd.plotly.v1+json": {
       "config": {
        "plotlyServerURL": "https://plot.ly"
       },
       "data": [
        {
         "histnorm": "probability density",
         "hovertemplate": "Bond Length: %{x:.3f} Å<br>Density: %{y:.3f}<extra></extra>",
         "name": "O-H bonds",
         "nbinsx": 50,
         "type": "histogram",
         "x": [
          0.506952,
          0.8089418560336924,
          0.9259302470857133,
          1.0709848871480987,
          0.9578678545637128,
          0.9544916572075106,
          0.8686432831144424,
          0.9202814087323714,
          1.0249141211611683,
          0.9011572441480177,
          0.9920862444718301,
          0.9228985457694903,
          0.9389812802702192,
          1.001677643553403,
          0.9714095023781938,
          0.9734689296704748,
          0.9781204635347376,
          0.9688341471370936,
          0.9509108113354804,
          0.9325667322509313,
          0.9285771182228917,
          0.9949292571576434,
          0.8995490599800737,
          0.9822018190754385,
          0.8403712410860987,
          0.9210737755973312,
          0.9826123075296647,
          0.8900400440082064,
          0.888876591860654,
          0.9229498437021117,
          0.9569050177522167,
          0.9429920154314033,
          0.9276485674243722,
          0.9125178411299457,
          0.9612981618030537,
          0.9194745332083386,
          0.8719076616717449,
          0.9632046347217658,
          0.9557042043340106,
          0.9122735243281589,
          0.8870200664979119,
          0.9605127155526626,
          0.97899822777389,
          0.906089303079037,
          0.967700094100016,
          0.8954047447248982,
          0.9463881823180328,
          0.9205659236792316,
          0.9401981048978774,
          0.9241860855942542,
          0.9510317883867088,
          0.9131611669879365,
          0.911483795472421,
          0.9665178350707984,
          0.9227295369173135,
          0.9663462784622732,
          0.9787781065387162,
          0.9696660021468525,
          0.9199976832996537,
          0.9281035616971848,
          0.9528842894501829,
          0.8765134570239858,
          0.9475498156960878,
          1.005736207941044,
          0.939469085934109,
          0.8774493652565194,
          0.9617571271345163,
          0.9707324478452752,
          0.9033054814043509,
          0.8927306042743129,
          0.9115292525894877,
          1.0019438201749387,
          0.9739839360518123,
          1.0087394724266965,
          0.8966484270897095,
          0.9739593914502904,
          0.8992803187829403,
          0.9568205241183232,
          0.9320350219561465,
          0.9873317767326997,
          1.0071112159489648,
          0.893616545226686,
          1.0024510626365526,
          0.9236112706452484,
          0.9136123865546647,
          0.9687902422320775,
          0.9598193608801097,
          0.9639769751284009,
          0.9699504902270271,
          0.9186562119614988,
          0.9062052881315028,
          0.9584955239618318,
          0.9294534107216457,
          0.9663414914021129,
          0.8692952606202566,
          0.9572183676388841,
          0.9573421479223507,
          0.9555944014376548,
          0.9218373151704051,
          0.9421830961637021,
          0.9441940163602235,
          0.506952,
          0.7546170753221952,
          0.9388120698605154,
          0.9796423743218693,
          1.001429276439586,
          0.9611433404410447,
          0.9148418203153756,
          1.0211408546092502,
          0.9490498589722538,
          0.983459666607107,
          0.9620175568614223,
          1.019813755985837,
          0.9455647846619764,
          0.9237537487940441,
          0.9705689522879827,
          0.9007056488095819,
          0.9614532680673461,
          0.9242493784515131,
          0.9845939414708699,
          1.0124050827498399,
          0.9160021316980494,
          0.9171480590006733,
          0.9529231338567606,
          0.905642394182247,
          0.9004925945219815,
          0.8614725151912851,
          0.8688205886598739,
          0.8924054015675982,
          1.0274919172927564,
          0.9038546328515776,
          0.9763248935070642,
          0.940551910261725,
          0.878711953089072,
          0.8967476129213525,
          0.9235543792454476,
          0.9016911828233599,
          0.8962548511622032,
          0.8641667164002846,
          0.9382133715818487,
          0.9168301664375196,
          1.0181474920161047,
          0.9360400673722573,
          0.9179046731765845,
          1.0076772159105813,
          0.8874999455492096,
          0.9046573134035948,
          0.8870938284266608,
          0.8729283985438039,
          0.8903640847034164,
          0.8916412920315995,
          1.0026687205894105,
          0.9698723136252988,
          0.9752421088650602,
          0.9683121142682353,
          0.9284195159919356,
          1.0207147549408795,
          0.9693352793927096,
          0.9459397859499113,
          0.9203927778640487,
          0.9492168177411795,
          1.0418432371415483,
          0.8905971787457164,
          0.9329420531600878,
          0.9818133925874559,
          0.9113840387112312,
          0.8764769080539238,
          1.0074912664916578,
          0.9203065623942652,
          0.9436820966145114,
          0.883492997895569,
          0.8776475940303055,
          0.9554626372290652,
          1.0290964704574894,
          0.8609843058848285,
          0.9612869512064959,
          0.9941944631458979,
          0.9952492898782194,
          0.9390064216603047,
          0.9149770512978891,
          0.8980030620303284,
          0.8877679858650006,
          1.0272102141941444,
          0.9295439572543626,
          0.9177299854616497,
          0.949707404731631,
          0.9166352358258496,
          0.9095615489911479,
          0.9528748895783329,
          0.9401897426161783,
          0.8715092910725565,
          0.9564090828358648,
          0.9381848333653398,
          0.8937507017946352,
          0.9990576061329018,
          0.8489479766645446,
          0.9484735250260994,
          1.0069971684765255,
          0.9591716636355194,
          0.9864010083701,
          0.9474848299453716,
          0.9423060331450074,
          0.506952,
          0.6909199805512429,
          0.9809906264981181,
          1.0372175187960528,
          0.9780293565781857,
          0.9657331576986258,
          0.9099953805111763,
          0.9752037585981558,
          0.9734894978135065,
          0.9953032809469082,
          0.969956158034986,
          0.9726255039546002,
          1.0017645651656892,
          0.9034722326711563,
          1.0131546840263095,
          0.9563020363402978,
          0.8097019270427463,
          0.93156033834735,
          0.9269271164695021,
          0.9196057725116401,
          0.9945777632347156,
          0.9477997296507633,
          0.9297010569936153,
          0.8941843232657682,
          0.9772343160120248,
          0.9512357740747821,
          0.9646016886816858,
          0.9594607357401488,
          0.9088643500736565,
          0.9255483581862484,
          1.0231497792575923,
          0.9180649403884074,
          0.8825628817060233,
          0.9687033052507955,
          0.9466439014411755,
          0.9311396650444981,
          0.9389656197867667,
          0.9183164985328207,
          0.9233877777477131,
          1.0256894563585028,
          0.9848873705576484,
          0.907855388232453,
          0.9253960591009128,
          0.9718705481882967,
          0.9452302728067378,
          0.8425904010765374,
          0.8589305877343175,
          0.9168296144302966,
          0.9443541752377972,
          0.9025653245381023,
          0.9950816386415581,
          1.0778302452117958,
          0.9717211135237892,
          0.8821751229946241,
          1.0077218961378085,
          1.0281657320925746,
          0.9616173706297229,
          0.883350804049569,
          0.9424492381349884,
          0.9491012057177307,
          0.8517696266287265,
          0.9205967813595972,
          0.9651446884541804,
          0.935545200529627,
          0.9227216280590262,
          0.9521429444674403,
          0.8763211110562212,
          0.9822588017018238,
          0.831798952959199,
          0.8862585954697136,
          0.9531294398802279,
          0.986973403184569,
          0.9534299845893994,
          0.9506948114928097,
          1.0231698891224565,
          0.914076795843937,
          0.9814423404661631,
          0.9994097505815771,
          0.8669526919247498,
          0.9319691151092079,
          0.9974690131542986,
          0.885650093861893,
          0.9846558437312422,
          0.9236719661021385,
          0.8875301491940677,
          0.9588404538283364,
          0.9747698082456083,
          0.9704547819589432,
          0.9308815452572953,
          0.8796271577525423,
          0.9382211925278494,
          0.9668742149816335,
          1.0054497138310647,
          0.8644766507923335,
          0.9461783183931505,
          0.9882221255513854,
          0.8785311582441456,
          0.8794829528779793,
          0.9158219956102223,
          0.86465368490801,
          0.972955657541362,
          0.506952,
          0.7529614621458127,
          0.9652867315716352,
          1.0719384409405468,
          0.9766103131544459,
          0.916813399230634,
          0.9732733625248637,
          0.8603150125842828,
          0.9652771730175176,
          1.0121575901147708,
          0.9596859769476918,
          0.9499492936034273,
          0.960870272899159,
          0.8975396498672469,
          0.9091451479163324,
          1.018609990956846,
          0.9901818717300475,
          0.9277384537290346,
          0.9295373172067972,
          0.9492505682272568,
          0.9279949196357812,
          0.9336910053993267,
          0.9663975650563963,
          0.9403054860715161,
          0.9428525636151657,
          0.8901960970179777,
          1.0238695271815546,
          0.9218901037817816,
          0.9368428926540244,
          0.9282226276547293,
          0.963869893770181,
          0.9030468584739448,
          0.9564837394771749,
          0.9648097463118622,
          0.940863658968211,
          0.9895805777551114,
          1.0146846317837184,
          0.8975998894075579,
          0.8585730153915868,
          1.0054924181546412,
          0.9808726222256028,
          1.0049134660555223,
          0.9521116241701285,
          0.9451225281014203,
          0.8748437905448264,
          0.9494811817420293,
          0.9308791813675277,
          0.9911058427656613,
          0.9482379202135982,
          0.9118990243763738,
          0.9435025006160496,
          0.8776290465137484,
          0.9497819097267338,
          0.8997412972962505,
          0.94446357351375,
          0.980537832566638,
          0.9175980931797374,
          0.9209417159223161,
          0.8598379439925933,
          0.8696383677168394,
          0.9730762820837532,
          0.952974369623386,
          0.9347290369861566,
          0.9742135935922882,
          0.9413961681351114,
          0.9469419453877238,
          0.9697729941026558,
          0.9400993477552907,
          0.9627129670784796,
          0.9578883863658018,
          0.9869364664801579,
          0.9903533047253381,
          0.935122592063522,
          0.9333159009945775,
          0.9114949503691729,
          0.9582482365288704,
          0.9358994520730043,
          1.0073350791842404,
          0.986540530934685,
          0.9081786007266908,
          0.9421849187521524,
          0.9393941894352604,
          0.8705818133106502,
          0.9544758314729342,
          0.88803061748743,
          0.8762253020259171,
          0.8749172456497757,
          1.0181316728336125,
          0.9514754755815727,
          0.9229711342915714,
          0.994222322155382,
          0.9447098452320903,
          1.0031236571259,
          0.8661126412926554,
          0.8626654723519179,
          0.9100008491188016,
          0.8929204268655858,
          1.032357151948227,
          0.9019563703797984,
          0.9459030601143332,
          0.976845687549551,
          0.506952,
          0.7516195999974588,
          0.9537829027994631,
          0.9202791610443173,
          0.9592546233263671,
          0.9186612057309321,
          0.9638261585073264,
          0.9673745124390822,
          0.9789315603730171,
          0.9111990478686036,
          0.8891876352136707,
          0.9739072644235031,
          0.9264483315575349,
          0.9751696665813698,
          0.984808832067674,
          0.9964267659846439,
          0.9801507515677371,
          0.9609402984306985,
          0.9862166497875302,
          0.96486252920914,
          0.8891006764121453,
          0.8588651871261928,
          0.9205664501133745,
          0.9463969652705677,
          0.984019572833261,
          0.9819637315631571,
          0.9481791706729537,
          0.9348810062532878,
          0.9134340673780347,
          0.9020696287523541,
          0.9161073163610638,
          0.9575064260399783,
          0.8712605952005864,
          0.9338448606787104,
          0.9592838981913532,
          0.9607151357736017,
          0.9104878896504299,
          0.860739255742208,
          0.8160656664699373,
          0.9046093412027867,
          0.9663342890487638,
          0.8921261115479638,
          0.9029749743268415,
          0.9497968911502146,
          0.9401355726534605,
          0.9430930491860264,
          0.8788729947070965,
          0.8861613405787121,
          0.8872452742478486,
          0.9639003303488851,
          0.9382766954703554,
          0.9756291338014254,
          0.9580940076953879,
          0.9078337716459123,
          0.9781123383494825,
          1.0100748190737021,
          0.9865019120534384,
          0.9242376115223617,
          0.9338141716998356,
          0.9552681766553568,
          0.8501233317189882,
          0.9833612785224207,
          0.8977529313539555,
          0.8784991189092963,
          0.8762428451196808,
          0.965900430805008,
          0.9225744085325315,
          0.954724538423843,
          0.8771083133062644,
          0.8983963997607792,
          0.999280643265204,
          0.9608880282572898,
          0.9913054141403899,
          0.9081345284191448,
          0.9621033106012005,
          0.8981789392289434,
          0.98930788183895,
          1.023895413582476,
          0.9463587469529386,
          1.0198175152032103,
          1.0172341593884628,
          0.9687609404750999,
          0.906779340617468,
          1.0097262175136437,
          0.9995858795256563,
          0.9223218196021928,
          0.9796428063176406,
          0.8984194792168133,
          1.0472002338830964,
          0.9441491251603876,
          1.0041555631514245,
          0.9592864329322968,
          0.9805475309157176,
          0.9135356371352134,
          0.9743289121497627,
          0.958262182920906,
          0.9933866766517039,
          0.9319721588580692,
          0.9950189558264405,
          0.9606451547864239,
          0.9187118358588018,
          0.506952,
          0.6804304157385075,
          0.946007570481817,
          0.9624383994907987,
          0.9280491598640075,
          0.871008832727717,
          0.9312083970622359,
          0.9413532674969075,
          0.9565759326953716,
          0.9250133624139545,
          0.9943268536811122,
          1.0096953877048562,
          0.8810911740820242,
          0.9446653158507919,
          0.9361064744954658,
          0.8967711994980684,
          0.9307975015059422,
          0.8863881470753205,
          0.8660379708720051,
          0.9379902377697967,
          0.8901946208860622,
          0.9104214439099345,
          0.875469706016885,
          0.9801381535101072,
          1.0252899867492953,
          0.9101642958675075,
          0.9526757133556308,
          0.8829908434431979,
          0.9449687732894193,
          0.9046200927965397,
          0.9184026605359946,
          0.9446409667477631,
          0.9880849811040142,
          0.9050579454854203,
          0.8390008777998328,
          0.9285606162257551,
          0.9219827039690224,
          0.8706583058606991,
          0.892388874821095,
          0.9425734393620955,
          0.9416252958372986,
          1.0255276300101817,
          1.0178101035194433,
          0.9989886195593816,
          1.0042223859423125,
          0.8913832148832243,
          0.8801837287886547,
          0.9539769897295326,
          0.938337535548408,
          0.8693167523030947,
          0.9257619332599097,
          0.9231238823830418,
          0.9149467881692136,
          1.0024493733636606,
          0.9513775221073857,
          0.9709874939945725,
          0.9762105926416134,
          0.9412588605018428,
          0.9530484355596115,
          0.9325843820477534,
          0.9711748466577479,
          0.8596169838308513,
          0.9577577631033538,
          0.9045893685595965,
          0.9237932366703384,
          0.8874500422549645,
          1.016932289034324,
          0.8932325093495925,
          1.0052842838526324,
          0.9544520959974406,
          1.0304272229925848,
          0.9704510587940692,
          0.8987283247161902,
          0.9638848980834775,
          0.9779054350064018,
          0.9343439948119344,
          0.9872226604285622,
          0.905123180497953,
          0.9128719899006377,
          0.9882436782639367,
          0.9531476402637212,
          0.9410816845021955,
          0.9003112700151099,
          0.8954679553761485,
          0.9522385799469589,
          1.0148443812775287,
          0.9528191832958025,
          0.8547730308780279,
          0.8268527834191503,
          0.9956768201044502,
          0.8864978066558887,
          0.8887845907302061,
          0.9442120913146936,
          0.9079135636822938,
          1.0411989057007023,
          0.9027212517761283,
          0.959493675010414,
          0.8712772486600634,
          0.9295152739110101,
          0.9448874969558704,
          0.9556990692861553,
          0.506952,
          0.6679501047644205,
          0.9092306658053555,
          0.9366592452148754,
          1.011558203770134,
          0.9345508265201202,
          0.9305091270750425,
          0.9881037264592987,
          0.9404769331445934,
          0.9074156990021112,
          0.9153553422424779,
          0.9336168110105827,
          0.9931120598299671,
          0.965329217191496,
          0.8807006698193547,
          0.9002981297990628,
          0.9220222230792161,
          0.9166218943279223,
          0.868400181923202,
          0.9147176525338524,
          0.9911693679429666,
          0.862471837780059,
          0.9168963350487229,
          0.9788441706980023,
          0.9843822569961288,
          0.9702411697955823,
          0.8943402975542167,
          0.9313599039320837,
          0.9061999800960051,
          0.9553481223201362,
          0.8955168168328848,
          0.974494274396756,
          0.9383575784477787,
          0.942128239162504,
          0.9510337318021376,
          0.8981999976263533,
          0.9214494623011834,
          0.944880105488667,
          0.8880546630773691,
          0.9297766075890117,
          0.9299019303799406,
          1.0481698447471242,
          0.9297647630714181,
          0.9539014817864894,
          0.9395135972806673,
          0.9082472804778005,
          0.979239519953428,
          0.9355490875206335,
          0.8769483910211685,
          0.9925213441554458,
          0.9188202716992153,
          0.8855693513742954,
          0.9441787984204422,
          0.9526221472321483,
          0.9538857646476281,
          0.9518371506937731,
          0.9367096067214908,
          0.9842079918689394,
          0.9910036551059592,
          0.9378296848335362,
          1.0445755878875114,
          0.9704583863121282,
          0.999797326522815,
          0.920192284139152,
          0.919721817329196,
          0.9435262449936885,
          0.9527410824320461,
          0.9832485031082122,
          1.007229651284661,
          0.9656924910836264,
          0.8525892330188074,
          0.9363645997566209,
          0.8883995295554135,
          0.8688402102036312,
          0.8967491757253474,
          0.9362807511494081,
          0.9928643032007022,
          0.8991136025983647,
          0.9045939402149537,
          0.8709848451837781,
          0.9884736762664194,
          0.9794017434362979,
          0.9236932876208692,
          0.9322168108248103,
          0.9660638815899236,
          0.8924487384316754,
          0.9614538728916328,
          1.0035370939244124,
          0.9219140618809273,
          0.8963990347283067,
          0.9449942838950613,
          0.8975748393665345,
          0.9578519196312758,
          0.9827613178135676,
          0.9602339859367038,
          0.9900789767170798,
          0.8889970655491966,
          0.977799838034605,
          0.9515101975395984,
          0.8835085745993279,
          0.9699691932350296,
          0.506952,
          0.6865592840351517,
          0.918881238956885,
          1.045083258717906,
          1.0046332369687427,
          0.9506070309452412,
          0.8967505435294311,
          0.9728075967472808,
          0.9847275384614109,
          0.9774509556345693,
          0.9215926101444607,
          0.8934949305256958,
          1.0041262551769323,
          0.9736047779481846,
          0.9692739498898079,
          0.9956496587288975,
          0.9156469719119099,
          0.8464647678009277,
          0.8831536369929833,
          0.9072246589418522,
          1.018583860694862,
          0.9886036709676381,
          0.9634214679959078,
          0.9799127986234919,
          0.9590087692993564,
          0.9716746590180795,
          0.865467533102548,
          0.9157099061299108,
          0.9822704932867168,
          0.8967023473997049,
          0.9270494316128132,
          0.8852932891221361,
          0.9397268837894936,
          0.9510158680729865,
          0.930034575989936,
          0.9733983428562327,
          0.9197358479862899,
          0.9506010581662583,
          0.8375968848722277,
          0.8323662844152183,
          0.8855885651224276,
          0.9810313270176748,
          0.9447367568351567,
          0.9305260090746791,
          1.006004412734144,
          1.0267738686323975,
          0.9635964827181811,
          0.9799991657341602,
          0.957559617144823,
          1.0016348680284948,
          0.9590390220150973,
          0.8852274786460226,
          0.9558012859239624,
          1.0076441322774208,
          0.949265240579439,
          0.9771826071794156,
          0.9190540850557437,
          0.9383798449097093,
          0.902577919143434,
          1.0102011788664722,
          0.9797605070945246,
          0.9282271752331215,
          0.9391179725705445,
          0.8864887428829149,
          0.9575493600044993,
          0.8803641898304587,
          0.8728475656336163,
          0.9780386176667054,
          0.962123941945366,
          0.9228910122083647,
          0.9643527315303504,
          0.9815864397762516,
          0.8975061866200867,
          1.0247324899501966,
          0.9614466188091672,
          0.9921758833649236,
          0.9654566411881738,
          0.9694278527566763,
          0.9943518346199632,
          0.9820748437279361,
          0.9991663852560393,
          0.91636092875976,
          0.9458648025819811,
          0.9144849385074201,
          0.8604314850861108,
          0.9877244251441087,
          0.9399395173071119,
          0.8973939079903867,
          0.9011532786168747,
          0.9023640343505164,
          0.8847707850853092,
          0.9284575902484224,
          0.9396050325121402,
          0.9267036504546693,
          0.969560236469696,
          0.9446640683446575,
          0.9270410260827039,
          0.9234312612062958,
          0.9100427002141492,
          0.9542081648933487,
          0.9743815723563384,
          0.506588372288587,
          0.7252799067039808,
          0.9077748987707305,
          0.9585614233442453,
          1.0183110322612094,
          0.9114499424680724,
          0.9459861317723085,
          0.9102350550746758,
          0.9836139312998622,
          0.9315517653142256,
          0.8399597631027216,
          0.9779864121381033,
          0.9228269443813016,
          0.9147165512486084,
          0.9607607762315498,
          0.9551829314457938,
          0.881509642090953,
          1.0060171086108125,
          1.0199895850945253,
          1.0701330868157382,
          0.8954096106114676,
          0.9606844964748312,
          0.9129824711585814,
          0.9060957969022113,
          0.937478635845207,
          0.9710669201268378,
          0.907299837340927,
          0.9760869042022488,
          0.9597466504626062,
          0.9132425851928131,
          0.9196166248461203,
          0.9344853909987143,
          0.9483526813568304,
          0.9650673514182986,
          0.9092403347473593,
          1.0026171380907332,
          1.0198059861375055,
          0.897605465859188,
          0.9380375540178592,
          0.9828643246037265,
          1.0017472410266623,
          0.9965347315097202,
          0.9629143257737407,
          0.9115906844290176,
          0.926075377696751,
          0.9367809275490883,
          0.8664241385206382,
          0.9355643153138414,
          0.8846320411326408,
          0.9321341888509722,
          0.9857579414550439,
          0.9757758647439072,
          0.9346737798976764,
          0.9117078151923756,
          0.9521266786797018,
          0.9678038286446717,
          0.8783921335333522,
          0.9981525471614897,
          1.0009151680143427,
          0.9114660174287355,
          0.9486277718407626,
          0.9376905126622848,
          0.9705899936265003,
          1.0250993132437614,
          0.9656676699607738,
          0.8864058507814184,
          0.9137420116479039,
          0.9587789706077621,
          0.9740397981028013,
          0.9061209179773856,
          0.9816610502504161,
          1.0191716456607005,
          0.9305158393217123,
          0.9795585096745829,
          0.8480393541297068,
          0.9569140937807635,
          0.9486299490391746,
          0.9583715821565562,
          0.9596398352691203,
          0.8814606287453964,
          0.880881141529544,
          0.9545270478695497,
          0.849217175057914,
          0.9753636785866544,
          1.001028195485172,
          0.984330690268381,
          0.9966944614304095,
          0.9527350724279555,
          0.9189931887832739,
          0.9432025747820085,
          0.8713327332965863,
          0.8836811416583622,
          0.9781771298790929,
          1.0005560176764017,
          0.9689324183469301,
          0.9702484085015599,
          0.9079576220916976,
          0.9068496540623424,
          0.9461982643018326,
          0.9609781511337394,
          0.911470224998738,
          0.506588372288587,
          0.76404828119553,
          0.8649642792636498,
          0.9977480945704029,
          1.0225920872681746,
          0.9196158907031893,
          0.9449307318896872,
          0.959346004321517,
          0.9196397444670956,
          0.8814855465757689,
          0.9200150887831026,
          0.9597196072967822,
          1.005053401728769,
          0.9477565159795263,
          0.9241402980044385,
          0.9808571343546878,
          0.9439719832434752,
          0.9396238776570176,
          0.9780444367578565,
          0.9005282884727664,
          0.9036819590637752,
          0.9172579612494854,
          1.0324940449554902,
          1.06265348315215,
          0.9114572112090232,
          0.9337371939339886,
          0.89527060162662,
          0.9046406856925218,
          0.9979692007158459,
          0.8949401582712109,
          0.9601535558142665,
          1.0524760176403927,
          0.9418913825971715,
          0.9306373733129442,
          0.9841602466304865,
          0.9602401932117767,
          0.9479781795630229,
          0.9802133964837708,
          0.982368680722075,
          1.0231499057450428,
          1.0139673123439894,
          1.0315906030979296,
          0.8460677859387583,
          0.9072664920340375,
          0.9277968684264514,
          0.9388533151123981,
          0.9348569076923536,
          0.9374535906248639,
          1.0076614238193662,
          0.9570901797595303,
          0.9094757399693989,
          0.920229098189842,
          1.000095380468968,
          0.9766304327899168,
          0.925170746504071,
          0.9119244322208447,
          0.9734348054507516,
          0.9503445674257279,
          0.9250584085400553,
          0.9442869644318784,
          0.981887280866969,
          0.9972890420698051,
          0.9106809398191884,
          0.9619219963396668,
          0.9046995864945949,
          0.9020911886644091,
          1.00267837113759,
          0.9299004205357579,
          0.9867869404433562,
          0.9512511279167347,
          0.9137383718613518,
          0.9599963838721949,
          0.9374230345698961,
          0.9043899897355012,
          0.9999701490089041,
          0.850440594887268,
          0.9170135227400411,
          0.9212041623375842,
          0.8410512305140395,
          0.9526187920034415,
          0.922965977789539,
          0.8765650568549832,
          0.8778390450729222,
          1.0050532418090745,
          0.9374691721635066,
          0.9386576626341718,
          0.97323395516524,
          1.0173530769355543,
          0.9930418854328934,
          0.9084369511941873,
          0.9873686870114774,
          0.9343708273235195,
          0.9246621034315631,
          0.9161006504552239,
          0.9616733842808399,
          0.9312910526819715,
          0.9594910485073443,
          0.9158909307503432,
          0.954534429843818,
          0.9973592464912581,
          0.9410029679773065,
          0.506588372288587,
          0.7274569019979671,
          0.8911359377480239,
          1.0662170389973329,
          1.0109096829516768,
          0.9394683107871755,
          0.9074766087694549,
          0.9963161620811438,
          0.9710294856242588,
          0.9634868783542205,
          0.8278755504003611,
          0.8411955846708243,
          0.9543351824690119,
          0.9944403472538864,
          0.9739736633978667,
          0.9419045765629339,
          0.9654072474722722,
          1.0764316819627193,
          0.9893478274288907,
          0.973429785902962,
          0.9390596230769215,
          0.9084458963005172,
          0.9179372241725873,
          1.0746038951260644,
          1.026430119709978,
          1.0225747237643077,
          0.941821318185971,
          1.0269860609268986,
          1.0439415258274813,
          1.0050220136300416,
          0.9970954874647965,
          0.9440570539596481,
          0.9164989411871899,
          0.9796413447396553,
          0.8739205326349988,
          0.8432124327454973,
          0.9124742261693899,
          0.929993934921395,
          0.895540195799963,
          0.9546945692437446,
          0.9758430515369817,
          0.9475725015453214,
          0.9970223348696358,
          0.9372908236354072,
          0.9689993200330431,
          0.8642690440826225,
          0.8945044077238021,
          0.935306943307365,
          0.9352882126579646,
          0.9179278606644261,
          0.978276374204697,
          0.952927794945829,
          0.9719217349725041,
          0.9168960140396402,
          0.9278880994303029,
          0.9917257326925928,
          0.9749917695736594,
          0.9250012011176256,
          0.9552834051197686,
          0.9238253531546154,
          0.9657793428090704,
          0.9649491014731554,
          0.9764550938567175,
          0.9948004947016361,
          0.9518231791779785,
          0.8402958199219053,
          0.9563732718205847,
          1.02526082974454,
          0.9087746837012023,
          0.9841767822598402,
          0.9837247534208473,
          0.8987301095857977,
          0.9552453124314416,
          0.9450031222649737,
          0.9484379643233762,
          0.9051406400304992,
          0.9816108418718184,
          0.9199684933549247,
          0.9522918593831463,
          0.9695636054211193,
          0.9360675728741276,
          0.9731175301691877,
          0.9150921745060244,
          0.9397333833381967,
          0.995611518238155,
          0.9175019519139619,
          0.9650662797455571,
          0.9682751994189928,
          0.9776776499744739,
          0.9253863157105935,
          0.9920742848282985,
          0.9555412932236839,
          0.9256551867530209,
          1.0168952035033896,
          0.9675074918781973,
          0.9263681998250599,
          0.8275368048151092,
          1.1025909973363468,
          0.967820278539611,
          0.9872142306337566,
          0.9663890173654625,
          0.506588372288587,
          0.7244169012336543,
          0.9204940403684589,
          1.0596653580831308,
          0.9688691983388908,
          0.9881187547170787,
          0.9778973592691798,
          0.9409551581164676,
          0.8945968598630172,
          0.8415206654706348,
          0.9572049860488483,
          0.8867001717382434,
          0.9534544805519267,
          0.9454974303777932,
          0.9727342464023613,
          1.013151600294398,
          0.9215438748173578,
          0.9598006661696687,
          0.9583017048483269,
          0.9533992394049672,
          0.9421386246264666,
          0.9524490782550873,
          0.9339031540568059,
          0.9034308927003714,
          1.0063034901120735,
          0.8794896797545659,
          0.8966444858390531,
          0.9838959946932523,
          0.9621269708843839,
          0.9782928183290778,
          0.9137835084046658,
          0.8938447732795448,
          0.9815287481246996,
          0.9682280435920094,
          0.8729657772344915,
          0.9877479918303758,
          0.9129439256769607,
          0.9125725491871098,
          0.9397532652945089,
          0.9346417398788328,
          0.9727668768305847,
          0.9678794298026664,
          1.016593225931336,
          0.9856042313296043,
          1.0093424061185776,
          0.9135301708973,
          0.9434955028699386,
          0.8702429010405724,
          0.9771699188860706,
          0.8504747590655953,
          0.9484497296007199,
          0.9633023564802982,
          0.9961394633610194,
          0.8721393810842049,
          0.9330145459476503,
          0.9474435400046168,
          0.9600703532673478,
          0.9958899774972886,
          0.9577710877332903,
          0.9986939340681954,
          0.9445694339652432,
          0.9413017146743599,
          0.9739037322898539,
          0.955533396014289,
          0.931551755470999,
          0.9013786311742236,
          0.9037114904540166,
          0.9277570284245121,
          0.9548227637787288,
          0.884141004799179,
          0.986386059124119,
          0.9260077750999287,
          0.9850007846862509,
          0.982670999516074,
          0.9427000570312792,
          0.9488045518872104,
          0.9143954670482074,
          0.9105395730143309,
          0.9000286877998335,
          1.0015189084734297,
          0.8979089449686756,
          0.930415631119195,
          0.9414403413061181,
          0.9794844157220417,
          0.9139585553322809,
          0.9186367519089902,
          0.9784297245520446,
          0.9164786787645253,
          0.9244182923421518,
          0.9287122306993647,
          0.9675451256585607,
          0.9281270180423798,
          0.9770161050640055,
          0.9341705035735928,
          0.8724954937388386,
          0.8884634437983028,
          0.9001173712305636,
          0.8989978997912036,
          1.011829881119598,
          0.9610081064529372,
          0.9191019975443134,
          0.506588372288587,
          0.7002705783930522,
          0.9321892870860403,
          1.079489752160405,
          1.0420143591001854,
          0.9967150029349463,
          0.9265692358872433,
          0.8908242121193901,
          0.966970108643049,
          0.9041946142435543,
          0.899558293502789,
          0.9688877770556613,
          0.9217263549917296,
          0.9455857065933579,
          0.9450279447887645,
          0.8635025783909855,
          0.9284194245976599,
          0.9923814889215942,
          0.9600162362032478,
          0.906782761560887,
          0.9328994840679323,
          0.9843619591764556,
          0.9972994215888527,
          1.01965797687124,
          0.9644297945606941,
          0.8351630972629119,
          0.9775798901330621,
          0.9541926591528358,
          0.9575747484619569,
          0.9286331846466667,
          0.9311880590637909,
          0.8569503494057249,
          0.9410494670016449,
          0.9759153062229529,
          0.9441073167976787,
          0.9639989617250062,
          0.8939871829136554,
          1.0432034218988069,
          0.9237582942523238,
          0.9280807573579467,
          0.9892955119449042,
          0.9549953106670733,
          0.9827857163970994,
          0.9424254809041628,
          0.9793381769665064,
          1.003347199004062,
          0.9734619893453571,
          1.0824916616256497,
          0.915867947190609,
          0.9213570345691023,
          0.9831447240847961,
          0.9274451567695476,
          0.9108592626413864,
          0.919920609781215,
          0.8904767662168354,
          1.0212648892285938,
          0.9665375029849024,
          1.021297566569489,
          0.9702309059509752,
          0.9252885297734161,
          0.982051418564823,
          0.879206967173515,
          0.8849775189138479,
          0.9144801619488583,
          0.8369491353799422,
          0.9711269174653229,
          0.9059738746889062,
          0.987431921678867,
          0.9066373135043141,
          0.8752503469733274,
          0.9492368945873358,
          1.0468534037593593,
          0.9274579099998715,
          0.9102085878889313,
          0.902714926309181,
          0.8538128033569536,
          0.9307242167129154,
          0.9385989484226103,
          0.9449680665103272,
          0.9704150660124975,
          0.9075859241788915,
          0.8888533307913068,
          0.8945954082490922,
          0.8426435713655923,
          0.9401945336152939,
          0.9509848816676897,
          0.9231632546012445,
          0.8808254188896061,
          0.9539026668602262,
          0.8889818144963851,
          0.9835665030192391,
          0.9654378050935906,
          0.9672239252721729,
          0.9809834015891604,
          1.0005546512879133,
          0.9805209953047664,
          0.9388137403309139,
          0.9551431283920594,
          0.970115544296008,
          1.0109463969298078,
          0.9291082639137648,
          0.506588372288587,
          0.6468577138735057,
          0.9345076805618561,
          1.0583924688987825,
          1.0471773107121496,
          0.9617005050287226,
          1.0240918572320332,
          0.8784869372314335,
          0.9400019796671812,
          0.8526374124309641,
          0.955166644693155,
          0.925490036792428,
          0.9566578399188134,
          0.9135915646766997,
          0.980632091517675,
          0.860721586376178,
          0.9476576998661196,
          0.9952787086763285,
          0.932195205959637,
          1.0300621772597078,
          0.9493823719530925,
          0.9684189552146323,
          0.9803469929402804,
          0.9636315208886136,
          0.8900777657362136,
          0.8855335414356227,
          0.9519330303347763,
          0.9250135233527832,
          0.9699905032389285,
          0.9520165168886618,
          0.9253342950317865,
          0.8395479110764436,
          0.8940169426772179,
          0.9146641028205327,
          0.9918155985649197,
          0.9512375328837241,
          1.0067548788641802,
          0.9849024645541826,
          0.8688662021047141,
          0.9075647127751773,
          1.0397681257599118,
          0.9165288158123127,
          0.9385077223092307,
          0.9485163034490705,
          0.9477401165442776,
          0.9850593302954865,
          0.9931332890855588,
          1.0387018168681053,
          0.8723785120312513,
          0.959972937546679,
          1.036653322391206,
          0.9243307413918137,
          0.9211853688832287,
          0.9051065198083349,
          0.9549274266193996,
          0.9134707445334307,
          0.9645100682788593,
          0.92590720896951,
          0.9384407337720907,
          1.014742026357532,
          0.8814788620031963,
          0.9132134167317353,
          0.9148507749211671,
          0.9223214026649764,
          0.8978521787067679,
          0.9860595130694204,
          1.006163386036408,
          0.9320565416447492,
          0.9563877656506801,
          0.919862687152179,
          0.9012468579654577,
          0.9550483443500648,
          0.9948107908218777,
          0.8894116789108495,
          0.9643027635061823,
          0.8993009563681305,
          0.8985302868839138,
          0.9455443278658754,
          0.9981798908921928,
          0.9867063782067668,
          0.964969310497168,
          0.9458664487690056,
          0.8757040837323188,
          0.9161328097500603,
          0.880311959934307,
          0.9170512573633876,
          0.9261103778233835,
          0.98478832500117,
          0.9201234786272113,
          1.0094527831698272,
          0.9857290640272821,
          0.9594419556462288,
          0.9866091615906005,
          0.9337450911609563,
          0.8878129954466425,
          0.9325683007604644,
          0.9468910231780371,
          0.9525698363615395,
          0.9587820118863619,
          0.9351702241976537,
          0.968928455824445,
          0.506588372288587,
          0.6485452783127778,
          0.930203273987385,
          0.9693884434276592,
          0.9618876892145881,
          0.9604444337078589,
          0.9094732855944025,
          0.9561024235513956,
          0.9154592412920468,
          0.9462765527975899,
          0.9249192380115964,
          0.9450753853861024,
          0.907828428499857,
          0.9133447337422307,
          1.0201131998228725,
          0.8996499284568971,
          0.9171344384703041,
          0.9323840565414784,
          0.9670017625259275,
          0.8798653066447453,
          0.9596659230941046,
          0.936016450033354,
          0.9289334396397947,
          0.9178200835477125,
          0.8823739555865713,
          0.8711052196362619,
          1.0033214962830832,
          1.022708695301052,
          1.0327329312034164,
          0.9707414049004038,
          0.982960467114778,
          0.971319122330895,
          0.9627304629584539,
          0.9252767636657263,
          0.964050842589902,
          1.0043295439890738,
          0.9779728024280328,
          0.8387421873771906,
          0.9169909024276683,
          0.969544489174618,
          1.0128226576225179,
          0.9051120402328654,
          0.920641313794493,
          0.985381824429221,
          0.9110889139162325,
          0.9158890477445127,
          0.9639613725628325,
          0.9544086901286787,
          0.9110874821097568,
          0.9483626751298223,
          0.8628568286569157,
          0.9000359085537033,
          0.917412474267856,
          0.9583481932994614,
          1.0474397395706303,
          0.9066891157722807,
          0.9302518508017761,
          0.8816889451299761,
          0.8958332985329693,
          0.936090349814146,
          0.9032168741346123,
          0.9386258998855561,
          0.9862160401889136,
          0.8914660796611557,
          0.937262052867783,
          0.9403168804050259,
          0.9527514480539018,
          0.9010370035376682,
          0.8998806051799428,
          0.9373473436300442,
          0.9144837836745521,
          0.9646981885959707,
          0.9194895553078003,
          0.9142592900076487,
          0.9279670099425141,
          0.9135766488529903,
          0.9339657547180066,
          0.9730760438039825,
          0.8775352925833073,
          0.9920148849583911,
          0.9398938194204971,
          0.9332825199460558,
          0.9693432505157757,
          0.9224146237938664,
          1.004164688360007,
          0.9341096324840028,
          0.8770640109349602,
          1.0099744047362362,
          0.9158410121796141,
          1.008512853577628,
          0.8376026798696026,
          0.9536883266347608,
          1.0183730341518866,
          0.8933378434728152,
          0.8961550121233157,
          0.9967878891359686,
          1.0127194444594476,
          1.024043088501602,
          0.9343339089919811,
          0.897569301723547,
          1.0334910591876711,
          0.506588372288587,
          0.7674821323287337,
          0.9496386947129418,
          0.9843689781536381,
          0.9947709649836398,
          1.019562106869678,
          0.952960009431104,
          0.9513692576671479,
          0.9182537474265975,
          0.8828901623657004,
          0.9368411162101075,
          1.047423078485713,
          0.9143134291347033,
          0.8816331838066293,
          0.9022814311871954,
          0.9138524089635974,
          0.917569757719488,
          0.9812095968518064,
          1.0158505156836188,
          0.9981500351127781,
          0.9093257899667478,
          0.9084399378914877,
          0.9769591157319686,
          0.9069537925693084,
          0.9522782481176004,
          0.9681486517927115,
          0.9851230358394885,
          0.8979936338240099,
          1.0082250440701868,
          1.0080447658910296,
          0.9618532521155396,
          0.9518254390919009,
          0.9907975729183346,
          0.867369683527053,
          0.9034971340786754,
          0.9608066628503675,
          0.9432286826130024,
          0.9453569373727629,
          0.9399136427433374,
          0.9768991322366952,
          1.0067416084866465,
          0.9009824951944073,
          0.9417529334458216,
          0.960055959264693,
          0.9329140073744042,
          0.9100299585304267,
          0.9928331187559418,
          0.9065909430585826,
          0.8662322357911821,
          0.9736627610918114,
          0.8940336404339291,
          0.9526201677675621,
          0.9298908227383094,
          0.9357413767591,
          0.9927133691581573,
          0.9127967121846792,
          0.9105386967280688,
          0.8421599736881882,
          0.906721533167524,
          0.9697762070652228,
          0.9773417839244826,
          1.0207204890358867,
          0.9860603842582106,
          0.9599285498724949,
          0.9304121543608704,
          0.9373680695480084,
          0.9446249072290704,
          1.0371141423298595,
          0.9767786172868906,
          0.9370225807972719,
          0.9486778059535956,
          0.9207820670416355,
          0.9592426400401726,
          0.9458112204821689,
          0.8779146748809135,
          0.9489856292896992,
          0.9011146497916621,
          0.9850640998658462,
          0.9161704158833206,
          0.8681030942675301,
          0.9877742407328811,
          0.9388665660010319,
          0.9250074048784312,
          0.92763603727096,
          0.9656387845699291,
          1.0572227010958384,
          0.9233417409517922,
          0.965272977125289,
          0.9215085854649117,
          0.9691897025502181,
          0.8605011944830433,
          0.9073288084605313,
          0.9753673023012099,
          0.8695094955815089,
          0.9452169243121396,
          0.9294625195699286,
          0.9487922440978659,
          0.8822844000605757,
          0.9815456293059737,
          0.8902900828023089,
          1.0066853856677418
         ]
        }
       ],
       "layout": {
        "annotations": [
         {
          "font": {
           "color": "red"
          },
          "showarrow": false,
          "text": "Classical O-H length",
          "x": 0.9419,
          "xanchor": "left",
          "xref": "x",
          "y": 0,
          "yanchor": "bottom",
          "yref": "y domain"
         },
         {
          "font": {
           "color": "blue"
          },
          "showarrow": false,
          "text": "Quantum average",
          "x": 0.9371836957227425,
          "xanchor": "right",
          "xref": "x",
          "y": 1,
          "yanchor": "top",
          "yref": "y domain"
         }
        ],
        "font": {
         "size": 12
        },
        "height": 600,
        "hovermode": "closest",
        "margin": {
         "b": 50,
         "l": 50,
         "r": 50,
         "t": 50
        },
        "plot_bgcolor": "white",
        "shapes": [
         {
          "line": {
           "color": "red",
           "dash": "dash"
          },
          "type": "line",
          "x0": 0.9419,
          "x1": 0.9419,
          "xref": "x",
          "y0": 0,
          "y1": 1,
          "yref": "y domain"
         },
         {
          "line": {
           "color": "blue",
           "dash": "dash"
          },
          "type": "line",
          "x0": 0.9371836957227425,
          "x1": 0.9371836957227425,
          "xref": "x",
          "y0": 0,
          "y1": 1,
          "yref": "y domain"
         }
        ],
        "template": {
         "data": {
          "bar": [
           {
            "error_x": {
             "color": "#2a3f5f"
            },
            "error_y": {
             "color": "#2a3f5f"
            },
            "marker": {
             "line": {
              "color": "#E5ECF6",
              "width": 0.5
             },
             "pattern": {
              "fillmode": "overlay",
              "size": 10,
              "solidity": 0.2
             }
            },
            "type": "bar"
           }
          ],
          "barpolar": [
           {
            "marker": {
             "line": {
              "color": "#E5ECF6",
              "width": 0.5
             },
             "pattern": {
              "fillmode": "overlay",
              "size": 10,
              "solidity": 0.2
             }
            },
            "type": "barpolar"
           }
          ],
          "carpet": [
           {
            "aaxis": {
             "endlinecolor": "#2a3f5f",
             "gridcolor": "white",
             "linecolor": "white",
             "minorgridcolor": "white",
             "startlinecolor": "#2a3f5f"
            },
            "baxis": {
             "endlinecolor": "#2a3f5f",
             "gridcolor": "white",
             "linecolor": "white",
             "minorgridcolor": "white",
             "startlinecolor": "#2a3f5f"
            },
            "type": "carpet"
           }
          ],
          "choropleth": [
           {
            "colorbar": {
             "outlinewidth": 0,
             "ticks": ""
            },
            "type": "choropleth"
           }
          ],
          "contour": [
           {
            "colorbar": {
             "outlinewidth": 0,
             "ticks": ""
            },
            "colorscale": [
             [
              0,
              "#0d0887"
             ],
             [
              0.1111111111111111,
              "#46039f"
             ],
             [
              0.2222222222222222,
              "#7201a8"
             ],
             [
              0.3333333333333333,
              "#9c179e"
             ],
             [
              0.4444444444444444,
              "#bd3786"
             ],
             [
              0.5555555555555556,
              "#d8576b"
             ],
             [
              0.6666666666666666,
              "#ed7953"
             ],
             [
              0.7777777777777778,
              "#fb9f3a"
             ],
             [
              0.8888888888888888,
              "#fdca26"
             ],
             [
              1,
              "#f0f921"
             ]
            ],
            "type": "contour"
           }
          ],
          "contourcarpet": [
           {
            "colorbar": {
             "outlinewidth": 0,
             "ticks": ""
            },
            "type": "contourcarpet"
           }
          ],
          "heatmap": [
           {
            "colorbar": {
             "outlinewidth": 0,
             "ticks": ""
            },
            "colorscale": [
             [
              0,
              "#0d0887"
             ],
             [
              0.1111111111111111,
              "#46039f"
             ],
             [
              0.2222222222222222,
              "#7201a8"
             ],
             [
              0.3333333333333333,
              "#9c179e"
             ],
             [
              0.4444444444444444,
              "#bd3786"
             ],
             [
              0.5555555555555556,
              "#d8576b"
             ],
             [
              0.6666666666666666,
              "#ed7953"
             ],
             [
              0.7777777777777778,
              "#fb9f3a"
             ],
             [
              0.8888888888888888,
              "#fdca26"
             ],
             [
              1,
              "#f0f921"
             ]
            ],
            "type": "heatmap"
           }
          ],
          "heatmapgl": [
           {
            "colorbar": {
             "outlinewidth": 0,
             "ticks": ""
            },
            "colorscale": [
             [
              0,
              "#0d0887"
             ],
             [
              0.1111111111111111,
              "#46039f"
             ],
             [
              0.2222222222222222,
              "#7201a8"
             ],
             [
              0.3333333333333333,
              "#9c179e"
             ],
             [
              0.4444444444444444,
              "#bd3786"
             ],
             [
              0.5555555555555556,
              "#d8576b"
             ],
             [
              0.6666666666666666,
              "#ed7953"
             ],
             [
              0.7777777777777778,
              "#fb9f3a"
             ],
             [
              0.8888888888888888,
              "#fdca26"
             ],
             [
              1,
              "#f0f921"
             ]
            ],
            "type": "heatmapgl"
           }
          ],
          "histogram": [
           {
            "marker": {
             "pattern": {
              "fillmode": "overlay",
              "size": 10,
              "solidity": 0.2
             }
            },
            "type": "histogram"
           }
          ],
          "histogram2d": [
           {
            "colorbar": {
             "outlinewidth": 0,
             "ticks": ""
            },
            "colorscale": [
             [
              0,
              "#0d0887"
             ],
             [
              0.1111111111111111,
              "#46039f"
             ],
             [
              0.2222222222222222,
              "#7201a8"
             ],
             [
              0.3333333333333333,
              "#9c179e"
             ],
             [
              0.4444444444444444,
              "#bd3786"
             ],
             [
              0.5555555555555556,
              "#d8576b"
             ],
             [
              0.6666666666666666,
              "#ed7953"
             ],
             [
              0.7777777777777778,
              "#fb9f3a"
             ],
             [
              0.8888888888888888,
              "#fdca26"
             ],
             [
              1,
              "#f0f921"
             ]
            ],
            "type": "histogram2d"
           }
          ],
          "histogram2dcontour": [
           {
            "colorbar": {
             "outlinewidth": 0,
             "ticks": ""
            },
            "colorscale": [
             [
              0,
              "#0d0887"
             ],
             [
              0.1111111111111111,
              "#46039f"
             ],
             [
              0.2222222222222222,
              "#7201a8"
             ],
             [
              0.3333333333333333,
              "#9c179e"
             ],
             [
              0.4444444444444444,
              "#bd3786"
             ],
             [
              0.5555555555555556,
              "#d8576b"
             ],
             [
              0.6666666666666666,
              "#ed7953"
             ],
             [
              0.7777777777777778,
              "#fb9f3a"
             ],
             [
              0.8888888888888888,
              "#fdca26"
             ],
             [
              1,
              "#f0f921"
             ]
            ],
            "type": "histogram2dcontour"
           }
          ],
          "mesh3d": [
           {
            "colorbar": {
             "outlinewidth": 0,
             "ticks": ""
            },
            "type": "mesh3d"
           }
          ],
          "parcoords": [
           {
            "line": {
             "colorbar": {
              "outlinewidth": 0,
              "ticks": ""
             }
            },
            "type": "parcoords"
           }
          ],
          "pie": [
           {
            "automargin": true,
            "type": "pie"
           }
          ],
          "scatter": [
           {
            "fillpattern": {
             "fillmode": "overlay",
             "size": 10,
             "solidity": 0.2
            },
            "type": "scatter"
           }
          ],
          "scatter3d": [
           {
            "line": {
             "colorbar": {
              "outlinewidth": 0,
              "ticks": ""
             }
            },
            "marker": {
             "colorbar": {
              "outlinewidth": 0,
              "ticks": ""
             }
            },
            "type": "scatter3d"
           }
          ],
          "scattercarpet": [
           {
            "marker": {
             "colorbar": {
              "outlinewidth": 0,
              "ticks": ""
             }
            },
            "type": "scattercarpet"
           }
          ],
          "scattergeo": [
           {
            "marker": {
             "colorbar": {
              "outlinewidth": 0,
              "ticks": ""
             }
            },
            "type": "scattergeo"
           }
          ],
          "scattergl": [
           {
            "marker": {
             "colorbar": {
              "outlinewidth": 0,
              "ticks": ""
             }
            },
            "type": "scattergl"
           }
          ],
          "scattermapbox": [
           {
            "marker": {
             "colorbar": {
              "outlinewidth": 0,
              "ticks": ""
             }
            },
            "type": "scattermapbox"
           }
          ],
          "scatterpolar": [
           {
            "marker": {
             "colorbar": {
              "outlinewidth": 0,
              "ticks": ""
             }
            },
            "type": "scatterpolar"
           }
          ],
          "scatterpolargl": [
           {
            "marker": {
             "colorbar": {
              "outlinewidth": 0,
              "ticks": ""
             }
            },
            "type": "scatterpolargl"
           }
          ],
          "scatterternary": [
           {
            "marker": {
             "colorbar": {
              "outlinewidth": 0,
              "ticks": ""
             }
            },
            "type": "scatterternary"
           }
          ],
          "surface": [
           {
            "colorbar": {
             "outlinewidth": 0,
             "ticks": ""
            },
            "colorscale": [
             [
              0,
              "#0d0887"
             ],
             [
              0.1111111111111111,
              "#46039f"
             ],
             [
              0.2222222222222222,
              "#7201a8"
             ],
             [
              0.3333333333333333,
              "#9c179e"
             ],
             [
              0.4444444444444444,
              "#bd3786"
             ],
             [
              0.5555555555555556,
              "#d8576b"
             ],
             [
              0.6666666666666666,
              "#ed7953"
             ],
             [
              0.7777777777777778,
              "#fb9f3a"
             ],
             [
              0.8888888888888888,
              "#fdca26"
             ],
             [
              1,
              "#f0f921"
             ]
            ],
            "type": "surface"
           }
          ],
          "table": [
           {
            "cells": {
             "fill": {
              "color": "#EBF0F8"
             },
             "line": {
              "color": "white"
             }
            },
            "header": {
             "fill": {
              "color": "#C8D4E3"
             },
             "line": {
              "color": "white"
             }
            },
            "type": "table"
           }
          ]
         },
         "layout": {
          "annotationdefaults": {
           "arrowcolor": "#2a3f5f",
           "arrowhead": 0,
           "arrowwidth": 1
          },
          "autotypenumbers": "strict",
          "coloraxis": {
           "colorbar": {
            "outlinewidth": 0,
            "ticks": ""
           }
          },
          "colorscale": {
           "diverging": [
            [
             0,
             "#8e0152"
            ],
            [
             0.1,
             "#c51b7d"
            ],
            [
             0.2,
             "#de77ae"
            ],
            [
             0.3,
             "#f1b6da"
            ],
            [
             0.4,
             "#fde0ef"
            ],
            [
             0.5,
             "#f7f7f7"
            ],
            [
             0.6,
             "#e6f5d0"
            ],
            [
             0.7,
             "#b8e186"
            ],
            [
             0.8,
             "#7fbc41"
            ],
            [
             0.9,
             "#4d9221"
            ],
            [
             1,
             "#276419"
            ]
           ],
           "sequential": [
            [
             0,
             "#0d0887"
            ],
            [
             0.1111111111111111,
             "#46039f"
            ],
            [
             0.2222222222222222,
             "#7201a8"
            ],
            [
             0.3333333333333333,
             "#9c179e"
            ],
            [
             0.4444444444444444,
             "#bd3786"
            ],
            [
             0.5555555555555556,
             "#d8576b"
            ],
            [
             0.6666666666666666,
             "#ed7953"
            ],
            [
             0.7777777777777778,
             "#fb9f3a"
            ],
            [
             0.8888888888888888,
             "#fdca26"
            ],
            [
             1,
             "#f0f921"
            ]
           ],
           "sequentialminus": [
            [
             0,
             "#0d0887"
            ],
            [
             0.1111111111111111,
             "#46039f"
            ],
            [
             0.2222222222222222,
             "#7201a8"
            ],
            [
             0.3333333333333333,
             "#9c179e"
            ],
            [
             0.4444444444444444,
             "#bd3786"
            ],
            [
             0.5555555555555556,
             "#d8576b"
            ],
            [
             0.6666666666666666,
             "#ed7953"
            ],
            [
             0.7777777777777778,
             "#fb9f3a"
            ],
            [
             0.8888888888888888,
             "#fdca26"
            ],
            [
             1,
             "#f0f921"
            ]
           ]
          },
          "colorway": [
           "#636efa",
           "#EF553B",
           "#00cc96",
           "#ab63fa",
           "#FFA15A",
           "#19d3f3",
           "#FF6692",
           "#B6E880",
           "#FF97FF",
           "#FECB52"
          ],
          "font": {
           "color": "#2a3f5f"
          },
          "geo": {
           "bgcolor": "white",
           "lakecolor": "white",
           "landcolor": "#E5ECF6",
           "showlakes": true,
           "showland": true,
           "subunitcolor": "white"
          },
          "hoverlabel": {
           "align": "left"
          },
          "hovermode": "closest",
          "mapbox": {
           "style": "light"
          },
          "paper_bgcolor": "white",
          "plot_bgcolor": "#E5ECF6",
          "polar": {
           "angularaxis": {
            "gridcolor": "white",
            "linecolor": "white",
            "ticks": ""
           },
           "bgcolor": "#E5ECF6",
           "radialaxis": {
            "gridcolor": "white",
            "linecolor": "white",
            "ticks": ""
           }
          },
          "scene": {
           "xaxis": {
            "backgroundcolor": "#E5ECF6",
            "gridcolor": "white",
            "gridwidth": 2,
            "linecolor": "white",
            "showbackground": true,
            "ticks": "",
            "zerolinecolor": "white"
           },
           "yaxis": {
            "backgroundcolor": "#E5ECF6",
            "gridcolor": "white",
            "gridwidth": 2,
            "linecolor": "white",
            "showbackground": true,
            "ticks": "",
            "zerolinecolor": "white"
           },
           "zaxis": {
            "backgroundcolor": "#E5ECF6",
            "gridcolor": "white",
            "gridwidth": 2,
            "linecolor": "white",
            "showbackground": true,
            "ticks": "",
            "zerolinecolor": "white"
           }
          },
          "shapedefaults": {
           "line": {
            "color": "#2a3f5f"
           }
          },
          "ternary": {
           "aaxis": {
            "gridcolor": "white",
            "linecolor": "white",
            "ticks": ""
           },
           "baxis": {
            "gridcolor": "white",
            "linecolor": "white",
            "ticks": ""
           },
           "bgcolor": "#E5ECF6",
           "caxis": {
            "gridcolor": "white",
            "linecolor": "white",
            "ticks": ""
           }
          },
          "title": {
           "x": 0.05
          },
          "xaxis": {
           "automargin": true,
           "gridcolor": "white",
           "linecolor": "white",
           "ticks": "",
           "title": {
            "standoff": 15
           },
           "zerolinecolor": "white",
           "zerolinewidth": 2
          },
          "yaxis": {
           "automargin": true,
           "gridcolor": "white",
           "linecolor": "white",
           "ticks": "",
           "title": {
            "standoff": 15
           },
           "zerolinecolor": "white",
           "zerolinewidth": 2
          }
         }
        },
        "title": {
         "font": {
          "size": 20
         },
         "text": "O-H Bond Length Distribution",
         "x": 0.5,
         "xanchor": "center",
         "y": 0.98,
         "yanchor": "top"
        },
        "width": 600,
        "xaxis": {
         "gridcolor": "LightGray",
         "gridwidth": 1,
         "showgrid": true,
         "title": {
          "text": "Bond Length (Å)"
         }
        },
        "yaxis": {
         "gridcolor": "LightGray",
         "gridwidth": 1,
         "showgrid": true,
         "title": {
          "text": "Probability Density"
         }
        }
       }
      },
      "text/html": [
       "<div>                            <div id=\"b79f3b76-0935-43bf-9ca7-45d6c339da80\" class=\"plotly-graph-div\" style=\"height:600px; width:600px;\"></div>            <script type=\"text/javascript\">                require([\"plotly\"], function(Plotly) {                    window.PLOTLYENV=window.PLOTLYENV || {};                                    if (document.getElementById(\"b79f3b76-0935-43bf-9ca7-45d6c339da80\")) {                    Plotly.newPlot(                        \"b79f3b76-0935-43bf-9ca7-45d6c339da80\",                        [{\"histnorm\":\"probability density\",\"hovertemplate\":\"Bond Length: %{x:.3f} \\u00c5\\u003cbr\\u003eDensity: %{y:.3f}\\u003cextra\\u003e\\u003c\\u002fextra\\u003e\",\"name\":\"O-H bonds\",\"nbinsx\":50,\"x\":[0.506952,0.8089418560336924,0.9259302470857133,1.0709848871480987,0.9578678545637128,0.9544916572075106,0.8686432831144424,0.9202814087323714,1.0249141211611683,0.9011572441480177,0.9920862444718301,0.9228985457694903,0.9389812802702192,1.001677643553403,0.9714095023781938,0.9734689296704748,0.9781204635347376,0.9688341471370936,0.9509108113354804,0.9325667322509313,0.9285771182228917,0.9949292571576434,0.8995490599800737,0.9822018190754385,0.8403712410860987,0.9210737755973312,0.9826123075296647,0.8900400440082064,0.888876591860654,0.9229498437021117,0.9569050177522167,0.9429920154314033,0.9276485674243722,0.9125178411299457,0.9612981618030537,0.9194745332083386,0.8719076616717449,0.9632046347217658,0.9557042043340106,0.9122735243281589,0.8870200664979119,0.9605127155526626,0.97899822777389,0.906089303079037,0.967700094100016,0.8954047447248982,0.9463881823180328,0.9205659236792316,0.9401981048978774,0.9241860855942542,0.9510317883867088,0.9131611669879365,0.911483795472421,0.9665178350707984,0.9227295369173135,0.9663462784622732,0.9787781065387162,0.9696660021468525,0.9199976832996537,0.9281035616971848,0.9528842894501829,0.8765134570239858,0.9475498156960878,1.005736207941044,0.939469085934109,0.8774493652565194,0.9617571271345163,0.9707324478452752,0.9033054814043509,0.8927306042743129,0.9115292525894877,1.0019438201749387,0.9739839360518123,1.0087394724266965,0.8966484270897095,0.9739593914502904,0.8992803187829403,0.9568205241183232,0.9320350219561465,0.9873317767326997,1.0071112159489648,0.893616545226686,1.0024510626365526,0.9236112706452484,0.9136123865546647,0.9687902422320775,0.9598193608801097,0.9639769751284009,0.9699504902270271,0.9186562119614988,0.9062052881315028,0.9584955239618318,0.9294534107216457,0.9663414914021129,0.8692952606202566,0.9572183676388841,0.9573421479223507,0.9555944014376548,0.9218373151704051,0.9421830961637021,0.9441940163602235,0.506952,0.7546170753221952,0.9388120698605154,0.9796423743218693,1.001429276439586,0.9611433404410447,0.9148418203153756,1.0211408546092502,0.9490498589722538,0.983459666607107,0.9620175568614223,1.019813755985837,0.9455647846619764,0.9237537487940441,0.9705689522879827,0.9007056488095819,0.9614532680673461,0.9242493784515131,0.9845939414708699,1.0124050827498399,0.9160021316980494,0.9171480590006733,0.9529231338567606,0.905642394182247,0.9004925945219815,0.8614725151912851,0.8688205886598739,0.8924054015675982,1.0274919172927564,0.9038546328515776,0.9763248935070642,0.940551910261725,0.878711953089072,0.8967476129213525,0.9235543792454476,0.9016911828233599,0.8962548511622032,0.8641667164002846,0.9382133715818487,0.9168301664375196,1.0181474920161047,0.9360400673722573,0.9179046731765845,1.0076772159105813,0.8874999455492096,0.9046573134035948,0.8870938284266608,0.8729283985438039,0.8903640847034164,0.8916412920315995,1.0026687205894105,0.9698723136252988,0.9752421088650602,0.9683121142682353,0.9284195159919356,1.0207147549408795,0.9693352793927096,0.9459397859499113,0.9203927778640487,0.9492168177411795,1.0418432371415483,0.8905971787457164,0.9329420531600878,0.9818133925874559,0.9113840387112312,0.8764769080539238,1.0074912664916578,0.9203065623942652,0.9436820966145114,0.883492997895569,0.8776475940303055,0.9554626372290652,1.0290964704574894,0.8609843058848285,0.9612869512064959,0.9941944631458979,0.9952492898782194,0.9390064216603047,0.9149770512978891,0.8980030620303284,0.8877679858650006,1.0272102141941444,0.9295439572543626,0.9177299854616497,0.949707404731631,0.9166352358258496,0.9095615489911479,0.9528748895783329,0.9401897426161783,0.8715092910725565,0.9564090828358648,0.9381848333653398,0.8937507017946352,0.9990576061329018,0.8489479766645446,0.9484735250260994,1.0069971684765255,0.9591716636355194,0.9864010083701,0.9474848299453716,0.9423060331450074,0.506952,0.6909199805512429,0.9809906264981181,1.0372175187960528,0.9780293565781857,0.9657331576986258,0.9099953805111763,0.9752037585981558,0.9734894978135065,0.9953032809469082,0.969956158034986,0.9726255039546002,1.0017645651656892,0.9034722326711563,1.0131546840263095,0.9563020363402978,0.8097019270427463,0.93156033834735,0.9269271164695021,0.9196057725116401,0.9945777632347156,0.9477997296507633,0.9297010569936153,0.8941843232657682,0.9772343160120248,0.9512357740747821,0.9646016886816858,0.9594607357401488,0.9088643500736565,0.9255483581862484,1.0231497792575923,0.9180649403884074,0.8825628817060233,0.9687033052507955,0.9466439014411755,0.9311396650444981,0.9389656197867667,0.9183164985328207,0.9233877777477131,1.0256894563585028,0.9848873705576484,0.907855388232453,0.9253960591009128,0.9718705481882967,0.9452302728067378,0.8425904010765374,0.8589305877343175,0.9168296144302966,0.9443541752377972,0.9025653245381023,0.9950816386415581,1.0778302452117958,0.9717211135237892,0.8821751229946241,1.0077218961378085,1.0281657320925746,0.9616173706297229,0.883350804049569,0.9424492381349884,0.9491012057177307,0.8517696266287265,0.9205967813595972,0.9651446884541804,0.935545200529627,0.9227216280590262,0.9521429444674403,0.8763211110562212,0.9822588017018238,0.831798952959199,0.8862585954697136,0.9531294398802279,0.986973403184569,0.9534299845893994,0.9506948114928097,1.0231698891224565,0.914076795843937,0.9814423404661631,0.9994097505815771,0.8669526919247498,0.9319691151092079,0.9974690131542986,0.885650093861893,0.9846558437312422,0.9236719661021385,0.8875301491940677,0.9588404538283364,0.9747698082456083,0.9704547819589432,0.9308815452572953,0.8796271577525423,0.9382211925278494,0.9668742149816335,1.0054497138310647,0.8644766507923335,0.9461783183931505,0.9882221255513854,0.8785311582441456,0.8794829528779793,0.9158219956102223,0.86465368490801,0.972955657541362,0.506952,0.7529614621458127,0.9652867315716352,1.0719384409405468,0.9766103131544459,0.916813399230634,0.9732733625248637,0.8603150125842828,0.9652771730175176,1.0121575901147708,0.9596859769476918,0.9499492936034273,0.960870272899159,0.8975396498672469,0.9091451479163324,1.018609990956846,0.9901818717300475,0.9277384537290346,0.9295373172067972,0.9492505682272568,0.9279949196357812,0.9336910053993267,0.9663975650563963,0.9403054860715161,0.9428525636151657,0.8901960970179777,1.0238695271815546,0.9218901037817816,0.9368428926540244,0.9282226276547293,0.963869893770181,0.9030468584739448,0.9564837394771749,0.9648097463118622,0.940863658968211,0.9895805777551114,1.0146846317837184,0.8975998894075579,0.8585730153915868,1.0054924181546412,0.9808726222256028,1.0049134660555223,0.9521116241701285,0.9451225281014203,0.8748437905448264,0.9494811817420293,0.9308791813675277,0.9911058427656613,0.9482379202135982,0.9118990243763738,0.9435025006160496,0.8776290465137484,0.9497819097267338,0.8997412972962505,0.94446357351375,0.980537832566638,0.9175980931797374,0.9209417159223161,0.8598379439925933,0.8696383677168394,0.9730762820837532,0.952974369623386,0.9347290369861566,0.9742135935922882,0.9413961681351114,0.9469419453877238,0.9697729941026558,0.9400993477552907,0.9627129670784796,0.9578883863658018,0.9869364664801579,0.9903533047253381,0.935122592063522,0.9333159009945775,0.9114949503691729,0.9582482365288704,0.9358994520730043,1.0073350791842404,0.986540530934685,0.9081786007266908,0.9421849187521524,0.9393941894352604,0.8705818133106502,0.9544758314729342,0.88803061748743,0.8762253020259171,0.8749172456497757,1.0181316728336125,0.9514754755815727,0.9229711342915714,0.994222322155382,0.9447098452320903,1.0031236571259,0.8661126412926554,0.8626654723519179,0.9100008491188016,0.8929204268655858,1.032357151948227,0.9019563703797984,0.9459030601143332,0.976845687549551,0.506952,0.7516195999974588,0.9537829027994631,0.9202791610443173,0.9592546233263671,0.9186612057309321,0.9638261585073264,0.9673745124390822,0.9789315603730171,0.9111990478686036,0.8891876352136707,0.9739072644235031,0.9264483315575349,0.9751696665813698,0.984808832067674,0.9964267659846439,0.9801507515677371,0.9609402984306985,0.9862166497875302,0.96486252920914,0.8891006764121453,0.8588651871261928,0.9205664501133745,0.9463969652705677,0.984019572833261,0.9819637315631571,0.9481791706729537,0.9348810062532878,0.9134340673780347,0.9020696287523541,0.9161073163610638,0.9575064260399783,0.8712605952005864,0.9338448606787104,0.9592838981913532,0.9607151357736017,0.9104878896504299,0.860739255742208,0.8160656664699373,0.9046093412027867,0.9663342890487638,0.8921261115479638,0.9029749743268415,0.9497968911502146,0.9401355726534605,0.9430930491860264,0.8788729947070965,0.8861613405787121,0.8872452742478486,0.9639003303488851,0.9382766954703554,0.9756291338014254,0.9580940076953879,0.9078337716459123,0.9781123383494825,1.0100748190737021,0.9865019120534384,0.9242376115223617,0.9338141716998356,0.9552681766553568,0.8501233317189882,0.9833612785224207,0.8977529313539555,0.8784991189092963,0.8762428451196808,0.965900430805008,0.9225744085325315,0.954724538423843,0.8771083133062644,0.8983963997607792,0.999280643265204,0.9608880282572898,0.9913054141403899,0.9081345284191448,0.9621033106012005,0.8981789392289434,0.98930788183895,1.023895413582476,0.9463587469529386,1.0198175152032103,1.0172341593884628,0.9687609404750999,0.906779340617468,1.0097262175136437,0.9995858795256563,0.9223218196021928,0.9796428063176406,0.8984194792168133,1.0472002338830964,0.9441491251603876,1.0041555631514245,0.9592864329322968,0.9805475309157176,0.9135356371352134,0.9743289121497627,0.958262182920906,0.9933866766517039,0.9319721588580692,0.9950189558264405,0.9606451547864239,0.9187118358588018,0.506952,0.6804304157385075,0.946007570481817,0.9624383994907987,0.9280491598640075,0.871008832727717,0.9312083970622359,0.9413532674969075,0.9565759326953716,0.9250133624139545,0.9943268536811122,1.0096953877048562,0.8810911740820242,0.9446653158507919,0.9361064744954658,0.8967711994980684,0.9307975015059422,0.8863881470753205,0.8660379708720051,0.9379902377697967,0.8901946208860622,0.9104214439099345,0.875469706016885,0.9801381535101072,1.0252899867492953,0.9101642958675075,0.9526757133556308,0.8829908434431979,0.9449687732894193,0.9046200927965397,0.9184026605359946,0.9446409667477631,0.9880849811040142,0.9050579454854203,0.8390008777998328,0.9285606162257551,0.9219827039690224,0.8706583058606991,0.892388874821095,0.9425734393620955,0.9416252958372986,1.0255276300101817,1.0178101035194433,0.9989886195593816,1.0042223859423125,0.8913832148832243,0.8801837287886547,0.9539769897295326,0.938337535548408,0.8693167523030947,0.9257619332599097,0.9231238823830418,0.9149467881692136,1.0024493733636606,0.9513775221073857,0.9709874939945725,0.9762105926416134,0.9412588605018428,0.9530484355596115,0.9325843820477534,0.9711748466577479,0.8596169838308513,0.9577577631033538,0.9045893685595965,0.9237932366703384,0.8874500422549645,1.016932289034324,0.8932325093495925,1.0052842838526324,0.9544520959974406,1.0304272229925848,0.9704510587940692,0.8987283247161902,0.9638848980834775,0.9779054350064018,0.9343439948119344,0.9872226604285622,0.905123180497953,0.9128719899006377,0.9882436782639367,0.9531476402637212,0.9410816845021955,0.9003112700151099,0.8954679553761485,0.9522385799469589,1.0148443812775287,0.9528191832958025,0.8547730308780279,0.8268527834191503,0.9956768201044502,0.8864978066558887,0.8887845907302061,0.9442120913146936,0.9079135636822938,1.0411989057007023,0.9027212517761283,0.959493675010414,0.8712772486600634,0.9295152739110101,0.9448874969558704,0.9556990692861553,0.506952,0.6679501047644205,0.9092306658053555,0.9366592452148754,1.011558203770134,0.9345508265201202,0.9305091270750425,0.9881037264592987,0.9404769331445934,0.9074156990021112,0.9153553422424779,0.9336168110105827,0.9931120598299671,0.965329217191496,0.8807006698193547,0.9002981297990628,0.9220222230792161,0.9166218943279223,0.868400181923202,0.9147176525338524,0.9911693679429666,0.862471837780059,0.9168963350487229,0.9788441706980023,0.9843822569961288,0.9702411697955823,0.8943402975542167,0.9313599039320837,0.9061999800960051,0.9553481223201362,0.8955168168328848,0.974494274396756,0.9383575784477787,0.942128239162504,0.9510337318021376,0.8981999976263533,0.9214494623011834,0.944880105488667,0.8880546630773691,0.9297766075890117,0.9299019303799406,1.0481698447471242,0.9297647630714181,0.9539014817864894,0.9395135972806673,0.9082472804778005,0.979239519953428,0.9355490875206335,0.8769483910211685,0.9925213441554458,0.9188202716992153,0.8855693513742954,0.9441787984204422,0.9526221472321483,0.9538857646476281,0.9518371506937731,0.9367096067214908,0.9842079918689394,0.9910036551059592,0.9378296848335362,1.0445755878875114,0.9704583863121282,0.999797326522815,0.920192284139152,0.919721817329196,0.9435262449936885,0.9527410824320461,0.9832485031082122,1.007229651284661,0.9656924910836264,0.8525892330188074,0.9363645997566209,0.8883995295554135,0.8688402102036312,0.8967491757253474,0.9362807511494081,0.9928643032007022,0.8991136025983647,0.9045939402149537,0.8709848451837781,0.9884736762664194,0.9794017434362979,0.9236932876208692,0.9322168108248103,0.9660638815899236,0.8924487384316754,0.9614538728916328,1.0035370939244124,0.9219140618809273,0.8963990347283067,0.9449942838950613,0.8975748393665345,0.9578519196312758,0.9827613178135676,0.9602339859367038,0.9900789767170798,0.8889970655491966,0.977799838034605,0.9515101975395984,0.8835085745993279,0.9699691932350296,0.506952,0.6865592840351517,0.918881238956885,1.045083258717906,1.0046332369687427,0.9506070309452412,0.8967505435294311,0.9728075967472808,0.9847275384614109,0.9774509556345693,0.9215926101444607,0.8934949305256958,1.0041262551769323,0.9736047779481846,0.9692739498898079,0.9956496587288975,0.9156469719119099,0.8464647678009277,0.8831536369929833,0.9072246589418522,1.018583860694862,0.9886036709676381,0.9634214679959078,0.9799127986234919,0.9590087692993564,0.9716746590180795,0.865467533102548,0.9157099061299108,0.9822704932867168,0.8967023473997049,0.9270494316128132,0.8852932891221361,0.9397268837894936,0.9510158680729865,0.930034575989936,0.9733983428562327,0.9197358479862899,0.9506010581662583,0.8375968848722277,0.8323662844152183,0.8855885651224276,0.9810313270176748,0.9447367568351567,0.9305260090746791,1.006004412734144,1.0267738686323975,0.9635964827181811,0.9799991657341602,0.957559617144823,1.0016348680284948,0.9590390220150973,0.8852274786460226,0.9558012859239624,1.0076441322774208,0.949265240579439,0.9771826071794156,0.9190540850557437,0.9383798449097093,0.902577919143434,1.0102011788664722,0.9797605070945246,0.9282271752331215,0.9391179725705445,0.8864887428829149,0.9575493600044993,0.8803641898304587,0.8728475656336163,0.9780386176667054,0.962123941945366,0.9228910122083647,0.9643527315303504,0.9815864397762516,0.8975061866200867,1.0247324899501966,0.9614466188091672,0.9921758833649236,0.9654566411881738,0.9694278527566763,0.9943518346199632,0.9820748437279361,0.9991663852560393,0.91636092875976,0.9458648025819811,0.9144849385074201,0.8604314850861108,0.9877244251441087,0.9399395173071119,0.8973939079903867,0.9011532786168747,0.9023640343505164,0.8847707850853092,0.9284575902484224,0.9396050325121402,0.9267036504546693,0.969560236469696,0.9446640683446575,0.9270410260827039,0.9234312612062958,0.9100427002141492,0.9542081648933487,0.9743815723563384,0.506588372288587,0.7252799067039808,0.9077748987707305,0.9585614233442453,1.0183110322612094,0.9114499424680724,0.9459861317723085,0.9102350550746758,0.9836139312998622,0.9315517653142256,0.8399597631027216,0.9779864121381033,0.9228269443813016,0.9147165512486084,0.9607607762315498,0.9551829314457938,0.881509642090953,1.0060171086108125,1.0199895850945253,1.0701330868157382,0.8954096106114676,0.9606844964748312,0.9129824711585814,0.9060957969022113,0.937478635845207,0.9710669201268378,0.907299837340927,0.9760869042022488,0.9597466504626062,0.9132425851928131,0.9196166248461203,0.9344853909987143,0.9483526813568304,0.9650673514182986,0.9092403347473593,1.0026171380907332,1.0198059861375055,0.897605465859188,0.9380375540178592,0.9828643246037265,1.0017472410266623,0.9965347315097202,0.9629143257737407,0.9115906844290176,0.926075377696751,0.9367809275490883,0.8664241385206382,0.9355643153138414,0.8846320411326408,0.9321341888509722,0.9857579414550439,0.9757758647439072,0.9346737798976764,0.9117078151923756,0.9521266786797018,0.9678038286446717,0.8783921335333522,0.9981525471614897,1.0009151680143427,0.9114660174287355,0.9486277718407626,0.9376905126622848,0.9705899936265003,1.0250993132437614,0.9656676699607738,0.8864058507814184,0.9137420116479039,0.9587789706077621,0.9740397981028013,0.9061209179773856,0.9816610502504161,1.0191716456607005,0.9305158393217123,0.9795585096745829,0.8480393541297068,0.9569140937807635,0.9486299490391746,0.9583715821565562,0.9596398352691203,0.8814606287453964,0.880881141529544,0.9545270478695497,0.849217175057914,0.9753636785866544,1.001028195485172,0.984330690268381,0.9966944614304095,0.9527350724279555,0.9189931887832739,0.9432025747820085,0.8713327332965863,0.8836811416583622,0.9781771298790929,1.0005560176764017,0.9689324183469301,0.9702484085015599,0.9079576220916976,0.9068496540623424,0.9461982643018326,0.9609781511337394,0.911470224998738,0.506588372288587,0.76404828119553,0.8649642792636498,0.9977480945704029,1.0225920872681746,0.9196158907031893,0.9449307318896872,0.959346004321517,0.9196397444670956,0.8814855465757689,0.9200150887831026,0.9597196072967822,1.005053401728769,0.9477565159795263,0.9241402980044385,0.9808571343546878,0.9439719832434752,0.9396238776570176,0.9780444367578565,0.9005282884727664,0.9036819590637752,0.9172579612494854,1.0324940449554902,1.06265348315215,0.9114572112090232,0.9337371939339886,0.89527060162662,0.9046406856925218,0.9979692007158459,0.8949401582712109,0.9601535558142665,1.0524760176403927,0.9418913825971715,0.9306373733129442,0.9841602466304865,0.9602401932117767,0.9479781795630229,0.9802133964837708,0.982368680722075,1.0231499057450428,1.0139673123439894,1.0315906030979296,0.8460677859387583,0.9072664920340375,0.9277968684264514,0.9388533151123981,0.9348569076923536,0.9374535906248639,1.0076614238193662,0.9570901797595303,0.9094757399693989,0.920229098189842,1.000095380468968,0.9766304327899168,0.925170746504071,0.9119244322208447,0.9734348054507516,0.9503445674257279,0.9250584085400553,0.9442869644318784,0.981887280866969,0.9972890420698051,0.9106809398191884,0.9619219963396668,0.9046995864945949,0.9020911886644091,1.00267837113759,0.9299004205357579,0.9867869404433562,0.9512511279167347,0.9137383718613518,0.9599963838721949,0.9374230345698961,0.9043899897355012,0.9999701490089041,0.850440594887268,0.9170135227400411,0.9212041623375842,0.8410512305140395,0.9526187920034415,0.922965977789539,0.8765650568549832,0.8778390450729222,1.0050532418090745,0.9374691721635066,0.9386576626341718,0.97323395516524,1.0173530769355543,0.9930418854328934,0.9084369511941873,0.9873686870114774,0.9343708273235195,0.9246621034315631,0.9161006504552239,0.9616733842808399,0.9312910526819715,0.9594910485073443,0.9158909307503432,0.954534429843818,0.9973592464912581,0.9410029679773065,0.506588372288587,0.7274569019979671,0.8911359377480239,1.0662170389973329,1.0109096829516768,0.9394683107871755,0.9074766087694549,0.9963161620811438,0.9710294856242588,0.9634868783542205,0.8278755504003611,0.8411955846708243,0.9543351824690119,0.9944403472538864,0.9739736633978667,0.9419045765629339,0.9654072474722722,1.0764316819627193,0.9893478274288907,0.973429785902962,0.9390596230769215,0.9084458963005172,0.9179372241725873,1.0746038951260644,1.026430119709978,1.0225747237643077,0.941821318185971,1.0269860609268986,1.0439415258274813,1.0050220136300416,0.9970954874647965,0.9440570539596481,0.9164989411871899,0.9796413447396553,0.8739205326349988,0.8432124327454973,0.9124742261693899,0.929993934921395,0.895540195799963,0.9546945692437446,0.9758430515369817,0.9475725015453214,0.9970223348696358,0.9372908236354072,0.9689993200330431,0.8642690440826225,0.8945044077238021,0.935306943307365,0.9352882126579646,0.9179278606644261,0.978276374204697,0.952927794945829,0.9719217349725041,0.9168960140396402,0.9278880994303029,0.9917257326925928,0.9749917695736594,0.9250012011176256,0.9552834051197686,0.9238253531546154,0.9657793428090704,0.9649491014731554,0.9764550938567175,0.9948004947016361,0.9518231791779785,0.8402958199219053,0.9563732718205847,1.02526082974454,0.9087746837012023,0.9841767822598402,0.9837247534208473,0.8987301095857977,0.9552453124314416,0.9450031222649737,0.9484379643233762,0.9051406400304992,0.9816108418718184,0.9199684933549247,0.9522918593831463,0.9695636054211193,0.9360675728741276,0.9731175301691877,0.9150921745060244,0.9397333833381967,0.995611518238155,0.9175019519139619,0.9650662797455571,0.9682751994189928,0.9776776499744739,0.9253863157105935,0.9920742848282985,0.9555412932236839,0.9256551867530209,1.0168952035033896,0.9675074918781973,0.9263681998250599,0.8275368048151092,1.1025909973363468,0.967820278539611,0.9872142306337566,0.9663890173654625,0.506588372288587,0.7244169012336543,0.9204940403684589,1.0596653580831308,0.9688691983388908,0.9881187547170787,0.9778973592691798,0.9409551581164676,0.8945968598630172,0.8415206654706348,0.9572049860488483,0.8867001717382434,0.9534544805519267,0.9454974303777932,0.9727342464023613,1.013151600294398,0.9215438748173578,0.9598006661696687,0.9583017048483269,0.9533992394049672,0.9421386246264666,0.9524490782550873,0.9339031540568059,0.9034308927003714,1.0063034901120735,0.8794896797545659,0.8966444858390531,0.9838959946932523,0.9621269708843839,0.9782928183290778,0.9137835084046658,0.8938447732795448,0.9815287481246996,0.9682280435920094,0.8729657772344915,0.9877479918303758,0.9129439256769607,0.9125725491871098,0.9397532652945089,0.9346417398788328,0.9727668768305847,0.9678794298026664,1.016593225931336,0.9856042313296043,1.0093424061185776,0.9135301708973,0.9434955028699386,0.8702429010405724,0.9771699188860706,0.8504747590655953,0.9484497296007199,0.9633023564802982,0.9961394633610194,0.8721393810842049,0.9330145459476503,0.9474435400046168,0.9600703532673478,0.9958899774972886,0.9577710877332903,0.9986939340681954,0.9445694339652432,0.9413017146743599,0.9739037322898539,0.955533396014289,0.931551755470999,0.9013786311742236,0.9037114904540166,0.9277570284245121,0.9548227637787288,0.884141004799179,0.986386059124119,0.9260077750999287,0.9850007846862509,0.982670999516074,0.9427000570312792,0.9488045518872104,0.9143954670482074,0.9105395730143309,0.9000286877998335,1.0015189084734297,0.8979089449686756,0.930415631119195,0.9414403413061181,0.9794844157220417,0.9139585553322809,0.9186367519089902,0.9784297245520446,0.9164786787645253,0.9244182923421518,0.9287122306993647,0.9675451256585607,0.9281270180423798,0.9770161050640055,0.9341705035735928,0.8724954937388386,0.8884634437983028,0.9001173712305636,0.8989978997912036,1.011829881119598,0.9610081064529372,0.9191019975443134,0.506588372288587,0.7002705783930522,0.9321892870860403,1.079489752160405,1.0420143591001854,0.9967150029349463,0.9265692358872433,0.8908242121193901,0.966970108643049,0.9041946142435543,0.899558293502789,0.9688877770556613,0.9217263549917296,0.9455857065933579,0.9450279447887645,0.8635025783909855,0.9284194245976599,0.9923814889215942,0.9600162362032478,0.906782761560887,0.9328994840679323,0.9843619591764556,0.9972994215888527,1.01965797687124,0.9644297945606941,0.8351630972629119,0.9775798901330621,0.9541926591528358,0.9575747484619569,0.9286331846466667,0.9311880590637909,0.8569503494057249,0.9410494670016449,0.9759153062229529,0.9441073167976787,0.9639989617250062,0.8939871829136554,1.0432034218988069,0.9237582942523238,0.9280807573579467,0.9892955119449042,0.9549953106670733,0.9827857163970994,0.9424254809041628,0.9793381769665064,1.003347199004062,0.9734619893453571,1.0824916616256497,0.915867947190609,0.9213570345691023,0.9831447240847961,0.9274451567695476,0.9108592626413864,0.919920609781215,0.8904767662168354,1.0212648892285938,0.9665375029849024,1.021297566569489,0.9702309059509752,0.9252885297734161,0.982051418564823,0.879206967173515,0.8849775189138479,0.9144801619488583,0.8369491353799422,0.9711269174653229,0.9059738746889062,0.987431921678867,0.9066373135043141,0.8752503469733274,0.9492368945873358,1.0468534037593593,0.9274579099998715,0.9102085878889313,0.902714926309181,0.8538128033569536,0.9307242167129154,0.9385989484226103,0.9449680665103272,0.9704150660124975,0.9075859241788915,0.8888533307913068,0.8945954082490922,0.8426435713655923,0.9401945336152939,0.9509848816676897,0.9231632546012445,0.8808254188896061,0.9539026668602262,0.8889818144963851,0.9835665030192391,0.9654378050935906,0.9672239252721729,0.9809834015891604,1.0005546512879133,0.9805209953047664,0.9388137403309139,0.9551431283920594,0.970115544296008,1.0109463969298078,0.9291082639137648,0.506588372288587,0.6468577138735057,0.9345076805618561,1.0583924688987825,1.0471773107121496,0.9617005050287226,1.0240918572320332,0.8784869372314335,0.9400019796671812,0.8526374124309641,0.955166644693155,0.925490036792428,0.9566578399188134,0.9135915646766997,0.980632091517675,0.860721586376178,0.9476576998661196,0.9952787086763285,0.932195205959637,1.0300621772597078,0.9493823719530925,0.9684189552146323,0.9803469929402804,0.9636315208886136,0.8900777657362136,0.8855335414356227,0.9519330303347763,0.9250135233527832,0.9699905032389285,0.9520165168886618,0.9253342950317865,0.8395479110764436,0.8940169426772179,0.9146641028205327,0.9918155985649197,0.9512375328837241,1.0067548788641802,0.9849024645541826,0.8688662021047141,0.9075647127751773,1.0397681257599118,0.9165288158123127,0.9385077223092307,0.9485163034490705,0.9477401165442776,0.9850593302954865,0.9931332890855588,1.0387018168681053,0.8723785120312513,0.959972937546679,1.036653322391206,0.9243307413918137,0.9211853688832287,0.9051065198083349,0.9549274266193996,0.9134707445334307,0.9645100682788593,0.92590720896951,0.9384407337720907,1.014742026357532,0.8814788620031963,0.9132134167317353,0.9148507749211671,0.9223214026649764,0.8978521787067679,0.9860595130694204,1.006163386036408,0.9320565416447492,0.9563877656506801,0.919862687152179,0.9012468579654577,0.9550483443500648,0.9948107908218777,0.8894116789108495,0.9643027635061823,0.8993009563681305,0.8985302868839138,0.9455443278658754,0.9981798908921928,0.9867063782067668,0.964969310497168,0.9458664487690056,0.8757040837323188,0.9161328097500603,0.880311959934307,0.9170512573633876,0.9261103778233835,0.98478832500117,0.9201234786272113,1.0094527831698272,0.9857290640272821,0.9594419556462288,0.9866091615906005,0.9337450911609563,0.8878129954466425,0.9325683007604644,0.9468910231780371,0.9525698363615395,0.9587820118863619,0.9351702241976537,0.968928455824445,0.506588372288587,0.6485452783127778,0.930203273987385,0.9693884434276592,0.9618876892145881,0.9604444337078589,0.9094732855944025,0.9561024235513956,0.9154592412920468,0.9462765527975899,0.9249192380115964,0.9450753853861024,0.907828428499857,0.9133447337422307,1.0201131998228725,0.8996499284568971,0.9171344384703041,0.9323840565414784,0.9670017625259275,0.8798653066447453,0.9596659230941046,0.936016450033354,0.9289334396397947,0.9178200835477125,0.8823739555865713,0.8711052196362619,1.0033214962830832,1.022708695301052,1.0327329312034164,0.9707414049004038,0.982960467114778,0.971319122330895,0.9627304629584539,0.9252767636657263,0.964050842589902,1.0043295439890738,0.9779728024280328,0.8387421873771906,0.9169909024276683,0.969544489174618,1.0128226576225179,0.9051120402328654,0.920641313794493,0.985381824429221,0.9110889139162325,0.9158890477445127,0.9639613725628325,0.9544086901286787,0.9110874821097568,0.9483626751298223,0.8628568286569157,0.9000359085537033,0.917412474267856,0.9583481932994614,1.0474397395706303,0.9066891157722807,0.9302518508017761,0.8816889451299761,0.8958332985329693,0.936090349814146,0.9032168741346123,0.9386258998855561,0.9862160401889136,0.8914660796611557,0.937262052867783,0.9403168804050259,0.9527514480539018,0.9010370035376682,0.8998806051799428,0.9373473436300442,0.9144837836745521,0.9646981885959707,0.9194895553078003,0.9142592900076487,0.9279670099425141,0.9135766488529903,0.9339657547180066,0.9730760438039825,0.8775352925833073,0.9920148849583911,0.9398938194204971,0.9332825199460558,0.9693432505157757,0.9224146237938664,1.004164688360007,0.9341096324840028,0.8770640109349602,1.0099744047362362,0.9158410121796141,1.008512853577628,0.8376026798696026,0.9536883266347608,1.0183730341518866,0.8933378434728152,0.8961550121233157,0.9967878891359686,1.0127194444594476,1.024043088501602,0.9343339089919811,0.897569301723547,1.0334910591876711,0.506588372288587,0.7674821323287337,0.9496386947129418,0.9843689781536381,0.9947709649836398,1.019562106869678,0.952960009431104,0.9513692576671479,0.9182537474265975,0.8828901623657004,0.9368411162101075,1.047423078485713,0.9143134291347033,0.8816331838066293,0.9022814311871954,0.9138524089635974,0.917569757719488,0.9812095968518064,1.0158505156836188,0.9981500351127781,0.9093257899667478,0.9084399378914877,0.9769591157319686,0.9069537925693084,0.9522782481176004,0.9681486517927115,0.9851230358394885,0.8979936338240099,1.0082250440701868,1.0080447658910296,0.9618532521155396,0.9518254390919009,0.9907975729183346,0.867369683527053,0.9034971340786754,0.9608066628503675,0.9432286826130024,0.9453569373727629,0.9399136427433374,0.9768991322366952,1.0067416084866465,0.9009824951944073,0.9417529334458216,0.960055959264693,0.9329140073744042,0.9100299585304267,0.9928331187559418,0.9065909430585826,0.8662322357911821,0.9736627610918114,0.8940336404339291,0.9526201677675621,0.9298908227383094,0.9357413767591,0.9927133691581573,0.9127967121846792,0.9105386967280688,0.8421599736881882,0.906721533167524,0.9697762070652228,0.9773417839244826,1.0207204890358867,0.9860603842582106,0.9599285498724949,0.9304121543608704,0.9373680695480084,0.9446249072290704,1.0371141423298595,0.9767786172868906,0.9370225807972719,0.9486778059535956,0.9207820670416355,0.9592426400401726,0.9458112204821689,0.8779146748809135,0.9489856292896992,0.9011146497916621,0.9850640998658462,0.9161704158833206,0.8681030942675301,0.9877742407328811,0.9388665660010319,0.9250074048784312,0.92763603727096,0.9656387845699291,1.0572227010958384,0.9233417409517922,0.965272977125289,0.9215085854649117,0.9691897025502181,0.8605011944830433,0.9073288084605313,0.9753673023012099,0.8695094955815089,0.9452169243121396,0.9294625195699286,0.9487922440978659,0.8822844000605757,0.9815456293059737,0.8902900828023089,1.0066853856677418],\"type\":\"histogram\"}],                        {\"template\":{\"data\":{\"histogram2dcontour\":[{\"type\":\"histogram2dcontour\",\"colorbar\":{\"outlinewidth\":0,\"ticks\":\"\"},\"colorscale\":[[0.0,\"#0d0887\"],[0.1111111111111111,\"#46039f\"],[0.2222222222222222,\"#7201a8\"],[0.3333333333333333,\"#9c179e\"],[0.4444444444444444,\"#bd3786\"],[0.5555555555555556,\"#d8576b\"],[0.6666666666666666,\"#ed7953\"],[0.7777777777777778,\"#fb9f3a\"],[0.8888888888888888,\"#fdca26\"],[1.0,\"#f0f921\"]]}],\"choropleth\":[{\"type\":\"choropleth\",\"colorbar\":{\"outlinewidth\":0,\"ticks\":\"\"}}],\"histogram2d\":[{\"type\":\"histogram2d\",\"colorbar\":{\"outlinewidth\":0,\"ticks\":\"\"},\"colorscale\":[[0.0,\"#0d0887\"],[0.1111111111111111,\"#46039f\"],[0.2222222222222222,\"#7201a8\"],[0.3333333333333333,\"#9c179e\"],[0.4444444444444444,\"#bd3786\"],[0.5555555555555556,\"#d8576b\"],[0.6666666666666666,\"#ed7953\"],[0.7777777777777778,\"#fb9f3a\"],[0.8888888888888888,\"#fdca26\"],[1.0,\"#f0f921\"]]}],\"heatmap\":[{\"type\":\"heatmap\",\"colorbar\":{\"outlinewidth\":0,\"ticks\":\"\"},\"colorscale\":[[0.0,\"#0d0887\"],[0.1111111111111111,\"#46039f\"],[0.2222222222222222,\"#7201a8\"],[0.3333333333333333,\"#9c179e\"],[0.4444444444444444,\"#bd3786\"],[0.5555555555555556,\"#d8576b\"],[0.6666666666666666,\"#ed7953\"],[0.7777777777777778,\"#fb9f3a\"],[0.8888888888888888,\"#fdca26\"],[1.0,\"#f0f921\"]]}],\"heatmapgl\":[{\"type\":\"heatmapgl\",\"colorbar\":{\"outlinewidth\":0,\"ticks\":\"\"},\"colorscale\":[[0.0,\"#0d0887\"],[0.1111111111111111,\"#46039f\"],[0.2222222222222222,\"#7201a8\"],[0.3333333333333333,\"#9c179e\"],[0.4444444444444444,\"#bd3786\"],[0.5555555555555556,\"#d8576b\"],[0.6666666666666666,\"#ed7953\"],[0.7777777777777778,\"#fb9f3a\"],[0.8888888888888888,\"#fdca26\"],[1.0,\"#f0f921\"]]}],\"contourcarpet\":[{\"type\":\"contourcarpet\",\"colorbar\":{\"outlinewidth\":0,\"ticks\":\"\"}}],\"contour\":[{\"type\":\"contour\",\"colorbar\":{\"outlinewidth\":0,\"ticks\":\"\"},\"colorscale\":[[0.0,\"#0d0887\"],[0.1111111111111111,\"#46039f\"],[0.2222222222222222,\"#7201a8\"],[0.3333333333333333,\"#9c179e\"],[0.4444444444444444,\"#bd3786\"],[0.5555555555555556,\"#d8576b\"],[0.6666666666666666,\"#ed7953\"],[0.7777777777777778,\"#fb9f3a\"],[0.8888888888888888,\"#fdca26\"],[1.0,\"#f0f921\"]]}],\"surface\":[{\"type\":\"surface\",\"colorbar\":{\"outlinewidth\":0,\"ticks\":\"\"},\"colorscale\":[[0.0,\"#0d0887\"],[0.1111111111111111,\"#46039f\"],[0.2222222222222222,\"#7201a8\"],[0.3333333333333333,\"#9c179e\"],[0.4444444444444444,\"#bd3786\"],[0.5555555555555556,\"#d8576b\"],[0.6666666666666666,\"#ed7953\"],[0.7777777777777778,\"#fb9f3a\"],[0.8888888888888888,\"#fdca26\"],[1.0,\"#f0f921\"]]}],\"mesh3d\":[{\"type\":\"mesh3d\",\"colorbar\":{\"outlinewidth\":0,\"ticks\":\"\"}}],\"scatter\":[{\"fillpattern\":{\"fillmode\":\"overlay\",\"size\":10,\"solidity\":0.2},\"type\":\"scatter\"}],\"parcoords\":[{\"type\":\"parcoords\",\"line\":{\"colorbar\":{\"outlinewidth\":0,\"ticks\":\"\"}}}],\"scatterpolargl\":[{\"type\":\"scatterpolargl\",\"marker\":{\"colorbar\":{\"outlinewidth\":0,\"ticks\":\"\"}}}],\"bar\":[{\"error_x\":{\"color\":\"#2a3f5f\"},\"error_y\":{\"color\":\"#2a3f5f\"},\"marker\":{\"line\":{\"color\":\"#E5ECF6\",\"width\":0.5},\"pattern\":{\"fillmode\":\"overlay\",\"size\":10,\"solidity\":0.2}},\"type\":\"bar\"}],\"scattergeo\":[{\"type\":\"scattergeo\",\"marker\":{\"colorbar\":{\"outlinewidth\":0,\"ticks\":\"\"}}}],\"scatterpolar\":[{\"type\":\"scatterpolar\",\"marker\":{\"colorbar\":{\"outlinewidth\":0,\"ticks\":\"\"}}}],\"histogram\":[{\"marker\":{\"pattern\":{\"fillmode\":\"overlay\",\"size\":10,\"solidity\":0.2}},\"type\":\"histogram\"}],\"scattergl\":[{\"type\":\"scattergl\",\"marker\":{\"colorbar\":{\"outlinewidth\":0,\"ticks\":\"\"}}}],\"scatter3d\":[{\"type\":\"scatter3d\",\"line\":{\"colorbar\":{\"outlinewidth\":0,\"ticks\":\"\"}},\"marker\":{\"colorbar\":{\"outlinewidth\":0,\"ticks\":\"\"}}}],\"scattermapbox\":[{\"type\":\"scattermapbox\",\"marker\":{\"colorbar\":{\"outlinewidth\":0,\"ticks\":\"\"}}}],\"scatterternary\":[{\"type\":\"scatterternary\",\"marker\":{\"colorbar\":{\"outlinewidth\":0,\"ticks\":\"\"}}}],\"scattercarpet\":[{\"type\":\"scattercarpet\",\"marker\":{\"colorbar\":{\"outlinewidth\":0,\"ticks\":\"\"}}}],\"carpet\":[{\"aaxis\":{\"endlinecolor\":\"#2a3f5f\",\"gridcolor\":\"white\",\"linecolor\":\"white\",\"minorgridcolor\":\"white\",\"startlinecolor\":\"#2a3f5f\"},\"baxis\":{\"endlinecolor\":\"#2a3f5f\",\"gridcolor\":\"white\",\"linecolor\":\"white\",\"minorgridcolor\":\"white\",\"startlinecolor\":\"#2a3f5f\"},\"type\":\"carpet\"}],\"table\":[{\"cells\":{\"fill\":{\"color\":\"#EBF0F8\"},\"line\":{\"color\":\"white\"}},\"header\":{\"fill\":{\"color\":\"#C8D4E3\"},\"line\":{\"color\":\"white\"}},\"type\":\"table\"}],\"barpolar\":[{\"marker\":{\"line\":{\"color\":\"#E5ECF6\",\"width\":0.5},\"pattern\":{\"fillmode\":\"overlay\",\"size\":10,\"solidity\":0.2}},\"type\":\"barpolar\"}],\"pie\":[{\"automargin\":true,\"type\":\"pie\"}]},\"layout\":{\"autotypenumbers\":\"strict\",\"colorway\":[\"#636efa\",\"#EF553B\",\"#00cc96\",\"#ab63fa\",\"#FFA15A\",\"#19d3f3\",\"#FF6692\",\"#B6E880\",\"#FF97FF\",\"#FECB52\"],\"font\":{\"color\":\"#2a3f5f\"},\"hovermode\":\"closest\",\"hoverlabel\":{\"align\":\"left\"},\"paper_bgcolor\":\"white\",\"plot_bgcolor\":\"#E5ECF6\",\"polar\":{\"bgcolor\":\"#E5ECF6\",\"angularaxis\":{\"gridcolor\":\"white\",\"linecolor\":\"white\",\"ticks\":\"\"},\"radialaxis\":{\"gridcolor\":\"white\",\"linecolor\":\"white\",\"ticks\":\"\"}},\"ternary\":{\"bgcolor\":\"#E5ECF6\",\"aaxis\":{\"gridcolor\":\"white\",\"linecolor\":\"white\",\"ticks\":\"\"},\"baxis\":{\"gridcolor\":\"white\",\"linecolor\":\"white\",\"ticks\":\"\"},\"caxis\":{\"gridcolor\":\"white\",\"linecolor\":\"white\",\"ticks\":\"\"}},\"coloraxis\":{\"colorbar\":{\"outlinewidth\":0,\"ticks\":\"\"}},\"colorscale\":{\"sequential\":[[0.0,\"#0d0887\"],[0.1111111111111111,\"#46039f\"],[0.2222222222222222,\"#7201a8\"],[0.3333333333333333,\"#9c179e\"],[0.4444444444444444,\"#bd3786\"],[0.5555555555555556,\"#d8576b\"],[0.6666666666666666,\"#ed7953\"],[0.7777777777777778,\"#fb9f3a\"],[0.8888888888888888,\"#fdca26\"],[1.0,\"#f0f921\"]],\"sequentialminus\":[[0.0,\"#0d0887\"],[0.1111111111111111,\"#46039f\"],[0.2222222222222222,\"#7201a8\"],[0.3333333333333333,\"#9c179e\"],[0.4444444444444444,\"#bd3786\"],[0.5555555555555556,\"#d8576b\"],[0.6666666666666666,\"#ed7953\"],[0.7777777777777778,\"#fb9f3a\"],[0.8888888888888888,\"#fdca26\"],[1.0,\"#f0f921\"]],\"diverging\":[[0,\"#8e0152\"],[0.1,\"#c51b7d\"],[0.2,\"#de77ae\"],[0.3,\"#f1b6da\"],[0.4,\"#fde0ef\"],[0.5,\"#f7f7f7\"],[0.6,\"#e6f5d0\"],[0.7,\"#b8e186\"],[0.8,\"#7fbc41\"],[0.9,\"#4d9221\"],[1,\"#276419\"]]},\"xaxis\":{\"gridcolor\":\"white\",\"linecolor\":\"white\",\"ticks\":\"\",\"title\":{\"standoff\":15},\"zerolinecolor\":\"white\",\"automargin\":true,\"zerolinewidth\":2},\"yaxis\":{\"gridcolor\":\"white\",\"linecolor\":\"white\",\"ticks\":\"\",\"title\":{\"standoff\":15},\"zerolinecolor\":\"white\",\"automargin\":true,\"zerolinewidth\":2},\"scene\":{\"xaxis\":{\"backgroundcolor\":\"#E5ECF6\",\"gridcolor\":\"white\",\"linecolor\":\"white\",\"showbackground\":true,\"ticks\":\"\",\"zerolinecolor\":\"white\",\"gridwidth\":2},\"yaxis\":{\"backgroundcolor\":\"#E5ECF6\",\"gridcolor\":\"white\",\"linecolor\":\"white\",\"showbackground\":true,\"ticks\":\"\",\"zerolinecolor\":\"white\",\"gridwidth\":2},\"zaxis\":{\"backgroundcolor\":\"#E5ECF6\",\"gridcolor\":\"white\",\"linecolor\":\"white\",\"showbackground\":true,\"ticks\":\"\",\"zerolinecolor\":\"white\",\"gridwidth\":2}},\"shapedefaults\":{\"line\":{\"color\":\"#2a3f5f\"}},\"annotationdefaults\":{\"arrowcolor\":\"#2a3f5f\",\"arrowhead\":0,\"arrowwidth\":1},\"geo\":{\"bgcolor\":\"white\",\"landcolor\":\"#E5ECF6\",\"subunitcolor\":\"white\",\"showland\":true,\"showlakes\":true,\"lakecolor\":\"white\"},\"title\":{\"x\":0.05},\"mapbox\":{\"style\":\"light\"}}},\"shapes\":[{\"line\":{\"color\":\"red\",\"dash\":\"dash\"},\"type\":\"line\",\"x0\":0.9419,\"x1\":0.9419,\"xref\":\"x\",\"y0\":0,\"y1\":1,\"yref\":\"y domain\"},{\"line\":{\"color\":\"blue\",\"dash\":\"dash\"},\"type\":\"line\",\"x0\":0.9371836957227425,\"x1\":0.9371836957227425,\"xref\":\"x\",\"y0\":0,\"y1\":1,\"yref\":\"y domain\"}],\"annotations\":[{\"font\":{\"color\":\"red\"},\"showarrow\":false,\"text\":\"Classical O-H length\",\"x\":0.9419,\"xanchor\":\"left\",\"xref\":\"x\",\"y\":0,\"yanchor\":\"bottom\",\"yref\":\"y domain\"},{\"font\":{\"color\":\"blue\"},\"showarrow\":false,\"text\":\"Quantum average\",\"x\":0.9371836957227425,\"xanchor\":\"right\",\"xref\":\"x\",\"y\":1,\"yanchor\":\"top\",\"yref\":\"y domain\"}],\"font\":{\"size\":12},\"margin\":{\"l\":50,\"r\":50,\"t\":50,\"b\":50},\"xaxis\":{\"showgrid\":true,\"gridwidth\":1,\"gridcolor\":\"LightGray\",\"title\":{\"text\":\"Bond Length (\\u00c5)\"}},\"yaxis\":{\"showgrid\":true,\"gridwidth\":1,\"gridcolor\":\"LightGray\",\"title\":{\"text\":\"Probability Density\"}},\"title\":{\"font\":{\"size\":20},\"text\":\"O-H Bond Length Distribution\",\"y\":0.98,\"x\":0.5,\"xanchor\":\"center\",\"yanchor\":\"top\"},\"width\":600,\"height\":600,\"plot_bgcolor\":\"white\",\"hovermode\":\"closest\"},                        {\"responsive\": true}                    ).then(function(){\n",
       "                            \n",
       "var gd = document.getElementById('b79f3b76-0935-43bf-9ca7-45d6c339da80');\n",
       "var x = new MutationObserver(function (mutations, observer) {{\n",
       "        var display = window.getComputedStyle(gd).display;\n",
       "        if (!display || display === 'none') {{\n",
       "            console.log([gd, 'removed!']);\n",
       "            Plotly.purge(gd);\n",
       "            observer.disconnect();\n",
       "        }}\n",
       "}});\n",
       "\n",
       "// Listen for the removal of the full notebook cells\n",
       "var notebookContainer = gd.closest('#notebook-container');\n",
       "if (notebookContainer) {{\n",
       "    x.observe(notebookContainer, {childList: true});\n",
       "}}\n",
       "\n",
       "// Listen for the clearing of the current output cell\n",
       "var outputEl = gd.closest('.output');\n",
       "if (outputEl) {{\n",
       "    x.observe(outputEl, {childList: true});\n",
       "}}\n",
       "\n",
       "                        })                };                });            </script>        </div>"
      ]
     },
     "metadata": {},
     "output_type": "display_data"
    },
    {
     "name": "stdout",
     "output_type": "stream",
     "text": [
      "\n",
      "Quantum Effects on O-H Bond:\n",
      "------------------------------\n",
      "Classical length:     0.9419 Å\n",
      "Quantum average:      0.9372 Å\n",
      "Quantum elongation:   -0.0047 Å  (-0.5%)\n",
      "Distribution width:   ±0.1318 Å  (95% confidence)\n"
     ]
    }
   ],
   "source": [
    "def calculate_bond_lengths(positions):\n",
    "    \"\"\"Calculate O-H bond lengths in water molecule\"\"\"\n",
    "    oh1 = np.linalg.norm(positions[:, 1] - positions[:, 0], axis=1)\n",
    "    oh2 = np.linalg.norm(positions[:, 2] - positions[:, 0], axis=1)\n",
    "    return oh1, oh2\n",
    "\n",
    "# Calculate all O-H bond lengths\n",
    "all_oh1, all_oh2 = [], []\n",
    "for traj in trajectories:\n",
    "    oh1, oh2 = calculate_bond_lengths(traj)\n",
    "    all_oh1.extend(oh1)\n",
    "    all_oh2.extend(oh2)\n",
    "all_bonds = all_oh1 + all_oh2\n",
    "\n",
    "# Create distribution plot\n",
    "fig = go.Figure()\n",
    "fig.add_trace(\n",
    "    go.Histogram(\n",
    "        x=all_bonds,\n",
    "        nbinsx=50,\n",
    "        name='O-H bonds',\n",
    "        histnorm='probability density',\n",
    "        hovertemplate='Bond Length: %{x:.3f} Å<br>Density: %{y:.3f}<extra></extra>'\n",
    "    )\n",
    ")\n",
    "\n",
    "# Add reference lines\n",
    "classical_length = 0.9419\n",
    "mean_length = np.mean(all_bonds)\n",
    "fig.add_vline(x=classical_length, line_dash=\"dash\", line_color=\"red\",\n",
    "              annotation_text=\"Classical O-H length\", annotation_position=\"bottom right\",\n",
    "              annotation=dict(font=dict(color=\"red\")))\n",
    "fig.add_vline(x=mean_length, line_dash=\"dash\", line_color=\"blue\",\n",
    "              annotation_text=\"Quantum average\", annotation_position=\"top left\",\n",
    "              annotation=dict(font=dict(color=\"blue\")))\n",
    "\n",
    "# Configure plot\n",
    "fig.update_layout(\n",
    "    plotly_layout,\n",
    "    title={\n",
    "        'text': 'O-H Bond Length Distribution',\n",
    "        'font': {'size': 20},\n",
    "        'y': 0.98,\n",
    "        'x': 0.5,\n",
    "        'xanchor': 'center',\n",
    "        'yanchor': 'top'\n",
    "    },\n",
    "    xaxis_title='Bond Length (Å)',\n",
    "    yaxis_title='Probability Density'\n",
    ")\n",
    "fig.show()\n",
    "\n",
    "# Analyze quantum effects\n",
    "std_length = np.std(all_bonds)\n",
    "elongation = mean_length - classical_length\n",
    "print(\"\\nQuantum Effects on O-H Bond:\")\n",
    "print(\"-\" * 30)\n",
    "print(f\"Classical length:     {classical_length:.4f} Å\")\n",
    "print(f\"Quantum average:      {mean_length:.4f} Å\")\n",
    "print(f\"Quantum elongation:   {elongation:.4f} Å  ({(elongation/classical_length)*100:.1f}%)\")\n",
    "print(f\"Distribution width:   ±{2*std_length:.4f} Å  (95% confidence)\")"
   ]
  },
  {
   "cell_type": "markdown",
   "metadata": {},
   "source": [
    "## 4. H-O-H Angle Analysis\n",
    "\n",
    "The H-O-H angle in water molecules exhibits fluctuations due to both thermal and quantum effects. Understanding these fluctuations is crucial as they influence water's properties, particularly hydrogen bonding.\n",
    "\n",
    "### Classical vs Quantum Angle Distribution:\n",
    "\n",
    "1. **Classical Fluctuations**:\n",
    "   - Thermal vibrations around equilibrium angle (107.4° for q-TIP4P/f)\n",
    "   - Bending mode energy = $\\frac{1}{2}k_θ(θ - θ_0)^2$\n",
    "   - Symmetric distribution at thermal equilibrium\n",
    "\n",
    "2. **Additional Quantum Effects**:\n",
    "   - Zero-point angular motion\n",
    "   - Coupling between bending and stretching modes\n",
    "   - All P beads contribute to the distribution\n",
    "\n",
    "### Angle Calculation Method:\n",
    "For each frame ($t$) and bead ($i$), we calculate:\n",
    "\n",
    "1. **O-H Vectors**:\n",
    "   $\\mathbf{v}_1^{(i,t)} = \\mathbf{r}_{H1}^{(i,t)} - \\mathbf{r}_O^{(i,t)}$\n",
    "   $\\mathbf{v}_2^{(i,t)} = \\mathbf{r}_{H2}^{(i,t)} - \\mathbf{r}_O^{(i,t)}$\n",
    "\n",
    "2. **Angle via Dot Product**:\n",
    "   $\\theta^{(i,t)} = \\arccos\\left(\\frac{\\mathbf{v}_1^{(i,t)} \\cdot \\mathbf{v}_2^{(i,t)}}{|\\mathbf{v}_1^{(i,t)}||\\mathbf{v}_2^{(i,t)}|}\\right)$\n",
    "\n",
    "The distribution combines angles from:\n",
    "- All frames in trajectory\n",
    "- All beads in the ring polymer\n",
    "- Total samples = (number of frames) × (number of beads)\n",
    "\n",
    "The following cell analyzes the H-O-H angle distribution and compares it with the classical equilibrium value."
   ]
  },
  {
   "cell_type": "code",
   "execution_count": 79,
   "metadata": {},
   "outputs": [
    {
     "data": {
      "application/vnd.plotly.v1+json": {
       "config": {
        "plotlyServerURL": "https://plot.ly"
       },
       "data": [
        {
         "histnorm": "probability density",
         "hovertemplate": "Angle: %{x:.2f}°<br>Density: %{y:.3f}<extra></extra>",
         "nbinsx": 50,
         "type": "histogram",
         "x": [
          104.45717722338505,
          114.78804524441205,
          106.61569333826665,
          106.0012242842325,
          98.08883717936843,
          110.60343274033092,
          118.71893201334194,
          100.51722962157824,
          112.93172878028713,
          106.4622189976584,
          103.4823134376327,
          113.53095817791726,
          106.06289968927949,
          106.1407388927877,
          113.74467137762989,
          110.6401259520222,
          108.25232577502865,
          103.69350822029217,
          119.12180113930813,
          104.55424756799073,
          104.61863033572851,
          105.1513705008936,
          108.4551212554653,
          105.99409997503068,
          109.66808026028468,
          107.59333262111514,
          115.45711439665602,
          98.51241271192134,
          108.18118317972468,
          109.86931667073415,
          106.75701988680602,
          109.25546104563165,
          111.26611816470621,
          127.40740083215353,
          110.04113560697347,
          104.91469716018639,
          95.78443124148878,
          109.42193895936762,
          109.75589362518508,
          112.44961809083176,
          107.62929242290859,
          92.49881542684449,
          108.23296139073479,
          113.24368791586551,
          115.27584844088967,
          109.45256447307997,
          108.24516736662272,
          100.57728514925834,
          105.55885042888629,
          107.32023983764164,
          105.44310512556726,
          110.93316907330947,
          102.89077063823538,
          104.0370651855978,
          113.69747432550619,
          106.25245449852612,
          117.66431229230922,
          100.44016090040319,
          113.22172452589054,
          102.40730339067125,
          99.6000750361906,
          104.43177851419061,
          106.61893657739479,
          106.88857639677018,
          122.77057104447748,
          99.75225062669595,
          109.67168551390867,
          111.16450341760907,
          115.04375727147323,
          97.1313709569636,
          108.99725195886475,
          103.81073761654862,
          100.4878545852278,
          109.31754577026,
          98.29031628972491,
          103.80917325822512,
          110.9659641991116,
          112.39054573082238,
          113.75242668280758,
          95.04115973581774,
          109.87217884859945,
          112.55205945409296,
          126.58568412140932,
          105.89947329369384,
          107.05197377993628,
          102.43488710450669,
          122.43554758923251,
          118.09771886588774,
          112.08267290568588,
          104.1514582990286,
          118.7899312728295,
          114.18220854221501,
          105.9908385122308,
          107.29683914315292,
          103.24392660704314,
          116.38125698314992,
          102.10256300952679,
          100.02730933470697,
          113.74020687340297,
          115.31110427319514,
          107.95855416794213,
          104.45717722338505,
          110.53902215596008,
          99.49971106961125,
          115.80771860683403,
          105.86657480642454,
          101.81319148211148,
          123.43548315980784,
          106.97103066412312,
          114.21040409452618,
          116.8252284010086,
          109.08188825151747,
          105.1310738853635,
          113.29410754136032,
          103.04769188134408,
          128.38588326515878,
          108.96239724896319,
          95.44149119166248,
          101.3057205020183,
          113.56873323129561,
          109.0464893914829,
          102.73757385545977,
          112.0460637812344,
          117.47704777303503,
          108.98346618376284,
          107.17314797738327,
          107.31596361949558,
          106.65655358880615,
          108.93115979865868,
          106.75728148789474,
          97.6104289010196,
          107.69233405909132,
          98.76871551736252,
          107.23661601349197,
          119.2377645011039,
          99.13710075343594,
          111.76396059323149,
          109.90404207726873,
          103.86765183757194,
          106.80905087256968,
          108.78541880994642,
          110.53248774274469,
          106.96053712547896,
          115.00758015931292,
          110.4587802539456,
          103.61807690801133,
          105.6117261668999,
          97.3072792811956,
          106.71377479715196,
          116.95477422793861,
          89.92813726715274,
          120.5006282164702,
          107.79268148748184,
          105.56170243264623,
          101.89360513128167,
          108.9565859888772,
          111.6489447334727,
          109.13770319591801,
          114.23194872715165,
          106.94380705662648,
          115.87708351297081,
          102.9743680431835,
          124.0028890265682,
          94.22466996154195,
          95.83486944223837,
          110.54118456475717,
          98.89929948821651,
          109.37217432685831,
          106.80676534051544,
          106.42948098740163,
          91.41296445087043,
          106.22466084354149,
          110.93687712037678,
          100.48883655133336,
          105.54460697160914,
          103.84386048018347,
          105.23484003343209,
          103.17039512486505,
          106.85608433144839,
          108.25978983589023,
          103.93245478530162,
          113.5876913372499,
          113.31802991265923,
          104.55765502176067,
          103.72693668181029,
          110.1345492531131,
          107.62067766559937,
          111.78423395855667,
          108.3902164066517,
          110.79918119576867,
          100.0521476688755,
          117.84108174858731,
          103.69336127893402,
          113.77982918246865,
          114.89478606818025,
          116.65163286166334,
          111.34843538975831,
          101.0270333796149,
          107.10259792291907,
          111.79945200790839,
          107.90786748300826,
          101.95426701486902,
          104.45717722338505,
          132.94641445119302,
          96.78559904395848,
          125.508262061892,
          102.68021922046984,
          109.2570775300379,
          102.57690796202446,
          98.27607169039338,
          120.25931097582523,
          102.93758512457525,
          106.12141894090279,
          102.90216604350887,
          112.86978536077714,
          105.70398353713638,
          107.51479708540269,
          111.07096398630489,
          105.65473967067395,
          109.59068768159962,
          112.81812423536988,
          106.32568013798831,
          122.67501841553087,
          111.44595492971659,
          103.694602240554,
          107.95353997323639,
          113.82050272910791,
          104.45226469266846,
          104.9869297730587,
          99.43349097717446,
          108.31888275271177,
          102.95688709292628,
          123.7686398438065,
          100.02177817346075,
          110.55171631286946,
          113.26651154265528,
          114.31167560147718,
          101.69814397974271,
          107.3289493152921,
          108.06972283038493,
          105.02630549720473,
          110.34102114262147,
          101.8165392888547,
          113.71087481163559,
          115.42074587159722,
          104.98953737989851,
          109.21005996581786,
          104.75972491921517,
          108.28796740988895,
          109.14501488744442,
          112.10120340802341,
          105.29631317348135,
          103.14998972784367,
          109.21749407120402,
          101.94439452091956,
          106.60380964056493,
          114.25816152912003,
          110.29104204589176,
          120.31961632606617,
          110.59514716423763,
          104.48957286712375,
          110.5868136162005,
          108.90635104835246,
          105.1751227835259,
          112.26058979581063,
          101.889151979814,
          107.98736638967743,
          106.5076649887922,
          100.83102115706501,
          107.59841221660814,
          107.58873713523246,
          102.2590495686718,
          113.51028556917407,
          114.79296402088394,
          107.29402921695976,
          115.11099226709895,
          99.95125868554001,
          110.75886042130465,
          114.63159201069996,
          105.67241899948941,
          114.02867373984628,
          92.75941639718818,
          112.94735111652348,
          101.78369031136145,
          115.0843887123856,
          101.51559856760339,
          107.32402303387043,
          97.51886625748143,
          113.93216121009337,
          104.19142477588551,
          110.72704441967905,
          109.36486610013228,
          113.65286030417458,
          96.56438585752227,
          104.59312317342568,
          102.52577944489107,
          110.48298521278845,
          120.80408772806251,
          105.47718435749725,
          105.25566803469403,
          105.64355741030681,
          119.88336493783316,
          106.99539988987543,
          104.45717722338505,
          130.16548589711275,
          95.17287736620445,
          125.07555955960827,
          92.31166882812148,
          108.01119662235625,
          99.2029660379446,
          95.48093749702036,
          111.78498600196296,
          96.93635250266428,
          108.69596480212552,
          119.91609249493212,
          109.71405397758335,
          85.84196469818616,
          104.66764949876274,
          106.65989000290735,
          113.02750313114687,
          108.09870680348764,
          101.84494473973585,
          112.37877835856418,
          97.71010428173048,
          112.3069043784283,
          105.16617371474247,
          107.6027771027671,
          107.21407214120538,
          105.37595928950175,
          111.46332414350297,
          105.41755048788286,
          107.47518447800306,
          114.29097651519781,
          104.41876909029696,
          98.8051426904376,
          105.16164010799936,
          113.68371320146903,
          104.78000585544825,
          102.44686699949187,
          100.84741940104668,
          98.42940335443001,
          111.46147195618781,
          120.18649319351594,
          102.24737689492217,
          117.29435209507268,
          124.21872727965098,
          104.70030719024585,
          110.08015951427963,
          105.52307036973815,
          100.27377689811553,
          106.55979551541643,
          123.26399987925383,
          106.27150295252565,
          109.56692267308497,
          96.87063480812871,
          103.76687035105537,
          111.8271277622326,
          117.56348369716626,
          105.75545292240342,
          109.3980245745996,
          105.63554544425423,
          108.51257400009438,
          98.41163902275919,
          111.61510447483911,
          103.65393622614944,
          115.4730514402748,
          94.53583907755271,
          112.3016687160054,
          97.66755890451864,
          101.0901489039483,
          108.99467436506387,
          109.3737894438245,
          118.14612995125522,
          100.31424827585539,
          113.81080033593416,
          104.92435943498354,
          117.09385021959936,
          107.21631265007413,
          112.33218611689372,
          108.38599203757772,
          92.79283990970724,
          103.60006028367953,
          110.57424601751929,
          106.94975086724219,
          100.03166739408151,
          115.44981626052426,
          109.67732482371818,
          124.60529385679612,
          112.64760870995418,
          102.91903904874466,
          102.15152247090177,
          97.6596626411407,
          112.90033601655853,
          115.4365646543865,
          96.12598066352459,
          104.32173533030588,
          106.85158297191371,
          112.81405328840553,
          106.68881954212735,
          107.01093573448549,
          112.01830316142208,
          121.24800446400025,
          97.61922480353267,
          113.94140248956894,
          104.45717722338505,
          120.16672483296608,
          110.19300002290728,
          111.95833648116688,
          95.52327527093735,
          117.97341568130008,
          104.6826493860286,
          98.72248247162977,
          110.87401974798755,
          105.54373041205604,
          94.11762147758756,
          120.33419038811864,
          115.92269538277974,
          99.5227281490579,
          105.53719938736239,
          105.86804967761046,
          105.41229776829678,
          102.89916653235323,
          108.48753116293013,
          113.82556094485402,
          100.43958603689116,
          107.45018186215242,
          103.72282180122725,
          106.87901728453029,
          113.36421638573937,
          111.1082842064577,
          110.27847564707676,
          103.64573456512258,
          106.46805868831645,
          113.55490484296384,
          115.84418141427948,
          99.65036917775889,
          111.17151540392082,
          107.93652242260296,
          98.79695708595882,
          104.67389042894376,
          120.07296662443943,
          117.52303673715427,
          102.28305577928157,
          114.91516042022458,
          104.92789080510363,
          114.71110986738108,
          110.31148261170017,
          107.34357293232897,
          103.37671348300208,
          100.54828778935855,
          99.91586581750457,
          106.70092147743354,
          112.57121202756957,
          108.34820641690078,
          114.28027423517655,
          110.01660569168591,
          99.6105496422623,
          113.64056454613278,
          106.7516183829329,
          89.42528501217566,
          108.68513182501661,
          103.30317175477956,
          105.48488080880186,
          105.51416133623756,
          103.17101379426293,
          108.85892188854277,
          95.11513307295887,
          109.54949669159586,
          120.0787772372511,
          105.39881077609991,
          107.98692835360865,
          107.28194847867167,
          112.51272918225594,
          117.92417866762706,
          107.73428987691274,
          118.38059637270509,
          111.1212531966695,
          110.81540336800506,
          106.94114308396107,
          115.64075763369213,
          97.9482765027521,
          108.15074845774406,
          109.48848823447531,
          118.78083933438839,
          103.03840391299943,
          103.76182015276589,
          110.03391859766066,
          114.15663487216577,
          108.42896721975042,
          95.17169446893423,
          112.94212007315787,
          103.27728540713116,
          92.00419312707153,
          111.25523548722366,
          103.38435466680221,
          110.38964862379342,
          107.91336746682816,
          109.3964579033452,
          121.10497920662833,
          98.46825161301187,
          118.70573144178204,
          106.14911421235176,
          110.18342377116646,
          102.87314131816916,
          116.61169302158974,
          104.45717722338505,
          120.30951275828546,
          100.5070377772713,
          126.75681501953697,
          93.43811360251277,
          111.42489412367074,
          118.4480202337911,
          89.69741928627117,
          114.42834439383616,
          106.58353115604717,
          86.92151860692198,
          113.67391710567229,
          105.7566734863728,
          101.37898858023601,
          99.41196370450179,
          100.75084798613267,
          107.07413529783406,
          109.33062960858527,
          103.81153370718437,
          102.92648198497756,
          106.56486389926029,
          117.96280605741227,
          94.65457258755949,
          107.2344909375885,
          102.75249395382198,
          99.35543503729426,
          106.55300764526234,
          114.76620413181527,
          106.40088162306975,
          116.79226666874983,
          104.42502086413,
          107.94803576222924,
          111.68847132824166,
          105.22081414114835,
          106.28676301082888,
          108.76221949598461,
          105.06033771715012,
          109.15230336343008,
          106.13281170809462,
          103.23807538079576,
          105.44644173986629,
          103.79541074944589,
          96.22374874572392,
          108.73147683420066,
          108.63923081449865,
          116.36176017331825,
          112.44447935152252,
          114.39275404222946,
          103.84238292271664,
          95.99308695103538,
          101.39056213424713,
          109.35551226516463,
          101.55381401403079,
          123.28766504246974,
          111.52761302714848,
          99.28540448971518,
          104.51446317625508,
          108.02834761916401,
          104.77314995462125,
          106.14442010325722,
          108.25145543467875,
          115.51490836592505,
          104.9996576152757,
          107.73270315594297,
          121.21587772294674,
          109.01185889112004,
          113.73631024335732,
          110.5602615920887,
          104.90282228056329,
          104.86663279186956,
          116.68601070264444,
          101.80237996577728,
          93.57540538095587,
          104.40243707376501,
          105.61468184168575,
          117.05042307856316,
          100.88752337471357,
          103.46869452710548,
          112.87679830921667,
          107.65680863040842,
          98.57784554736047,
          107.96256443521824,
          106.52218726870626,
          101.69499803785165,
          103.8906613257708,
          91.22893709483154,
          104.8005833494761,
          103.7288357450425,
          92.29668694039349,
          108.60336430883876,
          100.84401097928608,
          100.85194199931716,
          104.457407138826,
          101.34804083509688,
          119.44933802940066,
          106.40860085844625,
          93.07539178128172,
          100.24094792557861,
          109.1415599125483,
          92.63349327456656,
          109.57611786523613,
          104.45717722338505,
          127.8154394976328,
          100.24228884548903,
          105.27942878897727,
          101.58752064282324,
          119.87547589765623,
          114.99887613988572,
          103.69849687804049,
          117.95688951185315,
          107.40730063540133,
          94.5602662766583,
          109.566408398766,
          107.15402189299685,
          119.10443439106828,
          105.04696581618487,
          99.1755913309255,
          103.95391336050825,
          112.92441221508122,
          114.43394482873269,
          106.39138276850639,
          109.88153836731493,
          107.71812185061525,
          105.81772389544155,
          99.55871911828226,
          105.20863912877826,
          118.2476021895349,
          106.01419891111031,
          111.44561649697557,
          102.95576881775341,
          106.89235554643122,
          106.84963972677691,
          104.19023021870315,
          105.85735348221091,
          104.78062402516122,
          109.26049630714627,
          113.96488559175275,
          112.50766548749161,
          109.42829633731674,
          96.72985756098986,
          103.23128860763269,
          110.42594788113138,
          103.40456364375663,
          97.48882829035449,
          103.91847264352624,
          110.93790924747339,
          113.76734469064213,
          95.15995676220882,
          114.59021297668016,
          98.07544874855219,
          100.35722444924971,
          106.16228271637853,
          107.53066950481895,
          98.2299760208239,
          115.99264561524595,
          110.67810195770095,
          96.748626265047,
          105.29879513665212,
          104.54581581034687,
          105.2653335480771,
          108.60951469513678,
          104.16758286811509,
          117.21762100500668,
          105.81493605305936,
          104.97023266893459,
          118.02669961729599,
          111.07374001230437,
          93.91435058871518,
          107.27781667145125,
          104.05825688471306,
          105.80396846567582,
          100.46792997895298,
          107.15115020933415,
          101.30331404568082,
          107.36532995767547,
          106.70375382808264,
          100.9561999621502,
          111.23889953285082,
          104.46104289527369,
          117.25543436454423,
          103.07315353129594,
          114.41044748615492,
          96.76933346509249,
          100.77772979419024,
          100.78207875568073,
          115.37883017767672,
          103.40913838688475,
          122.58556967724354,
          100.14684627090614,
          96.84205992109287,
          105.0890160092754,
          105.3492890951296,
          103.73382377181035,
          110.1763332686111,
          103.51406902963495,
          102.12064870045216,
          107.62434457676326,
          95.84526984514793,
          118.5284975980262,
          109.38732921141522,
          102.9890046276174,
          112.9689976718786,
          104.45717722338505,
          105.18214846966404,
          102.62692200220269,
          110.42105005409103,
          95.84332950929013,
          114.37416896227145,
          109.52862521370636,
          103.16463212400932,
          121.83174252457997,
          112.54559732478222,
          107.26780788603466,
          118.39790656453403,
          89.89178042107517,
          115.3253484921488,
          99.54074323660933,
          110.0693835762686,
          106.2646555918491,
          97.3040003256302,
          98.71496287925106,
          99.0631347309884,
          103.15558696844528,
          115.92427772862061,
          108.03873566066716,
          104.9030278867885,
          114.44346911231473,
          107.90730326548666,
          99.91429571941515,
          111.9648487801043,
          124.20361234455041,
          97.53606967169874,
          110.17480705613248,
          114.47553097905863,
          113.89262097603682,
          115.57425439657732,
          111.2860127774253,
          103.78895971352706,
          114.99865388277459,
          110.49913120241848,
          100.17191866738978,
          109.0335422951972,
          119.07043335269024,
          112.53818678499887,
          105.54881438432858,
          107.42118749167409,
          107.46375638545268,
          99.56298063983965,
          99.86958861023174,
          103.56613755510756,
          107.35032020286509,
          117.52077866518533,
          106.54427695012289,
          122.87755297798557,
          94.48803877486228,
          110.99672338637639,
          107.05085951020251,
          98.82631712088558,
          112.12839241000228,
          109.77074761236244,
          121.14503946323974,
          112.71191841516622,
          102.6830964021871,
          106.04852242690447,
          105.4891702954532,
          102.63115474860871,
          119.3662131091347,
          102.9347616591789,
          100.78598400505517,
          120.3877809499258,
          98.83417249776441,
          107.64022667929888,
          111.72260369869458,
          103.0979729899801,
          80.18732447525417,
          125.088481025406,
          102.09597602923907,
          110.05528401816652,
          116.75515315763639,
          99.3465959057503,
          103.79265925559268,
          101.63679098011934,
          100.61103809279459,
          109.07830398280515,
          111.63406283640273,
          99.84641230609047,
          103.70456634726624,
          100.01184386496911,
          112.3449661330003,
          114.97952047595847,
          108.78576533892137,
          107.44684427586184,
          102.68593042867158,
          114.96649940973107,
          107.09258654940112,
          104.85968535131809,
          98.55665960695382,
          102.94238466050498,
          103.2855293756942,
          106.99743633089693,
          104.29454255212426,
          107.26550201821841,
          106.97225395685001
         ]
        }
       ],
       "layout": {
        "annotations": [
         {
          "font": {
           "color": "red"
          },
          "showarrow": false,
          "text": "Classical H-O-H angle",
          "x": 107.4,
          "xanchor": "left",
          "xref": "x",
          "y": 0,
          "yanchor": "bottom",
          "yref": "y domain"
         },
         {
          "font": {
           "color": "blue"
          },
          "showarrow": false,
          "text": "Quantum average",
          "x": 107.50438713248045,
          "xanchor": "right",
          "xref": "x",
          "y": 1,
          "yanchor": "top",
          "yref": "y domain"
         }
        ],
        "font": {
         "size": 12
        },
        "height": 600,
        "hovermode": "closest",
        "margin": {
         "b": 50,
         "l": 50,
         "r": 50,
         "t": 50
        },
        "plot_bgcolor": "white",
        "shapes": [
         {
          "line": {
           "color": "red",
           "dash": "dash"
          },
          "type": "line",
          "x0": 107.4,
          "x1": 107.4,
          "xref": "x",
          "y0": 0,
          "y1": 1,
          "yref": "y domain"
         },
         {
          "line": {
           "color": "blue",
           "dash": "dash"
          },
          "type": "line",
          "x0": 107.50438713248045,
          "x1": 107.50438713248045,
          "xref": "x",
          "y0": 0,
          "y1": 1,
          "yref": "y domain"
         }
        ],
        "template": {
         "data": {
          "bar": [
           {
            "error_x": {
             "color": "#2a3f5f"
            },
            "error_y": {
             "color": "#2a3f5f"
            },
            "marker": {
             "line": {
              "color": "#E5ECF6",
              "width": 0.5
             },
             "pattern": {
              "fillmode": "overlay",
              "size": 10,
              "solidity": 0.2
             }
            },
            "type": "bar"
           }
          ],
          "barpolar": [
           {
            "marker": {
             "line": {
              "color": "#E5ECF6",
              "width": 0.5
             },
             "pattern": {
              "fillmode": "overlay",
              "size": 10,
              "solidity": 0.2
             }
            },
            "type": "barpolar"
           }
          ],
          "carpet": [
           {
            "aaxis": {
             "endlinecolor": "#2a3f5f",
             "gridcolor": "white",
             "linecolor": "white",
             "minorgridcolor": "white",
             "startlinecolor": "#2a3f5f"
            },
            "baxis": {
             "endlinecolor": "#2a3f5f",
             "gridcolor": "white",
             "linecolor": "white",
             "minorgridcolor": "white",
             "startlinecolor": "#2a3f5f"
            },
            "type": "carpet"
           }
          ],
          "choropleth": [
           {
            "colorbar": {
             "outlinewidth": 0,
             "ticks": ""
            },
            "type": "choropleth"
           }
          ],
          "contour": [
           {
            "colorbar": {
             "outlinewidth": 0,
             "ticks": ""
            },
            "colorscale": [
             [
              0,
              "#0d0887"
             ],
             [
              0.1111111111111111,
              "#46039f"
             ],
             [
              0.2222222222222222,
              "#7201a8"
             ],
             [
              0.3333333333333333,
              "#9c179e"
             ],
             [
              0.4444444444444444,
              "#bd3786"
             ],
             [
              0.5555555555555556,
              "#d8576b"
             ],
             [
              0.6666666666666666,
              "#ed7953"
             ],
             [
              0.7777777777777778,
              "#fb9f3a"
             ],
             [
              0.8888888888888888,
              "#fdca26"
             ],
             [
              1,
              "#f0f921"
             ]
            ],
            "type": "contour"
           }
          ],
          "contourcarpet": [
           {
            "colorbar": {
             "outlinewidth": 0,
             "ticks": ""
            },
            "type": "contourcarpet"
           }
          ],
          "heatmap": [
           {
            "colorbar": {
             "outlinewidth": 0,
             "ticks": ""
            },
            "colorscale": [
             [
              0,
              "#0d0887"
             ],
             [
              0.1111111111111111,
              "#46039f"
             ],
             [
              0.2222222222222222,
              "#7201a8"
             ],
             [
              0.3333333333333333,
              "#9c179e"
             ],
             [
              0.4444444444444444,
              "#bd3786"
             ],
             [
              0.5555555555555556,
              "#d8576b"
             ],
             [
              0.6666666666666666,
              "#ed7953"
             ],
             [
              0.7777777777777778,
              "#fb9f3a"
             ],
             [
              0.8888888888888888,
              "#fdca26"
             ],
             [
              1,
              "#f0f921"
             ]
            ],
            "type": "heatmap"
           }
          ],
          "heatmapgl": [
           {
            "colorbar": {
             "outlinewidth": 0,
             "ticks": ""
            },
            "colorscale": [
             [
              0,
              "#0d0887"
             ],
             [
              0.1111111111111111,
              "#46039f"
             ],
             [
              0.2222222222222222,
              "#7201a8"
             ],
             [
              0.3333333333333333,
              "#9c179e"
             ],
             [
              0.4444444444444444,
              "#bd3786"
             ],
             [
              0.5555555555555556,
              "#d8576b"
             ],
             [
              0.6666666666666666,
              "#ed7953"
             ],
             [
              0.7777777777777778,
              "#fb9f3a"
             ],
             [
              0.8888888888888888,
              "#fdca26"
             ],
             [
              1,
              "#f0f921"
             ]
            ],
            "type": "heatmapgl"
           }
          ],
          "histogram": [
           {
            "marker": {
             "pattern": {
              "fillmode": "overlay",
              "size": 10,
              "solidity": 0.2
             }
            },
            "type": "histogram"
           }
          ],
          "histogram2d": [
           {
            "colorbar": {
             "outlinewidth": 0,
             "ticks": ""
            },
            "colorscale": [
             [
              0,
              "#0d0887"
             ],
             [
              0.1111111111111111,
              "#46039f"
             ],
             [
              0.2222222222222222,
              "#7201a8"
             ],
             [
              0.3333333333333333,
              "#9c179e"
             ],
             [
              0.4444444444444444,
              "#bd3786"
             ],
             [
              0.5555555555555556,
              "#d8576b"
             ],
             [
              0.6666666666666666,
              "#ed7953"
             ],
             [
              0.7777777777777778,
              "#fb9f3a"
             ],
             [
              0.8888888888888888,
              "#fdca26"
             ],
             [
              1,
              "#f0f921"
             ]
            ],
            "type": "histogram2d"
           }
          ],
          "histogram2dcontour": [
           {
            "colorbar": {
             "outlinewidth": 0,
             "ticks": ""
            },
            "colorscale": [
             [
              0,
              "#0d0887"
             ],
             [
              0.1111111111111111,
              "#46039f"
             ],
             [
              0.2222222222222222,
              "#7201a8"
             ],
             [
              0.3333333333333333,
              "#9c179e"
             ],
             [
              0.4444444444444444,
              "#bd3786"
             ],
             [
              0.5555555555555556,
              "#d8576b"
             ],
             [
              0.6666666666666666,
              "#ed7953"
             ],
             [
              0.7777777777777778,
              "#fb9f3a"
             ],
             [
              0.8888888888888888,
              "#fdca26"
             ],
             [
              1,
              "#f0f921"
             ]
            ],
            "type": "histogram2dcontour"
           }
          ],
          "mesh3d": [
           {
            "colorbar": {
             "outlinewidth": 0,
             "ticks": ""
            },
            "type": "mesh3d"
           }
          ],
          "parcoords": [
           {
            "line": {
             "colorbar": {
              "outlinewidth": 0,
              "ticks": ""
             }
            },
            "type": "parcoords"
           }
          ],
          "pie": [
           {
            "automargin": true,
            "type": "pie"
           }
          ],
          "scatter": [
           {
            "fillpattern": {
             "fillmode": "overlay",
             "size": 10,
             "solidity": 0.2
            },
            "type": "scatter"
           }
          ],
          "scatter3d": [
           {
            "line": {
             "colorbar": {
              "outlinewidth": 0,
              "ticks": ""
             }
            },
            "marker": {
             "colorbar": {
              "outlinewidth": 0,
              "ticks": ""
             }
            },
            "type": "scatter3d"
           }
          ],
          "scattercarpet": [
           {
            "marker": {
             "colorbar": {
              "outlinewidth": 0,
              "ticks": ""
             }
            },
            "type": "scattercarpet"
           }
          ],
          "scattergeo": [
           {
            "marker": {
             "colorbar": {
              "outlinewidth": 0,
              "ticks": ""
             }
            },
            "type": "scattergeo"
           }
          ],
          "scattergl": [
           {
            "marker": {
             "colorbar": {
              "outlinewidth": 0,
              "ticks": ""
             }
            },
            "type": "scattergl"
           }
          ],
          "scattermapbox": [
           {
            "marker": {
             "colorbar": {
              "outlinewidth": 0,
              "ticks": ""
             }
            },
            "type": "scattermapbox"
           }
          ],
          "scatterpolar": [
           {
            "marker": {
             "colorbar": {
              "outlinewidth": 0,
              "ticks": ""
             }
            },
            "type": "scatterpolar"
           }
          ],
          "scatterpolargl": [
           {
            "marker": {
             "colorbar": {
              "outlinewidth": 0,
              "ticks": ""
             }
            },
            "type": "scatterpolargl"
           }
          ],
          "scatterternary": [
           {
            "marker": {
             "colorbar": {
              "outlinewidth": 0,
              "ticks": ""
             }
            },
            "type": "scatterternary"
           }
          ],
          "surface": [
           {
            "colorbar": {
             "outlinewidth": 0,
             "ticks": ""
            },
            "colorscale": [
             [
              0,
              "#0d0887"
             ],
             [
              0.1111111111111111,
              "#46039f"
             ],
             [
              0.2222222222222222,
              "#7201a8"
             ],
             [
              0.3333333333333333,
              "#9c179e"
             ],
             [
              0.4444444444444444,
              "#bd3786"
             ],
             [
              0.5555555555555556,
              "#d8576b"
             ],
             [
              0.6666666666666666,
              "#ed7953"
             ],
             [
              0.7777777777777778,
              "#fb9f3a"
             ],
             [
              0.8888888888888888,
              "#fdca26"
             ],
             [
              1,
              "#f0f921"
             ]
            ],
            "type": "surface"
           }
          ],
          "table": [
           {
            "cells": {
             "fill": {
              "color": "#EBF0F8"
             },
             "line": {
              "color": "white"
             }
            },
            "header": {
             "fill": {
              "color": "#C8D4E3"
             },
             "line": {
              "color": "white"
             }
            },
            "type": "table"
           }
          ]
         },
         "layout": {
          "annotationdefaults": {
           "arrowcolor": "#2a3f5f",
           "arrowhead": 0,
           "arrowwidth": 1
          },
          "autotypenumbers": "strict",
          "coloraxis": {
           "colorbar": {
            "outlinewidth": 0,
            "ticks": ""
           }
          },
          "colorscale": {
           "diverging": [
            [
             0,
             "#8e0152"
            ],
            [
             0.1,
             "#c51b7d"
            ],
            [
             0.2,
             "#de77ae"
            ],
            [
             0.3,
             "#f1b6da"
            ],
            [
             0.4,
             "#fde0ef"
            ],
            [
             0.5,
             "#f7f7f7"
            ],
            [
             0.6,
             "#e6f5d0"
            ],
            [
             0.7,
             "#b8e186"
            ],
            [
             0.8,
             "#7fbc41"
            ],
            [
             0.9,
             "#4d9221"
            ],
            [
             1,
             "#276419"
            ]
           ],
           "sequential": [
            [
             0,
             "#0d0887"
            ],
            [
             0.1111111111111111,
             "#46039f"
            ],
            [
             0.2222222222222222,
             "#7201a8"
            ],
            [
             0.3333333333333333,
             "#9c179e"
            ],
            [
             0.4444444444444444,
             "#bd3786"
            ],
            [
             0.5555555555555556,
             "#d8576b"
            ],
            [
             0.6666666666666666,
             "#ed7953"
            ],
            [
             0.7777777777777778,
             "#fb9f3a"
            ],
            [
             0.8888888888888888,
             "#fdca26"
            ],
            [
             1,
             "#f0f921"
            ]
           ],
           "sequentialminus": [
            [
             0,
             "#0d0887"
            ],
            [
             0.1111111111111111,
             "#46039f"
            ],
            [
             0.2222222222222222,
             "#7201a8"
            ],
            [
             0.3333333333333333,
             "#9c179e"
            ],
            [
             0.4444444444444444,
             "#bd3786"
            ],
            [
             0.5555555555555556,
             "#d8576b"
            ],
            [
             0.6666666666666666,
             "#ed7953"
            ],
            [
             0.7777777777777778,
             "#fb9f3a"
            ],
            [
             0.8888888888888888,
             "#fdca26"
            ],
            [
             1,
             "#f0f921"
            ]
           ]
          },
          "colorway": [
           "#636efa",
           "#EF553B",
           "#00cc96",
           "#ab63fa",
           "#FFA15A",
           "#19d3f3",
           "#FF6692",
           "#B6E880",
           "#FF97FF",
           "#FECB52"
          ],
          "font": {
           "color": "#2a3f5f"
          },
          "geo": {
           "bgcolor": "white",
           "lakecolor": "white",
           "landcolor": "#E5ECF6",
           "showlakes": true,
           "showland": true,
           "subunitcolor": "white"
          },
          "hoverlabel": {
           "align": "left"
          },
          "hovermode": "closest",
          "mapbox": {
           "style": "light"
          },
          "paper_bgcolor": "white",
          "plot_bgcolor": "#E5ECF6",
          "polar": {
           "angularaxis": {
            "gridcolor": "white",
            "linecolor": "white",
            "ticks": ""
           },
           "bgcolor": "#E5ECF6",
           "radialaxis": {
            "gridcolor": "white",
            "linecolor": "white",
            "ticks": ""
           }
          },
          "scene": {
           "xaxis": {
            "backgroundcolor": "#E5ECF6",
            "gridcolor": "white",
            "gridwidth": 2,
            "linecolor": "white",
            "showbackground": true,
            "ticks": "",
            "zerolinecolor": "white"
           },
           "yaxis": {
            "backgroundcolor": "#E5ECF6",
            "gridcolor": "white",
            "gridwidth": 2,
            "linecolor": "white",
            "showbackground": true,
            "ticks": "",
            "zerolinecolor": "white"
           },
           "zaxis": {
            "backgroundcolor": "#E5ECF6",
            "gridcolor": "white",
            "gridwidth": 2,
            "linecolor": "white",
            "showbackground": true,
            "ticks": "",
            "zerolinecolor": "white"
           }
          },
          "shapedefaults": {
           "line": {
            "color": "#2a3f5f"
           }
          },
          "ternary": {
           "aaxis": {
            "gridcolor": "white",
            "linecolor": "white",
            "ticks": ""
           },
           "baxis": {
            "gridcolor": "white",
            "linecolor": "white",
            "ticks": ""
           },
           "bgcolor": "#E5ECF6",
           "caxis": {
            "gridcolor": "white",
            "linecolor": "white",
            "ticks": ""
           }
          },
          "title": {
           "x": 0.05
          },
          "xaxis": {
           "automargin": true,
           "gridcolor": "white",
           "linecolor": "white",
           "ticks": "",
           "title": {
            "standoff": 15
           },
           "zerolinecolor": "white",
           "zerolinewidth": 2
          },
          "yaxis": {
           "automargin": true,
           "gridcolor": "white",
           "linecolor": "white",
           "ticks": "",
           "title": {
            "standoff": 15
           },
           "zerolinecolor": "white",
           "zerolinewidth": 2
          }
         }
        },
        "title": {
         "font": {
          "size": 20
         },
         "text": "H-O-H Angle Distribution",
         "x": 0.5,
         "xanchor": "center",
         "y": 0.98,
         "yanchor": "top"
        },
        "width": 600,
        "xaxis": {
         "gridcolor": "LightGray",
         "gridwidth": 1,
         "showgrid": true,
         "title": {
          "text": "Angle (degrees)"
         }
        },
        "yaxis": {
         "gridcolor": "LightGray",
         "gridwidth": 1,
         "showgrid": true,
         "title": {
          "text": "Probability Density"
         }
        }
       }
      },
      "text/html": [
       "<div>                            <div id=\"d7a41638-ecf3-4894-aaea-5fc4ec3b398a\" class=\"plotly-graph-div\" style=\"height:600px; width:600px;\"></div>            <script type=\"text/javascript\">                require([\"plotly\"], function(Plotly) {                    window.PLOTLYENV=window.PLOTLYENV || {};                                    if (document.getElementById(\"d7a41638-ecf3-4894-aaea-5fc4ec3b398a\")) {                    Plotly.newPlot(                        \"d7a41638-ecf3-4894-aaea-5fc4ec3b398a\",                        [{\"histnorm\":\"probability density\",\"hovertemplate\":\"Angle: %{x:.2f}\\u00b0\\u003cbr\\u003eDensity: %{y:.3f}\\u003cextra\\u003e\\u003c\\u002fextra\\u003e\",\"nbinsx\":50,\"x\":[104.45717722338505,114.78804524441205,106.61569333826665,106.0012242842325,98.08883717936843,110.60343274033092,118.71893201334194,100.51722962157824,112.93172878028713,106.4622189976584,103.4823134376327,113.53095817791726,106.06289968927949,106.1407388927877,113.74467137762989,110.6401259520222,108.25232577502865,103.69350822029217,119.12180113930813,104.55424756799073,104.61863033572851,105.1513705008936,108.4551212554653,105.99409997503068,109.66808026028468,107.59333262111514,115.45711439665602,98.51241271192134,108.18118317972468,109.86931667073415,106.75701988680602,109.25546104563165,111.26611816470621,127.40740083215353,110.04113560697347,104.91469716018639,95.78443124148878,109.42193895936762,109.75589362518508,112.44961809083176,107.62929242290859,92.49881542684449,108.23296139073479,113.24368791586551,115.27584844088967,109.45256447307997,108.24516736662272,100.57728514925834,105.55885042888629,107.32023983764164,105.44310512556726,110.93316907330947,102.89077063823538,104.0370651855978,113.69747432550619,106.25245449852612,117.66431229230922,100.44016090040319,113.22172452589054,102.40730339067125,99.6000750361906,104.43177851419061,106.61893657739479,106.88857639677018,122.77057104447748,99.75225062669595,109.67168551390867,111.16450341760907,115.04375727147323,97.1313709569636,108.99725195886475,103.81073761654862,100.4878545852278,109.31754577026,98.29031628972491,103.80917325822512,110.9659641991116,112.39054573082238,113.75242668280758,95.04115973581774,109.87217884859945,112.55205945409296,126.58568412140932,105.89947329369384,107.05197377993628,102.43488710450669,122.43554758923251,118.09771886588774,112.08267290568588,104.1514582990286,118.7899312728295,114.18220854221501,105.9908385122308,107.29683914315292,103.24392660704314,116.38125698314992,102.10256300952679,100.02730933470697,113.74020687340297,115.31110427319514,107.95855416794213,104.45717722338505,110.53902215596008,99.49971106961125,115.80771860683403,105.86657480642454,101.81319148211148,123.43548315980784,106.97103066412312,114.21040409452618,116.8252284010086,109.08188825151747,105.1310738853635,113.29410754136032,103.04769188134408,128.38588326515878,108.96239724896319,95.44149119166248,101.3057205020183,113.56873323129561,109.0464893914829,102.73757385545977,112.0460637812344,117.47704777303503,108.98346618376284,107.17314797738327,107.31596361949558,106.65655358880615,108.93115979865868,106.75728148789474,97.6104289010196,107.69233405909132,98.76871551736252,107.23661601349197,119.2377645011039,99.13710075343594,111.76396059323149,109.90404207726873,103.86765183757194,106.80905087256968,108.78541880994642,110.53248774274469,106.96053712547896,115.00758015931292,110.4587802539456,103.61807690801133,105.6117261668999,97.3072792811956,106.71377479715196,116.95477422793861,89.92813726715274,120.5006282164702,107.79268148748184,105.56170243264623,101.89360513128167,108.9565859888772,111.6489447334727,109.13770319591801,114.23194872715165,106.94380705662648,115.87708351297081,102.9743680431835,124.0028890265682,94.22466996154195,95.83486944223837,110.54118456475717,98.89929948821651,109.37217432685831,106.80676534051544,106.42948098740163,91.41296445087043,106.22466084354149,110.93687712037678,100.48883655133336,105.54460697160914,103.84386048018347,105.23484003343209,103.17039512486505,106.85608433144839,108.25978983589023,103.93245478530162,113.5876913372499,113.31802991265923,104.55765502176067,103.72693668181029,110.1345492531131,107.62067766559937,111.78423395855667,108.3902164066517,110.79918119576867,100.0521476688755,117.84108174858731,103.69336127893402,113.77982918246865,114.89478606818025,116.65163286166334,111.34843538975831,101.0270333796149,107.10259792291907,111.79945200790839,107.90786748300826,101.95426701486902,104.45717722338505,132.94641445119302,96.78559904395848,125.508262061892,102.68021922046984,109.2570775300379,102.57690796202446,98.27607169039338,120.25931097582523,102.93758512457525,106.12141894090279,102.90216604350887,112.86978536077714,105.70398353713638,107.51479708540269,111.07096398630489,105.65473967067395,109.59068768159962,112.81812423536988,106.32568013798831,122.67501841553087,111.44595492971659,103.694602240554,107.95353997323639,113.82050272910791,104.45226469266846,104.9869297730587,99.43349097717446,108.31888275271177,102.95688709292628,123.7686398438065,100.02177817346075,110.55171631286946,113.26651154265528,114.31167560147718,101.69814397974271,107.3289493152921,108.06972283038493,105.02630549720473,110.34102114262147,101.8165392888547,113.71087481163559,115.42074587159722,104.98953737989851,109.21005996581786,104.75972491921517,108.28796740988895,109.14501488744442,112.10120340802341,105.29631317348135,103.14998972784367,109.21749407120402,101.94439452091956,106.60380964056493,114.25816152912003,110.29104204589176,120.31961632606617,110.59514716423763,104.48957286712375,110.5868136162005,108.90635104835246,105.1751227835259,112.26058979581063,101.889151979814,107.98736638967743,106.5076649887922,100.83102115706501,107.59841221660814,107.58873713523246,102.2590495686718,113.51028556917407,114.79296402088394,107.29402921695976,115.11099226709895,99.95125868554001,110.75886042130465,114.63159201069996,105.67241899948941,114.02867373984628,92.75941639718818,112.94735111652348,101.78369031136145,115.0843887123856,101.51559856760339,107.32402303387043,97.51886625748143,113.93216121009337,104.19142477588551,110.72704441967905,109.36486610013228,113.65286030417458,96.56438585752227,104.59312317342568,102.52577944489107,110.48298521278845,120.80408772806251,105.47718435749725,105.25566803469403,105.64355741030681,119.88336493783316,106.99539988987543,104.45717722338505,130.16548589711275,95.17287736620445,125.07555955960827,92.31166882812148,108.01119662235625,99.2029660379446,95.48093749702036,111.78498600196296,96.93635250266428,108.69596480212552,119.91609249493212,109.71405397758335,85.84196469818616,104.66764949876274,106.65989000290735,113.02750313114687,108.09870680348764,101.84494473973585,112.37877835856418,97.71010428173048,112.3069043784283,105.16617371474247,107.6027771027671,107.21407214120538,105.37595928950175,111.46332414350297,105.41755048788286,107.47518447800306,114.29097651519781,104.41876909029696,98.8051426904376,105.16164010799936,113.68371320146903,104.78000585544825,102.44686699949187,100.84741940104668,98.42940335443001,111.46147195618781,120.18649319351594,102.24737689492217,117.29435209507268,124.21872727965098,104.70030719024585,110.08015951427963,105.52307036973815,100.27377689811553,106.55979551541643,123.26399987925383,106.27150295252565,109.56692267308497,96.87063480812871,103.76687035105537,111.8271277622326,117.56348369716626,105.75545292240342,109.3980245745996,105.63554544425423,108.51257400009438,98.41163902275919,111.61510447483911,103.65393622614944,115.4730514402748,94.53583907755271,112.3016687160054,97.66755890451864,101.0901489039483,108.99467436506387,109.3737894438245,118.14612995125522,100.31424827585539,113.81080033593416,104.92435943498354,117.09385021959936,107.21631265007413,112.33218611689372,108.38599203757772,92.79283990970724,103.60006028367953,110.57424601751929,106.94975086724219,100.03166739408151,115.44981626052426,109.67732482371818,124.60529385679612,112.64760870995418,102.91903904874466,102.15152247090177,97.6596626411407,112.90033601655853,115.4365646543865,96.12598066352459,104.32173533030588,106.85158297191371,112.81405328840553,106.68881954212735,107.01093573448549,112.01830316142208,121.24800446400025,97.61922480353267,113.94140248956894,104.45717722338505,120.16672483296608,110.19300002290728,111.95833648116688,95.52327527093735,117.97341568130008,104.6826493860286,98.72248247162977,110.87401974798755,105.54373041205604,94.11762147758756,120.33419038811864,115.92269538277974,99.5227281490579,105.53719938736239,105.86804967761046,105.41229776829678,102.89916653235323,108.48753116293013,113.82556094485402,100.43958603689116,107.45018186215242,103.72282180122725,106.87901728453029,113.36421638573937,111.1082842064577,110.27847564707676,103.64573456512258,106.46805868831645,113.55490484296384,115.84418141427948,99.65036917775889,111.17151540392082,107.93652242260296,98.79695708595882,104.67389042894376,120.07296662443943,117.52303673715427,102.28305577928157,114.91516042022458,104.92789080510363,114.71110986738108,110.31148261170017,107.34357293232897,103.37671348300208,100.54828778935855,99.91586581750457,106.70092147743354,112.57121202756957,108.34820641690078,114.28027423517655,110.01660569168591,99.6105496422623,113.64056454613278,106.7516183829329,89.42528501217566,108.68513182501661,103.30317175477956,105.48488080880186,105.51416133623756,103.17101379426293,108.85892188854277,95.11513307295887,109.54949669159586,120.0787772372511,105.39881077609991,107.98692835360865,107.28194847867167,112.51272918225594,117.92417866762706,107.73428987691274,118.38059637270509,111.1212531966695,110.81540336800506,106.94114308396107,115.64075763369213,97.9482765027521,108.15074845774406,109.48848823447531,118.78083933438839,103.03840391299943,103.76182015276589,110.03391859766066,114.15663487216577,108.42896721975042,95.17169446893423,112.94212007315787,103.27728540713116,92.00419312707153,111.25523548722366,103.38435466680221,110.38964862379342,107.91336746682816,109.3964579033452,121.10497920662833,98.46825161301187,118.70573144178204,106.14911421235176,110.18342377116646,102.87314131816916,116.61169302158974,104.45717722338505,120.30951275828546,100.5070377772713,126.75681501953697,93.43811360251277,111.42489412367074,118.4480202337911,89.69741928627117,114.42834439383616,106.58353115604717,86.92151860692198,113.67391710567229,105.7566734863728,101.37898858023601,99.41196370450179,100.75084798613267,107.07413529783406,109.33062960858527,103.81153370718437,102.92648198497756,106.56486389926029,117.96280605741227,94.65457258755949,107.2344909375885,102.75249395382198,99.35543503729426,106.55300764526234,114.76620413181527,106.40088162306975,116.79226666874983,104.42502086413,107.94803576222924,111.68847132824166,105.22081414114835,106.28676301082888,108.76221949598461,105.06033771715012,109.15230336343008,106.13281170809462,103.23807538079576,105.44644173986629,103.79541074944589,96.22374874572392,108.73147683420066,108.63923081449865,116.36176017331825,112.44447935152252,114.39275404222946,103.84238292271664,95.99308695103538,101.39056213424713,109.35551226516463,101.55381401403079,123.28766504246974,111.52761302714848,99.28540448971518,104.51446317625508,108.02834761916401,104.77314995462125,106.14442010325722,108.25145543467875,115.51490836592505,104.9996576152757,107.73270315594297,121.21587772294674,109.01185889112004,113.73631024335732,110.5602615920887,104.90282228056329,104.86663279186956,116.68601070264444,101.80237996577728,93.57540538095587,104.40243707376501,105.61468184168575,117.05042307856316,100.88752337471357,103.46869452710548,112.87679830921667,107.65680863040842,98.57784554736047,107.96256443521824,106.52218726870626,101.69499803785165,103.8906613257708,91.22893709483154,104.8005833494761,103.7288357450425,92.29668694039349,108.60336430883876,100.84401097928608,100.85194199931716,104.457407138826,101.34804083509688,119.44933802940066,106.40860085844625,93.07539178128172,100.24094792557861,109.1415599125483,92.63349327456656,109.57611786523613,104.45717722338505,127.8154394976328,100.24228884548903,105.27942878897727,101.58752064282324,119.87547589765623,114.99887613988572,103.69849687804049,117.95688951185315,107.40730063540133,94.5602662766583,109.566408398766,107.15402189299685,119.10443439106828,105.04696581618487,99.1755913309255,103.95391336050825,112.92441221508122,114.43394482873269,106.39138276850639,109.88153836731493,107.71812185061525,105.81772389544155,99.55871911828226,105.20863912877826,118.2476021895349,106.01419891111031,111.44561649697557,102.95576881775341,106.89235554643122,106.84963972677691,104.19023021870315,105.85735348221091,104.78062402516122,109.26049630714627,113.96488559175275,112.50766548749161,109.42829633731674,96.72985756098986,103.23128860763269,110.42594788113138,103.40456364375663,97.48882829035449,103.91847264352624,110.93790924747339,113.76734469064213,95.15995676220882,114.59021297668016,98.07544874855219,100.35722444924971,106.16228271637853,107.53066950481895,98.2299760208239,115.99264561524595,110.67810195770095,96.748626265047,105.29879513665212,104.54581581034687,105.2653335480771,108.60951469513678,104.16758286811509,117.21762100500668,105.81493605305936,104.97023266893459,118.02669961729599,111.07374001230437,93.91435058871518,107.27781667145125,104.05825688471306,105.80396846567582,100.46792997895298,107.15115020933415,101.30331404568082,107.36532995767547,106.70375382808264,100.9561999621502,111.23889953285082,104.46104289527369,117.25543436454423,103.07315353129594,114.41044748615492,96.76933346509249,100.77772979419024,100.78207875568073,115.37883017767672,103.40913838688475,122.58556967724354,100.14684627090614,96.84205992109287,105.0890160092754,105.3492890951296,103.73382377181035,110.1763332686111,103.51406902963495,102.12064870045216,107.62434457676326,95.84526984514793,118.5284975980262,109.38732921141522,102.9890046276174,112.9689976718786,104.45717722338505,105.18214846966404,102.62692200220269,110.42105005409103,95.84332950929013,114.37416896227145,109.52862521370636,103.16463212400932,121.83174252457997,112.54559732478222,107.26780788603466,118.39790656453403,89.89178042107517,115.3253484921488,99.54074323660933,110.0693835762686,106.2646555918491,97.3040003256302,98.71496287925106,99.0631347309884,103.15558696844528,115.92427772862061,108.03873566066716,104.9030278867885,114.44346911231473,107.90730326548666,99.91429571941515,111.9648487801043,124.20361234455041,97.53606967169874,110.17480705613248,114.47553097905863,113.89262097603682,115.57425439657732,111.2860127774253,103.78895971352706,114.99865388277459,110.49913120241848,100.17191866738978,109.0335422951972,119.07043335269024,112.53818678499887,105.54881438432858,107.42118749167409,107.46375638545268,99.56298063983965,99.86958861023174,103.56613755510756,107.35032020286509,117.52077866518533,106.54427695012289,122.87755297798557,94.48803877486228,110.99672338637639,107.05085951020251,98.82631712088558,112.12839241000228,109.77074761236244,121.14503946323974,112.71191841516622,102.6830964021871,106.04852242690447,105.4891702954532,102.63115474860871,119.3662131091347,102.9347616591789,100.78598400505517,120.3877809499258,98.83417249776441,107.64022667929888,111.72260369869458,103.0979729899801,80.18732447525417,125.088481025406,102.09597602923907,110.05528401816652,116.75515315763639,99.3465959057503,103.79265925559268,101.63679098011934,100.61103809279459,109.07830398280515,111.63406283640273,99.84641230609047,103.70456634726624,100.01184386496911,112.3449661330003,114.97952047595847,108.78576533892137,107.44684427586184,102.68593042867158,114.96649940973107,107.09258654940112,104.85968535131809,98.55665960695382,102.94238466050498,103.2855293756942,106.99743633089693,104.29454255212426,107.26550201821841,106.97225395685001],\"type\":\"histogram\"}],                        {\"template\":{\"data\":{\"histogram2dcontour\":[{\"type\":\"histogram2dcontour\",\"colorbar\":{\"outlinewidth\":0,\"ticks\":\"\"},\"colorscale\":[[0.0,\"#0d0887\"],[0.1111111111111111,\"#46039f\"],[0.2222222222222222,\"#7201a8\"],[0.3333333333333333,\"#9c179e\"],[0.4444444444444444,\"#bd3786\"],[0.5555555555555556,\"#d8576b\"],[0.6666666666666666,\"#ed7953\"],[0.7777777777777778,\"#fb9f3a\"],[0.8888888888888888,\"#fdca26\"],[1.0,\"#f0f921\"]]}],\"choropleth\":[{\"type\":\"choropleth\",\"colorbar\":{\"outlinewidth\":0,\"ticks\":\"\"}}],\"histogram2d\":[{\"type\":\"histogram2d\",\"colorbar\":{\"outlinewidth\":0,\"ticks\":\"\"},\"colorscale\":[[0.0,\"#0d0887\"],[0.1111111111111111,\"#46039f\"],[0.2222222222222222,\"#7201a8\"],[0.3333333333333333,\"#9c179e\"],[0.4444444444444444,\"#bd3786\"],[0.5555555555555556,\"#d8576b\"],[0.6666666666666666,\"#ed7953\"],[0.7777777777777778,\"#fb9f3a\"],[0.8888888888888888,\"#fdca26\"],[1.0,\"#f0f921\"]]}],\"heatmap\":[{\"type\":\"heatmap\",\"colorbar\":{\"outlinewidth\":0,\"ticks\":\"\"},\"colorscale\":[[0.0,\"#0d0887\"],[0.1111111111111111,\"#46039f\"],[0.2222222222222222,\"#7201a8\"],[0.3333333333333333,\"#9c179e\"],[0.4444444444444444,\"#bd3786\"],[0.5555555555555556,\"#d8576b\"],[0.6666666666666666,\"#ed7953\"],[0.7777777777777778,\"#fb9f3a\"],[0.8888888888888888,\"#fdca26\"],[1.0,\"#f0f921\"]]}],\"heatmapgl\":[{\"type\":\"heatmapgl\",\"colorbar\":{\"outlinewidth\":0,\"ticks\":\"\"},\"colorscale\":[[0.0,\"#0d0887\"],[0.1111111111111111,\"#46039f\"],[0.2222222222222222,\"#7201a8\"],[0.3333333333333333,\"#9c179e\"],[0.4444444444444444,\"#bd3786\"],[0.5555555555555556,\"#d8576b\"],[0.6666666666666666,\"#ed7953\"],[0.7777777777777778,\"#fb9f3a\"],[0.8888888888888888,\"#fdca26\"],[1.0,\"#f0f921\"]]}],\"contourcarpet\":[{\"type\":\"contourcarpet\",\"colorbar\":{\"outlinewidth\":0,\"ticks\":\"\"}}],\"contour\":[{\"type\":\"contour\",\"colorbar\":{\"outlinewidth\":0,\"ticks\":\"\"},\"colorscale\":[[0.0,\"#0d0887\"],[0.1111111111111111,\"#46039f\"],[0.2222222222222222,\"#7201a8\"],[0.3333333333333333,\"#9c179e\"],[0.4444444444444444,\"#bd3786\"],[0.5555555555555556,\"#d8576b\"],[0.6666666666666666,\"#ed7953\"],[0.7777777777777778,\"#fb9f3a\"],[0.8888888888888888,\"#fdca26\"],[1.0,\"#f0f921\"]]}],\"surface\":[{\"type\":\"surface\",\"colorbar\":{\"outlinewidth\":0,\"ticks\":\"\"},\"colorscale\":[[0.0,\"#0d0887\"],[0.1111111111111111,\"#46039f\"],[0.2222222222222222,\"#7201a8\"],[0.3333333333333333,\"#9c179e\"],[0.4444444444444444,\"#bd3786\"],[0.5555555555555556,\"#d8576b\"],[0.6666666666666666,\"#ed7953\"],[0.7777777777777778,\"#fb9f3a\"],[0.8888888888888888,\"#fdca26\"],[1.0,\"#f0f921\"]]}],\"mesh3d\":[{\"type\":\"mesh3d\",\"colorbar\":{\"outlinewidth\":0,\"ticks\":\"\"}}],\"scatter\":[{\"fillpattern\":{\"fillmode\":\"overlay\",\"size\":10,\"solidity\":0.2},\"type\":\"scatter\"}],\"parcoords\":[{\"type\":\"parcoords\",\"line\":{\"colorbar\":{\"outlinewidth\":0,\"ticks\":\"\"}}}],\"scatterpolargl\":[{\"type\":\"scatterpolargl\",\"marker\":{\"colorbar\":{\"outlinewidth\":0,\"ticks\":\"\"}}}],\"bar\":[{\"error_x\":{\"color\":\"#2a3f5f\"},\"error_y\":{\"color\":\"#2a3f5f\"},\"marker\":{\"line\":{\"color\":\"#E5ECF6\",\"width\":0.5},\"pattern\":{\"fillmode\":\"overlay\",\"size\":10,\"solidity\":0.2}},\"type\":\"bar\"}],\"scattergeo\":[{\"type\":\"scattergeo\",\"marker\":{\"colorbar\":{\"outlinewidth\":0,\"ticks\":\"\"}}}],\"scatterpolar\":[{\"type\":\"scatterpolar\",\"marker\":{\"colorbar\":{\"outlinewidth\":0,\"ticks\":\"\"}}}],\"histogram\":[{\"marker\":{\"pattern\":{\"fillmode\":\"overlay\",\"size\":10,\"solidity\":0.2}},\"type\":\"histogram\"}],\"scattergl\":[{\"type\":\"scattergl\",\"marker\":{\"colorbar\":{\"outlinewidth\":0,\"ticks\":\"\"}}}],\"scatter3d\":[{\"type\":\"scatter3d\",\"line\":{\"colorbar\":{\"outlinewidth\":0,\"ticks\":\"\"}},\"marker\":{\"colorbar\":{\"outlinewidth\":0,\"ticks\":\"\"}}}],\"scattermapbox\":[{\"type\":\"scattermapbox\",\"marker\":{\"colorbar\":{\"outlinewidth\":0,\"ticks\":\"\"}}}],\"scatterternary\":[{\"type\":\"scatterternary\",\"marker\":{\"colorbar\":{\"outlinewidth\":0,\"ticks\":\"\"}}}],\"scattercarpet\":[{\"type\":\"scattercarpet\",\"marker\":{\"colorbar\":{\"outlinewidth\":0,\"ticks\":\"\"}}}],\"carpet\":[{\"aaxis\":{\"endlinecolor\":\"#2a3f5f\",\"gridcolor\":\"white\",\"linecolor\":\"white\",\"minorgridcolor\":\"white\",\"startlinecolor\":\"#2a3f5f\"},\"baxis\":{\"endlinecolor\":\"#2a3f5f\",\"gridcolor\":\"white\",\"linecolor\":\"white\",\"minorgridcolor\":\"white\",\"startlinecolor\":\"#2a3f5f\"},\"type\":\"carpet\"}],\"table\":[{\"cells\":{\"fill\":{\"color\":\"#EBF0F8\"},\"line\":{\"color\":\"white\"}},\"header\":{\"fill\":{\"color\":\"#C8D4E3\"},\"line\":{\"color\":\"white\"}},\"type\":\"table\"}],\"barpolar\":[{\"marker\":{\"line\":{\"color\":\"#E5ECF6\",\"width\":0.5},\"pattern\":{\"fillmode\":\"overlay\",\"size\":10,\"solidity\":0.2}},\"type\":\"barpolar\"}],\"pie\":[{\"automargin\":true,\"type\":\"pie\"}]},\"layout\":{\"autotypenumbers\":\"strict\",\"colorway\":[\"#636efa\",\"#EF553B\",\"#00cc96\",\"#ab63fa\",\"#FFA15A\",\"#19d3f3\",\"#FF6692\",\"#B6E880\",\"#FF97FF\",\"#FECB52\"],\"font\":{\"color\":\"#2a3f5f\"},\"hovermode\":\"closest\",\"hoverlabel\":{\"align\":\"left\"},\"paper_bgcolor\":\"white\",\"plot_bgcolor\":\"#E5ECF6\",\"polar\":{\"bgcolor\":\"#E5ECF6\",\"angularaxis\":{\"gridcolor\":\"white\",\"linecolor\":\"white\",\"ticks\":\"\"},\"radialaxis\":{\"gridcolor\":\"white\",\"linecolor\":\"white\",\"ticks\":\"\"}},\"ternary\":{\"bgcolor\":\"#E5ECF6\",\"aaxis\":{\"gridcolor\":\"white\",\"linecolor\":\"white\",\"ticks\":\"\"},\"baxis\":{\"gridcolor\":\"white\",\"linecolor\":\"white\",\"ticks\":\"\"},\"caxis\":{\"gridcolor\":\"white\",\"linecolor\":\"white\",\"ticks\":\"\"}},\"coloraxis\":{\"colorbar\":{\"outlinewidth\":0,\"ticks\":\"\"}},\"colorscale\":{\"sequential\":[[0.0,\"#0d0887\"],[0.1111111111111111,\"#46039f\"],[0.2222222222222222,\"#7201a8\"],[0.3333333333333333,\"#9c179e\"],[0.4444444444444444,\"#bd3786\"],[0.5555555555555556,\"#d8576b\"],[0.6666666666666666,\"#ed7953\"],[0.7777777777777778,\"#fb9f3a\"],[0.8888888888888888,\"#fdca26\"],[1.0,\"#f0f921\"]],\"sequentialminus\":[[0.0,\"#0d0887\"],[0.1111111111111111,\"#46039f\"],[0.2222222222222222,\"#7201a8\"],[0.3333333333333333,\"#9c179e\"],[0.4444444444444444,\"#bd3786\"],[0.5555555555555556,\"#d8576b\"],[0.6666666666666666,\"#ed7953\"],[0.7777777777777778,\"#fb9f3a\"],[0.8888888888888888,\"#fdca26\"],[1.0,\"#f0f921\"]],\"diverging\":[[0,\"#8e0152\"],[0.1,\"#c51b7d\"],[0.2,\"#de77ae\"],[0.3,\"#f1b6da\"],[0.4,\"#fde0ef\"],[0.5,\"#f7f7f7\"],[0.6,\"#e6f5d0\"],[0.7,\"#b8e186\"],[0.8,\"#7fbc41\"],[0.9,\"#4d9221\"],[1,\"#276419\"]]},\"xaxis\":{\"gridcolor\":\"white\",\"linecolor\":\"white\",\"ticks\":\"\",\"title\":{\"standoff\":15},\"zerolinecolor\":\"white\",\"automargin\":true,\"zerolinewidth\":2},\"yaxis\":{\"gridcolor\":\"white\",\"linecolor\":\"white\",\"ticks\":\"\",\"title\":{\"standoff\":15},\"zerolinecolor\":\"white\",\"automargin\":true,\"zerolinewidth\":2},\"scene\":{\"xaxis\":{\"backgroundcolor\":\"#E5ECF6\",\"gridcolor\":\"white\",\"linecolor\":\"white\",\"showbackground\":true,\"ticks\":\"\",\"zerolinecolor\":\"white\",\"gridwidth\":2},\"yaxis\":{\"backgroundcolor\":\"#E5ECF6\",\"gridcolor\":\"white\",\"linecolor\":\"white\",\"showbackground\":true,\"ticks\":\"\",\"zerolinecolor\":\"white\",\"gridwidth\":2},\"zaxis\":{\"backgroundcolor\":\"#E5ECF6\",\"gridcolor\":\"white\",\"linecolor\":\"white\",\"showbackground\":true,\"ticks\":\"\",\"zerolinecolor\":\"white\",\"gridwidth\":2}},\"shapedefaults\":{\"line\":{\"color\":\"#2a3f5f\"}},\"annotationdefaults\":{\"arrowcolor\":\"#2a3f5f\",\"arrowhead\":0,\"arrowwidth\":1},\"geo\":{\"bgcolor\":\"white\",\"landcolor\":\"#E5ECF6\",\"subunitcolor\":\"white\",\"showland\":true,\"showlakes\":true,\"lakecolor\":\"white\"},\"title\":{\"x\":0.05},\"mapbox\":{\"style\":\"light\"}}},\"shapes\":[{\"line\":{\"color\":\"red\",\"dash\":\"dash\"},\"type\":\"line\",\"x0\":107.4,\"x1\":107.4,\"xref\":\"x\",\"y0\":0,\"y1\":1,\"yref\":\"y domain\"},{\"line\":{\"color\":\"blue\",\"dash\":\"dash\"},\"type\":\"line\",\"x0\":107.50438713248045,\"x1\":107.50438713248045,\"xref\":\"x\",\"y0\":0,\"y1\":1,\"yref\":\"y domain\"}],\"annotations\":[{\"font\":{\"color\":\"red\"},\"showarrow\":false,\"text\":\"Classical H-O-H angle\",\"x\":107.4,\"xanchor\":\"left\",\"xref\":\"x\",\"y\":0,\"yanchor\":\"bottom\",\"yref\":\"y domain\"},{\"font\":{\"color\":\"blue\"},\"showarrow\":false,\"text\":\"Quantum average\",\"x\":107.50438713248045,\"xanchor\":\"right\",\"xref\":\"x\",\"y\":1,\"yanchor\":\"top\",\"yref\":\"y domain\"}],\"font\":{\"size\":12},\"margin\":{\"l\":50,\"r\":50,\"t\":50,\"b\":50},\"xaxis\":{\"showgrid\":true,\"gridwidth\":1,\"gridcolor\":\"LightGray\",\"title\":{\"text\":\"Angle (degrees)\"}},\"yaxis\":{\"showgrid\":true,\"gridwidth\":1,\"gridcolor\":\"LightGray\",\"title\":{\"text\":\"Probability Density\"}},\"title\":{\"font\":{\"size\":20},\"text\":\"H-O-H Angle Distribution\",\"y\":0.98,\"x\":0.5,\"xanchor\":\"center\",\"yanchor\":\"top\"},\"width\":600,\"height\":600,\"plot_bgcolor\":\"white\",\"hovermode\":\"closest\"},                        {\"responsive\": true}                    ).then(function(){\n",
       "                            \n",
       "var gd = document.getElementById('d7a41638-ecf3-4894-aaea-5fc4ec3b398a');\n",
       "var x = new MutationObserver(function (mutations, observer) {{\n",
       "        var display = window.getComputedStyle(gd).display;\n",
       "        if (!display || display === 'none') {{\n",
       "            console.log([gd, 'removed!']);\n",
       "            Plotly.purge(gd);\n",
       "            observer.disconnect();\n",
       "        }}\n",
       "}});\n",
       "\n",
       "// Listen for the removal of the full notebook cells\n",
       "var notebookContainer = gd.closest('#notebook-container');\n",
       "if (notebookContainer) {{\n",
       "    x.observe(notebookContainer, {childList: true});\n",
       "}}\n",
       "\n",
       "// Listen for the clearing of the current output cell\n",
       "var outputEl = gd.closest('.output');\n",
       "if (outputEl) {{\n",
       "    x.observe(outputEl, {childList: true});\n",
       "}}\n",
       "\n",
       "                        })                };                });            </script>        </div>"
      ]
     },
     "metadata": {},
     "output_type": "display_data"
    },
    {
     "name": "stdout",
     "output_type": "stream",
     "text": [
      "H-O-H Angle Analysis:\n",
      "-------------------------\n",
      "Classical angle:  107.4°\n",
      "Quantum average:  107.5°\n",
      "Quantum shift:    +0.1°  (+0.1%)\n",
      "Fluctuations:     ±14.0°  (95% interval)\n"
     ]
    }
   ],
   "source": [
    "def calculate_angle(positions):\n",
    "    \"\"\"Calculate H-O-H angle using dot product method\"\"\"\n",
    "    # Get O-H vectors\n",
    "    v1 = positions[:, 1] - positions[:, 0]  # O to H1\n",
    "    v2 = positions[:, 2] - positions[:, 0]  # O to H2\n",
    "    \n",
    "    # Normalize vectors\n",
    "    v1_norm = v1 / np.linalg.norm(v1, axis=1)[:, np.newaxis]\n",
    "    v2_norm = v2 / np.linalg.norm(v2, axis=1)[:, np.newaxis]\n",
    "    \n",
    "    # Calculate angle (degrees)\n",
    "    cos_angle = np.sum(v1_norm * v2_norm, axis=1)\n",
    "    angles = np.arccos(np.clip(cos_angle, -1.0, 1.0)) * 180/np.pi\n",
    "    return angles\n",
    "\n",
    "# Calculate angles for all beads and frames\n",
    "all_angles = []\n",
    "for traj in trajectories:\n",
    "    angles = calculate_angle(traj)\n",
    "    all_angles.extend(angles)\n",
    "\n",
    "# Create angle distribution plot\n",
    "fig = go.Figure()\n",
    "\n",
    "# Add histogram\n",
    "fig.add_trace(\n",
    "    go.Histogram(\n",
    "        x=all_angles,\n",
    "        nbinsx=50,\n",
    "        histnorm='probability density',\n",
    "        hovertemplate='Angle: %{x:.2f}°<br>Density: %{y:.3f}<extra></extra>'\n",
    "    )\n",
    ")\n",
    "\n",
    "# Add reference angles\n",
    "classical_angle = 107.4\n",
    "mean_angle = np.mean(all_angles)\n",
    "\n",
    "# Classical reference\n",
    "fig.add_vline(\n",
    "    x=classical_angle,\n",
    "    line_dash=\"dash\",\n",
    "    line_color=\"red\",\n",
    "    annotation_text=\"Classical H-O-H angle\",\n",
    "    annotation_position=\"bottom right\",\n",
    "    annotation=dict(font=dict(color=\"red\"))\n",
    ")\n",
    "\n",
    "# Quantum average\n",
    "fig.add_vline(\n",
    "    x=mean_angle,\n",
    "    line_dash=\"dash\",\n",
    "    line_color=\"blue\",\n",
    "    annotation_text=\"Quantum average\",\n",
    "    annotation_position=\"top left\",\n",
    "    annotation=dict(font=dict(color=\"blue\"))\n",
    ")\n",
    "\n",
    "# Configure plot\n",
    "fig.update_layout(\n",
    "    plotly_layout,\n",
    "    title={\n",
    "        'text': 'H-O-H Angle Distribution',\n",
    "        'font': {'size': 20},\n",
    "        'y': 0.98,\n",
    "        'x': 0.5,\n",
    "        'xanchor': 'center',\n",
    "        'yanchor': 'top'\n",
    "    },\n",
    "    xaxis_title='Angle (degrees)',\n",
    "    yaxis_title='Probability Density'\n",
    ")\n",
    "fig.show()\n",
    "\n",
    "# Analyze quantum effects\n",
    "std_angle = np.std(all_angles)\n",
    "angle_shift = mean_angle - classical_angle\n",
    "\n",
    "print(\"H-O-H Angle Analysis:\")\n",
    "print(\"-\" * 25)\n",
    "print(f\"Classical angle:  {classical_angle:.1f}°\")\n",
    "print(f\"Quantum average:  {mean_angle:.1f}°\")\n",
    "print(f\"Quantum shift:    {angle_shift:+.1f}°  ({angle_shift/classical_angle*100:+.1f}%)\")\n",
    "print(f\"Fluctuations:     ±{2*std_angle:.1f}°  (95% interval)\")"
   ]
  },
  {
   "cell_type": "markdown",
   "metadata": {},
   "source": [
    "## 5. Visualizing Ring Polymer\n",
    "\n",
    "The ring polymer representation is at the heart of Path Integral MD, providing a way to visualize quantum delocalization of atoms. Here we'll create interactive 3D visualizations of the ring polymers for both oxygen and hydrogen atoms.\n",
    "\n",
    "### Ring Polymer Structure:\n",
    "1. **Beads**: \n",
    "   - Each bead represents a different configuration\n",
    "   - Total of P beads form the ring polymer\n",
    "   - Connected by harmonic springs with frequency ω = P/(βℏ)\n",
    "   - β = 1/(kT) is inverse temperature\n",
    "\n",
    "2. **Centroid**:\n",
    "   - Average position of all beads\n",
    "   - $\\mathbf{r}_c = \\frac{1}{P}\\sum_{i=1}^P \\mathbf{r}_i$\n",
    "   - Corresponds to classical position\n",
    "   - Marked in red in visualization\n",
    "\n",
    "3. **Spread**:\n",
    "   - Distance of beads from centroid\n",
    "   - Larger for lighter atoms (H vs O)\n",
    "   - Reflects quantum uncertainty\n",
    "   - Maximum spread = largest bead-centroid distance\n",
    "\n",
    "### Visualization Features:\n",
    "- Blue points: O atom beads\n",
    "- Red points: H atom beads\n",
    "- Diamond marker: Centroid position\n",
    "- Semi-transparent lines: Spring connections\n",
    "- Interactive controls for rotation and zoom\n",
    "\n",
    "The following cell creates 3D visualizations of both O and H ring polymers from the last frame of our simulation."
   ]
  },
  {
   "cell_type": "code",
   "execution_count": 80,
   "metadata": {},
   "outputs": [
    {
     "name": "stdout",
     "output_type": "stream",
     "text": [
      "Visualizing ring polymers (interactive 3D plots):\n"
     ]
    },
    {
     "data": {
      "application/vnd.plotly.v1+json": {
       "config": {
        "plotlyServerURL": "https://plot.ly"
       },
       "data": [
        {
         "hovertemplate": "x: %{x:.3f}<br>y: %{y:.3f}<br>z: %{z:.3f}<extra>Bead</extra>",
         "marker": {
          "color": "blue",
          "opacity": 0.8,
          "size": 6
         },
         "mode": "markers",
         "name": "Beads",
         "type": "scatter3d",
         "x": [
          -0.0424281,
          -0.00448356,
          -0.00816679,
          0.0442994,
          0.0681676,
          0.0776501,
          0.0385108,
          -0.0347384
         ],
         "y": [
          -0.029667,
          -0.0348427,
          -0.0816865,
          -0.0190441,
          -0.0114225,
          -0.0372539,
          -0.0309038,
          -0.0217576
         ],
         "z": [
          -0.0193872,
          -0.00796919,
          -0.0164093,
          -0.000266348,
          -0.0254662,
          0.00313794,
          -0.00363388,
          0.0181237
         ]
        },
        {
         "hoverinfo": "skip",
         "line": {
          "color": "rgba(0, 0, 1, 0.3)",
          "width": 2
         },
         "mode": "lines",
         "showlegend": false,
         "type": "scatter3d",
         "x": [
          -0.0424281,
          -0.00448356
         ],
         "y": [
          -0.029667,
          -0.0348427
         ],
         "z": [
          -0.0193872,
          -0.00796919
         ]
        },
        {
         "hoverinfo": "skip",
         "line": {
          "color": "rgba(0, 0, 1, 0.3)",
          "width": 2
         },
         "mode": "lines",
         "showlegend": false,
         "type": "scatter3d",
         "x": [
          -0.00448356,
          -0.00816679
         ],
         "y": [
          -0.0348427,
          -0.0816865
         ],
         "z": [
          -0.00796919,
          -0.0164093
         ]
        },
        {
         "hoverinfo": "skip",
         "line": {
          "color": "rgba(0, 0, 1, 0.3)",
          "width": 2
         },
         "mode": "lines",
         "showlegend": false,
         "type": "scatter3d",
         "x": [
          -0.00816679,
          0.0442994
         ],
         "y": [
          -0.0816865,
          -0.0190441
         ],
         "z": [
          -0.0164093,
          -0.000266348
         ]
        },
        {
         "hoverinfo": "skip",
         "line": {
          "color": "rgba(0, 0, 1, 0.3)",
          "width": 2
         },
         "mode": "lines",
         "showlegend": false,
         "type": "scatter3d",
         "x": [
          0.0442994,
          0.0681676
         ],
         "y": [
          -0.0190441,
          -0.0114225
         ],
         "z": [
          -0.000266348,
          -0.0254662
         ]
        },
        {
         "hoverinfo": "skip",
         "line": {
          "color": "rgba(0, 0, 1, 0.3)",
          "width": 2
         },
         "mode": "lines",
         "showlegend": false,
         "type": "scatter3d",
         "x": [
          0.0681676,
          0.0776501
         ],
         "y": [
          -0.0114225,
          -0.0372539
         ],
         "z": [
          -0.0254662,
          0.00313794
         ]
        },
        {
         "hoverinfo": "skip",
         "line": {
          "color": "rgba(0, 0, 1, 0.3)",
          "width": 2
         },
         "mode": "lines",
         "showlegend": false,
         "type": "scatter3d",
         "x": [
          0.0776501,
          0.0385108
         ],
         "y": [
          -0.0372539,
          -0.0309038
         ],
         "z": [
          0.00313794,
          -0.00363388
         ]
        },
        {
         "hoverinfo": "skip",
         "line": {
          "color": "rgba(0, 0, 1, 0.3)",
          "width": 2
         },
         "mode": "lines",
         "showlegend": false,
         "type": "scatter3d",
         "x": [
          0.0385108,
          -0.0347384
         ],
         "y": [
          -0.0309038,
          -0.0217576
         ],
         "z": [
          -0.00363388,
          0.0181237
         ]
        },
        {
         "hoverinfo": "skip",
         "line": {
          "color": "rgba(0, 0, 1, 0.3)",
          "width": 2
         },
         "mode": "lines",
         "showlegend": false,
         "type": "scatter3d",
         "x": [
          -0.0347384,
          -0.0424281
         ],
         "y": [
          -0.0217576,
          -0.029667
         ],
         "z": [
          0.0181237,
          -0.0193872
         ]
        },
        {
         "hovertemplate": "x: %{x:.3f}<br>y: %{y:.3f}<br>z: %{z:.3f}<extra>Centroid</extra>",
         "marker": {
          "color": "red",
          "size": 10,
          "symbol": "diamond"
         },
         "mode": "markers",
         "name": "Centroid",
         "type": "scatter3d",
         "x": [
          0.01735138125
         ],
         "y": [
          -0.033322262500000005
         ],
         "z": [
          -0.006483809750000001
         ]
        }
       ],
       "layout": {
        "annotations": [
         {
          "font": {
           "size": 12
          },
          "showarrow": false,
          "text": "Drag to rotate | Scroll to zoom | Double-click to reset view",
          "x": 0.5,
          "xref": "paper",
          "y": -0.08,
          "yref": "paper"
         }
        ],
        "font": {
         "size": 12
        },
        "height": 500,
        "hovermode": "closest",
        "margin": {
         "b": 50,
         "l": 50,
         "r": 50,
         "t": 50
        },
        "plot_bgcolor": "white",
        "scene": {
         "aspectmode": "cube",
         "xaxis": {
          "title": {
           "text": "X (Å)"
          }
         },
         "yaxis": {
          "title": {
           "text": "Y (Å)"
          }
         },
         "zaxis": {
          "title": {
           "text": "Z (Å)"
          }
         }
        },
        "template": {
         "data": {
          "bar": [
           {
            "error_x": {
             "color": "#2a3f5f"
            },
            "error_y": {
             "color": "#2a3f5f"
            },
            "marker": {
             "line": {
              "color": "#E5ECF6",
              "width": 0.5
             },
             "pattern": {
              "fillmode": "overlay",
              "size": 10,
              "solidity": 0.2
             }
            },
            "type": "bar"
           }
          ],
          "barpolar": [
           {
            "marker": {
             "line": {
              "color": "#E5ECF6",
              "width": 0.5
             },
             "pattern": {
              "fillmode": "overlay",
              "size": 10,
              "solidity": 0.2
             }
            },
            "type": "barpolar"
           }
          ],
          "carpet": [
           {
            "aaxis": {
             "endlinecolor": "#2a3f5f",
             "gridcolor": "white",
             "linecolor": "white",
             "minorgridcolor": "white",
             "startlinecolor": "#2a3f5f"
            },
            "baxis": {
             "endlinecolor": "#2a3f5f",
             "gridcolor": "white",
             "linecolor": "white",
             "minorgridcolor": "white",
             "startlinecolor": "#2a3f5f"
            },
            "type": "carpet"
           }
          ],
          "choropleth": [
           {
            "colorbar": {
             "outlinewidth": 0,
             "ticks": ""
            },
            "type": "choropleth"
           }
          ],
          "contour": [
           {
            "colorbar": {
             "outlinewidth": 0,
             "ticks": ""
            },
            "colorscale": [
             [
              0,
              "#0d0887"
             ],
             [
              0.1111111111111111,
              "#46039f"
             ],
             [
              0.2222222222222222,
              "#7201a8"
             ],
             [
              0.3333333333333333,
              "#9c179e"
             ],
             [
              0.4444444444444444,
              "#bd3786"
             ],
             [
              0.5555555555555556,
              "#d8576b"
             ],
             [
              0.6666666666666666,
              "#ed7953"
             ],
             [
              0.7777777777777778,
              "#fb9f3a"
             ],
             [
              0.8888888888888888,
              "#fdca26"
             ],
             [
              1,
              "#f0f921"
             ]
            ],
            "type": "contour"
           }
          ],
          "contourcarpet": [
           {
            "colorbar": {
             "outlinewidth": 0,
             "ticks": ""
            },
            "type": "contourcarpet"
           }
          ],
          "heatmap": [
           {
            "colorbar": {
             "outlinewidth": 0,
             "ticks": ""
            },
            "colorscale": [
             [
              0,
              "#0d0887"
             ],
             [
              0.1111111111111111,
              "#46039f"
             ],
             [
              0.2222222222222222,
              "#7201a8"
             ],
             [
              0.3333333333333333,
              "#9c179e"
             ],
             [
              0.4444444444444444,
              "#bd3786"
             ],
             [
              0.5555555555555556,
              "#d8576b"
             ],
             [
              0.6666666666666666,
              "#ed7953"
             ],
             [
              0.7777777777777778,
              "#fb9f3a"
             ],
             [
              0.8888888888888888,
              "#fdca26"
             ],
             [
              1,
              "#f0f921"
             ]
            ],
            "type": "heatmap"
           }
          ],
          "heatmapgl": [
           {
            "colorbar": {
             "outlinewidth": 0,
             "ticks": ""
            },
            "colorscale": [
             [
              0,
              "#0d0887"
             ],
             [
              0.1111111111111111,
              "#46039f"
             ],
             [
              0.2222222222222222,
              "#7201a8"
             ],
             [
              0.3333333333333333,
              "#9c179e"
             ],
             [
              0.4444444444444444,
              "#bd3786"
             ],
             [
              0.5555555555555556,
              "#d8576b"
             ],
             [
              0.6666666666666666,
              "#ed7953"
             ],
             [
              0.7777777777777778,
              "#fb9f3a"
             ],
             [
              0.8888888888888888,
              "#fdca26"
             ],
             [
              1,
              "#f0f921"
             ]
            ],
            "type": "heatmapgl"
           }
          ],
          "histogram": [
           {
            "marker": {
             "pattern": {
              "fillmode": "overlay",
              "size": 10,
              "solidity": 0.2
             }
            },
            "type": "histogram"
           }
          ],
          "histogram2d": [
           {
            "colorbar": {
             "outlinewidth": 0,
             "ticks": ""
            },
            "colorscale": [
             [
              0,
              "#0d0887"
             ],
             [
              0.1111111111111111,
              "#46039f"
             ],
             [
              0.2222222222222222,
              "#7201a8"
             ],
             [
              0.3333333333333333,
              "#9c179e"
             ],
             [
              0.4444444444444444,
              "#bd3786"
             ],
             [
              0.5555555555555556,
              "#d8576b"
             ],
             [
              0.6666666666666666,
              "#ed7953"
             ],
             [
              0.7777777777777778,
              "#fb9f3a"
             ],
             [
              0.8888888888888888,
              "#fdca26"
             ],
             [
              1,
              "#f0f921"
             ]
            ],
            "type": "histogram2d"
           }
          ],
          "histogram2dcontour": [
           {
            "colorbar": {
             "outlinewidth": 0,
             "ticks": ""
            },
            "colorscale": [
             [
              0,
              "#0d0887"
             ],
             [
              0.1111111111111111,
              "#46039f"
             ],
             [
              0.2222222222222222,
              "#7201a8"
             ],
             [
              0.3333333333333333,
              "#9c179e"
             ],
             [
              0.4444444444444444,
              "#bd3786"
             ],
             [
              0.5555555555555556,
              "#d8576b"
             ],
             [
              0.6666666666666666,
              "#ed7953"
             ],
             [
              0.7777777777777778,
              "#fb9f3a"
             ],
             [
              0.8888888888888888,
              "#fdca26"
             ],
             [
              1,
              "#f0f921"
             ]
            ],
            "type": "histogram2dcontour"
           }
          ],
          "mesh3d": [
           {
            "colorbar": {
             "outlinewidth": 0,
             "ticks": ""
            },
            "type": "mesh3d"
           }
          ],
          "parcoords": [
           {
            "line": {
             "colorbar": {
              "outlinewidth": 0,
              "ticks": ""
             }
            },
            "type": "parcoords"
           }
          ],
          "pie": [
           {
            "automargin": true,
            "type": "pie"
           }
          ],
          "scatter": [
           {
            "fillpattern": {
             "fillmode": "overlay",
             "size": 10,
             "solidity": 0.2
            },
            "type": "scatter"
           }
          ],
          "scatter3d": [
           {
            "line": {
             "colorbar": {
              "outlinewidth": 0,
              "ticks": ""
             }
            },
            "marker": {
             "colorbar": {
              "outlinewidth": 0,
              "ticks": ""
             }
            },
            "type": "scatter3d"
           }
          ],
          "scattercarpet": [
           {
            "marker": {
             "colorbar": {
              "outlinewidth": 0,
              "ticks": ""
             }
            },
            "type": "scattercarpet"
           }
          ],
          "scattergeo": [
           {
            "marker": {
             "colorbar": {
              "outlinewidth": 0,
              "ticks": ""
             }
            },
            "type": "scattergeo"
           }
          ],
          "scattergl": [
           {
            "marker": {
             "colorbar": {
              "outlinewidth": 0,
              "ticks": ""
             }
            },
            "type": "scattergl"
           }
          ],
          "scattermapbox": [
           {
            "marker": {
             "colorbar": {
              "outlinewidth": 0,
              "ticks": ""
             }
            },
            "type": "scattermapbox"
           }
          ],
          "scatterpolar": [
           {
            "marker": {
             "colorbar": {
              "outlinewidth": 0,
              "ticks": ""
             }
            },
            "type": "scatterpolar"
           }
          ],
          "scatterpolargl": [
           {
            "marker": {
             "colorbar": {
              "outlinewidth": 0,
              "ticks": ""
             }
            },
            "type": "scatterpolargl"
           }
          ],
          "scatterternary": [
           {
            "marker": {
             "colorbar": {
              "outlinewidth": 0,
              "ticks": ""
             }
            },
            "type": "scatterternary"
           }
          ],
          "surface": [
           {
            "colorbar": {
             "outlinewidth": 0,
             "ticks": ""
            },
            "colorscale": [
             [
              0,
              "#0d0887"
             ],
             [
              0.1111111111111111,
              "#46039f"
             ],
             [
              0.2222222222222222,
              "#7201a8"
             ],
             [
              0.3333333333333333,
              "#9c179e"
             ],
             [
              0.4444444444444444,
              "#bd3786"
             ],
             [
              0.5555555555555556,
              "#d8576b"
             ],
             [
              0.6666666666666666,
              "#ed7953"
             ],
             [
              0.7777777777777778,
              "#fb9f3a"
             ],
             [
              0.8888888888888888,
              "#fdca26"
             ],
             [
              1,
              "#f0f921"
             ]
            ],
            "type": "surface"
           }
          ],
          "table": [
           {
            "cells": {
             "fill": {
              "color": "#EBF0F8"
             },
             "line": {
              "color": "white"
             }
            },
            "header": {
             "fill": {
              "color": "#C8D4E3"
             },
             "line": {
              "color": "white"
             }
            },
            "type": "table"
           }
          ]
         },
         "layout": {
          "annotationdefaults": {
           "arrowcolor": "#2a3f5f",
           "arrowhead": 0,
           "arrowwidth": 1
          },
          "autotypenumbers": "strict",
          "coloraxis": {
           "colorbar": {
            "outlinewidth": 0,
            "ticks": ""
           }
          },
          "colorscale": {
           "diverging": [
            [
             0,
             "#8e0152"
            ],
            [
             0.1,
             "#c51b7d"
            ],
            [
             0.2,
             "#de77ae"
            ],
            [
             0.3,
             "#f1b6da"
            ],
            [
             0.4,
             "#fde0ef"
            ],
            [
             0.5,
             "#f7f7f7"
            ],
            [
             0.6,
             "#e6f5d0"
            ],
            [
             0.7,
             "#b8e186"
            ],
            [
             0.8,
             "#7fbc41"
            ],
            [
             0.9,
             "#4d9221"
            ],
            [
             1,
             "#276419"
            ]
           ],
           "sequential": [
            [
             0,
             "#0d0887"
            ],
            [
             0.1111111111111111,
             "#46039f"
            ],
            [
             0.2222222222222222,
             "#7201a8"
            ],
            [
             0.3333333333333333,
             "#9c179e"
            ],
            [
             0.4444444444444444,
             "#bd3786"
            ],
            [
             0.5555555555555556,
             "#d8576b"
            ],
            [
             0.6666666666666666,
             "#ed7953"
            ],
            [
             0.7777777777777778,
             "#fb9f3a"
            ],
            [
             0.8888888888888888,
             "#fdca26"
            ],
            [
             1,
             "#f0f921"
            ]
           ],
           "sequentialminus": [
            [
             0,
             "#0d0887"
            ],
            [
             0.1111111111111111,
             "#46039f"
            ],
            [
             0.2222222222222222,
             "#7201a8"
            ],
            [
             0.3333333333333333,
             "#9c179e"
            ],
            [
             0.4444444444444444,
             "#bd3786"
            ],
            [
             0.5555555555555556,
             "#d8576b"
            ],
            [
             0.6666666666666666,
             "#ed7953"
            ],
            [
             0.7777777777777778,
             "#fb9f3a"
            ],
            [
             0.8888888888888888,
             "#fdca26"
            ],
            [
             1,
             "#f0f921"
            ]
           ]
          },
          "colorway": [
           "#636efa",
           "#EF553B",
           "#00cc96",
           "#ab63fa",
           "#FFA15A",
           "#19d3f3",
           "#FF6692",
           "#B6E880",
           "#FF97FF",
           "#FECB52"
          ],
          "font": {
           "color": "#2a3f5f"
          },
          "geo": {
           "bgcolor": "white",
           "lakecolor": "white",
           "landcolor": "#E5ECF6",
           "showlakes": true,
           "showland": true,
           "subunitcolor": "white"
          },
          "hoverlabel": {
           "align": "left"
          },
          "hovermode": "closest",
          "mapbox": {
           "style": "light"
          },
          "paper_bgcolor": "white",
          "plot_bgcolor": "#E5ECF6",
          "polar": {
           "angularaxis": {
            "gridcolor": "white",
            "linecolor": "white",
            "ticks": ""
           },
           "bgcolor": "#E5ECF6",
           "radialaxis": {
            "gridcolor": "white",
            "linecolor": "white",
            "ticks": ""
           }
          },
          "scene": {
           "xaxis": {
            "backgroundcolor": "#E5ECF6",
            "gridcolor": "white",
            "gridwidth": 2,
            "linecolor": "white",
            "showbackground": true,
            "ticks": "",
            "zerolinecolor": "white"
           },
           "yaxis": {
            "backgroundcolor": "#E5ECF6",
            "gridcolor": "white",
            "gridwidth": 2,
            "linecolor": "white",
            "showbackground": true,
            "ticks": "",
            "zerolinecolor": "white"
           },
           "zaxis": {
            "backgroundcolor": "#E5ECF6",
            "gridcolor": "white",
            "gridwidth": 2,
            "linecolor": "white",
            "showbackground": true,
            "ticks": "",
            "zerolinecolor": "white"
           }
          },
          "shapedefaults": {
           "line": {
            "color": "#2a3f5f"
           }
          },
          "ternary": {
           "aaxis": {
            "gridcolor": "white",
            "linecolor": "white",
            "ticks": ""
           },
           "baxis": {
            "gridcolor": "white",
            "linecolor": "white",
            "ticks": ""
           },
           "bgcolor": "#E5ECF6",
           "caxis": {
            "gridcolor": "white",
            "linecolor": "white",
            "ticks": ""
           }
          },
          "title": {
           "x": 0.05
          },
          "xaxis": {
           "automargin": true,
           "gridcolor": "white",
           "linecolor": "white",
           "ticks": "",
           "title": {
            "standoff": 15
           },
           "zerolinecolor": "white",
           "zerolinewidth": 2
          },
          "yaxis": {
           "automargin": true,
           "gridcolor": "white",
           "linecolor": "white",
           "ticks": "",
           "title": {
            "standoff": 15
           },
           "zerolinecolor": "white",
           "zerolinewidth": 2
          }
         }
        },
        "title": {
         "font": {
          "size": 20
         },
         "text": "Oxygen Ring Polymer<br><sup>Interactive 3D Visualization</sup>",
         "x": 0.5,
         "xanchor": "center",
         "y": 0.95,
         "yanchor": "top"
        },
        "width": 500,
        "xaxis": {
         "gridcolor": "LightGray",
         "gridwidth": 1,
         "showgrid": true
        },
        "yaxis": {
         "gridcolor": "LightGray",
         "gridwidth": 1,
         "showgrid": true
        }
       }
      },
      "text/html": [
       "<div>                            <div id=\"987b6be3-1ed8-45ea-8c0c-3cf2b99b0862\" class=\"plotly-graph-div\" style=\"height:500px; width:500px;\"></div>            <script type=\"text/javascript\">                require([\"plotly\"], function(Plotly) {                    window.PLOTLYENV=window.PLOTLYENV || {};                                    if (document.getElementById(\"987b6be3-1ed8-45ea-8c0c-3cf2b99b0862\")) {                    Plotly.newPlot(                        \"987b6be3-1ed8-45ea-8c0c-3cf2b99b0862\",                        [{\"hovertemplate\":\"x: %{x:.3f}\\u003cbr\\u003ey: %{y:.3f}\\u003cbr\\u003ez: %{z:.3f}\\u003cextra\\u003eBead\\u003c\\u002fextra\\u003e\",\"marker\":{\"color\":\"blue\",\"opacity\":0.8,\"size\":6},\"mode\":\"markers\",\"name\":\"Beads\",\"x\":[-0.0424281,-0.00448356,-0.00816679,0.0442994,0.0681676,0.0776501,0.0385108,-0.0347384],\"y\":[-0.029667,-0.0348427,-0.0816865,-0.0190441,-0.0114225,-0.0372539,-0.0309038,-0.0217576],\"z\":[-0.0193872,-0.00796919,-0.0164093,-0.000266348,-0.0254662,0.00313794,-0.00363388,0.0181237],\"type\":\"scatter3d\"},{\"hoverinfo\":\"skip\",\"line\":{\"color\":\"rgba(0, 0, 1, 0.3)\",\"width\":2},\"mode\":\"lines\",\"showlegend\":false,\"x\":[-0.0424281,-0.00448356],\"y\":[-0.029667,-0.0348427],\"z\":[-0.0193872,-0.00796919],\"type\":\"scatter3d\"},{\"hoverinfo\":\"skip\",\"line\":{\"color\":\"rgba(0, 0, 1, 0.3)\",\"width\":2},\"mode\":\"lines\",\"showlegend\":false,\"x\":[-0.00448356,-0.00816679],\"y\":[-0.0348427,-0.0816865],\"z\":[-0.00796919,-0.0164093],\"type\":\"scatter3d\"},{\"hoverinfo\":\"skip\",\"line\":{\"color\":\"rgba(0, 0, 1, 0.3)\",\"width\":2},\"mode\":\"lines\",\"showlegend\":false,\"x\":[-0.00816679,0.0442994],\"y\":[-0.0816865,-0.0190441],\"z\":[-0.0164093,-0.000266348],\"type\":\"scatter3d\"},{\"hoverinfo\":\"skip\",\"line\":{\"color\":\"rgba(0, 0, 1, 0.3)\",\"width\":2},\"mode\":\"lines\",\"showlegend\":false,\"x\":[0.0442994,0.0681676],\"y\":[-0.0190441,-0.0114225],\"z\":[-0.000266348,-0.0254662],\"type\":\"scatter3d\"},{\"hoverinfo\":\"skip\",\"line\":{\"color\":\"rgba(0, 0, 1, 0.3)\",\"width\":2},\"mode\":\"lines\",\"showlegend\":false,\"x\":[0.0681676,0.0776501],\"y\":[-0.0114225,-0.0372539],\"z\":[-0.0254662,0.00313794],\"type\":\"scatter3d\"},{\"hoverinfo\":\"skip\",\"line\":{\"color\":\"rgba(0, 0, 1, 0.3)\",\"width\":2},\"mode\":\"lines\",\"showlegend\":false,\"x\":[0.0776501,0.0385108],\"y\":[-0.0372539,-0.0309038],\"z\":[0.00313794,-0.00363388],\"type\":\"scatter3d\"},{\"hoverinfo\":\"skip\",\"line\":{\"color\":\"rgba(0, 0, 1, 0.3)\",\"width\":2},\"mode\":\"lines\",\"showlegend\":false,\"x\":[0.0385108,-0.0347384],\"y\":[-0.0309038,-0.0217576],\"z\":[-0.00363388,0.0181237],\"type\":\"scatter3d\"},{\"hoverinfo\":\"skip\",\"line\":{\"color\":\"rgba(0, 0, 1, 0.3)\",\"width\":2},\"mode\":\"lines\",\"showlegend\":false,\"x\":[-0.0347384,-0.0424281],\"y\":[-0.0217576,-0.029667],\"z\":[0.0181237,-0.0193872],\"type\":\"scatter3d\"},{\"hovertemplate\":\"x: %{x:.3f}\\u003cbr\\u003ey: %{y:.3f}\\u003cbr\\u003ez: %{z:.3f}\\u003cextra\\u003eCentroid\\u003c\\u002fextra\\u003e\",\"marker\":{\"color\":\"red\",\"size\":10,\"symbol\":\"diamond\"},\"mode\":\"markers\",\"name\":\"Centroid\",\"x\":[0.01735138125],\"y\":[-0.033322262500000005],\"z\":[-0.006483809750000001],\"type\":\"scatter3d\"}],                        {\"template\":{\"data\":{\"histogram2dcontour\":[{\"type\":\"histogram2dcontour\",\"colorbar\":{\"outlinewidth\":0,\"ticks\":\"\"},\"colorscale\":[[0.0,\"#0d0887\"],[0.1111111111111111,\"#46039f\"],[0.2222222222222222,\"#7201a8\"],[0.3333333333333333,\"#9c179e\"],[0.4444444444444444,\"#bd3786\"],[0.5555555555555556,\"#d8576b\"],[0.6666666666666666,\"#ed7953\"],[0.7777777777777778,\"#fb9f3a\"],[0.8888888888888888,\"#fdca26\"],[1.0,\"#f0f921\"]]}],\"choropleth\":[{\"type\":\"choropleth\",\"colorbar\":{\"outlinewidth\":0,\"ticks\":\"\"}}],\"histogram2d\":[{\"type\":\"histogram2d\",\"colorbar\":{\"outlinewidth\":0,\"ticks\":\"\"},\"colorscale\":[[0.0,\"#0d0887\"],[0.1111111111111111,\"#46039f\"],[0.2222222222222222,\"#7201a8\"],[0.3333333333333333,\"#9c179e\"],[0.4444444444444444,\"#bd3786\"],[0.5555555555555556,\"#d8576b\"],[0.6666666666666666,\"#ed7953\"],[0.7777777777777778,\"#fb9f3a\"],[0.8888888888888888,\"#fdca26\"],[1.0,\"#f0f921\"]]}],\"heatmap\":[{\"type\":\"heatmap\",\"colorbar\":{\"outlinewidth\":0,\"ticks\":\"\"},\"colorscale\":[[0.0,\"#0d0887\"],[0.1111111111111111,\"#46039f\"],[0.2222222222222222,\"#7201a8\"],[0.3333333333333333,\"#9c179e\"],[0.4444444444444444,\"#bd3786\"],[0.5555555555555556,\"#d8576b\"],[0.6666666666666666,\"#ed7953\"],[0.7777777777777778,\"#fb9f3a\"],[0.8888888888888888,\"#fdca26\"],[1.0,\"#f0f921\"]]}],\"heatmapgl\":[{\"type\":\"heatmapgl\",\"colorbar\":{\"outlinewidth\":0,\"ticks\":\"\"},\"colorscale\":[[0.0,\"#0d0887\"],[0.1111111111111111,\"#46039f\"],[0.2222222222222222,\"#7201a8\"],[0.3333333333333333,\"#9c179e\"],[0.4444444444444444,\"#bd3786\"],[0.5555555555555556,\"#d8576b\"],[0.6666666666666666,\"#ed7953\"],[0.7777777777777778,\"#fb9f3a\"],[0.8888888888888888,\"#fdca26\"],[1.0,\"#f0f921\"]]}],\"contourcarpet\":[{\"type\":\"contourcarpet\",\"colorbar\":{\"outlinewidth\":0,\"ticks\":\"\"}}],\"contour\":[{\"type\":\"contour\",\"colorbar\":{\"outlinewidth\":0,\"ticks\":\"\"},\"colorscale\":[[0.0,\"#0d0887\"],[0.1111111111111111,\"#46039f\"],[0.2222222222222222,\"#7201a8\"],[0.3333333333333333,\"#9c179e\"],[0.4444444444444444,\"#bd3786\"],[0.5555555555555556,\"#d8576b\"],[0.6666666666666666,\"#ed7953\"],[0.7777777777777778,\"#fb9f3a\"],[0.8888888888888888,\"#fdca26\"],[1.0,\"#f0f921\"]]}],\"surface\":[{\"type\":\"surface\",\"colorbar\":{\"outlinewidth\":0,\"ticks\":\"\"},\"colorscale\":[[0.0,\"#0d0887\"],[0.1111111111111111,\"#46039f\"],[0.2222222222222222,\"#7201a8\"],[0.3333333333333333,\"#9c179e\"],[0.4444444444444444,\"#bd3786\"],[0.5555555555555556,\"#d8576b\"],[0.6666666666666666,\"#ed7953\"],[0.7777777777777778,\"#fb9f3a\"],[0.8888888888888888,\"#fdca26\"],[1.0,\"#f0f921\"]]}],\"mesh3d\":[{\"type\":\"mesh3d\",\"colorbar\":{\"outlinewidth\":0,\"ticks\":\"\"}}],\"scatter\":[{\"fillpattern\":{\"fillmode\":\"overlay\",\"size\":10,\"solidity\":0.2},\"type\":\"scatter\"}],\"parcoords\":[{\"type\":\"parcoords\",\"line\":{\"colorbar\":{\"outlinewidth\":0,\"ticks\":\"\"}}}],\"scatterpolargl\":[{\"type\":\"scatterpolargl\",\"marker\":{\"colorbar\":{\"outlinewidth\":0,\"ticks\":\"\"}}}],\"bar\":[{\"error_x\":{\"color\":\"#2a3f5f\"},\"error_y\":{\"color\":\"#2a3f5f\"},\"marker\":{\"line\":{\"color\":\"#E5ECF6\",\"width\":0.5},\"pattern\":{\"fillmode\":\"overlay\",\"size\":10,\"solidity\":0.2}},\"type\":\"bar\"}],\"scattergeo\":[{\"type\":\"scattergeo\",\"marker\":{\"colorbar\":{\"outlinewidth\":0,\"ticks\":\"\"}}}],\"scatterpolar\":[{\"type\":\"scatterpolar\",\"marker\":{\"colorbar\":{\"outlinewidth\":0,\"ticks\":\"\"}}}],\"histogram\":[{\"marker\":{\"pattern\":{\"fillmode\":\"overlay\",\"size\":10,\"solidity\":0.2}},\"type\":\"histogram\"}],\"scattergl\":[{\"type\":\"scattergl\",\"marker\":{\"colorbar\":{\"outlinewidth\":0,\"ticks\":\"\"}}}],\"scatter3d\":[{\"type\":\"scatter3d\",\"line\":{\"colorbar\":{\"outlinewidth\":0,\"ticks\":\"\"}},\"marker\":{\"colorbar\":{\"outlinewidth\":0,\"ticks\":\"\"}}}],\"scattermapbox\":[{\"type\":\"scattermapbox\",\"marker\":{\"colorbar\":{\"outlinewidth\":0,\"ticks\":\"\"}}}],\"scatterternary\":[{\"type\":\"scatterternary\",\"marker\":{\"colorbar\":{\"outlinewidth\":0,\"ticks\":\"\"}}}],\"scattercarpet\":[{\"type\":\"scattercarpet\",\"marker\":{\"colorbar\":{\"outlinewidth\":0,\"ticks\":\"\"}}}],\"carpet\":[{\"aaxis\":{\"endlinecolor\":\"#2a3f5f\",\"gridcolor\":\"white\",\"linecolor\":\"white\",\"minorgridcolor\":\"white\",\"startlinecolor\":\"#2a3f5f\"},\"baxis\":{\"endlinecolor\":\"#2a3f5f\",\"gridcolor\":\"white\",\"linecolor\":\"white\",\"minorgridcolor\":\"white\",\"startlinecolor\":\"#2a3f5f\"},\"type\":\"carpet\"}],\"table\":[{\"cells\":{\"fill\":{\"color\":\"#EBF0F8\"},\"line\":{\"color\":\"white\"}},\"header\":{\"fill\":{\"color\":\"#C8D4E3\"},\"line\":{\"color\":\"white\"}},\"type\":\"table\"}],\"barpolar\":[{\"marker\":{\"line\":{\"color\":\"#E5ECF6\",\"width\":0.5},\"pattern\":{\"fillmode\":\"overlay\",\"size\":10,\"solidity\":0.2}},\"type\":\"barpolar\"}],\"pie\":[{\"automargin\":true,\"type\":\"pie\"}]},\"layout\":{\"autotypenumbers\":\"strict\",\"colorway\":[\"#636efa\",\"#EF553B\",\"#00cc96\",\"#ab63fa\",\"#FFA15A\",\"#19d3f3\",\"#FF6692\",\"#B6E880\",\"#FF97FF\",\"#FECB52\"],\"font\":{\"color\":\"#2a3f5f\"},\"hovermode\":\"closest\",\"hoverlabel\":{\"align\":\"left\"},\"paper_bgcolor\":\"white\",\"plot_bgcolor\":\"#E5ECF6\",\"polar\":{\"bgcolor\":\"#E5ECF6\",\"angularaxis\":{\"gridcolor\":\"white\",\"linecolor\":\"white\",\"ticks\":\"\"},\"radialaxis\":{\"gridcolor\":\"white\",\"linecolor\":\"white\",\"ticks\":\"\"}},\"ternary\":{\"bgcolor\":\"#E5ECF6\",\"aaxis\":{\"gridcolor\":\"white\",\"linecolor\":\"white\",\"ticks\":\"\"},\"baxis\":{\"gridcolor\":\"white\",\"linecolor\":\"white\",\"ticks\":\"\"},\"caxis\":{\"gridcolor\":\"white\",\"linecolor\":\"white\",\"ticks\":\"\"}},\"coloraxis\":{\"colorbar\":{\"outlinewidth\":0,\"ticks\":\"\"}},\"colorscale\":{\"sequential\":[[0.0,\"#0d0887\"],[0.1111111111111111,\"#46039f\"],[0.2222222222222222,\"#7201a8\"],[0.3333333333333333,\"#9c179e\"],[0.4444444444444444,\"#bd3786\"],[0.5555555555555556,\"#d8576b\"],[0.6666666666666666,\"#ed7953\"],[0.7777777777777778,\"#fb9f3a\"],[0.8888888888888888,\"#fdca26\"],[1.0,\"#f0f921\"]],\"sequentialminus\":[[0.0,\"#0d0887\"],[0.1111111111111111,\"#46039f\"],[0.2222222222222222,\"#7201a8\"],[0.3333333333333333,\"#9c179e\"],[0.4444444444444444,\"#bd3786\"],[0.5555555555555556,\"#d8576b\"],[0.6666666666666666,\"#ed7953\"],[0.7777777777777778,\"#fb9f3a\"],[0.8888888888888888,\"#fdca26\"],[1.0,\"#f0f921\"]],\"diverging\":[[0,\"#8e0152\"],[0.1,\"#c51b7d\"],[0.2,\"#de77ae\"],[0.3,\"#f1b6da\"],[0.4,\"#fde0ef\"],[0.5,\"#f7f7f7\"],[0.6,\"#e6f5d0\"],[0.7,\"#b8e186\"],[0.8,\"#7fbc41\"],[0.9,\"#4d9221\"],[1,\"#276419\"]]},\"xaxis\":{\"gridcolor\":\"white\",\"linecolor\":\"white\",\"ticks\":\"\",\"title\":{\"standoff\":15},\"zerolinecolor\":\"white\",\"automargin\":true,\"zerolinewidth\":2},\"yaxis\":{\"gridcolor\":\"white\",\"linecolor\":\"white\",\"ticks\":\"\",\"title\":{\"standoff\":15},\"zerolinecolor\":\"white\",\"automargin\":true,\"zerolinewidth\":2},\"scene\":{\"xaxis\":{\"backgroundcolor\":\"#E5ECF6\",\"gridcolor\":\"white\",\"linecolor\":\"white\",\"showbackground\":true,\"ticks\":\"\",\"zerolinecolor\":\"white\",\"gridwidth\":2},\"yaxis\":{\"backgroundcolor\":\"#E5ECF6\",\"gridcolor\":\"white\",\"linecolor\":\"white\",\"showbackground\":true,\"ticks\":\"\",\"zerolinecolor\":\"white\",\"gridwidth\":2},\"zaxis\":{\"backgroundcolor\":\"#E5ECF6\",\"gridcolor\":\"white\",\"linecolor\":\"white\",\"showbackground\":true,\"ticks\":\"\",\"zerolinecolor\":\"white\",\"gridwidth\":2}},\"shapedefaults\":{\"line\":{\"color\":\"#2a3f5f\"}},\"annotationdefaults\":{\"arrowcolor\":\"#2a3f5f\",\"arrowhead\":0,\"arrowwidth\":1},\"geo\":{\"bgcolor\":\"white\",\"landcolor\":\"#E5ECF6\",\"subunitcolor\":\"white\",\"showland\":true,\"showlakes\":true,\"lakecolor\":\"white\"},\"title\":{\"x\":0.05},\"mapbox\":{\"style\":\"light\"}}},\"font\":{\"size\":12},\"margin\":{\"l\":50,\"r\":50,\"t\":50,\"b\":50},\"xaxis\":{\"showgrid\":true,\"gridwidth\":1,\"gridcolor\":\"LightGray\"},\"yaxis\":{\"showgrid\":true,\"gridwidth\":1,\"gridcolor\":\"LightGray\"},\"title\":{\"font\":{\"size\":20},\"text\":\"Oxygen Ring Polymer\\u003cbr\\u003e\\u003csup\\u003eInteractive 3D Visualization\\u003c\\u002fsup\\u003e\",\"y\":0.95,\"x\":0.5,\"xanchor\":\"center\",\"yanchor\":\"top\"},\"scene\":{\"xaxis\":{\"title\":{\"text\":\"X (\\u00c5)\"}},\"yaxis\":{\"title\":{\"text\":\"Y (\\u00c5)\"}},\"zaxis\":{\"title\":{\"text\":\"Z (\\u00c5)\"}},\"aspectmode\":\"cube\"},\"width\":500,\"height\":500,\"plot_bgcolor\":\"white\",\"hovermode\":\"closest\",\"annotations\":[{\"font\":{\"size\":12},\"showarrow\":false,\"text\":\"Drag to rotate | Scroll to zoom | Double-click to reset view\",\"x\":0.5,\"xref\":\"paper\",\"y\":-0.08,\"yref\":\"paper\"}]},                        {\"responsive\": true}                    ).then(function(){\n",
       "                            \n",
       "var gd = document.getElementById('987b6be3-1ed8-45ea-8c0c-3cf2b99b0862');\n",
       "var x = new MutationObserver(function (mutations, observer) {{\n",
       "        var display = window.getComputedStyle(gd).display;\n",
       "        if (!display || display === 'none') {{\n",
       "            console.log([gd, 'removed!']);\n",
       "            Plotly.purge(gd);\n",
       "            observer.disconnect();\n",
       "        }}\n",
       "}});\n",
       "\n",
       "// Listen for the removal of the full notebook cells\n",
       "var notebookContainer = gd.closest('#notebook-container');\n",
       "if (notebookContainer) {{\n",
       "    x.observe(notebookContainer, {childList: true});\n",
       "}}\n",
       "\n",
       "// Listen for the clearing of the current output cell\n",
       "var outputEl = gd.closest('.output');\n",
       "if (outputEl) {{\n",
       "    x.observe(outputEl, {childList: true});\n",
       "}}\n",
       "\n",
       "                        })                };                });            </script>        </div>"
      ]
     },
     "metadata": {},
     "output_type": "display_data"
    },
    {
     "data": {
      "application/vnd.plotly.v1+json": {
       "config": {
        "plotlyServerURL": "https://plot.ly"
       },
       "data": [
        {
         "hovertemplate": "x: %{x:.3f}<br>y: %{y:.3f}<br>z: %{z:.3f}<extra>Bead</extra>",
         "marker": {
          "color": "red",
          "opacity": 0.8,
          "size": 6
         },
         "mode": "markers",
         "name": "Beads",
         "type": "scatter3d",
         "x": [
          0.289284,
          0.368931,
          0.318825,
          0.516308,
          0.469452,
          0.341037,
          0.146021,
          0.390483
         ],
         "y": [
          0.310724,
          0.461886,
          0.398547,
          0.565751,
          0.400176,
          0.442605,
          0.377337,
          0.351669
         ],
         "z": [
          0.796458,
          0.700383,
          0.764036,
          0.623793,
          0.691185,
          0.786543,
          0.869648,
          0.811319
         ]
        },
        {
         "hoverinfo": "skip",
         "line": {
          "color": "rgba(1, 0, 0, 0.3)",
          "width": 2
         },
         "mode": "lines",
         "showlegend": false,
         "type": "scatter3d",
         "x": [
          0.289284,
          0.368931
         ],
         "y": [
          0.310724,
          0.461886
         ],
         "z": [
          0.796458,
          0.700383
         ]
        },
        {
         "hoverinfo": "skip",
         "line": {
          "color": "rgba(1, 0, 0, 0.3)",
          "width": 2
         },
         "mode": "lines",
         "showlegend": false,
         "type": "scatter3d",
         "x": [
          0.368931,
          0.318825
         ],
         "y": [
          0.461886,
          0.398547
         ],
         "z": [
          0.700383,
          0.764036
         ]
        },
        {
         "hoverinfo": "skip",
         "line": {
          "color": "rgba(1, 0, 0, 0.3)",
          "width": 2
         },
         "mode": "lines",
         "showlegend": false,
         "type": "scatter3d",
         "x": [
          0.318825,
          0.516308
         ],
         "y": [
          0.398547,
          0.565751
         ],
         "z": [
          0.764036,
          0.623793
         ]
        },
        {
         "hoverinfo": "skip",
         "line": {
          "color": "rgba(1, 0, 0, 0.3)",
          "width": 2
         },
         "mode": "lines",
         "showlegend": false,
         "type": "scatter3d",
         "x": [
          0.516308,
          0.469452
         ],
         "y": [
          0.565751,
          0.400176
         ],
         "z": [
          0.623793,
          0.691185
         ]
        },
        {
         "hoverinfo": "skip",
         "line": {
          "color": "rgba(1, 0, 0, 0.3)",
          "width": 2
         },
         "mode": "lines",
         "showlegend": false,
         "type": "scatter3d",
         "x": [
          0.469452,
          0.341037
         ],
         "y": [
          0.400176,
          0.442605
         ],
         "z": [
          0.691185,
          0.786543
         ]
        },
        {
         "hoverinfo": "skip",
         "line": {
          "color": "rgba(1, 0, 0, 0.3)",
          "width": 2
         },
         "mode": "lines",
         "showlegend": false,
         "type": "scatter3d",
         "x": [
          0.341037,
          0.146021
         ],
         "y": [
          0.442605,
          0.377337
         ],
         "z": [
          0.786543,
          0.869648
         ]
        },
        {
         "hoverinfo": "skip",
         "line": {
          "color": "rgba(1, 0, 0, 0.3)",
          "width": 2
         },
         "mode": "lines",
         "showlegend": false,
         "type": "scatter3d",
         "x": [
          0.146021,
          0.390483
         ],
         "y": [
          0.377337,
          0.351669
         ],
         "z": [
          0.869648,
          0.811319
         ]
        },
        {
         "hoverinfo": "skip",
         "line": {
          "color": "rgba(1, 0, 0, 0.3)",
          "width": 2
         },
         "mode": "lines",
         "showlegend": false,
         "type": "scatter3d",
         "x": [
          0.390483,
          0.289284
         ],
         "y": [
          0.351669,
          0.310724
         ],
         "z": [
          0.811319,
          0.796458
         ]
        },
        {
         "hovertemplate": "x: %{x:.3f}<br>y: %{y:.3f}<br>z: %{z:.3f}<extra>Centroid</extra>",
         "marker": {
          "color": "red",
          "size": 10,
          "symbol": "diamond"
         },
         "mode": "markers",
         "name": "Centroid",
         "type": "scatter3d",
         "x": [
          0.35504262500000006
         ],
         "y": [
          0.413586875
         ],
         "z": [
          0.755420625
         ]
        }
       ],
       "layout": {
        "annotations": [
         {
          "font": {
           "size": 12
          },
          "showarrow": false,
          "text": "Drag to rotate | Scroll to zoom | Double-click to reset view",
          "x": 0.5,
          "xref": "paper",
          "y": -0.08,
          "yref": "paper"
         }
        ],
        "font": {
         "size": 12
        },
        "height": 500,
        "hovermode": "closest",
        "margin": {
         "b": 50,
         "l": 50,
         "r": 50,
         "t": 50
        },
        "plot_bgcolor": "white",
        "scene": {
         "aspectmode": "cube",
         "xaxis": {
          "title": {
           "text": "X (Å)"
          }
         },
         "yaxis": {
          "title": {
           "text": "Y (Å)"
          }
         },
         "zaxis": {
          "title": {
           "text": "Z (Å)"
          }
         }
        },
        "template": {
         "data": {
          "bar": [
           {
            "error_x": {
             "color": "#2a3f5f"
            },
            "error_y": {
             "color": "#2a3f5f"
            },
            "marker": {
             "line": {
              "color": "#E5ECF6",
              "width": 0.5
             },
             "pattern": {
              "fillmode": "overlay",
              "size": 10,
              "solidity": 0.2
             }
            },
            "type": "bar"
           }
          ],
          "barpolar": [
           {
            "marker": {
             "line": {
              "color": "#E5ECF6",
              "width": 0.5
             },
             "pattern": {
              "fillmode": "overlay",
              "size": 10,
              "solidity": 0.2
             }
            },
            "type": "barpolar"
           }
          ],
          "carpet": [
           {
            "aaxis": {
             "endlinecolor": "#2a3f5f",
             "gridcolor": "white",
             "linecolor": "white",
             "minorgridcolor": "white",
             "startlinecolor": "#2a3f5f"
            },
            "baxis": {
             "endlinecolor": "#2a3f5f",
             "gridcolor": "white",
             "linecolor": "white",
             "minorgridcolor": "white",
             "startlinecolor": "#2a3f5f"
            },
            "type": "carpet"
           }
          ],
          "choropleth": [
           {
            "colorbar": {
             "outlinewidth": 0,
             "ticks": ""
            },
            "type": "choropleth"
           }
          ],
          "contour": [
           {
            "colorbar": {
             "outlinewidth": 0,
             "ticks": ""
            },
            "colorscale": [
             [
              0,
              "#0d0887"
             ],
             [
              0.1111111111111111,
              "#46039f"
             ],
             [
              0.2222222222222222,
              "#7201a8"
             ],
             [
              0.3333333333333333,
              "#9c179e"
             ],
             [
              0.4444444444444444,
              "#bd3786"
             ],
             [
              0.5555555555555556,
              "#d8576b"
             ],
             [
              0.6666666666666666,
              "#ed7953"
             ],
             [
              0.7777777777777778,
              "#fb9f3a"
             ],
             [
              0.8888888888888888,
              "#fdca26"
             ],
             [
              1,
              "#f0f921"
             ]
            ],
            "type": "contour"
           }
          ],
          "contourcarpet": [
           {
            "colorbar": {
             "outlinewidth": 0,
             "ticks": ""
            },
            "type": "contourcarpet"
           }
          ],
          "heatmap": [
           {
            "colorbar": {
             "outlinewidth": 0,
             "ticks": ""
            },
            "colorscale": [
             [
              0,
              "#0d0887"
             ],
             [
              0.1111111111111111,
              "#46039f"
             ],
             [
              0.2222222222222222,
              "#7201a8"
             ],
             [
              0.3333333333333333,
              "#9c179e"
             ],
             [
              0.4444444444444444,
              "#bd3786"
             ],
             [
              0.5555555555555556,
              "#d8576b"
             ],
             [
              0.6666666666666666,
              "#ed7953"
             ],
             [
              0.7777777777777778,
              "#fb9f3a"
             ],
             [
              0.8888888888888888,
              "#fdca26"
             ],
             [
              1,
              "#f0f921"
             ]
            ],
            "type": "heatmap"
           }
          ],
          "heatmapgl": [
           {
            "colorbar": {
             "outlinewidth": 0,
             "ticks": ""
            },
            "colorscale": [
             [
              0,
              "#0d0887"
             ],
             [
              0.1111111111111111,
              "#46039f"
             ],
             [
              0.2222222222222222,
              "#7201a8"
             ],
             [
              0.3333333333333333,
              "#9c179e"
             ],
             [
              0.4444444444444444,
              "#bd3786"
             ],
             [
              0.5555555555555556,
              "#d8576b"
             ],
             [
              0.6666666666666666,
              "#ed7953"
             ],
             [
              0.7777777777777778,
              "#fb9f3a"
             ],
             [
              0.8888888888888888,
              "#fdca26"
             ],
             [
              1,
              "#f0f921"
             ]
            ],
            "type": "heatmapgl"
           }
          ],
          "histogram": [
           {
            "marker": {
             "pattern": {
              "fillmode": "overlay",
              "size": 10,
              "solidity": 0.2
             }
            },
            "type": "histogram"
           }
          ],
          "histogram2d": [
           {
            "colorbar": {
             "outlinewidth": 0,
             "ticks": ""
            },
            "colorscale": [
             [
              0,
              "#0d0887"
             ],
             [
              0.1111111111111111,
              "#46039f"
             ],
             [
              0.2222222222222222,
              "#7201a8"
             ],
             [
              0.3333333333333333,
              "#9c179e"
             ],
             [
              0.4444444444444444,
              "#bd3786"
             ],
             [
              0.5555555555555556,
              "#d8576b"
             ],
             [
              0.6666666666666666,
              "#ed7953"
             ],
             [
              0.7777777777777778,
              "#fb9f3a"
             ],
             [
              0.8888888888888888,
              "#fdca26"
             ],
             [
              1,
              "#f0f921"
             ]
            ],
            "type": "histogram2d"
           }
          ],
          "histogram2dcontour": [
           {
            "colorbar": {
             "outlinewidth": 0,
             "ticks": ""
            },
            "colorscale": [
             [
              0,
              "#0d0887"
             ],
             [
              0.1111111111111111,
              "#46039f"
             ],
             [
              0.2222222222222222,
              "#7201a8"
             ],
             [
              0.3333333333333333,
              "#9c179e"
             ],
             [
              0.4444444444444444,
              "#bd3786"
             ],
             [
              0.5555555555555556,
              "#d8576b"
             ],
             [
              0.6666666666666666,
              "#ed7953"
             ],
             [
              0.7777777777777778,
              "#fb9f3a"
             ],
             [
              0.8888888888888888,
              "#fdca26"
             ],
             [
              1,
              "#f0f921"
             ]
            ],
            "type": "histogram2dcontour"
           }
          ],
          "mesh3d": [
           {
            "colorbar": {
             "outlinewidth": 0,
             "ticks": ""
            },
            "type": "mesh3d"
           }
          ],
          "parcoords": [
           {
            "line": {
             "colorbar": {
              "outlinewidth": 0,
              "ticks": ""
             }
            },
            "type": "parcoords"
           }
          ],
          "pie": [
           {
            "automargin": true,
            "type": "pie"
           }
          ],
          "scatter": [
           {
            "fillpattern": {
             "fillmode": "overlay",
             "size": 10,
             "solidity": 0.2
            },
            "type": "scatter"
           }
          ],
          "scatter3d": [
           {
            "line": {
             "colorbar": {
              "outlinewidth": 0,
              "ticks": ""
             }
            },
            "marker": {
             "colorbar": {
              "outlinewidth": 0,
              "ticks": ""
             }
            },
            "type": "scatter3d"
           }
          ],
          "scattercarpet": [
           {
            "marker": {
             "colorbar": {
              "outlinewidth": 0,
              "ticks": ""
             }
            },
            "type": "scattercarpet"
           }
          ],
          "scattergeo": [
           {
            "marker": {
             "colorbar": {
              "outlinewidth": 0,
              "ticks": ""
             }
            },
            "type": "scattergeo"
           }
          ],
          "scattergl": [
           {
            "marker": {
             "colorbar": {
              "outlinewidth": 0,
              "ticks": ""
             }
            },
            "type": "scattergl"
           }
          ],
          "scattermapbox": [
           {
            "marker": {
             "colorbar": {
              "outlinewidth": 0,
              "ticks": ""
             }
            },
            "type": "scattermapbox"
           }
          ],
          "scatterpolar": [
           {
            "marker": {
             "colorbar": {
              "outlinewidth": 0,
              "ticks": ""
             }
            },
            "type": "scatterpolar"
           }
          ],
          "scatterpolargl": [
           {
            "marker": {
             "colorbar": {
              "outlinewidth": 0,
              "ticks": ""
             }
            },
            "type": "scatterpolargl"
           }
          ],
          "scatterternary": [
           {
            "marker": {
             "colorbar": {
              "outlinewidth": 0,
              "ticks": ""
             }
            },
            "type": "scatterternary"
           }
          ],
          "surface": [
           {
            "colorbar": {
             "outlinewidth": 0,
             "ticks": ""
            },
            "colorscale": [
             [
              0,
              "#0d0887"
             ],
             [
              0.1111111111111111,
              "#46039f"
             ],
             [
              0.2222222222222222,
              "#7201a8"
             ],
             [
              0.3333333333333333,
              "#9c179e"
             ],
             [
              0.4444444444444444,
              "#bd3786"
             ],
             [
              0.5555555555555556,
              "#d8576b"
             ],
             [
              0.6666666666666666,
              "#ed7953"
             ],
             [
              0.7777777777777778,
              "#fb9f3a"
             ],
             [
              0.8888888888888888,
              "#fdca26"
             ],
             [
              1,
              "#f0f921"
             ]
            ],
            "type": "surface"
           }
          ],
          "table": [
           {
            "cells": {
             "fill": {
              "color": "#EBF0F8"
             },
             "line": {
              "color": "white"
             }
            },
            "header": {
             "fill": {
              "color": "#C8D4E3"
             },
             "line": {
              "color": "white"
             }
            },
            "type": "table"
           }
          ]
         },
         "layout": {
          "annotationdefaults": {
           "arrowcolor": "#2a3f5f",
           "arrowhead": 0,
           "arrowwidth": 1
          },
          "autotypenumbers": "strict",
          "coloraxis": {
           "colorbar": {
            "outlinewidth": 0,
            "ticks": ""
           }
          },
          "colorscale": {
           "diverging": [
            [
             0,
             "#8e0152"
            ],
            [
             0.1,
             "#c51b7d"
            ],
            [
             0.2,
             "#de77ae"
            ],
            [
             0.3,
             "#f1b6da"
            ],
            [
             0.4,
             "#fde0ef"
            ],
            [
             0.5,
             "#f7f7f7"
            ],
            [
             0.6,
             "#e6f5d0"
            ],
            [
             0.7,
             "#b8e186"
            ],
            [
             0.8,
             "#7fbc41"
            ],
            [
             0.9,
             "#4d9221"
            ],
            [
             1,
             "#276419"
            ]
           ],
           "sequential": [
            [
             0,
             "#0d0887"
            ],
            [
             0.1111111111111111,
             "#46039f"
            ],
            [
             0.2222222222222222,
             "#7201a8"
            ],
            [
             0.3333333333333333,
             "#9c179e"
            ],
            [
             0.4444444444444444,
             "#bd3786"
            ],
            [
             0.5555555555555556,
             "#d8576b"
            ],
            [
             0.6666666666666666,
             "#ed7953"
            ],
            [
             0.7777777777777778,
             "#fb9f3a"
            ],
            [
             0.8888888888888888,
             "#fdca26"
            ],
            [
             1,
             "#f0f921"
            ]
           ],
           "sequentialminus": [
            [
             0,
             "#0d0887"
            ],
            [
             0.1111111111111111,
             "#46039f"
            ],
            [
             0.2222222222222222,
             "#7201a8"
            ],
            [
             0.3333333333333333,
             "#9c179e"
            ],
            [
             0.4444444444444444,
             "#bd3786"
            ],
            [
             0.5555555555555556,
             "#d8576b"
            ],
            [
             0.6666666666666666,
             "#ed7953"
            ],
            [
             0.7777777777777778,
             "#fb9f3a"
            ],
            [
             0.8888888888888888,
             "#fdca26"
            ],
            [
             1,
             "#f0f921"
            ]
           ]
          },
          "colorway": [
           "#636efa",
           "#EF553B",
           "#00cc96",
           "#ab63fa",
           "#FFA15A",
           "#19d3f3",
           "#FF6692",
           "#B6E880",
           "#FF97FF",
           "#FECB52"
          ],
          "font": {
           "color": "#2a3f5f"
          },
          "geo": {
           "bgcolor": "white",
           "lakecolor": "white",
           "landcolor": "#E5ECF6",
           "showlakes": true,
           "showland": true,
           "subunitcolor": "white"
          },
          "hoverlabel": {
           "align": "left"
          },
          "hovermode": "closest",
          "mapbox": {
           "style": "light"
          },
          "paper_bgcolor": "white",
          "plot_bgcolor": "#E5ECF6",
          "polar": {
           "angularaxis": {
            "gridcolor": "white",
            "linecolor": "white",
            "ticks": ""
           },
           "bgcolor": "#E5ECF6",
           "radialaxis": {
            "gridcolor": "white",
            "linecolor": "white",
            "ticks": ""
           }
          },
          "scene": {
           "xaxis": {
            "backgroundcolor": "#E5ECF6",
            "gridcolor": "white",
            "gridwidth": 2,
            "linecolor": "white",
            "showbackground": true,
            "ticks": "",
            "zerolinecolor": "white"
           },
           "yaxis": {
            "backgroundcolor": "#E5ECF6",
            "gridcolor": "white",
            "gridwidth": 2,
            "linecolor": "white",
            "showbackground": true,
            "ticks": "",
            "zerolinecolor": "white"
           },
           "zaxis": {
            "backgroundcolor": "#E5ECF6",
            "gridcolor": "white",
            "gridwidth": 2,
            "linecolor": "white",
            "showbackground": true,
            "ticks": "",
            "zerolinecolor": "white"
           }
          },
          "shapedefaults": {
           "line": {
            "color": "#2a3f5f"
           }
          },
          "ternary": {
           "aaxis": {
            "gridcolor": "white",
            "linecolor": "white",
            "ticks": ""
           },
           "baxis": {
            "gridcolor": "white",
            "linecolor": "white",
            "ticks": ""
           },
           "bgcolor": "#E5ECF6",
           "caxis": {
            "gridcolor": "white",
            "linecolor": "white",
            "ticks": ""
           }
          },
          "title": {
           "x": 0.05
          },
          "xaxis": {
           "automargin": true,
           "gridcolor": "white",
           "linecolor": "white",
           "ticks": "",
           "title": {
            "standoff": 15
           },
           "zerolinecolor": "white",
           "zerolinewidth": 2
          },
          "yaxis": {
           "automargin": true,
           "gridcolor": "white",
           "linecolor": "white",
           "ticks": "",
           "title": {
            "standoff": 15
           },
           "zerolinecolor": "white",
           "zerolinewidth": 2
          }
         }
        },
        "title": {
         "font": {
          "size": 20
         },
         "text": "Hydrogen Ring Polymer<br><sup>Interactive 3D Visualization</sup>",
         "x": 0.5,
         "xanchor": "center",
         "y": 0.95,
         "yanchor": "top"
        },
        "width": 500,
        "xaxis": {
         "gridcolor": "LightGray",
         "gridwidth": 1,
         "showgrid": true
        },
        "yaxis": {
         "gridcolor": "LightGray",
         "gridwidth": 1,
         "showgrid": true
        }
       }
      },
      "text/html": [
       "<div>                            <div id=\"97689594-8124-496e-a439-48a012dda9ab\" class=\"plotly-graph-div\" style=\"height:500px; width:500px;\"></div>            <script type=\"text/javascript\">                require([\"plotly\"], function(Plotly) {                    window.PLOTLYENV=window.PLOTLYENV || {};                                    if (document.getElementById(\"97689594-8124-496e-a439-48a012dda9ab\")) {                    Plotly.newPlot(                        \"97689594-8124-496e-a439-48a012dda9ab\",                        [{\"hovertemplate\":\"x: %{x:.3f}\\u003cbr\\u003ey: %{y:.3f}\\u003cbr\\u003ez: %{z:.3f}\\u003cextra\\u003eBead\\u003c\\u002fextra\\u003e\",\"marker\":{\"color\":\"red\",\"opacity\":0.8,\"size\":6},\"mode\":\"markers\",\"name\":\"Beads\",\"x\":[0.289284,0.368931,0.318825,0.516308,0.469452,0.341037,0.146021,0.390483],\"y\":[0.310724,0.461886,0.398547,0.565751,0.400176,0.442605,0.377337,0.351669],\"z\":[0.796458,0.700383,0.764036,0.623793,0.691185,0.786543,0.869648,0.811319],\"type\":\"scatter3d\"},{\"hoverinfo\":\"skip\",\"line\":{\"color\":\"rgba(1, 0, 0, 0.3)\",\"width\":2},\"mode\":\"lines\",\"showlegend\":false,\"x\":[0.289284,0.368931],\"y\":[0.310724,0.461886],\"z\":[0.796458,0.700383],\"type\":\"scatter3d\"},{\"hoverinfo\":\"skip\",\"line\":{\"color\":\"rgba(1, 0, 0, 0.3)\",\"width\":2},\"mode\":\"lines\",\"showlegend\":false,\"x\":[0.368931,0.318825],\"y\":[0.461886,0.398547],\"z\":[0.700383,0.764036],\"type\":\"scatter3d\"},{\"hoverinfo\":\"skip\",\"line\":{\"color\":\"rgba(1, 0, 0, 0.3)\",\"width\":2},\"mode\":\"lines\",\"showlegend\":false,\"x\":[0.318825,0.516308],\"y\":[0.398547,0.565751],\"z\":[0.764036,0.623793],\"type\":\"scatter3d\"},{\"hoverinfo\":\"skip\",\"line\":{\"color\":\"rgba(1, 0, 0, 0.3)\",\"width\":2},\"mode\":\"lines\",\"showlegend\":false,\"x\":[0.516308,0.469452],\"y\":[0.565751,0.400176],\"z\":[0.623793,0.691185],\"type\":\"scatter3d\"},{\"hoverinfo\":\"skip\",\"line\":{\"color\":\"rgba(1, 0, 0, 0.3)\",\"width\":2},\"mode\":\"lines\",\"showlegend\":false,\"x\":[0.469452,0.341037],\"y\":[0.400176,0.442605],\"z\":[0.691185,0.786543],\"type\":\"scatter3d\"},{\"hoverinfo\":\"skip\",\"line\":{\"color\":\"rgba(1, 0, 0, 0.3)\",\"width\":2},\"mode\":\"lines\",\"showlegend\":false,\"x\":[0.341037,0.146021],\"y\":[0.442605,0.377337],\"z\":[0.786543,0.869648],\"type\":\"scatter3d\"},{\"hoverinfo\":\"skip\",\"line\":{\"color\":\"rgba(1, 0, 0, 0.3)\",\"width\":2},\"mode\":\"lines\",\"showlegend\":false,\"x\":[0.146021,0.390483],\"y\":[0.377337,0.351669],\"z\":[0.869648,0.811319],\"type\":\"scatter3d\"},{\"hoverinfo\":\"skip\",\"line\":{\"color\":\"rgba(1, 0, 0, 0.3)\",\"width\":2},\"mode\":\"lines\",\"showlegend\":false,\"x\":[0.390483,0.289284],\"y\":[0.351669,0.310724],\"z\":[0.811319,0.796458],\"type\":\"scatter3d\"},{\"hovertemplate\":\"x: %{x:.3f}\\u003cbr\\u003ey: %{y:.3f}\\u003cbr\\u003ez: %{z:.3f}\\u003cextra\\u003eCentroid\\u003c\\u002fextra\\u003e\",\"marker\":{\"color\":\"red\",\"size\":10,\"symbol\":\"diamond\"},\"mode\":\"markers\",\"name\":\"Centroid\",\"x\":[0.35504262500000006],\"y\":[0.413586875],\"z\":[0.755420625],\"type\":\"scatter3d\"}],                        {\"template\":{\"data\":{\"histogram2dcontour\":[{\"type\":\"histogram2dcontour\",\"colorbar\":{\"outlinewidth\":0,\"ticks\":\"\"},\"colorscale\":[[0.0,\"#0d0887\"],[0.1111111111111111,\"#46039f\"],[0.2222222222222222,\"#7201a8\"],[0.3333333333333333,\"#9c179e\"],[0.4444444444444444,\"#bd3786\"],[0.5555555555555556,\"#d8576b\"],[0.6666666666666666,\"#ed7953\"],[0.7777777777777778,\"#fb9f3a\"],[0.8888888888888888,\"#fdca26\"],[1.0,\"#f0f921\"]]}],\"choropleth\":[{\"type\":\"choropleth\",\"colorbar\":{\"outlinewidth\":0,\"ticks\":\"\"}}],\"histogram2d\":[{\"type\":\"histogram2d\",\"colorbar\":{\"outlinewidth\":0,\"ticks\":\"\"},\"colorscale\":[[0.0,\"#0d0887\"],[0.1111111111111111,\"#46039f\"],[0.2222222222222222,\"#7201a8\"],[0.3333333333333333,\"#9c179e\"],[0.4444444444444444,\"#bd3786\"],[0.5555555555555556,\"#d8576b\"],[0.6666666666666666,\"#ed7953\"],[0.7777777777777778,\"#fb9f3a\"],[0.8888888888888888,\"#fdca26\"],[1.0,\"#f0f921\"]]}],\"heatmap\":[{\"type\":\"heatmap\",\"colorbar\":{\"outlinewidth\":0,\"ticks\":\"\"},\"colorscale\":[[0.0,\"#0d0887\"],[0.1111111111111111,\"#46039f\"],[0.2222222222222222,\"#7201a8\"],[0.3333333333333333,\"#9c179e\"],[0.4444444444444444,\"#bd3786\"],[0.5555555555555556,\"#d8576b\"],[0.6666666666666666,\"#ed7953\"],[0.7777777777777778,\"#fb9f3a\"],[0.8888888888888888,\"#fdca26\"],[1.0,\"#f0f921\"]]}],\"heatmapgl\":[{\"type\":\"heatmapgl\",\"colorbar\":{\"outlinewidth\":0,\"ticks\":\"\"},\"colorscale\":[[0.0,\"#0d0887\"],[0.1111111111111111,\"#46039f\"],[0.2222222222222222,\"#7201a8\"],[0.3333333333333333,\"#9c179e\"],[0.4444444444444444,\"#bd3786\"],[0.5555555555555556,\"#d8576b\"],[0.6666666666666666,\"#ed7953\"],[0.7777777777777778,\"#fb9f3a\"],[0.8888888888888888,\"#fdca26\"],[1.0,\"#f0f921\"]]}],\"contourcarpet\":[{\"type\":\"contourcarpet\",\"colorbar\":{\"outlinewidth\":0,\"ticks\":\"\"}}],\"contour\":[{\"type\":\"contour\",\"colorbar\":{\"outlinewidth\":0,\"ticks\":\"\"},\"colorscale\":[[0.0,\"#0d0887\"],[0.1111111111111111,\"#46039f\"],[0.2222222222222222,\"#7201a8\"],[0.3333333333333333,\"#9c179e\"],[0.4444444444444444,\"#bd3786\"],[0.5555555555555556,\"#d8576b\"],[0.6666666666666666,\"#ed7953\"],[0.7777777777777778,\"#fb9f3a\"],[0.8888888888888888,\"#fdca26\"],[1.0,\"#f0f921\"]]}],\"surface\":[{\"type\":\"surface\",\"colorbar\":{\"outlinewidth\":0,\"ticks\":\"\"},\"colorscale\":[[0.0,\"#0d0887\"],[0.1111111111111111,\"#46039f\"],[0.2222222222222222,\"#7201a8\"],[0.3333333333333333,\"#9c179e\"],[0.4444444444444444,\"#bd3786\"],[0.5555555555555556,\"#d8576b\"],[0.6666666666666666,\"#ed7953\"],[0.7777777777777778,\"#fb9f3a\"],[0.8888888888888888,\"#fdca26\"],[1.0,\"#f0f921\"]]}],\"mesh3d\":[{\"type\":\"mesh3d\",\"colorbar\":{\"outlinewidth\":0,\"ticks\":\"\"}}],\"scatter\":[{\"fillpattern\":{\"fillmode\":\"overlay\",\"size\":10,\"solidity\":0.2},\"type\":\"scatter\"}],\"parcoords\":[{\"type\":\"parcoords\",\"line\":{\"colorbar\":{\"outlinewidth\":0,\"ticks\":\"\"}}}],\"scatterpolargl\":[{\"type\":\"scatterpolargl\",\"marker\":{\"colorbar\":{\"outlinewidth\":0,\"ticks\":\"\"}}}],\"bar\":[{\"error_x\":{\"color\":\"#2a3f5f\"},\"error_y\":{\"color\":\"#2a3f5f\"},\"marker\":{\"line\":{\"color\":\"#E5ECF6\",\"width\":0.5},\"pattern\":{\"fillmode\":\"overlay\",\"size\":10,\"solidity\":0.2}},\"type\":\"bar\"}],\"scattergeo\":[{\"type\":\"scattergeo\",\"marker\":{\"colorbar\":{\"outlinewidth\":0,\"ticks\":\"\"}}}],\"scatterpolar\":[{\"type\":\"scatterpolar\",\"marker\":{\"colorbar\":{\"outlinewidth\":0,\"ticks\":\"\"}}}],\"histogram\":[{\"marker\":{\"pattern\":{\"fillmode\":\"overlay\",\"size\":10,\"solidity\":0.2}},\"type\":\"histogram\"}],\"scattergl\":[{\"type\":\"scattergl\",\"marker\":{\"colorbar\":{\"outlinewidth\":0,\"ticks\":\"\"}}}],\"scatter3d\":[{\"type\":\"scatter3d\",\"line\":{\"colorbar\":{\"outlinewidth\":0,\"ticks\":\"\"}},\"marker\":{\"colorbar\":{\"outlinewidth\":0,\"ticks\":\"\"}}}],\"scattermapbox\":[{\"type\":\"scattermapbox\",\"marker\":{\"colorbar\":{\"outlinewidth\":0,\"ticks\":\"\"}}}],\"scatterternary\":[{\"type\":\"scatterternary\",\"marker\":{\"colorbar\":{\"outlinewidth\":0,\"ticks\":\"\"}}}],\"scattercarpet\":[{\"type\":\"scattercarpet\",\"marker\":{\"colorbar\":{\"outlinewidth\":0,\"ticks\":\"\"}}}],\"carpet\":[{\"aaxis\":{\"endlinecolor\":\"#2a3f5f\",\"gridcolor\":\"white\",\"linecolor\":\"white\",\"minorgridcolor\":\"white\",\"startlinecolor\":\"#2a3f5f\"},\"baxis\":{\"endlinecolor\":\"#2a3f5f\",\"gridcolor\":\"white\",\"linecolor\":\"white\",\"minorgridcolor\":\"white\",\"startlinecolor\":\"#2a3f5f\"},\"type\":\"carpet\"}],\"table\":[{\"cells\":{\"fill\":{\"color\":\"#EBF0F8\"},\"line\":{\"color\":\"white\"}},\"header\":{\"fill\":{\"color\":\"#C8D4E3\"},\"line\":{\"color\":\"white\"}},\"type\":\"table\"}],\"barpolar\":[{\"marker\":{\"line\":{\"color\":\"#E5ECF6\",\"width\":0.5},\"pattern\":{\"fillmode\":\"overlay\",\"size\":10,\"solidity\":0.2}},\"type\":\"barpolar\"}],\"pie\":[{\"automargin\":true,\"type\":\"pie\"}]},\"layout\":{\"autotypenumbers\":\"strict\",\"colorway\":[\"#636efa\",\"#EF553B\",\"#00cc96\",\"#ab63fa\",\"#FFA15A\",\"#19d3f3\",\"#FF6692\",\"#B6E880\",\"#FF97FF\",\"#FECB52\"],\"font\":{\"color\":\"#2a3f5f\"},\"hovermode\":\"closest\",\"hoverlabel\":{\"align\":\"left\"},\"paper_bgcolor\":\"white\",\"plot_bgcolor\":\"#E5ECF6\",\"polar\":{\"bgcolor\":\"#E5ECF6\",\"angularaxis\":{\"gridcolor\":\"white\",\"linecolor\":\"white\",\"ticks\":\"\"},\"radialaxis\":{\"gridcolor\":\"white\",\"linecolor\":\"white\",\"ticks\":\"\"}},\"ternary\":{\"bgcolor\":\"#E5ECF6\",\"aaxis\":{\"gridcolor\":\"white\",\"linecolor\":\"white\",\"ticks\":\"\"},\"baxis\":{\"gridcolor\":\"white\",\"linecolor\":\"white\",\"ticks\":\"\"},\"caxis\":{\"gridcolor\":\"white\",\"linecolor\":\"white\",\"ticks\":\"\"}},\"coloraxis\":{\"colorbar\":{\"outlinewidth\":0,\"ticks\":\"\"}},\"colorscale\":{\"sequential\":[[0.0,\"#0d0887\"],[0.1111111111111111,\"#46039f\"],[0.2222222222222222,\"#7201a8\"],[0.3333333333333333,\"#9c179e\"],[0.4444444444444444,\"#bd3786\"],[0.5555555555555556,\"#d8576b\"],[0.6666666666666666,\"#ed7953\"],[0.7777777777777778,\"#fb9f3a\"],[0.8888888888888888,\"#fdca26\"],[1.0,\"#f0f921\"]],\"sequentialminus\":[[0.0,\"#0d0887\"],[0.1111111111111111,\"#46039f\"],[0.2222222222222222,\"#7201a8\"],[0.3333333333333333,\"#9c179e\"],[0.4444444444444444,\"#bd3786\"],[0.5555555555555556,\"#d8576b\"],[0.6666666666666666,\"#ed7953\"],[0.7777777777777778,\"#fb9f3a\"],[0.8888888888888888,\"#fdca26\"],[1.0,\"#f0f921\"]],\"diverging\":[[0,\"#8e0152\"],[0.1,\"#c51b7d\"],[0.2,\"#de77ae\"],[0.3,\"#f1b6da\"],[0.4,\"#fde0ef\"],[0.5,\"#f7f7f7\"],[0.6,\"#e6f5d0\"],[0.7,\"#b8e186\"],[0.8,\"#7fbc41\"],[0.9,\"#4d9221\"],[1,\"#276419\"]]},\"xaxis\":{\"gridcolor\":\"white\",\"linecolor\":\"white\",\"ticks\":\"\",\"title\":{\"standoff\":15},\"zerolinecolor\":\"white\",\"automargin\":true,\"zerolinewidth\":2},\"yaxis\":{\"gridcolor\":\"white\",\"linecolor\":\"white\",\"ticks\":\"\",\"title\":{\"standoff\":15},\"zerolinecolor\":\"white\",\"automargin\":true,\"zerolinewidth\":2},\"scene\":{\"xaxis\":{\"backgroundcolor\":\"#E5ECF6\",\"gridcolor\":\"white\",\"linecolor\":\"white\",\"showbackground\":true,\"ticks\":\"\",\"zerolinecolor\":\"white\",\"gridwidth\":2},\"yaxis\":{\"backgroundcolor\":\"#E5ECF6\",\"gridcolor\":\"white\",\"linecolor\":\"white\",\"showbackground\":true,\"ticks\":\"\",\"zerolinecolor\":\"white\",\"gridwidth\":2},\"zaxis\":{\"backgroundcolor\":\"#E5ECF6\",\"gridcolor\":\"white\",\"linecolor\":\"white\",\"showbackground\":true,\"ticks\":\"\",\"zerolinecolor\":\"white\",\"gridwidth\":2}},\"shapedefaults\":{\"line\":{\"color\":\"#2a3f5f\"}},\"annotationdefaults\":{\"arrowcolor\":\"#2a3f5f\",\"arrowhead\":0,\"arrowwidth\":1},\"geo\":{\"bgcolor\":\"white\",\"landcolor\":\"#E5ECF6\",\"subunitcolor\":\"white\",\"showland\":true,\"showlakes\":true,\"lakecolor\":\"white\"},\"title\":{\"x\":0.05},\"mapbox\":{\"style\":\"light\"}}},\"font\":{\"size\":12},\"margin\":{\"l\":50,\"r\":50,\"t\":50,\"b\":50},\"xaxis\":{\"showgrid\":true,\"gridwidth\":1,\"gridcolor\":\"LightGray\"},\"yaxis\":{\"showgrid\":true,\"gridwidth\":1,\"gridcolor\":\"LightGray\"},\"title\":{\"font\":{\"size\":20},\"text\":\"Hydrogen Ring Polymer\\u003cbr\\u003e\\u003csup\\u003eInteractive 3D Visualization\\u003c\\u002fsup\\u003e\",\"y\":0.95,\"x\":0.5,\"xanchor\":\"center\",\"yanchor\":\"top\"},\"scene\":{\"xaxis\":{\"title\":{\"text\":\"X (\\u00c5)\"}},\"yaxis\":{\"title\":{\"text\":\"Y (\\u00c5)\"}},\"zaxis\":{\"title\":{\"text\":\"Z (\\u00c5)\"}},\"aspectmode\":\"cube\"},\"width\":500,\"height\":500,\"plot_bgcolor\":\"white\",\"hovermode\":\"closest\",\"annotations\":[{\"font\":{\"size\":12},\"showarrow\":false,\"text\":\"Drag to rotate | Scroll to zoom | Double-click to reset view\",\"x\":0.5,\"xref\":\"paper\",\"y\":-0.08,\"yref\":\"paper\"}]},                        {\"responsive\": true}                    ).then(function(){\n",
       "                            \n",
       "var gd = document.getElementById('97689594-8124-496e-a439-48a012dda9ab');\n",
       "var x = new MutationObserver(function (mutations, observer) {{\n",
       "        var display = window.getComputedStyle(gd).display;\n",
       "        if (!display || display === 'none') {{\n",
       "            console.log([gd, 'removed!']);\n",
       "            Plotly.purge(gd);\n",
       "            observer.disconnect();\n",
       "        }}\n",
       "}});\n",
       "\n",
       "// Listen for the removal of the full notebook cells\n",
       "var notebookContainer = gd.closest('#notebook-container');\n",
       "if (notebookContainer) {{\n",
       "    x.observe(notebookContainer, {childList: true});\n",
       "}}\n",
       "\n",
       "// Listen for the clearing of the current output cell\n",
       "var outputEl = gd.closest('.output');\n",
       "if (outputEl) {{\n",
       "    x.observe(outputEl, {childList: true});\n",
       "}}\n",
       "\n",
       "                        })                };                });            </script>        </div>"
      ]
     },
     "metadata": {},
     "output_type": "display_data"
    },
    {
     "name": "stdout",
     "output_type": "stream",
     "text": [
      "\n",
      "Oxygen Ring Polymer Properties:\n",
      "Beads:            8\n",
      "Maximum spread:   0.061 Å\n",
      "Centroid (x,y,z): (0.017, -0.033, -0.006) Å\n",
      "\n",
      "Hydrogen Ring Polymer Properties:\n",
      "Beads:            8\n",
      "Maximum spread:   0.258 Å\n",
      "Centroid (x,y,z): (0.355, 0.414, 0.755) Å\n"
     ]
    }
   ],
   "source": [
    "def plot_ring_polymer(positions, atom_idx, title, color='blue'):\n",
    "    \"\"\"Create interactive 3D visualization of ring polymer\"\"\"\n",
    "    # Get atomic positions and centroid\n",
    "    x = positions[:, atom_idx, 0]\n",
    "    y = positions[:, atom_idx, 1]\n",
    "    z = positions[:, atom_idx, 2]\n",
    "    centroid = np.mean(positions[:, atom_idx], axis=0)\n",
    "    \n",
    "    # Create figure\n",
    "    fig = go.Figure()\n",
    "    \n",
    "    # Plot beads\n",
    "    fig.add_trace(go.Scatter3d(\n",
    "        x=x, y=y, z=z,\n",
    "        mode='markers',\n",
    "        marker=dict(size=6, color=color, opacity=0.8),\n",
    "        name='Beads',\n",
    "        hovertemplate='x: %{x:.3f}<br>y: %{y:.3f}<br>z: %{z:.3f}<extra>Bead</extra>'\n",
    "    ))\n",
    "    \n",
    "    # Add connections\n",
    "    transparent_color = f'rgba{tuple(int(x) for x in plt.cm.colors.to_rgb(color)) + (0.3,)}'\n",
    "    for i in range(len(x)):\n",
    "        j = (i + 1) % len(x)\n",
    "        fig.add_trace(go.Scatter3d(\n",
    "            x=[x[i], x[j]], y=[y[i], y[j]], z=[z[i], z[j]],\n",
    "            mode='lines',\n",
    "            line=dict(color=transparent_color, width=2),\n",
    "            showlegend=False,\n",
    "            hoverinfo='skip'\n",
    "        ))\n",
    "    \n",
    "    # Add centroid\n",
    "    fig.add_trace(go.Scatter3d(\n",
    "        x=[centroid[0]], y=[centroid[1]], z=[centroid[2]],\n",
    "        mode='markers',\n",
    "        marker=dict(size=10, color='red', symbol='diamond'),\n",
    "        name='Centroid',\n",
    "        hovertemplate='x: %{x:.3f}<br>y: %{y:.3f}<br>z: %{z:.3f}<extra>Centroid</extra>'\n",
    "    ))\n",
    "    \n",
    "    # Configure layout\n",
    "    fig.update_layout(\n",
    "        plotly_layout_3d,\n",
    "        title={\n",
    "        'text': f'{title}<br><sup>Interactive 3D Visualization</sup>',\n",
    "        'font': {'size': 20},\n",
    "        'y': 0.95,\n",
    "        'x': 0.5,\n",
    "        'xanchor': 'center',\n",
    "        'yanchor': 'top'\n",
    "    },\n",
    "        scene=dict(\n",
    "            xaxis_title='X (Å)',\n",
    "            yaxis_title='Y (Å)',\n",
    "            zaxis_title='Z (Å)',\n",
    "            aspectmode='cube'\n",
    "        ),\n",
    "        annotations=[{\n",
    "            'text': 'Drag to rotate | Scroll to zoom | Double-click to reset view',\n",
    "            'showarrow': False,\n",
    "            'x': 0.5,\n",
    "            'y': -0.08,\n",
    "            'xref': 'paper',\n",
    "            'yref': 'paper',\n",
    "            'font': {'size': 12}\n",
    "        }]\n",
    "    )\n",
    "    return fig\n",
    "\n",
    "# Create visualizations\n",
    "print(\"Visualizing ring polymers (interactive 3D plots):\")\n",
    "\n",
    "# Oxygen polymer (blue)\n",
    "fig_o = plot_ring_polymer(all_bead_positions, 0, 'Oxygen Ring Polymer', 'blue')\n",
    "fig_o.show()\n",
    "\n",
    "# Hydrogen polymer (red)\n",
    "fig_h = plot_ring_polymer(all_bead_positions, 1, 'Hydrogen Ring Polymer', 'red')\n",
    "fig_h.show()\n",
    "\n",
    "# Print analysis\n",
    "for idx, atom in enumerate(['Oxygen', 'Hydrogen']):\n",
    "    centroid = np.mean(all_bead_positions[:, idx], axis=0)\n",
    "    max_spread = np.max(np.linalg.norm(all_bead_positions[:, idx] - centroid, axis=1))\n",
    "    \n",
    "    print(f\"\\n{atom} Ring Polymer Properties:\")\n",
    "    print(f\"Beads:            {len(all_bead_positions)}\")\n",
    "    print(f\"Maximum spread:   {max_spread:.3f} Å\")\n",
    "    print(f\"Centroid (x,y,z): ({centroid[0]:.3f}, {centroid[1]:.3f}, {centroid[2]:.3f}) Å\")"
   ]
  },
  {
   "cell_type": "markdown",
   "metadata": {},
   "source": [
    "## Discussion Questions\n",
    "\n",
    "1. Why is the radius of gyration different for oxygen and hydrogen atoms? What does this tell us about quantum effects?\n",
    "\n",
    "2. How does the average O-H bond length compare to the classical value? Why is there a distribution rather than a single value?\n",
    "\n",
    "3. What does the width of the H-O-H angle distribution tell us about the quantum nature of water?\n",
    "\n",
    "4. Looking at the ring polymer visualizations, why do hydrogen atoms show more spread than oxygen?"
   ]
  }
 ],
 "metadata": {
  "kernelspec": {
   "display_name": "Python 3",
   "language": "python",
   "name": "python3"
  },
  "language_info": {
   "codemirror_mode": {
    "name": "ipython",
    "version": 3
   },
   "file_extension": ".py",
   "mimetype": "text/x-python",
   "name": "python",
   "nbconvert_exporter": "python",
   "pygments_lexer": "ipython3",
   "version": "3.10.12"
  }
 },
 "nbformat": 4,
 "nbformat_minor": 4
}
